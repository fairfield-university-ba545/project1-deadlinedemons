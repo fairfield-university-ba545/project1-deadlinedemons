{
 "cells": [
  {
   "cell_type": "markdown",
   "metadata": {},
   "source": [
    "# Importing Data:"
   ]
  },
  {
   "cell_type": "code",
<<<<<<< HEAD
   "execution_count": 263,
=======
   "execution_count": 1,
>>>>>>> c29acd06a0cadd2dba62c0c3d17d46893bc97f3a
   "metadata": {},
   "outputs": [],
   "source": [
    "# import required package for data handling\n",
    "import pandas as pd\n",
    "import numpy as np\n",
    "import seaborn as sns\n",
    "import matplotlib as plt\n",
    "import matplotlib.pyplot as plt\n",
    "from pandas import DataFrame\n",
    "%matplotlib inline\n",
    "\n",
    "# import required packages for splitting data\n",
    "from sklearn import model_selection\n",
    "from sklearn.model_selection import cross_val_score\n",
    "from sklearn.model_selection import train_test_split\n",
    "\n",
    "# import required packages for evaluating models\n",
    "from sklearn import metrics\n",
    "from sklearn.metrics import confusion_matrix\n",
    "from sklearn.metrics import classification_report\n",
    "from sklearn.metrics import roc_auc_score\n",
    "from sklearn.metrics import accuracy_score\n",
    "from sklearn.metrics import precision_recall_fscore_support\n",
    "\n",
    "# import `logistic regression` model\n",
    "from sklearn.linear_model import LogisticRegression"
   ]
  },
  {
   "cell_type": "code",
<<<<<<< HEAD
   "execution_count": 264,
=======
   "execution_count": 2,
>>>>>>> c29acd06a0cadd2dba62c0c3d17d46893bc97f3a
   "metadata": {},
   "outputs": [
    {
     "data": {
      "text/html": [
       "<div>\n",
       "<style scoped>\n",
       "    .dataframe tbody tr th:only-of-type {\n",
       "        vertical-align: middle;\n",
       "    }\n",
       "\n",
       "    .dataframe tbody tr th {\n",
       "        vertical-align: top;\n",
       "    }\n",
       "\n",
       "    .dataframe thead th {\n",
       "        text-align: right;\n",
       "    }\n",
       "</style>\n",
       "<table border=\"1\" class=\"dataframe\">\n",
       "  <thead>\n",
       "    <tr style=\"text-align: right;\">\n",
       "      <th></th>\n",
       "      <th>I1</th>\n",
       "      <th>I2</th>\n",
       "      <th>I3</th>\n",
       "      <th>P(IPO)</th>\n",
       "      <th>P(H)</th>\n",
       "      <th>P(L)</th>\n",
       "      <th>P(1Day)</th>\n",
       "      <th>C1</th>\n",
       "      <th>C2</th>\n",
       "      <th>C3</th>\n",
       "      <th>...</th>\n",
       "      <th>C6</th>\n",
       "      <th>C7</th>\n",
       "      <th>T1</th>\n",
       "      <th>T2</th>\n",
       "      <th>T3</th>\n",
       "      <th>T4</th>\n",
       "      <th>T5</th>\n",
       "      <th>S1</th>\n",
       "      <th>S2</th>\n",
       "      <th>S3</th>\n",
       "    </tr>\n",
       "  </thead>\n",
       "  <tbody>\n",
       "    <tr>\n",
       "      <th>0</th>\n",
       "      <td>AATI</td>\n",
       "      <td>ADVANCED ANALOGIC TECHNOLOGIES INC</td>\n",
       "      <td>3674</td>\n",
       "      <td>10.0</td>\n",
       "      <td>9.5</td>\n",
       "      <td>8.5</td>\n",
       "      <td>11.870000</td>\n",
       "      <td>122.0</td>\n",
       "      <td>1.0</td>\n",
       "      <td>3.43</td>\n",
       "      <td>...</td>\n",
       "      <td>10600000.0</td>\n",
       "      <td>51.345</td>\n",
       "      <td>470.0</td>\n",
       "      <td>12719.0</td>\n",
       "      <td>11560.0</td>\n",
       "      <td>301.0</td>\n",
       "      <td>690.0</td>\n",
       "      <td>62.0</td>\n",
       "      <td>117.0</td>\n",
       "      <td>139.0</td>\n",
       "    </tr>\n",
       "    <tr>\n",
       "      <th>1</th>\n",
       "      <td>ABPI</td>\n",
       "      <td>ACCENTIA BIOPHARMACEUTICALS INC</td>\n",
       "      <td>2834</td>\n",
       "      <td>8.0</td>\n",
       "      <td>10.0</td>\n",
       "      <td>8.0</td>\n",
       "      <td>7.250000</td>\n",
       "      <td>259.0</td>\n",
       "      <td>0.0</td>\n",
       "      <td>-1.62</td>\n",
       "      <td>...</td>\n",
       "      <td>2400000.0</td>\n",
       "      <td>25.936</td>\n",
       "      <td>791.0</td>\n",
       "      <td>21792.0</td>\n",
       "      <td>19585.0</td>\n",
       "      <td>510.0</td>\n",
       "      <td>1120.0</td>\n",
       "      <td>71.0</td>\n",
       "      <td>242.0</td>\n",
       "      <td>237.0</td>\n",
       "    </tr>\n",
       "    <tr>\n",
       "      <th>2</th>\n",
       "      <td>ACAD</td>\n",
       "      <td>ACADIA PHARMACEUTICALS INC</td>\n",
       "      <td>2834</td>\n",
       "      <td>7.0</td>\n",
       "      <td>14.0</td>\n",
       "      <td>12.0</td>\n",
       "      <td>6.700000</td>\n",
       "      <td>90.0</td>\n",
       "      <td>1.0</td>\n",
       "      <td>-1.24</td>\n",
       "      <td>...</td>\n",
       "      <td>5000000.0</td>\n",
       "      <td>7.378</td>\n",
       "      <td>201.0</td>\n",
       "      <td>5262.0</td>\n",
       "      <td>4785.0</td>\n",
       "      <td>128.0</td>\n",
       "      <td>325.0</td>\n",
       "      <td>61.0</td>\n",
       "      <td>33.0</td>\n",
       "      <td>60.0</td>\n",
       "    </tr>\n",
       "    <tr>\n",
       "      <th>3</th>\n",
       "      <td>ACHN</td>\n",
       "      <td>ACHILLION PHARMACEUTICALS INC</td>\n",
       "      <td>2834</td>\n",
       "      <td>11.5</td>\n",
       "      <td>16.0</td>\n",
       "      <td>14.0</td>\n",
       "      <td>12.390000</td>\n",
       "      <td>209.0</td>\n",
       "      <td>1.0</td>\n",
       "      <td>-0.91</td>\n",
       "      <td>...</td>\n",
       "      <td>4500000.0</td>\n",
       "      <td>8.526</td>\n",
       "      <td>328.0</td>\n",
       "      <td>8259.0</td>\n",
       "      <td>7574.0</td>\n",
       "      <td>177.0</td>\n",
       "      <td>509.0</td>\n",
       "      <td>80.0</td>\n",
       "      <td>59.0</td>\n",
       "      <td>110.0</td>\n",
       "    </tr>\n",
       "    <tr>\n",
       "      <th>4</th>\n",
       "      <td>ACLI</td>\n",
       "      <td>AMERICAN COMMERCIAL LINES INC.</td>\n",
       "      <td>4492</td>\n",
       "      <td>21.0</td>\n",
       "      <td>21.0</td>\n",
       "      <td>19.0</td>\n",
       "      <td>56.599998</td>\n",
       "      <td>80.0</td>\n",
       "      <td>1.0</td>\n",
       "      <td>0.07</td>\n",
       "      <td>...</td>\n",
       "      <td>8250000.0</td>\n",
       "      <td>632.298</td>\n",
       "      <td>572.0</td>\n",
       "      <td>14830.0</td>\n",
       "      <td>13176.0</td>\n",
       "      <td>336.0</td>\n",
       "      <td>720.0</td>\n",
       "      <td>67.0</td>\n",
       "      <td>149.0</td>\n",
       "      <td>167.0</td>\n",
       "    </tr>\n",
       "  </tbody>\n",
       "</table>\n",
       "<p>5 rows × 22 columns</p>\n",
       "</div>"
      ],
      "text/plain": [
       "     I1                                  I2    I3  P(IPO)  P(H)  P(L)  \\\n",
       "0  AATI  ADVANCED ANALOGIC TECHNOLOGIES INC  3674    10.0   9.5   8.5   \n",
       "1  ABPI     ACCENTIA BIOPHARMACEUTICALS INC  2834     8.0  10.0   8.0   \n",
       "2  ACAD          ACADIA PHARMACEUTICALS INC  2834     7.0  14.0  12.0   \n",
       "3  ACHN       ACHILLION PHARMACEUTICALS INC  2834    11.5  16.0  14.0   \n",
       "4  ACLI     AMERICAN COMMERCIAL LINES INC.   4492    21.0  21.0  19.0   \n",
       "\n",
       "     P(1Day)     C1   C2    C3  ...          C6       C7     T1       T2  \\\n",
       "0  11.870000  122.0  1.0  3.43  ...  10600000.0   51.345  470.0  12719.0   \n",
       "1   7.250000  259.0  0.0 -1.62  ...   2400000.0   25.936  791.0  21792.0   \n",
       "2   6.700000   90.0  1.0 -1.24  ...   5000000.0    7.378  201.0   5262.0   \n",
       "3  12.390000  209.0  1.0 -0.91  ...   4500000.0    8.526  328.0   8259.0   \n",
       "4  56.599998   80.0  1.0  0.07  ...   8250000.0  632.298  572.0  14830.0   \n",
       "\n",
       "        T3     T4      T5    S1     S2     S3  \n",
       "0  11560.0  301.0   690.0  62.0  117.0  139.0  \n",
       "1  19585.0  510.0  1120.0  71.0  242.0  237.0  \n",
       "2   4785.0  128.0   325.0  61.0   33.0   60.0  \n",
       "3   7574.0  177.0   509.0  80.0   59.0  110.0  \n",
       "4  13176.0  336.0   720.0  67.0  149.0  167.0  \n",
       "\n",
       "[5 rows x 22 columns]"
      ]
     },
<<<<<<< HEAD
     "execution_count": 264,
=======
     "execution_count": 2,
>>>>>>> c29acd06a0cadd2dba62c0c3d17d46893bc97f3a
     "metadata": {},
     "output_type": "execute_result"
    }
   ],
   "source": [
    "compdata_original = pd.read_csv('comp1data.csv', header=0, na_values = '-')\n",
    "compdata_original.head()"
   ]
  },
  {
   "cell_type": "markdown",
   "metadata": {},
   "source": [
    "# Descriptive Statistics"
   ]
  },
  {
   "cell_type": "code",
<<<<<<< HEAD
   "execution_count": 265,
=======
   "execution_count": 3,
>>>>>>> c29acd06a0cadd2dba62c0c3d17d46893bc97f3a
   "metadata": {},
   "outputs": [
    {
     "data": {
      "text/plain": [
       "(682, 22)"
      ]
     },
<<<<<<< HEAD
     "execution_count": 265,
=======
     "execution_count": 3,
>>>>>>> c29acd06a0cadd2dba62c0c3d17d46893bc97f3a
     "metadata": {},
     "output_type": "execute_result"
    }
   ],
   "source": [
    "compdata_original.shape\n",
    "# 682 rows and 22 columns"
   ]
  },
  {
   "cell_type": "code",
<<<<<<< HEAD
   "execution_count": 266,
=======
   "execution_count": 4,
>>>>>>> c29acd06a0cadd2dba62c0c3d17d46893bc97f3a
   "metadata": {},
   "outputs": [
    {
     "data": {
      "text/plain": [
       "P(IPO)     1.350000e+01\n",
       "P(H)       1.500000e+01\n",
       "P(L)       1.300000e+01\n",
       "P(1Day)    1.484500e+01\n",
       "C1         1.070000e+02\n",
       "C2         1.000000e+00\n",
       "C3         1.000000e-02\n",
       "C4         9.124591e-03\n",
       "C5         2.740018e+07\n",
       "C6         7.398704e+06\n",
       "C7         1.038330e+02\n",
       "T1         4.440000e+02\n",
       "T2         1.204500e+04\n",
       "T3         1.078500e+04\n",
       "T4         2.790000e+02\n",
       "T5         6.240000e+02\n",
       "S1         6.000000e+01\n",
       "S2         1.000000e+02\n",
       "S3         1.340000e+02\n",
       "dtype: float64"
      ]
     },
<<<<<<< HEAD
     "execution_count": 266,
=======
     "execution_count": 4,
>>>>>>> c29acd06a0cadd2dba62c0c3d17d46893bc97f3a
     "metadata": {},
     "output_type": "execute_result"
    }
   ],
   "source": [
    "compdata_original.describe(include='all')\n",
    "compdata_original.median()"
   ]
  },
  {
   "cell_type": "code",
<<<<<<< HEAD
   "execution_count": 267,
=======
   "execution_count": 5,
>>>>>>> c29acd06a0cadd2dba62c0c3d17d46893bc97f3a
   "metadata": {},
   "outputs": [
    {
     "data": {
      "text/plain": [
       "P(IPO)     1.350000e+01\n",
       "P(H)       1.500000e+01\n",
       "P(L)       1.300000e+01\n",
       "P(1Day)    1.484500e+01\n",
       "C1         1.070000e+02\n",
       "C2         1.000000e+00\n",
       "C3         1.000000e-02\n",
       "C4         9.124591e-03\n",
       "C5         2.740018e+07\n",
       "C6         7.398704e+06\n",
       "C7         1.038330e+02\n",
       "T1         4.440000e+02\n",
       "T2         1.204500e+04\n",
       "T3         1.078500e+04\n",
       "T4         2.790000e+02\n",
       "T5         6.240000e+02\n",
       "S1         6.000000e+01\n",
       "S2         1.000000e+02\n",
       "S3         1.340000e+02\n",
       "dtype: float64"
      ]
     },
<<<<<<< HEAD
     "execution_count": 267,
=======
     "execution_count": 5,
>>>>>>> c29acd06a0cadd2dba62c0c3d17d46893bc97f3a
     "metadata": {},
     "output_type": "execute_result"
    }
   ],
   "source": [
    "compdata_original.median()"
   ]
  },
  {
   "cell_type": "code",
<<<<<<< HEAD
   "execution_count": 268,
=======
   "execution_count": 6,
>>>>>>> c29acd06a0cadd2dba62c0c3d17d46893bc97f3a
   "metadata": {},
   "outputs": [],
   "source": [
    "# Create a copy of the data\n",
    "compdata = compdata_original.copy()"
   ]
  },
  {
   "cell_type": "markdown",
   "metadata": {},
   "source": [
    "# Variable Calculations"
   ]
  },
  {
   "cell_type": "code",
<<<<<<< HEAD
   "execution_count": 258,
   "metadata": {},
   "outputs": [
    {
     "data": {
      "text/html": [
       "<div>\n",
       "<style scoped>\n",
       "    .dataframe tbody tr th:only-of-type {\n",
       "        vertical-align: middle;\n",
       "    }\n",
       "\n",
       "    .dataframe tbody tr th {\n",
       "        vertical-align: top;\n",
       "    }\n",
       "\n",
       "    .dataframe thead th {\n",
       "        text-align: right;\n",
       "    }\n",
       "</style>\n",
       "<table border=\"1\" class=\"dataframe\">\n",
       "  <thead>\n",
       "    <tr style=\"text-align: right;\">\n",
       "      <th></th>\n",
       "      <th>I1</th>\n",
       "      <th>I2</th>\n",
       "      <th>I3</th>\n",
       "      <th>P(IPO)</th>\n",
       "      <th>P(H)</th>\n",
       "      <th>P(L)</th>\n",
       "      <th>P(1Day)</th>\n",
       "      <th>C1</th>\n",
       "      <th>C2</th>\n",
       "      <th>C3</th>\n",
       "      <th>...</th>\n",
       "      <th>C6</th>\n",
       "      <th>C7</th>\n",
       "      <th>T1</th>\n",
       "      <th>T2</th>\n",
       "      <th>T3</th>\n",
       "      <th>T4</th>\n",
       "      <th>T5</th>\n",
       "      <th>S1</th>\n",
       "      <th>S2</th>\n",
       "      <th>S3</th>\n",
       "    </tr>\n",
       "  </thead>\n",
       "  <tbody>\n",
       "  </tbody>\n",
       "</table>\n",
       "<p>0 rows × 22 columns</p>\n",
       "</div>"
      ],
      "text/plain": [
       "Empty DataFrame\n",
       "Columns: [I1, I2, I3, P(IPO), P(H), P(L), P(1Day), C1, C2, C3, C4, C5, C6, C7, T1, T2, T3, T4, T5, S1, S2, S3]\n",
       "Index: []\n",
       "\n",
       "[0 rows x 22 columns]"
      ]
     },
     "execution_count": 258,
     "metadata": {},
     "output_type": "execute_result"
    }
   ],
   "source": [
    "# Drop the rows with mising T2 values\n",
    "# Cannot do calculations with missing data on the number of words, the ratios will be 0 and create outliers\n",
    "\n",
    "compdata.drop(compdata[compdata['T1'] == 0].index, inplace = True) \n",
    "compdata.drop(compdata[compdata['T2'] == 0].index, inplace = True) \n",
    "compdata.loc[compdata['T1'] == 0]"
   ]
  },
  {
   "cell_type": "code",
   "execution_count": 259,
   "metadata": {},
   "outputs": [
    {
     "data": {
      "text/html": [
       "<div>\n",
       "<style scoped>\n",
       "    .dataframe tbody tr th:only-of-type {\n",
       "        vertical-align: middle;\n",
       "    }\n",
       "\n",
       "    .dataframe tbody tr th {\n",
       "        vertical-align: top;\n",
       "    }\n",
       "\n",
       "    .dataframe thead th {\n",
       "        text-align: right;\n",
       "    }\n",
       "</style>\n",
       "<table border=\"1\" class=\"dataframe\">\n",
       "  <thead>\n",
       "    <tr style=\"text-align: right;\">\n",
       "      <th></th>\n",
       "      <th>I1</th>\n",
       "      <th>I2</th>\n",
       "      <th>I3</th>\n",
       "      <th>P(IPO)</th>\n",
       "      <th>P(H)</th>\n",
       "      <th>P(L)</th>\n",
       "      <th>P(1Day)</th>\n",
       "      <th>C1</th>\n",
       "      <th>C2</th>\n",
       "      <th>C3</th>\n",
       "      <th>...</th>\n",
       "      <th>C6</th>\n",
       "      <th>C7</th>\n",
       "      <th>T1</th>\n",
       "      <th>T2</th>\n",
       "      <th>T3</th>\n",
       "      <th>T4</th>\n",
       "      <th>T5</th>\n",
       "      <th>S1</th>\n",
       "      <th>S2</th>\n",
       "      <th>S3</th>\n",
       "    </tr>\n",
       "  </thead>\n",
       "  <tbody>\n",
       "  </tbody>\n",
       "</table>\n",
       "<p>0 rows × 22 columns</p>\n",
       "</div>"
      ],
      "text/plain": [
       "Empty DataFrame\n",
       "Columns: [I1, I2, I3, P(IPO), P(H), P(L), P(1Day), C1, C2, C3, C4, C5, C6, C7, T1, T2, T3, T4, T5, S1, S2, S3]\n",
       "Index: []\n",
       "\n",
       "[0 rows x 22 columns]"
      ]
     },
     "execution_count": 259,
     "metadata": {},
     "output_type": "execute_result"
    }
   ],
   "source": [
    "compdata.loc[compdata['T2'] == 0]"
   ]
  },
  {
   "cell_type": "code",
   "execution_count": 260,
=======
   "execution_count": 7,
>>>>>>> c29acd06a0cadd2dba62c0c3d17d46893bc97f3a
   "metadata": {},
   "outputs": [],
   "source": [
    "# Ratios:\n",
    "\n",
    "    # ** How to find the ratio for T1 and T2... drop them\n",
    "    # Should the other numbers be dropped? Make a new df with imputed/calculated numbers?\n",
    "\n",
    "# Percentage of real words\n",
    "compdata['T3_'] = (compdata['T3']/compdata['T2'])\n",
    "# Percentage of long sentences\n",
    "compdata['T4_'] = (compdata['T4']/compdata['T1'])\n",
    "# Percentage of long words\n",
    "compdata['T5_'] = (compdata['T5']/compdata['T2'])\n",
    "# Percentage of positive words\n",
    "compdata['S1_'] = (compdata['S1']/compdata['T2'])\n",
    "# Percentage of negative words\n",
    "compdata['S2_'] = (compdata['S2']/compdata['T2'])\n",
    "# Percentage of uncertain words\n",
    "compdata['S3_'] = (compdata['S3']/compdata['T2'])\n",
    "compdata.head()\n",
    "\n",
    "# Target & Control Variable Calculation\n",
    "\n",
    "compdata['P(mid)'] = ((compdata['P(H)']+compdata['P(L)'])/2)\n",
    "\n",
    "def p(row):\n",
    "    if row['P(IPO)'] < row['P(mid)']:\n",
    "        val = 1\n",
    "    else:\n",
    "        val = 0\n",
    "    return val\n",
    "\n",
    "def q(row):\n",
    "    if row['P(1Day)'] > row['P(IPO)']:\n",
    "        val = 1\n",
    "    else:\n",
    "        val = 0\n",
    "    return val\n",
    "\n",
    "def r(row):\n",
    "    if row['C3'] >= 0:\n",
    "        val = 1\n",
    "    else:\n",
    "        val = 0\n",
    "    return val\n",
    "\n",
    "def s(row):\n",
    "    if row['P(IPO)'] > row['P(mid)']:\n",
    "        val = (row['P(IPO)'] - row['P(mid)'])/row['P(mid)']*100\n",
    "    else:\n",
    "        val = 0\n",
    "    return val\n",
    "\n",
    "compdata['C3_'] = compdata.apply(r, axis=1)\n",
    "compdata['C5_'] = compdata['C5']/compdata['C6'] \n",
    "compdata['C6_'] = compdata.apply(s, axis=1)\n",
    "compdata['Y1'] = compdata.apply(p, axis=1)\n",
    "compdata['Y2'] = compdata.apply(q, axis=1)"
   ]
  },
  {
   "cell_type": "markdown",
   "metadata": {},
   "source": [
    "# Missing Data:"
   ]
  },
  {
   "cell_type": "code",
<<<<<<< HEAD
   "execution_count": 282,
=======
   "execution_count": 8,
>>>>>>> c29acd06a0cadd2dba62c0c3d17d46893bc97f3a
   "metadata": {},
   "outputs": [
    {
     "name": "stdout",
     "output_type": "stream",
     "text": [
      "<class 'pandas.core.frame.DataFrame'>\n",
      "RangeIndex: 682 entries, 0 to 681\n",
<<<<<<< HEAD
      "Data columns (total 22 columns):\n",
=======
      "Data columns (total 34 columns):\n",
>>>>>>> c29acd06a0cadd2dba62c0c3d17d46893bc97f3a
      "I1         682 non-null object\n",
      "I2         682 non-null object\n",
      "I3         674 non-null object\n",
      "P(IPO)     677 non-null float64\n",
      "P(H)       672 non-null float64\n",
      "P(L)       672 non-null float64\n",
      "P(1Day)    660 non-null float64\n",
      "C1         660 non-null float64\n",
      "C2         660 non-null float64\n",
      "C3         646 non-null float64\n",
      "C4         660 non-null float64\n",
      "C5         676 non-null float64\n",
      "C6         676 non-null float64\n",
      "C7         610 non-null float64\n",
      "T1         681 non-null float64\n",
      "T2         681 non-null float64\n",
      "T3         681 non-null float64\n",
      "T4         681 non-null float64\n",
      "T5         681 non-null float64\n",
      "S1         681 non-null float64\n",
      "S2         681 non-null float64\n",
      "S3         681 non-null float64\n",
<<<<<<< HEAD
      "dtypes: float64(19), object(3)\n",
      "memory usage: 117.3+ KB\n"
=======
      "T3_        681 non-null float64\n",
      "T4_        681 non-null float64\n",
      "T5_        681 non-null float64\n",
      "S1_        681 non-null float64\n",
      "S2_        681 non-null float64\n",
      "S3_        681 non-null float64\n",
      "P(mid)     672 non-null float64\n",
      "C3_        682 non-null int64\n",
      "C5_        676 non-null float64\n",
      "C6_        682 non-null float64\n",
      "Y1         682 non-null int64\n",
      "Y2         682 non-null int64\n",
      "dtypes: float64(28), int64(3), object(3)\n",
      "memory usage: 181.3+ KB\n"
>>>>>>> c29acd06a0cadd2dba62c0c3d17d46893bc97f3a
     ]
    }
   ],
   "source": [
    "compdata.info()"
   ]
  },
  {
   "cell_type": "code",
<<<<<<< HEAD
   "execution_count": 298,
   "metadata": {},
   "outputs": [],
   "source": [
    "#isinstance(compdata['I3'], object) \n",
    "\n",
    "#compdata['I3'] = [isinstance(x, str) for x in compdata.I3]\n",
    "#compdata\n",
    "\n",
    "#compdata[compdata.I3.apply(lambda x: isinstance(x, str))]"
   ]
  },
  {
   "cell_type": "code",
   "execution_count": 140,
=======
   "execution_count": 9,
>>>>>>> c29acd06a0cadd2dba62c0c3d17d46893bc97f3a
   "metadata": {},
   "outputs": [
    {
     "data": {
      "text/plain": [
       "I1          0\n",
       "I2          0\n",
       "I3          8\n",
       "P(IPO)      5\n",
       "P(H)       10\n",
       "P(L)       10\n",
       "P(1Day)    22\n",
       "C1         22\n",
       "C2         22\n",
       "C3         36\n",
       "C4         22\n",
       "C5          6\n",
       "C6          6\n",
       "C7         72\n",
       "T1          1\n",
       "T2          1\n",
       "T3          1\n",
       "T4          1\n",
       "T5          1\n",
       "S1          1\n",
       "S2          1\n",
       "S3          1\n",
       "T3_         1\n",
       "T4_         1\n",
       "T5_         1\n",
       "S1_         1\n",
       "S2_         1\n",
       "S3_         1\n",
       "P(mid)     10\n",
       "C3_         0\n",
       "C5_         6\n",
       "C6_         0\n",
       "Y1          0\n",
       "Y2          0\n",
       "dtype: int64"
      ]
     },
<<<<<<< HEAD
     "execution_count": 140,
=======
     "execution_count": 9,
>>>>>>> c29acd06a0cadd2dba62c0c3d17d46893bc97f3a
     "metadata": {},
     "output_type": "execute_result"
    }
   ],
   "source": [
    "compdata.isna().sum()"
   ]
  },
  {
   "cell_type": "code",
<<<<<<< HEAD
   "execution_count": 310,
=======
   "execution_count": 10,
>>>>>>> c29acd06a0cadd2dba62c0c3d17d46893bc97f3a
   "metadata": {},
   "outputs": [
    {
     "data": {
      "text/plain": [
       "I1          0.00\n",
       "I2          0.00\n",
       "I3          1.17\n",
       "P(IPO)      0.73\n",
       "P(H)        1.47\n",
       "P(L)        1.47\n",
       "P(1Day)     3.23\n",
       "C1          3.23\n",
       "C2          3.23\n",
       "C3          5.28\n",
       "C4          3.23\n",
       "C5          0.88\n",
       "C6          0.88\n",
       "C7         10.56\n",
       "T1          0.15\n",
       "T2          0.15\n",
       "T3          0.15\n",
       "T4          0.15\n",
       "T5          0.15\n",
       "S1          0.15\n",
       "S2          0.15\n",
       "S3          0.15\n",
<<<<<<< HEAD
       "dtype: float64"
      ]
     },
     "execution_count": 310,
=======
       "T3_         0.15\n",
       "T4_         0.15\n",
       "T5_         0.15\n",
       "S1_         0.15\n",
       "S2_         0.15\n",
       "S3_         0.15\n",
       "P(mid)      1.47\n",
       "C3_         0.00\n",
       "C5_         0.88\n",
       "C6_         0.00\n",
       "Y1          0.00\n",
       "Y2          0.00\n",
       "dtype: float64"
      ]
     },
     "execution_count": 10,
>>>>>>> c29acd06a0cadd2dba62c0c3d17d46893bc97f3a
     "metadata": {},
     "output_type": "execute_result"
    }
   ],
   "source": [
    "# what is the percentage of missing data in each column\n",
    "compdata.isna().mean().round(4) * 100\n",
    "\n",
    "# Majority of the data is missing from C7"
   ]
  },
  {
   "cell_type": "code",
<<<<<<< HEAD
   "execution_count": 311,
=======
   "execution_count": 11,
>>>>>>> c29acd06a0cadd2dba62c0c3d17d46893bc97f3a
   "metadata": {},
   "outputs": [
    {
     "data": {
      "text/html": [
       "<div>\n",
       "<style scoped>\n",
       "    .dataframe tbody tr th:only-of-type {\n",
       "        vertical-align: middle;\n",
       "    }\n",
       "\n",
       "    .dataframe tbody tr th {\n",
       "        vertical-align: top;\n",
       "    }\n",
       "\n",
       "    .dataframe thead th {\n",
       "        text-align: right;\n",
       "    }\n",
       "</style>\n",
       "<table border=\"1\" class=\"dataframe\">\n",
       "  <thead>\n",
       "    <tr style=\"text-align: right;\">\n",
       "      <th></th>\n",
       "      <th>I1</th>\n",
       "      <th>I2</th>\n",
       "      <th>I3</th>\n",
       "      <th>P(IPO)</th>\n",
       "      <th>P(H)</th>\n",
       "      <th>P(L)</th>\n",
       "      <th>P(1Day)</th>\n",
       "      <th>C1</th>\n",
       "      <th>C2</th>\n",
       "      <th>C3</th>\n",
       "      <th>...</th>\n",
       "      <th>C6</th>\n",
       "      <th>C7</th>\n",
       "      <th>T1</th>\n",
       "      <th>T2</th>\n",
       "      <th>T3</th>\n",
       "      <th>T4</th>\n",
       "      <th>T5</th>\n",
       "      <th>S1</th>\n",
       "      <th>S2</th>\n",
       "      <th>S3</th>\n",
       "    </tr>\n",
       "  </thead>\n",
       "  <tbody>\n",
       "    <tr>\n",
       "      <th>174</th>\n",
       "      <td>DLB</td>\n",
       "      <td>Dolby Laboratories, Inc.</td>\n",
       "      <td>6794, 3861, 3663, 7819</td>\n",
       "      <td>18.0</td>\n",
       "      <td>18.0</td>\n",
       "      <td>16.0</td>\n",
       "      <td>24.299999</td>\n",
       "      <td>90.0</td>\n",
       "      <td>1.0</td>\n",
       "      <td>0.47</td>\n",
       "      <td>...</td>\n",
       "      <td>27500000.0</td>\n",
       "      <td>289.041</td>\n",
       "      <td>500.0</td>\n",
       "      <td>15288.0</td>\n",
       "      <td>14243.0</td>\n",
       "      <td>360.0</td>\n",
       "      <td>912.0</td>\n",
       "      <td>69.0</td>\n",
       "      <td>122.0</td>\n",
       "      <td>165.0</td>\n",
       "    </tr>\n",
       "  </tbody>\n",
       "</table>\n",
       "<p>1 rows × 22 columns</p>\n",
       "</div>"
      ],
      "text/plain": [
       "      I1                         I2                      I3  P(IPO)  P(H)  \\\n",
       "174  DLB  Dolby Laboratories, Inc.   6794, 3861, 3663, 7819    18.0  18.0   \n",
       "\n",
       "     P(L)    P(1Day)    C1   C2    C3  ...          C6       C7     T1  \\\n",
       "174  16.0  24.299999  90.0  1.0  0.47  ...  27500000.0  289.041  500.0   \n",
       "\n",
       "          T2       T3     T4     T5    S1     S2     S3  \n",
       "174  15288.0  14243.0  360.0  912.0  69.0  122.0  165.0  \n",
       "\n",
       "[1 rows x 22 columns]"
      ]
     },
<<<<<<< HEAD
     "execution_count": 311,
=======
     "execution_count": 11,
>>>>>>> c29acd06a0cadd2dba62c0c3d17d46893bc97f3a
     "metadata": {},
     "output_type": "execute_result"
    }
   ],
   "source": [
    "compdata[compdata[\"I1\"]=='DLB']"
   ]
  },
  {
   "cell_type": "code",
<<<<<<< HEAD
   "execution_count": 312,
=======
   "execution_count": 12,
>>>>>>> c29acd06a0cadd2dba62c0c3d17d46893bc97f3a
   "metadata": {},
   "outputs": [
    {
     "data": {
      "text/html": [
       "<div>\n",
       "<style scoped>\n",
       "    .dataframe tbody tr th:only-of-type {\n",
       "        vertical-align: middle;\n",
       "    }\n",
       "\n",
       "    .dataframe tbody tr th {\n",
       "        vertical-align: top;\n",
       "    }\n",
       "\n",
       "    .dataframe thead th {\n",
       "        text-align: right;\n",
       "    }\n",
       "</style>\n",
       "<table border=\"1\" class=\"dataframe\">\n",
       "  <thead>\n",
       "    <tr style=\"text-align: right;\">\n",
       "      <th></th>\n",
       "      <th>I1</th>\n",
       "      <th>I2</th>\n",
       "      <th>I3</th>\n",
       "      <th>P(IPO)</th>\n",
       "      <th>P(H)</th>\n",
       "      <th>P(L)</th>\n",
       "      <th>P(1Day)</th>\n",
       "      <th>C1</th>\n",
       "      <th>C2</th>\n",
       "      <th>C3</th>\n",
       "      <th>...</th>\n",
       "      <th>C6</th>\n",
       "      <th>C7</th>\n",
       "      <th>T1</th>\n",
       "      <th>T2</th>\n",
       "      <th>T3</th>\n",
       "      <th>T4</th>\n",
       "      <th>T5</th>\n",
       "      <th>S1</th>\n",
       "      <th>S2</th>\n",
       "      <th>S3</th>\n",
       "    </tr>\n",
       "  </thead>\n",
       "  <tbody>\n",
       "    <tr>\n",
       "      <th>187</th>\n",
       "      <td>DTSI</td>\n",
       "      <td>DTS, INC.</td>\n",
       "      <td>3651, 6794, 7819</td>\n",
       "      <td>17.0</td>\n",
       "      <td>16.0</td>\n",
       "      <td>14.0</td>\n",
       "      <td>24.92</td>\n",
       "      <td>76.0</td>\n",
       "      <td>0.0</td>\n",
       "      <td>0.99</td>\n",
       "      <td>...</td>\n",
       "      <td>3840000.0</td>\n",
       "      <td>41.056</td>\n",
       "      <td>339.0</td>\n",
       "      <td>8274.0</td>\n",
       "      <td>7487.0</td>\n",
       "      <td>204.0</td>\n",
       "      <td>421.0</td>\n",
       "      <td>49.0</td>\n",
       "      <td>95.0</td>\n",
       "      <td>70.0</td>\n",
       "    </tr>\n",
       "  </tbody>\n",
       "</table>\n",
       "<p>1 rows × 22 columns</p>\n",
       "</div>"
      ],
      "text/plain": [
       "       I1         I2                I3  P(IPO)  P(H)  P(L)  P(1Day)    C1  \\\n",
       "187  DTSI  DTS, INC.  3651, 6794, 7819    17.0  16.0  14.0    24.92  76.0   \n",
       "\n",
       "      C2    C3  ...         C6      C7     T1      T2      T3     T4     T5  \\\n",
       "187  0.0  0.99  ...  3840000.0  41.056  339.0  8274.0  7487.0  204.0  421.0   \n",
       "\n",
       "       S1    S2    S3  \n",
       "187  49.0  95.0  70.0  \n",
       "\n",
       "[1 rows x 22 columns]"
      ]
     },
<<<<<<< HEAD
     "execution_count": 312,
=======
     "execution_count": 12,
>>>>>>> c29acd06a0cadd2dba62c0c3d17d46893bc97f3a
     "metadata": {},
     "output_type": "execute_result"
    }
   ],
   "source": [
    "compdata[compdata[\"I1\"]=='DTSI']"
   ]
  },
  {
   "cell_type": "code",
<<<<<<< HEAD
   "execution_count": 313,
=======
   "execution_count": 13,
>>>>>>> c29acd06a0cadd2dba62c0c3d17d46893bc97f3a
   "metadata": {},
   "outputs": [
    {
     "data": {
      "text/html": [
       "<div>\n",
       "<style scoped>\n",
       "    .dataframe tbody tr th:only-of-type {\n",
       "        vertical-align: middle;\n",
       "    }\n",
       "\n",
       "    .dataframe tbody tr th {\n",
       "        vertical-align: top;\n",
       "    }\n",
       "\n",
       "    .dataframe thead th {\n",
       "        text-align: right;\n",
       "    }\n",
       "</style>\n",
       "<table border=\"1\" class=\"dataframe\">\n",
       "  <thead>\n",
       "    <tr style=\"text-align: right;\">\n",
       "      <th></th>\n",
       "      <th>I1</th>\n",
       "      <th>I2</th>\n",
       "      <th>I3</th>\n",
       "      <th>P(IPO)</th>\n",
       "      <th>P(H)</th>\n",
       "      <th>P(L)</th>\n",
       "      <th>P(1Day)</th>\n",
       "      <th>C1</th>\n",
       "      <th>C2</th>\n",
       "      <th>C3</th>\n",
       "      <th>...</th>\n",
       "      <th>C6</th>\n",
       "      <th>C7</th>\n",
       "      <th>T1</th>\n",
       "      <th>T2</th>\n",
       "      <th>T3</th>\n",
       "      <th>T4</th>\n",
       "      <th>T5</th>\n",
       "      <th>S1</th>\n",
       "      <th>S2</th>\n",
       "      <th>S3</th>\n",
       "    </tr>\n",
       "  </thead>\n",
       "  <tbody>\n",
       "    <tr>\n",
       "      <th>499</th>\n",
       "      <td>RLD</td>\n",
       "      <td>RealD Inc.</td>\n",
       "      <td>3663, 3861, 6794</td>\n",
       "      <td>16.0</td>\n",
       "      <td>15.0</td>\n",
       "      <td>13.0</td>\n",
       "      <td>19.51</td>\n",
       "      <td>98.0</td>\n",
       "      <td>1.0</td>\n",
       "      <td>-0.33</td>\n",
       "      <td>...</td>\n",
       "      <td>12500000.0</td>\n",
       "      <td>39.675</td>\n",
       "      <td>629.0</td>\n",
       "      <td>15904.0</td>\n",
       "      <td>14741.0</td>\n",
       "      <td>364.0</td>\n",
       "      <td>899.0</td>\n",
       "      <td>104.0</td>\n",
       "      <td>139.0</td>\n",
       "      <td>227.0</td>\n",
       "    </tr>\n",
       "  </tbody>\n",
       "</table>\n",
       "<p>1 rows × 22 columns</p>\n",
       "</div>"
      ],
      "text/plain": [
       "      I1          I2                I3  P(IPO)  P(H)  P(L)  P(1Day)    C1  \\\n",
       "499  RLD  RealD Inc.  3663, 3861, 6794    16.0  15.0  13.0    19.51  98.0   \n",
       "\n",
       "      C2    C3  ...          C6      C7     T1       T2       T3     T4  \\\n",
       "499  1.0 -0.33  ...  12500000.0  39.675  629.0  15904.0  14741.0  364.0   \n",
       "\n",
       "        T5     S1     S2     S3  \n",
       "499  899.0  104.0  139.0  227.0  \n",
       "\n",
       "[1 rows x 22 columns]"
      ]
     },
     "execution_count": 313,
     "metadata": {},
     "output_type": "execute_result"
    }
   ],
   "source": [
    "compdata[compdata[\"I1\"]=='RLD']"
   ]
  },
  {
   "cell_type": "code",
   "execution_count": 314,
   "metadata": {},
   "outputs": [
    {
     "data": {
      "text/html": [
       "<div>\n",
       "<style scoped>\n",
       "    .dataframe tbody tr th:only-of-type {\n",
       "        vertical-align: middle;\n",
       "    }\n",
       "\n",
       "    .dataframe tbody tr th {\n",
       "        vertical-align: top;\n",
       "    }\n",
       "\n",
       "    .dataframe thead th {\n",
       "        text-align: right;\n",
       "    }\n",
       "</style>\n",
       "<table border=\"1\" class=\"dataframe\">\n",
       "  <thead>\n",
       "    <tr style=\"text-align: right;\">\n",
       "      <th></th>\n",
       "      <th>I1</th>\n",
       "      <th>I2</th>\n",
       "      <th>I3</th>\n",
       "      <th>P(IPO)</th>\n",
       "      <th>P(H)</th>\n",
       "      <th>P(L)</th>\n",
       "      <th>P(1Day)</th>\n",
       "      <th>C1</th>\n",
       "      <th>C2</th>\n",
       "      <th>C3</th>\n",
       "      <th>...</th>\n",
       "      <th>C6</th>\n",
       "      <th>C7</th>\n",
       "      <th>T1</th>\n",
       "      <th>T2</th>\n",
       "      <th>T3</th>\n",
       "      <th>T4</th>\n",
       "      <th>T5</th>\n",
       "      <th>S1</th>\n",
       "      <th>S2</th>\n",
       "      <th>S3</th>\n",
       "    </tr>\n",
       "  </thead>\n",
       "  <tbody>\n",
       "    <tr>\n",
       "      <th>620</th>\n",
       "      <td>UPG</td>\n",
       "      <td>UNIVERSAL POWER GROUP</td>\n",
       "      <td>7389, 5063</td>\n",
       "      <td>7.0</td>\n",
       "      <td>9.0</td>\n",
       "      <td>7.0</td>\n",
       "      <td>7.35</td>\n",
       "      <td>101.0</td>\n",
       "      <td>0.0</td>\n",
       "      <td>0.38</td>\n",
       "      <td>...</td>\n",
       "      <td>3000000.0</td>\n",
       "      <td>81.275</td>\n",
       "      <td>304.0</td>\n",
       "      <td>6904.0</td>\n",
       "      <td>6234.0</td>\n",
       "      <td>147.0</td>\n",
       "      <td>287.0</td>\n",
       "      <td>29.0</td>\n",
       "      <td>61.0</td>\n",
       "      <td>66.0</td>\n",
       "    </tr>\n",
       "  </tbody>\n",
       "</table>\n",
       "<p>1 rows × 22 columns</p>\n",
       "</div>"
      ],
      "text/plain": [
       "      I1                      I2          I3  P(IPO)  P(H)  P(L)  P(1Day)  \\\n",
       "620  UPG  UNIVERSAL POWER GROUP   7389, 5063     7.0   9.0   7.0     7.35   \n",
       "\n",
       "        C1   C2    C3  ...         C6      C7     T1      T2      T3     T4  \\\n",
       "620  101.0  0.0  0.38  ...  3000000.0  81.275  304.0  6904.0  6234.0  147.0   \n",
       "\n",
       "        T5    S1    S2    S3  \n",
       "620  287.0  29.0  61.0  66.0  \n",
       "\n",
       "[1 rows x 22 columns]"
      ]
     },
<<<<<<< HEAD
     "execution_count": 314,
=======
     "execution_count": 13,
>>>>>>> c29acd06a0cadd2dba62c0c3d17d46893bc97f3a
     "metadata": {},
     "output_type": "execute_result"
    }
   ],
   "source": [
    "compdata[compdata[\"I1\"]=='UPG']"
   ]
  },
  {
   "cell_type": "code",
<<<<<<< HEAD
   "execution_count": 142,
=======
   "execution_count": 14,
>>>>>>> c29acd06a0cadd2dba62c0c3d17d46893bc97f3a
   "metadata": {},
   "outputs": [
    {
     "data": {
      "text/html": [
       "<div>\n",
       "<style scoped>\n",
       "    .dataframe tbody tr th:only-of-type {\n",
       "        vertical-align: middle;\n",
       "    }\n",
       "\n",
       "    .dataframe tbody tr th {\n",
       "        vertical-align: top;\n",
       "    }\n",
       "\n",
       "    .dataframe thead th {\n",
       "        text-align: right;\n",
       "    }\n",
       "</style>\n",
       "<table border=\"1\" class=\"dataframe\">\n",
       "  <thead>\n",
       "    <tr style=\"text-align: right;\">\n",
       "      <th></th>\n",
       "      <th>I1</th>\n",
       "      <th>I2</th>\n",
       "      <th>I3</th>\n",
       "      <th>P(IPO)</th>\n",
       "      <th>P(H)</th>\n",
       "      <th>P(L)</th>\n",
       "      <th>P(1Day)</th>\n",
       "      <th>C1</th>\n",
       "      <th>C2</th>\n",
       "      <th>C3</th>\n",
       "      <th>...</th>\n",
       "      <th>S1_</th>\n",
       "      <th>S2_</th>\n",
       "      <th>S3_</th>\n",
       "      <th>P(mid)</th>\n",
       "      <th>C3_</th>\n",
       "      <th>C5_</th>\n",
       "      <th>C6_</th>\n",
       "      <th>Y1</th>\n",
       "      <th>Y2</th>\n",
       "      <th>Imputed_C2</th>\n",
       "    </tr>\n",
       "  </thead>\n",
       "  <tbody>\n",
       "    <tr>\n",
       "      <th>0</th>\n",
       "      <td>AATI</td>\n",
       "      <td>ADVANCED ANALOGIC TECHNOLOGIES INC</td>\n",
       "      <td>3674</td>\n",
       "      <td>10.0</td>\n",
       "      <td>9.5</td>\n",
       "      <td>8.5</td>\n",
       "      <td>11.870000</td>\n",
       "      <td>122.0</td>\n",
       "      <td>1.0</td>\n",
       "      <td>3.43</td>\n",
       "      <td>...</td>\n",
       "      <td>0.004875</td>\n",
       "      <td>0.009199</td>\n",
       "      <td>0.010929</td>\n",
       "      <td>9.0</td>\n",
       "      <td>1</td>\n",
       "      <td>3.864345</td>\n",
       "      <td>11.111111</td>\n",
       "      <td>0</td>\n",
       "      <td>1</td>\n",
       "      <td>1.0</td>\n",
       "    </tr>\n",
       "    <tr>\n",
       "      <th>1</th>\n",
       "      <td>ABPI</td>\n",
       "      <td>ACCENTIA BIOPHARMACEUTICALS INC</td>\n",
       "      <td>2834</td>\n",
       "      <td>8.0</td>\n",
       "      <td>10.0</td>\n",
       "      <td>8.0</td>\n",
       "      <td>7.250000</td>\n",
       "      <td>259.0</td>\n",
       "      <td>0.0</td>\n",
       "      <td>-1.62</td>\n",
       "      <td>...</td>\n",
       "      <td>0.003258</td>\n",
       "      <td>0.011105</td>\n",
       "      <td>0.010876</td>\n",
       "      <td>9.0</td>\n",
       "      <td>0</td>\n",
       "      <td>12.028832</td>\n",
       "      <td>0.000000</td>\n",
       "      <td>1</td>\n",
       "      <td>0</td>\n",
       "      <td>0.0</td>\n",
       "    </tr>\n",
       "    <tr>\n",
       "      <th>2</th>\n",
       "      <td>ACAD</td>\n",
       "      <td>ACADIA PHARMACEUTICALS INC</td>\n",
       "      <td>2834</td>\n",
       "      <td>7.0</td>\n",
       "      <td>14.0</td>\n",
       "      <td>12.0</td>\n",
       "      <td>6.700000</td>\n",
       "      <td>90.0</td>\n",
       "      <td>1.0</td>\n",
       "      <td>-1.24</td>\n",
       "      <td>...</td>\n",
       "      <td>0.011593</td>\n",
       "      <td>0.006271</td>\n",
       "      <td>0.011403</td>\n",
       "      <td>13.0</td>\n",
       "      <td>0</td>\n",
       "      <td>3.369134</td>\n",
       "      <td>0.000000</td>\n",
       "      <td>1</td>\n",
       "      <td>0</td>\n",
       "      <td>1.0</td>\n",
       "    </tr>\n",
       "    <tr>\n",
       "      <th>3</th>\n",
       "      <td>ACHN</td>\n",
       "      <td>ACHILLION PHARMACEUTICALS INC</td>\n",
       "      <td>2834</td>\n",
       "      <td>11.5</td>\n",
       "      <td>16.0</td>\n",
       "      <td>14.0</td>\n",
       "      <td>12.390000</td>\n",
       "      <td>209.0</td>\n",
       "      <td>1.0</td>\n",
       "      <td>-0.91</td>\n",
       "      <td>...</td>\n",
       "      <td>0.009686</td>\n",
       "      <td>0.007144</td>\n",
       "      <td>0.013319</td>\n",
       "      <td>15.0</td>\n",
       "      <td>0</td>\n",
       "      <td>3.299697</td>\n",
       "      <td>0.000000</td>\n",
       "      <td>1</td>\n",
       "      <td>1</td>\n",
       "      <td>1.0</td>\n",
       "    </tr>\n",
       "    <tr>\n",
       "      <th>4</th>\n",
       "      <td>ACLI</td>\n",
       "      <td>AMERICAN COMMERCIAL LINES INC.</td>\n",
       "      <td>4492</td>\n",
       "      <td>21.0</td>\n",
       "      <td>21.0</td>\n",
       "      <td>19.0</td>\n",
       "      <td>56.599998</td>\n",
       "      <td>80.0</td>\n",
       "      <td>1.0</td>\n",
       "      <td>0.07</td>\n",
       "      <td>...</td>\n",
       "      <td>0.004518</td>\n",
       "      <td>0.010047</td>\n",
       "      <td>0.011261</td>\n",
       "      <td>20.0</td>\n",
       "      <td>1</td>\n",
       "      <td>3.726269</td>\n",
       "      <td>5.000000</td>\n",
       "      <td>0</td>\n",
       "      <td>1</td>\n",
       "      <td>1.0</td>\n",
       "    </tr>\n",
       "  </tbody>\n",
       "</table>\n",
       "<p>5 rows × 35 columns</p>\n",
       "</div>"
      ],
      "text/plain": [
       "     I1                                  I2    I3  P(IPO)  P(H)  P(L)  \\\n",
       "0  AATI  ADVANCED ANALOGIC TECHNOLOGIES INC  3674    10.0   9.5   8.5   \n",
       "1  ABPI     ACCENTIA BIOPHARMACEUTICALS INC  2834     8.0  10.0   8.0   \n",
       "2  ACAD          ACADIA PHARMACEUTICALS INC  2834     7.0  14.0  12.0   \n",
       "3  ACHN       ACHILLION PHARMACEUTICALS INC  2834    11.5  16.0  14.0   \n",
       "4  ACLI     AMERICAN COMMERCIAL LINES INC.   4492    21.0  21.0  19.0   \n",
       "\n",
       "     P(1Day)     C1   C2    C3  ...       S1_       S2_       S3_  P(mid)  \\\n",
       "0  11.870000  122.0  1.0  3.43  ...  0.004875  0.009199  0.010929     9.0   \n",
       "1   7.250000  259.0  0.0 -1.62  ...  0.003258  0.011105  0.010876     9.0   \n",
       "2   6.700000   90.0  1.0 -1.24  ...  0.011593  0.006271  0.011403    13.0   \n",
       "3  12.390000  209.0  1.0 -0.91  ...  0.009686  0.007144  0.013319    15.0   \n",
       "4  56.599998   80.0  1.0  0.07  ...  0.004518  0.010047  0.011261    20.0   \n",
       "\n",
       "   C3_        C5_        C6_  Y1  Y2  Imputed_C2  \n",
       "0    1   3.864345  11.111111   0   1         1.0  \n",
       "1    0  12.028832   0.000000   1   0         0.0  \n",
       "2    0   3.369134   0.000000   1   0         1.0  \n",
       "3    0   3.299697   0.000000   1   1         1.0  \n",
       "4    1   3.726269   5.000000   0   1         1.0  \n",
       "\n",
       "[5 rows x 35 columns]"
      ]
     },
<<<<<<< HEAD
     "execution_count": 142,
=======
     "execution_count": 14,
>>>>>>> c29acd06a0cadd2dba62c0c3d17d46893bc97f3a
     "metadata": {},
     "output_type": "execute_result"
    }
   ],
   "source": [
    "# Since C2 is a binary value, we will fill the missing data with the mode\n",
    "\n",
    "compdata['Imputed_C2'] = compdata['C2'].fillna(compdata['C2'].mode()[0])\n",
    "compdata.head()"
   ]
  },
  {
   "cell_type": "code",
<<<<<<< HEAD
   "execution_count": 143,
=======
   "execution_count": 15,
>>>>>>> c29acd06a0cadd2dba62c0c3d17d46893bc97f3a
   "metadata": {},
   "outputs": [
    {
     "data": {
      "text/plain": [
<<<<<<< HEAD
       "I1             0\n",
       "I2             0\n",
       "I3             8\n",
       "P(IPO)         5\n",
       "P(H)          10\n",
       "P(L)          10\n",
       "P(1Day)       22\n",
       "C1            22\n",
       "C2            22\n",
       "C3            36\n",
       "C4            22\n",
       "C5             6\n",
       "C6             6\n",
       "C7            72\n",
       "T1             1\n",
       "T2             1\n",
       "T3             1\n",
       "T4             1\n",
       "T5             1\n",
       "S1             1\n",
       "S2             1\n",
       "S3             1\n",
       "T3_            1\n",
       "T4_            1\n",
       "T5_            1\n",
       "S1_            1\n",
       "S2_            1\n",
       "S3_            1\n",
       "P(mid)        10\n",
       "C3_            0\n",
       "C5_            6\n",
       "C6_            0\n",
       "Y1             0\n",
       "Y2             0\n",
       "Imputed_C2     0\n",
       "dtype: int64"
      ]
     },
     "execution_count": 143,
=======
       "(682, 35)"
      ]
     },
     "execution_count": 15,
>>>>>>> c29acd06a0cadd2dba62c0c3d17d46893bc97f3a
     "metadata": {},
     "output_type": "execute_result"
    }
   ],
   "source": [
    "# Drop the columns that are missing data in the P variables\n",
    "\n",
    "compdata.isna().sum()"
   ]
  },
  {
   "cell_type": "code",
<<<<<<< HEAD
   "execution_count": 144,
=======
   "execution_count": 16,
>>>>>>> c29acd06a0cadd2dba62c0c3d17d46893bc97f3a
   "metadata": {},
   "outputs": [
    {
     "data": {
      "text/html": [
       "<div>\n",
       "<style scoped>\n",
       "    .dataframe tbody tr th:only-of-type {\n",
       "        vertical-align: middle;\n",
       "    }\n",
       "\n",
       "    .dataframe tbody tr th {\n",
       "        vertical-align: top;\n",
       "    }\n",
       "\n",
       "    .dataframe thead th {\n",
       "        text-align: right;\n",
       "    }\n",
       "</style>\n",
       "<table border=\"1\" class=\"dataframe\">\n",
       "  <thead>\n",
       "    <tr style=\"text-align: right;\">\n",
       "      <th></th>\n",
       "      <th>P(IPO)</th>\n",
       "      <th>P(H)</th>\n",
       "      <th>P(L)</th>\n",
       "      <th>P(1Day)</th>\n",
       "      <th>C1</th>\n",
       "      <th>C3</th>\n",
       "      <th>C4</th>\n",
       "      <th>C5</th>\n",
       "      <th>C6</th>\n",
       "      <th>C7</th>\n",
       "      <th>...</th>\n",
<<<<<<< HEAD
       "      <th>T5_</th>\n",
=======
>>>>>>> c29acd06a0cadd2dba62c0c3d17d46893bc97f3a
       "      <th>S1_</th>\n",
       "      <th>S2_</th>\n",
       "      <th>S3_</th>\n",
       "      <th>P(mid)</th>\n",
       "      <th>C3_</th>\n",
       "      <th>C5_</th>\n",
       "      <th>C6_</th>\n",
       "      <th>Y1</th>\n",
       "      <th>Y2</th>\n",
<<<<<<< HEAD
=======
       "      <th>Imputed_C2</th>\n",
>>>>>>> c29acd06a0cadd2dba62c0c3d17d46893bc97f3a
       "    </tr>\n",
       "  </thead>\n",
       "  <tbody>\n",
       "    <tr>\n",
       "      <th>0</th>\n",
       "      <td>10.0</td>\n",
       "      <td>9.5</td>\n",
       "      <td>8.5</td>\n",
       "      <td>11.870000</td>\n",
       "      <td>122.0</td>\n",
       "      <td>3.43</td>\n",
       "      <td>0.029074</td>\n",
       "      <td>40962052.0</td>\n",
       "      <td>10600000.0</td>\n",
       "      <td>51.345</td>\n",
       "      <td>...</td>\n",
<<<<<<< HEAD
       "      <td>0.054250</td>\n",
       "      <td>0.004875</td>\n",
       "      <td>0.009199</td>\n",
       "      <td>0.010929</td>\n",
       "      <td>9.0</td>\n",
       "      <td>1</td>\n",
       "      <td>3.864345</td>\n",
       "      <td>11.111111</td>\n",
       "      <td>0</td>\n",
       "      <td>1</td>\n",
=======
       "      <td>681.000000</td>\n",
       "      <td>681.000000</td>\n",
       "      <td>681.000000</td>\n",
       "      <td>672.000000</td>\n",
       "      <td>682.000000</td>\n",
       "      <td>676.000000</td>\n",
       "      <td>682.000000</td>\n",
       "      <td>682.000000</td>\n",
       "      <td>682.000000</td>\n",
       "      <td>682.000000</td>\n",
>>>>>>> c29acd06a0cadd2dba62c0c3d17d46893bc97f3a
       "    </tr>\n",
       "    <tr>\n",
       "      <th>1</th>\n",
       "      <td>8.0</td>\n",
       "      <td>10.0</td>\n",
       "      <td>8.0</td>\n",
       "      <td>7.250000</td>\n",
       "      <td>259.0</td>\n",
       "      <td>-1.62</td>\n",
       "      <td>-0.013352</td>\n",
       "      <td>28869196.0</td>\n",
       "      <td>2400000.0</td>\n",
       "      <td>25.936</td>\n",
       "      <td>...</td>\n",
       "      <td>0.051395</td>\n",
       "      <td>0.003258</td>\n",
       "      <td>0.011105</td>\n",
       "      <td>0.010876</td>\n",
       "      <td>9.0</td>\n",
       "      <td>0</td>\n",
       "      <td>12.028832</td>\n",
       "      <td>0.000000</td>\n",
       "      <td>1</td>\n",
       "      <td>0</td>\n",
       "    </tr>\n",
       "    <tr>\n",
<<<<<<< HEAD
       "      <th>2</th>\n",
       "      <td>7.0</td>\n",
       "      <td>14.0</td>\n",
       "      <td>12.0</td>\n",
       "      <td>6.700000</td>\n",
       "      <td>90.0</td>\n",
       "      <td>-1.24</td>\n",
       "      <td>0.020715</td>\n",
       "      <td>16845668.0</td>\n",
       "      <td>5000000.0</td>\n",
       "      <td>7.378</td>\n",
=======
       "      <th>top</th>\n",
       "      <td>AYR</td>\n",
       "      <td>TESSERA TECHNOLOGIES INC</td>\n",
       "      <td>2834</td>\n",
       "      <td>NaN</td>\n",
       "      <td>NaN</td>\n",
       "      <td>NaN</td>\n",
       "      <td>NaN</td>\n",
       "      <td>NaN</td>\n",
       "      <td>NaN</td>\n",
       "      <td>NaN</td>\n",
>>>>>>> c29acd06a0cadd2dba62c0c3d17d46893bc97f3a
       "      <td>...</td>\n",
       "      <td>0.061764</td>\n",
       "      <td>0.011593</td>\n",
       "      <td>0.006271</td>\n",
       "      <td>0.011403</td>\n",
       "      <td>13.0</td>\n",
       "      <td>0</td>\n",
       "      <td>3.369134</td>\n",
       "      <td>0.000000</td>\n",
       "      <td>1</td>\n",
       "      <td>0</td>\n",
       "    </tr>\n",
       "    <tr>\n",
       "      <th>3</th>\n",
       "      <td>11.5</td>\n",
       "      <td>16.0</td>\n",
       "      <td>14.0</td>\n",
       "      <td>12.390000</td>\n",
       "      <td>209.0</td>\n",
       "      <td>-0.91</td>\n",
       "      <td>0.020023</td>\n",
       "      <td>14848637.0</td>\n",
       "      <td>4500000.0</td>\n",
       "      <td>8.526</td>\n",
       "      <td>...</td>\n",
       "      <td>0.061630</td>\n",
       "      <td>0.009686</td>\n",
       "      <td>0.007144</td>\n",
       "      <td>0.013319</td>\n",
       "      <td>15.0</td>\n",
       "      <td>0</td>\n",
       "      <td>3.299697</td>\n",
       "      <td>0.000000</td>\n",
       "      <td>1</td>\n",
       "      <td>1</td>\n",
       "    </tr>\n",
       "    <tr>\n",
<<<<<<< HEAD
       "      <th>4</th>\n",
       "      <td>21.0</td>\n",
       "      <td>21.0</td>\n",
       "      <td>19.0</td>\n",
       "      <td>56.599998</td>\n",
       "      <td>80.0</td>\n",
       "      <td>0.07</td>\n",
       "      <td>-0.034895</td>\n",
       "      <td>30741716.0</td>\n",
       "      <td>8250000.0</td>\n",
       "      <td>632.298</td>\n",
       "      <td>...</td>\n",
       "      <td>0.048550</td>\n",
       "      <td>0.004518</td>\n",
       "      <td>0.010047</td>\n",
       "      <td>0.011261</td>\n",
       "      <td>20.0</td>\n",
       "      <td>1</td>\n",
       "      <td>3.726269</td>\n",
       "      <td>5.000000</td>\n",
       "      <td>0</td>\n",
       "      <td>1</td>\n",
       "    </tr>\n",
       "  </tbody>\n",
       "</table>\n",
       "<p>5 rows × 30 columns</p>\n",
       "</div>"
      ],
=======
       "      <th>mean</th>\n",
       "      <td>NaN</td>\n",
       "      <td>NaN</td>\n",
       "      <td>NaN</td>\n",
       "      <td>13.837666</td>\n",
       "      <td>15.481190</td>\n",
       "      <td>13.515045</td>\n",
       "      <td>25.934766</td>\n",
       "      <td>149.728788</td>\n",
       "      <td>0.859091</td>\n",
       "      <td>1.788904</td>\n",
       "      <td>...</td>\n",
       "      <td>inf</td>\n",
       "      <td>inf</td>\n",
       "      <td>inf</td>\n",
       "      <td>14.498118</td>\n",
       "      <td>0.483871</td>\n",
       "      <td>4.633500</td>\n",
       "      <td>5.230302</td>\n",
       "      <td>0.501466</td>\n",
       "      <td>0.675953</td>\n",
       "      <td>0.863636</td>\n",
       "    </tr>\n",
       "    <tr>\n",
       "      <th>std</th>\n",
       "      <td>NaN</td>\n",
       "      <td>NaN</td>\n",
       "      <td>NaN</td>\n",
       "      <td>6.053731</td>\n",
       "      <td>6.653429</td>\n",
       "      <td>5.835646</td>\n",
       "      <td>73.234948</td>\n",
       "      <td>152.817467</td>\n",
       "      <td>0.348192</td>\n",
       "      <td>162.666532</td>\n",
       "      <td>...</td>\n",
       "      <td>NaN</td>\n",
       "      <td>NaN</td>\n",
       "      <td>NaN</td>\n",
       "      <td>6.229938</td>\n",
       "      <td>0.500107</td>\n",
       "      <td>6.272977</td>\n",
       "      <td>10.743011</td>\n",
       "      <td>0.500365</td>\n",
       "      <td>0.468361</td>\n",
       "      <td>0.343426</td>\n",
       "    </tr>\n",
       "    <tr>\n",
       "      <th>min</th>\n",
       "      <td>NaN</td>\n",
       "      <td>NaN</td>\n",
       "      <td>NaN</td>\n",
       "      <td>3.000000</td>\n",
       "      <td>0.000000</td>\n",
       "      <td>3.000000</td>\n",
       "      <td>0.000000</td>\n",
       "      <td>10.000000</td>\n",
       "      <td>0.000000</td>\n",
       "      <td>-786.239000</td>\n",
       "      <td>...</td>\n",
       "      <td>-0.000093</td>\n",
       "      <td>0.002152</td>\n",
       "      <td>0.005125</td>\n",
       "      <td>3.500000</td>\n",
       "      <td>0.000000</td>\n",
       "      <td>0.283223</td>\n",
       "      <td>0.000000</td>\n",
       "      <td>0.000000</td>\n",
       "      <td>0.000000</td>\n",
       "      <td>0.000000</td>\n",
       "    </tr>\n",
       "    <tr>\n",
       "      <th>25%</th>\n",
       "      <td>NaN</td>\n",
       "      <td>NaN</td>\n",
       "      <td>NaN</td>\n",
       "      <td>10.000000</td>\n",
       "      <td>12.500000</td>\n",
       "      <td>11.000000</td>\n",
       "      <td>11.000000</td>\n",
       "      <td>85.000000</td>\n",
       "      <td>1.000000</td>\n",
       "      <td>-0.852500</td>\n",
       "      <td>...</td>\n",
       "      <td>0.004149</td>\n",
       "      <td>0.007031</td>\n",
       "      <td>0.009568</td>\n",
       "      <td>11.500000</td>\n",
       "      <td>0.000000</td>\n",
       "      <td>2.850622</td>\n",
       "      <td>0.000000</td>\n",
       "      <td>0.000000</td>\n",
       "      <td>0.000000</td>\n",
       "      <td>1.000000</td>\n",
       "    </tr>\n",
       "    <tr>\n",
       "      <th>50%</th>\n",
       "      <td>NaN</td>\n",
       "      <td>NaN</td>\n",
       "      <td>NaN</td>\n",
       "      <td>13.500000</td>\n",
       "      <td>15.000000</td>\n",
       "      <td>13.000000</td>\n",
       "      <td>14.845000</td>\n",
       "      <td>107.000000</td>\n",
       "      <td>1.000000</td>\n",
       "      <td>0.010000</td>\n",
       "      <td>...</td>\n",
       "      <td>0.005058</td>\n",
       "      <td>0.008595</td>\n",
       "      <td>0.011302</td>\n",
       "      <td>14.000000</td>\n",
       "      <td>0.000000</td>\n",
       "      <td>3.753607</td>\n",
       "      <td>0.000000</td>\n",
       "      <td>1.000000</td>\n",
       "      <td>1.000000</td>\n",
       "      <td>1.000000</td>\n",
       "    </tr>\n",
       "    <tr>\n",
       "      <th>75%</th>\n",
       "      <td>NaN</td>\n",
       "      <td>NaN</td>\n",
       "      <td>NaN</td>\n",
       "      <td>17.000000</td>\n",
       "      <td>17.000000</td>\n",
       "      <td>15.000000</td>\n",
       "      <td>20.485000</td>\n",
       "      <td>155.250000</td>\n",
       "      <td>1.000000</td>\n",
       "      <td>0.470000</td>\n",
       "      <td>...</td>\n",
       "      <td>0.006259</td>\n",
       "      <td>0.010541</td>\n",
       "      <td>0.012891</td>\n",
       "      <td>16.000000</td>\n",
       "      <td>1.000000</td>\n",
       "      <td>4.902128</td>\n",
       "      <td>7.142857</td>\n",
       "      <td>1.000000</td>\n",
       "      <td>1.000000</td>\n",
       "      <td>1.000000</td>\n",
       "    </tr>\n",
       "    <tr>\n",
       "      <th>max</th>\n",
       "      <td>NaN</td>\n",
       "      <td>NaN</td>\n",
       "      <td>NaN</td>\n",
       "      <td>85.000000</td>\n",
       "      <td>135.000000</td>\n",
       "      <td>108.000000</td>\n",
       "      <td>1159.200562</td>\n",
       "      <td>2087.000000</td>\n",
       "      <td>1.000000</td>\n",
       "      <td>3864.500000</td>\n",
       "      <td>...</td>\n",
       "      <td>inf</td>\n",
       "      <td>inf</td>\n",
       "      <td>inf</td>\n",
       "      <td>121.500000</td>\n",
       "      <td>1.000000</td>\n",
       "      <td>99.787255</td>\n",
       "      <td>100.000000</td>\n",
       "      <td>1.000000</td>\n",
       "      <td>1.000000</td>\n",
       "      <td>1.000000</td>\n",
       "    </tr>\n",
       "  </tbody>\n",
       "</table>\n",
       "<p>11 rows × 35 columns</p>\n",
       "</div>"
      ],
      "text/plain": [
       "         I1                        I2    I3      P(IPO)        P(H)  \\\n",
       "count   682                       682   674  677.000000  672.000000   \n",
       "unique  682                       682   201         NaN         NaN   \n",
       "top     AYR  TESSERA TECHNOLOGIES INC  2834         NaN         NaN   \n",
       "freq      1                         1    76         NaN         NaN   \n",
       "mean    NaN                       NaN   NaN   13.837666   15.481190   \n",
       "std     NaN                       NaN   NaN    6.053731    6.653429   \n",
       "min     NaN                       NaN   NaN    3.000000    0.000000   \n",
       "25%     NaN                       NaN   NaN   10.000000   12.500000   \n",
       "50%     NaN                       NaN   NaN   13.500000   15.000000   \n",
       "75%     NaN                       NaN   NaN   17.000000   17.000000   \n",
       "max     NaN                       NaN   NaN   85.000000  135.000000   \n",
       "\n",
       "              P(L)      P(1Day)           C1          C2           C3  ...  \\\n",
       "count   672.000000   660.000000   660.000000  660.000000   646.000000  ...   \n",
       "unique         NaN          NaN          NaN         NaN          NaN  ...   \n",
       "top            NaN          NaN          NaN         NaN          NaN  ...   \n",
       "freq           NaN          NaN          NaN         NaN          NaN  ...   \n",
       "mean     13.515045    25.934766   149.728788    0.859091     1.788904  ...   \n",
       "std       5.835646    73.234948   152.817467    0.348192   162.666532  ...   \n",
       "min       3.000000     0.000000    10.000000    0.000000  -786.239000  ...   \n",
       "25%      11.000000    11.000000    85.000000    1.000000    -0.852500  ...   \n",
       "50%      13.000000    14.845000   107.000000    1.000000     0.010000  ...   \n",
       "75%      15.000000    20.485000   155.250000    1.000000     0.470000  ...   \n",
       "max     108.000000  1159.200562  2087.000000    1.000000  3864.500000  ...   \n",
       "\n",
       "               S1_         S2_         S3_      P(mid)         C3_  \\\n",
       "count   681.000000  681.000000  681.000000  672.000000  682.000000   \n",
       "unique         NaN         NaN         NaN         NaN         NaN   \n",
       "top            NaN         NaN         NaN         NaN         NaN   \n",
       "freq           NaN         NaN         NaN         NaN         NaN   \n",
       "mean           inf         inf         inf   14.498118    0.483871   \n",
       "std            NaN         NaN         NaN    6.229938    0.500107   \n",
       "min      -0.000093    0.002152    0.005125    3.500000    0.000000   \n",
       "25%       0.004149    0.007031    0.009568   11.500000    0.000000   \n",
       "50%       0.005058    0.008595    0.011302   14.000000    0.000000   \n",
       "75%       0.006259    0.010541    0.012891   16.000000    1.000000   \n",
       "max            inf         inf         inf  121.500000    1.000000   \n",
       "\n",
       "               C5_         C6_          Y1          Y2  Imputed_C2  \n",
       "count   676.000000  682.000000  682.000000  682.000000  682.000000  \n",
       "unique         NaN         NaN         NaN         NaN         NaN  \n",
       "top            NaN         NaN         NaN         NaN         NaN  \n",
       "freq           NaN         NaN         NaN         NaN         NaN  \n",
       "mean      4.633500    5.230302    0.501466    0.675953    0.863636  \n",
       "std       6.272977   10.743011    0.500365    0.468361    0.343426  \n",
       "min       0.283223    0.000000    0.000000    0.000000    0.000000  \n",
       "25%       2.850622    0.000000    0.000000    0.000000    1.000000  \n",
       "50%       3.753607    0.000000    1.000000    1.000000    1.000000  \n",
       "75%       4.902128    7.142857    1.000000    1.000000    1.000000  \n",
       "max      99.787255  100.000000    1.000000    1.000000    1.000000  \n",
       "\n",
       "[11 rows x 35 columns]"
      ]
     },
     "execution_count": 16,
     "metadata": {},
     "output_type": "execute_result"
    }
   ],
   "source": [
    "compdata.describe(include='all')"
   ]
  },
  {
   "cell_type": "markdown",
   "metadata": {},
   "source": [
    "# Outliers:"
   ]
  },
  {
   "cell_type": "code",
   "execution_count": 17,
   "metadata": {},
   "outputs": [],
   "source": [
    "# Determine if there are any outliers in the data that will alter the results\n",
    "# Use box plots for all the variables to visualize the outliers \n",
    "# Standardize first!\n",
    "\n",
    "# only continuous"
   ]
  },
  {
   "cell_type": "code",
   "execution_count": 18,
   "metadata": {},
   "outputs": [
    {
     "data": {
      "image/png": "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\n",
      "text/plain": [
       "<Figure size 432x288 with 1 Axes>"
      ]
     },
     "metadata": {
      "needs_background": "light"
     },
     "output_type": "display_data"
    }
   ],
   "source": [
    "compdata.boxplot(column=['C1','C3','C4','C5','C6','C7'],vert=False)\n",
    "plt.title('IPO Characteristics Box Plot')\n",
    "plt.show()"
   ]
  },
  {
   "cell_type": "code",
   "execution_count": 19,
   "metadata": {},
   "outputs": [
    {
     "data": {
      "image/png": "iVBORw0KGgoAAAANSUhEUgAAAXQAAAEICAYAAABPgw/pAAAABHNCSVQICAgIfAhkiAAAAAlwSFlzAAALEgAACxIB0t1+/AAAADl0RVh0U29mdHdhcmUAbWF0cGxvdGxpYiB2ZXJzaW9uIDIuMi40LCBodHRwOi8vbWF0cGxvdGxpYi5vcmcv7US4rQAAEUFJREFUeJzt3X9s3Hd9x/HXy45zIU4C+eE5SeP10qloxGHtKDCq8COsEtCfFAkNtv5SxajKSNkmbWq2oFH2B+2YMlDFNFTGtI7idGhjI2oZyoRrwUSBpdCm7ayOZItDSFW3K4S0a5PUfu+P+97tnNq5cxr77t5+PqSv7vz5fr+fz+f79uXV733Odh0RAgB0vq5WTwAAcHYQ6ACQBIEOAEkQ6ACQBIEOAEkQ6ACQBIEOzDPbZdthe1Gr54JcCHTMC9sHbb9g+5jtn9n+ju2bbc/ra9D2iO0XbT9n+6jtb9l+/RyMs9X2ZDHOMdtP2L7xDPq5zfY9Z3t+yIlAx3y6MiKWSzpX0h2SbpX0xRbMY1tELJO0WtKIpC/N0ThHinFWqHKtX7C9aY7GAgh0zL+IOBoRuyV9QNINtjdLku3Lbf/Q9s9t/9j2bdVzbN9v+5b6fmzvs321Kz5je7y4695X7bPBPF6SdK+kWsjaLtn+rO0jxfZZ26Vi3622v1tdKrH9EduP217SYJyIiH+W9NP6serGXG97t+1nbe+3/eGi/T2S/ljSB4o7/UcaXRMWNgIdLRMR35d0WNLbiqbnJV0v6TWSLpf0EdtXF/vulnRt9VzbF0g6R9LXJb1L0tslvbY49wOS/qfR+LYXS7pG0nfrmndIeoukCyVdIOnNkj5e7PtzSSckfdz2+ZI+JenaiHixwThdtt9XzO3RaQ7ZpUod1kt6v6RP2b4kIr5RjPH3EbEsIi5odE1Y2Ah0tNoRSaskKSJGIuLRiJiMiH2qBN07iuO+Jun8Ikgl6TpVgu6EpJOSlkv6ZUmOiNGIePI0Y95p+2eSnpO0TdIn6/ZdI+lPI2I8Ip4u9l1XzG9Slf/gfEzSbkmfjogfnmac9cU4z0j6hKTrIuKJ+gNsD0h6q6RbI+LFiHhY0l9XxwRmg0BHq50j6VlJsv1rth+w/bTto5JulrRGkiLiuKSvSLq2+CD1N1WsfUfEsKTPSfpLSU/Zvsv2itOM+bGIeI2kJZKukPQPtn+l2Lde0ljdsWNFm4qxDkp6QFK5GO90jkTEayJiVURcGBH3TnPMeknPRsSxU8Y8p0HfwMsQ6GgZ229SJbj+rWgaUuXOdyAiXi3p85Jcd8rdqtxBXyLpfyPiweqOiLgzIi6SNKjK0ssfNhq/eCfwbUn7VVm2kSrvGM6tO+wXi7bqnC+TdLGkb6qyBPNKHZG0yvbyU8b8SXWaZ2EMLBAEOuad7RW2r1DlA8l7IqK6rrxclbvVF22/WdJv1Z9XBPikpJ2q+8kU228q7u57VFmHf1HSRJNzuViVDyofL5p2qbJG3md7jaQ/kXRPcewaVX4q57cl3SDpyiLgz1hE/FjSdyTdbntJ8U7hQ5K+XBzylKTyfP94JzpURLCxzfkm6aCkFyQdk3RU0oOSPiqpu+6Y96uy3HBM0n2qLKPcc0o/H1flrvW8urZLJO1TZU38GVXCcNkM8xhRJfCfK7b9kn6/bv8SSXdKerLY7pS0pNj3VUmfrzv2UlXusFdPM85WSYdnmEO5uIZFxdcbiut9VtIBSTfXHbtalXcwP5X0g1Z/H9nae3ME7+jQOWxfL+mmiHhrq+cCtBvexqFj2F4q6Xck3dXquQDtiEBHR7D9bklPq7KmPNTi6QBtiSUXAEiCO3QASGJe/3znmjVrolwuz/q8559/Xr29vWd/QolQo+ZQp8aoUWPzXaOHHnromYjoa3TcvAZ6uVzW3r17Z33eyMiItm7devYnlAg1ag51aowaNTbfNbI91vgollwAIA0CHQCSINABIAkCHQCSINABIAkCHQCSINABIAkCHQCSINABIAkCHQCSINABIAkCHQCSINABIAkCHQCSINABIAkCHQCSINABIAkCHQCSINABIAkCHQCSINABIAkCHQCSINABIAkCHQCSINABIAkCHQCSINABIAkCHQCSINABIAkCHQCSINABIAkCHQCSINABIAkCHQCSINABIAkCHQCSINABIAkCHQCSINABIAkCHQCSINABIAkCHQCSINABIAkCHQCSINABIAkCHQCSINABIAkCHQCSINABIAkCHQCSINABIAkCHQCSINABIAkCHQCSINABIAkCHQCSINABIAkCHQCSINABIAkCHQCSINABIAkCHQCSINABIAkCHQCSINABIAkCHQCSINABIAkCHQCSINABIAkCHQCSINABIAkCHQCSINABIAkCHQCSINABIAkCHQCSINABIAkCHQCSINABIAkCHQCSINABIAkCHQCSINABIAkCHQCSINABIAkCHQCSINABIAkCHQCSINABIAkCHQCSINABIIlFrZ7AXLngk3t09IWTkqTlr9uuY6N3THvcq1/Vo0c+8a75nBoAzIm0gX70hZM6eMflkqTX37299vxU5e33z+e0AGDOsOQCAEkQ6ACQBIEOAEkQ6ACQBIEOAEkQ6ACQREcFuu1WT2GKdpsPgIWtowIdADAzAh0AkiDQASAJAh0Akmgq0G2vtX2v7QO2/8P2122/1vY3bP/M9n1zPdF2c8stt0iqfDA6262np0fLli2b1TlLliyZ8vWyZcum9PHOd76zdlxXV5cGBga0evXq2v6BgQHt2rVLu3bt0ubNm9Xd3a3NmzdPaevq6qqNU33s7u6u9bFo0aIpY1b7rJqu70Z27dqlgYGBafs8k/46UTPXuVBqkdG8fu8i4rSbJEt6UNLNdW0XSnqbpEskXSnpvkb9RIQuuuiiOBMPPPBARGXgps8599b7as83/+3mpo5r1rZt20JS01t3d3dICttTHhcvXhy9vb1hO7q6uqY9t3qspCiVSnH77bfH0qVLa20XX3xx9Pf3x+LFi0NSbNmyJfr6+mLp0qXR3d0d27dvjz179sTatWtjxYoV0dfXF8PDw3HixIkYHh6Ovr6+6Ovrix07dkS5XI5rrrkmFi1aFFu2bAnbYTtWrlwZV1xxRW3Mq666qtZnX19fDA0NxdDQUGzcuHFK3xs3boyhoaEZ6zg0NBR9fX2xdu3a2LNnT+zZsyfWrVsXfX19sW3btln314zqa6ldNFO3M6ntK9FuNWpHzdbobH3vJO2NJjK2mUD/dUnfOs3+rQst0Eul0suCtxqop26LFi2qhWBPT08toFeuXBmSolwux86dO0PSlFDv7++vtVe3np6eiIgol8u140ulUgwPD0d/f3+sXLkySqVSlMvl6OnpiZ07d8bg4GBERAwPD0dPT0+Uy+Up11Iul6NcLsfg4GAMDw/H4OBg7Ny5M0qlUnR3d0d/f38MDw9HqVSKtWvX1sao9lk9t3p+vWp/MxkcHIxyuTzlvGqf1euaTX/NaLewaqZuZ1LbV6LdatSOmq3R2freNRvozfz53M2SHmriuGnZvknSTZLU39+vkZGRWffx3HPP1c6bzZ+7rR/rdOPO9k/oHj9+/GVtJ06cmPbYl156SZJ04403avfu3bX2o0ePSpLGxsa0adMmSdLk5GRt//j4eK296uTJkxoZGdHY2Fjt+OPHj2tiYkLj4+OyrcnJSR06dEiTk5PatGmTRkdHNTIyoomJCZ08eVKHDh2aUotDhw4pImRbExMTGh0d1aZNm2rXOD4+romJCR0/flzj4+O1OVb7HBsbq/08/sTExJS+q/3NVPvR0VFFxJTzJiYmavOfbX/NqH8ttYPR0dGG19nMMWdTu9WoHTVbo/n+3jVzh/4xSZ85zf6t4g6dO3Tu0M8Id+idqV3v0JsJ9EvEkssUrKGzhn62sIbemTp5Dd2Svifpw3Vtb5L0jliggR4x+1A/9a69t7d3Vuec+q6gt7d32j5KpVLYjg0bNsSqVatq7Rs2bKgF7+DgYHR1dcXg4OCUNtu1caqP9f+h6e7unjJmtc+q6fpuZGhoKDZs2DBtn2fSXyPtGFbNXOdc1GIm7VijdjObGp2N791ZC/RKX1ov6SuSDkh6XNL9ks6X9G1JT0t6QdJhSe8+XT+ZAn2285lr/CNsDnVqjBo1Nt81ajbQm/p/ikbEEUm/Mc2utzVzPgBg7vGbogCQBIEOAEkQ6ACQREcFeuWzgfbRbvMBsLB1VKADAGZGoANAEgQ6ACRBoANAEgQ6ACRBoANAEk396n+nqv6d8+Wvm/lvnr/6VT3zOSUAmDNpA/3gHZfXfXX5jMcBQBYsuQBAEgQ6ACRBoANAEgQ6ACRBoANAEgQ6ACRBoANAEgQ6ACRBoANAEgQ6ACRBoANAEgQ6ACRBoANAEgQ6ACRBoANAEgQ6ACRBoANAEgQ6ACRBoANAEgQ6ACRBoANAEgQ6ACRBoANAEgQ6ACRBoANAEgQ6ACRBoANAEgQ6ACRBoANAEgQ6ACRBoANAEgQ6ACRBoANAEgQ6ACRBoANAEgQ6ACRBoANAEgQ6ACRBoANAEgQ6ACRBoANAEgQ6ACRBoANAEgQ6ACRBoANAEgQ6ACRBoANAEgQ6ACRBoANAEgQ6ACRBoANAEgQ6ACRBoANAEgQ6ACRBoANAEgQ6ACRBoANAEgQ6ACRBoANAEgQ6ACRBoANAEgQ6ACRBoANAEgQ6ACRBoANAEgQ6ACRBoANAEgQ6ACRBoANAEgQ6ACRBoANAEgQ6ACRBoANAEgQ6ACRBoANAEgQ6ACRBoANAEgQ6ACRBoANAEgQ6ACRBoANAEgQ6ACRBoANAEgQ6ACRBoANAEgQ6ACRBoANAEgQ6ACRBoANAEgQ6ACRBoANAEo6I+RvMflrS2BmcukbSM2d5OtlQo+ZQp8aoUWPzXaNzI6Kv0UHzGuhnyvbeiHhjq+fRzqhRc6hTY9SosXatEUsuAJAEgQ4ASXRKoN/V6gl0AGrUHOrUGDVqrC1r1BFr6ACAxjrlDh0A0ACBDgBJtH2g236P7Sds77e9vdXzaSXbB20/avth23uLtlW2/9X2j4rHlXXH/1FRtydsv7t1M587tv/G9rjtx+raZl0T2xcVtd1v+07bnu9rmSsz1Og22z8pXksP276sbt9CrNGA7Qdsj9p+3PbvFu2d9VqKiLbdJHVLOiDpPEmLJT0iaVOr59XCehyUtOaUtk9L2l483y7pz4rnm4p6lSRtLOrY3eprmIOavF3SGyQ99kpqIun7ki6WZEn/IunSVl/bHNfoNkl/MM2xC7VG6yS9oXi+XNJ/FrXoqNdSu9+hv1nS/oj4r4g4IeleSe9t8ZzazXsl3V08v1vS1XXt90bE8Yj4b0n7ValnKhHxLUnPntI8q5rYXidpRUQ8GJV/kX9Xd07Hm6FGM1moNXoyIn5QPD8maVTSOeqw11K7B/o5kn5c9/Xhom2hCkl7bD9k+6airT8inpQqL0pJv1C0L+TazbYm5xTPT23PbpvtfcWSTHUpYcHXyHZZ0q9K+p467LXU7oE+3drTQv45yy0R8QZJl0r6qO23n+ZYavdyM9VkIdbqryT9kqQLJT0paWfRvqBrZHuZpH+U9HsR8fPTHTpNW8vr1O6BfljSQN3XGyQdadFcWi4ijhSP45L+SZUllKeKt3kqHseLwxdy7WZbk8PF81Pb04qIpyJiIiImJX1B/78ct2BrZLtHlTD/ckR8tWjuqNdSuwf6v0s63/ZG24slfVDS7hbPqSVs99peXn0u6V2SHlOlHjcUh90g6WvF892SPmi7ZHujpPNV+bBmIZhVTYq30sdsv6X4iYTr685JqRpShfep8lqSFmiNimv6oqTRiPiLul2d9Vpq9afLTXz6fJkqnzgfkLSj1fNpYR3OU+VT9UckPV6thaTVkr4p6UfF46q6c3YUdXtCiX4i4ZS67FJlyeCkKndHHzqTmkh6oyqhdkDS51T8FnWGbYYafUnSo5L2qRJO6xZ4jd6qytLIPkkPF9tlnfZa4lf/ASCJdl9yAQA0iUAHgCQIdABIgkAHgCQIdABIgkAHgCQIdABI4v8Avv/JF7yGddsAAAAASUVORK5CYII=\n",
      "text/plain": [
       "<Figure size 432x288 with 1 Axes>"
      ]
     },
     "metadata": {
      "needs_background": "light"
     },
     "output_type": "display_data"
    }
   ],
   "source": [
    "# In number of days\n",
    "\n",
    "compdata.boxplot(column=['C1'],vert=False)\n",
    "plt.title('Days Box Plot')\n",
    "plt.show()"
   ]
  },
  {
   "cell_type": "code",
   "execution_count": 20,
   "metadata": {},
   "outputs": [
    {
     "data": {
      "image/png": "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\n",
      "text/plain": [
       "<Figure size 432x288 with 1 Axes>"
      ]
     },
     "metadata": {
      "needs_background": "light"
     },
     "output_type": "display_data"
    }
   ],
   "source": [
    "# Seperate the variables into that fit better with one another into their own box plot\n",
    "    # Help visualization\n",
    "# EPS is in dollars \n",
    "\n",
    "compdata.boxplot(column=['C3'],vert=False)\n",
    "plt.title('EPS Box Plot')\n",
    "plt.show()"
   ]
  },
  {
   "cell_type": "code",
   "execution_count": 21,
   "metadata": {},
   "outputs": [
    {
     "data": {
      "image/png": "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\n",
      "text/plain": [
       "<Figure size 432x288 with 1 Axes>"
      ]
     },
     "metadata": {
      "needs_background": "light"
     },
     "output_type": "display_data"
    }
   ],
   "source": [
    "compdata.boxplot(column='C4',vert=False)\n",
    "plt.title('Prior Nasdaq 15-Day Returns Box Plot')\n",
    "plt.show()"
   ]
  },
  {
   "cell_type": "code",
   "execution_count": 22,
   "metadata": {},
   "outputs": [
    {
     "data": {
      "image/png": "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\n",
      "text/plain": [
       "<Figure size 432x288 with 1 Axes>"
      ]
     },
     "metadata": {
      "needs_background": "light"
     },
     "output_type": "display_data"
    }
   ],
   "source": [
    "# Both in \"number of\" \n",
    "\n",
    "compdata.boxplot(column=['C5','C6'],vert=False)\n",
    "plt.title('Outstanding Shares & Offering Shares Box Plot')\n",
    "plt.show()"
   ]
  },
  {
   "cell_type": "code",
   "execution_count": 23,
   "metadata": {},
   "outputs": [
    {
     "data": {
      "image/png": "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\n",
      "text/plain": [
       "<Figure size 432x288 with 1 Axes>"
      ]
     },
     "metadata": {
      "needs_background": "light"
     },
     "output_type": "display_data"
    }
   ],
   "source": [
    "# in millions of dollars\n",
    "\n",
    "compdata.boxplot(column='C7',vert=False)\n",
    "plt.title('Sales Box Plot')\n",
    "plt.show()"
   ]
  },
  {
   "cell_type": "code",
   "execution_count": 24,
   "metadata": {},
   "outputs": [
    {
     "data": {
      "image/png": "iVBORw0KGgoAAAANSUhEUgAAAXcAAAEICAYAAACktLTqAAAABHNCSVQICAgIfAhkiAAAAAlwSFlzAAALEgAACxIB0t1+/AAAADl0RVh0U29mdHdhcmUAbWF0cGxvdGxpYiB2ZXJzaW9uIDIuMi40LCBodHRwOi8vbWF0cGxvdGxpYi5vcmcv7US4rQAAIABJREFUeJzt3Xt83HWd7/HXZyYhKS2EtpSAJGXibU0TBKQPRWF3W1GX5bbs2Zt19aBbrVSbRfFCsHI7UE8Ro7JVqUhZ2JVEl3VBBcUqyXg5HvWAcg+4IG3lWu6QWtuSfM4fv+8Mk3QymUwmmZlf3s/HYx75Xb+/z/eXmff85jszibk7IiISL4lKFyAiIuWncBcRiSGFu4hIDCncRURiSOEuIhJDCncRkRhSuMecmb3OzF6awv7rzezKctZUKWb2NjO7o8R9+83sH8pdU4HjXWpmT5vZlpk6ZrUxs1+Y2bsrXUetUriXyMyGcm4jZrYzZ/4fp9Buo5m5mbWUs94Jjnm6mf3azHaY2WNmdqOZHTNTxy+GmZ1hZj+aShvu/iN3P6KIY+31hObub3X3b07l+MUys9cAq4HXuHsqz/oTzOyBnPlfmNkfw33vSTO7zswOyln/Z2b247D+OTO73sxeW+D4Z5jZSzn35wfN7P1l7mbmWI+b2R/CcR43syvNbN9JtjGlC5i4UriXyN3nZW7ANuCUnGXXVrq+YpnZp4D1wAXAIuAw4Ergr6bhWHXlbrMWjl2Cw4DH3f2ZSezz/nBfbAcOBj4LYGbLgO8B3wjLXwU8APzczBYXaC+dc/9eAVxmZksm3ZPivCMc543AnwKfnKbjzCoK92liZkkzO9fMfmdmT5nZtWZ2QFh3upn91szmhvm/NrOHzWw+8JPQxP3haua0sVetY6/uw/53mNkLZrY1BHYxNS4EzgNWuft33P0P7r7b3W9w93NyNp1jZn1m9qKZ3WlmR+a0cZ6ZPRTW3W1mJ+WsOyMMZ3zZzJ4FusNVVtrMnglXmdeY2X45+6TM7NvhnD1lZj1mdhTwRWBZ5govbDvHzL5oZr8PV30bzKwhrDvBzB4Iv4MngMvzXPGeG16pvGBmg2b2p2Z2GnAWcHo41q/CtqOGCMzsQ2Z2X+j3XWZ2+HhtjnPuF5hZbzgHD5nZJy1yMvBd4JXh+BuL+V1muPtTwA1AZ1h0KXCFu1/u7kPu/rS7fwK4C/h0kW3+CngQeF1O/X9jZveGVwI/sujVRuYq+hkz6wzzh4X5NxdxnG3A5pzas8Lj6UIz22ZmT5jZVTn3m58ASXv5lcZRxfQr9txdtynegC3A28Ys6wZ+CrwCaASuBv41Z/23gI1AM/AE8PawvBFwoCVn2zOAH+XMj9oGOB7oIHqyfgPwDHBCWPc64KVx6j4N2AlYgb6tB/4AvB1IAl8guqrLrP8H4JBw7PcALwIH5tT9EvCBsO+cUM9bgX2IriR/AawP29cDg+GY+4bt35LvHIRlG4H/BA4AmoAfAOeHdSeEY/+vcKw5YdkDYf0RwO/C+TfglUBbTp+vHHOsXwDvDtPvAbYCR4V9/wRoKdRmnvP6H8B1wDzg1cBDwD/m1P5Agd/JqPVjajsI+BnwNWB+uJ+8OU8bq4GHxml/7P3tLcDzQCrMd4bf87Jwbs8Nv7e6sL4LuCOc8zRwcYG+PA4cF6ZTwG+BtXn69aFwjMOA/YEbga9NdB+fzbeKFxCHG/nD/SHg2Jz5NqKQtDC/EHgUuBu4LGe7SYd7nno2Av87TBcK95XAlgn6th64MWf+DcBzBba/D/iLnLp/O0H77wT+b5heDjwCJPJsN/Yc1AG7gUNzli0HBsP0CcAOoD5nfW64dwCPhX3q8vS5ULj/GPhgnhrHbXPMdg3AMPDKnGVnAjePrXOc/fOF+w7gOeBh4BpgAdGThhNCeUwbpwEvjtP+GcCe0N5QaONzOevXAf+WM58EngSOCfNG9ER7F3Br7u8gz7EeJ3qieI7ocfQvQEOec/5/gH/K2e8IwuOp0H18Nt80LDMNzMyAVuB74WXrc8BviK5uFwK4+9PA9cAS4PNTPN6xFr1h9qSZPQ+8FziwiF2fBppDvYU8njP9B6KrzcyxV4ahmkw/Xz3m2L8fU+srLHrD7xEze4FofD+zfSvR1eRIEbW/guhK/56cY99AdOWardvd9+Tb2d3vIXp1tQ7YbtGwWXMRx83U+eAU2jyY6L6wLWfZVuDQIo+fzwfd/QB3b3H30z0ar386rDskz/aHAE8VaO/Hob15ROf6TWZ2flj3ilAvAO4+TPSkfGiYd6LfayfRhUve30GOvwzHSrn7P7v7rjzbjDpmmJ5D9CQmeSjcp0G4cz8CvDXcaTO3Ro/GRDGzNxK9UXUd0dVKdvc8Te4gGqbIOHjM+v8Avgm0unsT0RDQRIEN0ct3A06aaMN8LPrExQZgFbDA3Q8gerMu99hj+3MpUX863X1/4P052/8eSJlZvvvl2HYeIxp2eVXO+W1y94UF9hndoPs17v4WouGTRuDiYvYLdb5qkm3mehwYAXLf0FxMdJ8pG3d/FrgN+Ls8q/8euKXIdh4jeuI8JSx6lGh4BIjGw4mC/ZEwfwDQA2wCLjazphK7kGvUMYnO106iIUj9ads8FO7TZyOw3sxaAczsIDM7JUzvC/w78DGiq+w/MbN/AghXLc8ThUPG7cBRZtYR9j0vsyJcdc8Dnnb3P5rZW8j/YN5LeKK5CPiqmZ0c3qCsN7NTzOwzRTQxjyikngQSZnYG0ZV7IfsRvdR/waJPa5yVs+5nRC/RLzKzfUM9bwnrngBazaw+1L4HuIroUxwHhjcjW83s7cX03cyWmNmfhzdgd4bbcM6x2gq8ormS6M3hI8JxX2tmLRO0mRV+x9cDnzGzuWb2KqJhma8XU/skfRL4oJmtDsdaaGaXAq8n/xPPXsxsEdGnp+4Ji74J/LVFH7GsJ3q18jTREAzAl4EBd38/0RDWhjL0ow/4uJktDm+kXgz0hgup7URvqBb69M+so3CfPp8FfgT0m9mLwM+JxqshuqoZdPd/dfedRG/Qfc7MUmH9ecB1YbjhVHe/K7T3U6Ix7XTmIOHOfUbY/0WiB/N1xRbp7uuAtUQh/xTRUMEq4NtF7PtroiexW4mupNt4+QE+nvOA44iewK4nemM5094e4ESi8dSHQy3/I6y+mWhMdruZPRyWfYToiu7W0N7NTPzkkjGH6PfwVKh9Hi8/aX6D6JXSM2b287E7uvu/Ew2l/SfwAi+/qVuozbE+GH5uBfqJnjDK/hFad+8nemX2LqInrd8BryV6P2hLgV0zn0waInpfaBvhidjd7yR6v+arRE/sxwN/5e4vmdnfE/1+/zm00wX8uZn9zRS7cjnwX0SPoweJrtgz9TxL9Pi4LTxmjhy3lVkk8+aeiIjEiK7cRURiSOEuIhJDCncRkRhSuIuIxNCM/jGlAw880FOpVEn77tixg7lz55a3oBqgfs8u6vfsUky/b7vttqfcfdFk257RcE+lUtx660SflMsvnU6zbNmy8hZUA9Tv2UX9nl2K6beZbS24wTg0LCMiEkMKdxGRGFK4i4jEkMJdRCSGFO4iIjGkcBcRiSGFu4hIDCncRURiSOEuIhJDNRnuR1y4mcOvOZwjLtxc6VJERKpSTYb78zv3jPopIiKj1WS4i4hIYQp3EZEYUriLiMSQwl1EJIZqJtyXL19ecL2ZzVAlIiLVr2bCXUREilcw3M1soZndHm6Pm9kjOfOPmtldYbq0f69UBosXL85etZtZ3lt9fX12urW1lb6+vkqVO2m33HILnZ2dJJNJOjs7a6p2Eamcgv9mz92fBo4EMLMLgCF3/1yY3wIsd/enprnGcT38lfcy/OL4hzcz3J1kMsnChQt53/vex9VXX82ZZ54JwIoVK2aq1JL09fWxadMmrr32Wo477jh+9rOfsXLlSqD6axeRyqrpYZmxwV5fX0/uP+B2dxKJBCMjI/T19fHd736X3t5e5s6dy7p162a42slbt24dn/jEJ1i+fDn19fUsX76cTZs21UTtIlJZU/kH2Q5sNjMHvuruV+TbyMxWAasAmpubSafTJR8w1X1TwfV79uzhoosu4j3veU922cjICCMjIwwPDzM4OMjw8DBbt27FzKZUy0wYHBykra1tVJ2ZflR77VM1NDQU+z7mo37PLtPZ76mE+7Hu/qiZHQT80Mzuc/efjN0ohP4VAEuXLvWp/IfzLetPAsYP+fr6es4999xRyxKJBMlkkmQySXt7O8lkksMOO4y5c+dW/X9bb29v56GHHuKjH/1odtnAwADt7e1VX/tUFfNf4eNI/Z5dprPfJQ/LuPuj4ed24HrgjeUqqljJ/Q4cNb9nzx62bNmSnTczRkZGSCQSrFixglNOOYV3vetd7Nixg7Vr185wtZO3du1aLr30UgYGBtizZw8DAwOsXLmyJmoXkcoqKdzNbK6Z7ZeZBt4B3F3OworR8qGraW1tHXe9uwPRUMYTTzzB+vXrqaur47LLLquJNyRXrFjBypUr6erqorGxka6uLtatW1cTtYtIZZU6LNMMXB8+glgH9Lr7zWWrahK2bdsGvPzJmLg5/vjjueiiiypdhojUmKLD3d0vyJn+HXDEdBQkIiJTV9MfhRQRkfxqJtwHBgYKro/jkIyISKlqJtxFRKR4CncRkRhSuIuIxFBNh3vTnPpKlyAiUpWm8ucHKib6MwQnVboMEZGqVdNX7iIikp/CXUQkhhTuIiIxpHAXEYkhhbuISAwp3EVEYkjhLiISQwp3EZEYUriLiMSQwl1EJIYU7iIiMaRwFxGJIYW7iEgMKdxFRGJI4S4iEkMKdxGRGFK4i4jEkMJdRCSGFO4iIjGkcBcRiaGaCvcjLtzM4dccXukyRESqXk2F+/M791S6BBGRmlBT4S4iIsVRuIuIxJDCXUQkhmom3JcvX56dNrMKViIiUv1qJtxFRKR4dYVWmtlC4JYwezAwDDwZ5t8Y5m8FHnH3k6erSBERmZyCV+7u/rS7H+nuRwIbgS9k5t19N3AmMDidBXZ1ddHY2AjA1ktOyS43s+wtkUjQ1dU1nWWIiNSUkodlzKwFOAm4snzljNbV1cXGjRv5zGc+E5Z43u3cnS996UsKeBGRYCpj7l8EPgmMlKmWvXzta1/jkksu4ayzztprXU9PDz09PXttLyIiE4y5j8fMTga2u/ttZrZsgm1XAasAmpubSafTRR9n165dLFmyJO8+S5Ysybv9ZNqvBUNDQ7HrUzHU79lF/S6/ksIdOBY41cxOBBqB/c3s6+7+7rEbuvsVwBUAS5cu9WXLlhV9kIaGBu699968V+733ntv3u0n034tSKfTsetTMdTv2UX9Lr+Swt3dzwHOAQhX7h/PF+xT9YEPfICzzz4777qPfexjebcXEZHSr9xnxIYNGwD41Kc+FZbk//KSmfHhD384u72IyGxXdLi7+wXjLE8D6fKUs7cNGzawYcMGzIzDzv4u0J057nQdUkSk5ukbqiIiMVQz4T4wMJCd1lW7iEhhNRPuIiJSPIW7iEgMKdxFRGJI4S4iEkNV/Tn3sbasP4nob5WJiEghunIXEYkhhbuISAwp3EVEYkjhLiISQwp3EZEYUriLiMSQwl1EJIYU7iIiMaRwFxGJIYW7iEgMKdxFRGJI4S4iEkMKdxGRGFK4i4jEkMJdRCSGFO4iIjGkcBcRiSGFu4hIDCncRURiSOEuIhJDNfUPsuPgiAs38/zOPZPb6eabRs3u197Ni4Prp1xL05x67jj/HVNuR0Sqj8J9hj2/cw9b1p9U9PbpdJply5aNWnb4Nd2TamM8qe6bJt5IRGqShmVERGJI4S4iEkMKdxGRGFK4i4jEUM2E+/LlyytdglQ5M6t0CSJVo2bCXUREilcw3M1soZndHm6Pm9kjYfo+M/u1md1hZveY2YUzVbBIMfr6+ujs7CSRSNDY2IiZkUgkRv2sr6/HzLLTiUSCzs5O+vr6xm2ztbU1u0/m1traOu4+5ehDMpksWNdMHnOqNc10nypxDquGuxd1Ay4APh6mDZgXpuuBXwLHTNTG0Ucf7aWKSq19h51946S2HxgY2GtZ59WdFallJuXr90Qy95He3l5va2vztWvXeltbmx977LEOeEdHh9fV1XlHR4cDvs8++3hTU5Pvv//+vmDBAl+0aFF2n97e3lFt9/b2+qJFi0ZtP3/+fG9qavKmpiZftGjRXvtMpd+ZPvT39/vu3bu9v78/b13lNNExp1pTof1L+X1PtT/VoJh+A7d6kTmdeysp3Mcs3xf4NfCmidpQuCvcizWVcO/o6PD+/v7sz4aGBl+9erU3NDR4T0+PNzQ0+Pz5872+vt5TqZSnUinv7+/3VCo1at9cHR0d2W0z22f2ydzG7jOVfmfqyJWvrnKa6JhTranQ/tMR7pU4h5M1neFe8jdUzSwJ3Aa8Gviyu/9ynO1WAasAmpubSafTpR4yNt+onMw5GBoayrv9VM5jrqo+pzdPvrZ0Os3g4CDDw8PZn7t27eLEE0/k8ssvZ8mSJezatYtdu3YBsHXrVsyM4eFhtm3bBpDdN/ccDw4OZi5mstsD2X3cHTOb8u8l8/vO1J7bXr66ymmiY061pkL7j3c/n4pKnMPJmo5+Z5Qc7u4+DBxpZgcA15tZp7vfnWe7K4ArAJYuXepjv0o/GeX4yn2lpbpv2uvPCRSS788PcA2TamNcN99Utec0b78nYJdE56W9vZ1kMpn92dDQwPe+9z0aGhq49957aWhoYN9992VoaIhDDz0UgGQyyeLFi5k7d25239zjt7e3s2PHjux8MpkEYPHixdllc+fOnfLvJdPvTO257Q0MDOxVVzlNdMyp1lRo/3nz5pW9X5U4h5NVyv28aMVe4jPOsExYd/5463JvGpbRsEyxNOauMffp7k81qLoxd2ARcECYngP8FDh5ojYU7gr3Yk0l3N2jB3ZHR4ebmTc0NDjgZjbqZ11dnQPZaTPzjo6OcR/8vb293tLSkt0nc2tpaSlbYOT2O9OHRCJRsK5ymuiYU61pvP2nI9wLHa9aVGO4vx74DXAncDdwXjFtKNwV7sWaarjXqukKuWqnfo+v1HAveszd3S/Imb4TOKrYfUVEZGbpG6oiIjFUM+E+MDBQ6RKkynn4qKKI1FC4i4hI8RTuIiIxpHAXEYkh/YPsCpj0V/7HfA1/v/by/NmApjn1U25DRKqTwn2GTfbr/vm/nlydfzJARKqHhmVERGJI4S4iEkMKdxGRGFK4i4jEkMJdRCSGFO4iIjGkcBcRiSGFu4hIDCncRURiSOEuIhJDCncRkRhSuIuIxJDCXUQkhhTuIiIxpHAXEYkhhbuISAwp3EVEYkjhLiISQwp3EZEYUriLiMSQ/kF2FTniws08v3PP3ituvmlS7ezX3s2Lg+vLUlPTnHruOP8dZWlLRGaOwr2KPL9zD1vWnzRqWTqdZtmyZZNq5/Bruvdqp1Sp7sk9sYhIddCwjIhIDCncRURiSOEuIhJDNRnuZlbpEiQmdF+SuKrJcBcRkcIKflrGzBYCt4TZg4Fh4ElgP2BbWDYCXOHul01jnSIiMgkFr9zd/Wl3P9LdjwQ2Al8I08cBH3P3duAY4MNmtmQ6Cuzq6qKxsZHly5fT2NhIV1fXdBxGZqG+vj4gGpoxM1pbW7PLcmXug2ZGfX09CxcuxMxIJBLZZfPmzcu2s3Dhwuw2mXa7urro7OwkmUzS2dlJV1cXra2to/ZpbW3l+OOPp7OzM28d5epzbh3TdZzJ1nHLLbdMvFOe/Uqtf6bOQ0XPt7sXdQMuAD4+zrpvA2+fqI2jjz7aJ2PNmjVeV1fnPT09/v3vf997enq8rq7Oo7Lj57Czb9xr2cDAwKTb6by6swzVRPLVNBNK6fdk9Pb2+qJFixzwzZs3++bNm/3ggw/2RYsWeW9vb3a73PvgVVdd5fPnz3czczPz1atX+8KFC72hocEBP/XUU727u9sTiYSbmXd3d/vmzZu9qanJE4mEr1271nfv3u1r1671RCLhTU1NvnnzZu/u7vZkMulNTU1+zjnneH9/v7e1tY2qo1x9bmtr8/7+ft+9e/e0HaeUOg455JAJ6yhX/TN1Hoo5TjH3c+BWLzKnc29TDncgRTREs/9EbUw23BsaGrynp2fUSejp6VG4T0DhPrGOjg5PpVKj7kv9/f2eSqW8o6Mjuyz3PtjR0eH9/f2eTCY9mUy6u3sqlfL6+npfvXq1NzQ0eEdHhzc3N/vBBx+cbSeVSnlzc3N2PrNNKpXKzvf09Hgqlcou6+/vH1VHufrc398/atl0HKeUOj7/+c9PWEe56p+p81DMcaYz3Kf0DVUzmwd8C/iIu78wzjargFUAzc3NpNPpotvftWsXS5YsIZ1OMzQ0RDqdZsmSaPQnrt+cHHt+Mv2eajtTUbFzPck/uzAZW+8dzE5nztXw8DBbt27FzLLLcu+Dg4ODDA8PMzw8nN1v27ZtjIyMcOKJJ3L55ZczODiIu2NmbN++nXQ6zdatWwF48skns+2MjIyQSCSy80uWLGHbtm3ZdoeHhxkcHCzr7zFTf26b03GcUupoa2ubsI5y1T9T56GY45T6+C5Ksc8CjLlyB+qBHwBnFduGrtwL05X7y3Tlriv3YvbTlXuZh2UAA/4N+OJkDqYx98IU7i/TmLvG3IvZT2Pu5Q/34wAH7gRuD7cTJ2pjsuHuHj24Mg+ehoYGX7NmjcJ9Agr34vT29nq4HzvgLS0teR/guffBuro6X7BggQNuZtllc+fOzbazYMGC7DaZdtesWeMdHR2eSCS8o6PD16xZ4y0tLaP2aWlpya6frsDt7e0dVcdMB/t4dXz6058uab9S65+p8zDRcaoi3MtxKyXc850EhXthCvfiVdt9aab6XW3U7/GVGu76hqqISAzVZLhHT2YiU6f7ksRVTYa7iIgUpnAXEYkhhbuISAzpf6hWmbzfBp30P8gu37dKm+bUl6UdEZlZCvcqku+fWpfyD7KhPP8cW0Rql4ZlRERiSOEuIhJDCncRkRhSuIuIxJDCXUQkhhTuIiIxpHAXEYkhhbuISAwp3EVEYkjhLiISQwp3EZEYUriLiMSQwl1EJIYU7iIiMaRwFxGJIYW7iEgMKdxFRGJI4S4iEkMKdxGRGFK4i4jEUM2F+xEXbubwaw6vdBkiIlWt5sL9+Z17Kl2CiEjVq7lwFxGRiSncRURiSOEuIhJDCncRkRiqqXA3s4LzIiISqalwFxGR4hQMdzNbaGa3h9vjZvZIzvxVZrbdzO6eqWLH1Jb9mXtLJBIkEgk6Ozvp6+urRGkiIhVXMNzd/Wl3P9LdjwQ2Al/Imb8aOGEGahzl4a+8t+B6d6ehoYHTTjuNtWvXKuBFZFYqeVjG3X8CPFPGWooy/OJTACQSUenz58+no6Mjuz6RSPDHP/6RG264gU2bNrFu3bqZLlFEpOLqpvsAZrYKWAXQ3NxMOp0uqZ2hoaFR8yMjIwA899xzfOUrX2HFihWjlg8ODjI8PMzg4GDJx6wGQ0NDNV1/qdTv2UX9Lr9pD3d3vwK4AmDp0qW+bNmyktoZewISiQQjIyMccMABXHzxxXstb29vJ5lM0t7eTqnHrAbpdLqm6y+V+j27qN/lN+3hXm7J/Q4EXr5Cf/bZZ3n22Wez60dGRmhsbOS0005j5cqVGpYRkVmp5j4K2fKhqwuuNzN27drFDTfcwLp167LDNSIis0nJV+5m1gcsAw40s4eB8919U7kKm4i7Y2a4+0wdUkSkZhQd7u5+wZh5XRKLiFSpmhqWGXuVrqt2EZH8aircRUSkOAp3EZEYUriLiMSQwl1EJIYU7iIiMVRz31Ddsv4k4KRKlyEiUtV05S4iEkMKdxGRGFK4i4jEkMJdRCSGFO4iIjGkcBcRiSGFu4hIDCncRURiSOEuIhJDNpN/E93MngS2lrj7gcBTZSynVqjfs4v6PbsU0+/D3H3RZBue0XCfCjO71d2XVrqOmaZ+zy7q9+wynf3WsIyISAwp3EVEYqiWwv2KShdQIer37KJ+zy7T1u+aGXMXEZHi1dKVu4iIFEnhLiISQ1Uf7mZ2gpndb2YPmFl3pesphZldZWbbzezunGULzOyHZvbf4ef8nHXnhP7eb2Z/kbP8aDO7K6z7FzOzsLzBzL4Zlv/SzFIz2b/xmFmrmQ2Y2aCZ3WNmZ4blse67mTWa2a/M7I7Q7wvD8lj3G8DMkmb2GzO7MczHvs8AZrYl1Hy7md0allW27+5etTcgCTwIvBLYB7gDWFLpukrox58BbwDuzln2WaA7THcDl4TpJaGfDUBb6H8yrPsV8GbAgO8DfxmWfwjYGKbfCXyz0n0OtRwCvCFM7wf8NvQv1n0PNc4L0/XAL4Fj4t7vUMtZQC9w42y5n4d6tgAHjllW0b5X/KRMcMLeDPwgZ/4c4JxK11ViX1KMDvf7gUPC9CHA/fn6CPwgnIdDgPtylq8Avpq7TZiuI/rGm1W6z3nOwbeBt8+mvgP7Ar8G3hT3fgMtwC3AW3k53GPd55w6t7B3uFe079U+LHMo8Puc+YfDsjhodvfHAMLPg8Ly8fp8aJgeu3zUPu7+EvA8sHDaKi9BeBl5FNFVbOz7HoYnbge2Az9099nQ7y8CnwRGcpbFvc8ZDmw2s9vMbFVYVtG+15XclZlheZbF/bOb4/W50Lmo6vNkZvOAbwEfcfcXwjBi3k3zLKvJvrv7MHCkmR0AXG9mnQU2r/l+m9nJwHZ3v83MlhWzS55lNdXnMY5190fN7CDgh2Z2X4FtZ6Tv1X7l/jDQmjPfAjxaoVrK7QkzOwQg/Nwelo/X54fD9Njlo/YxszqgCXhm2iqfBDOrJwr2a939v8LiWdF3AHd/DkgDJxDvfh8LnGpmW4BvAG81s68T7z5nufuj4ed24HrgjVS479Ue7v8PeI2ZtZnZPkRvJHynwjWVy3eA08P06UTj0Znl7wzvjrcBrwF+FV7WvWhmx4R30P/nmH0ybf0t0O9hcK6SQp2bgEF3/3zOqlj33cwWhSt2zGwO8DbgPmLcb3c/x91b3D1F9Djtd/d3E+M+Z5jZXDPbLzMNvAO4m0r3vdJvRBTxRsWJRJ+yeBBYW+l6SuxDH/AYsIfoGXgl0Xiz84yVAAAAkUlEQVTZLcB/h58LcrZfG/p7P+Hd8rB8abjTPAh8iZe/YdwIXAc8QPRu+ysr3edQ13FELx3vBG4PtxPj3nfg9cBvQr/vBs4Ly2Pd75yal/HyG6qx7zPRp/nuCLd7MjlV6b7rzw+IiMRQtQ/LiIhICRTuIiIxpHAXEYkhhbuISAwp3EVEYkjhLiISQwp3EZEY+v8lp0F0ids+OAAAAABJRU5ErkJggg==\n",
      "text/plain": [
       "<Figure size 432x288 with 1 Axes>"
      ]
     },
     "metadata": {
      "needs_background": "light"
     },
     "output_type": "display_data"
    }
   ],
   "source": [
    "compdata.boxplot(column=['T1','T2','T3','T4','T5'],vert=False)\n",
    "plt.title('Textual Characteristics of IPO Box Plot')\n",
    "plt.show()"
   ]
  },
  {
   "cell_type": "code",
   "execution_count": 25,
   "metadata": {},
   "outputs": [
    {
     "data": {
      "image/png": "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\n",
      "text/plain": [
       "<Figure size 432x288 with 1 Axes>"
      ]
     },
     "metadata": {
      "needs_background": "light"
     },
     "output_type": "display_data"
    }
   ],
   "source": [
    "compdata.boxplot(column=['T1','T4'],vert=False)\n",
    "plt.title('Number of Sentences & Number of Long Sentences Box Plot')\n",
    "plt.show()"
   ]
  },
  {
   "cell_type": "code",
   "execution_count": 26,
   "metadata": {},
   "outputs": [
    {
     "data": {
      "image/png": "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\n",
      "text/plain": [
       "<Figure size 432x288 with 1 Axes>"
      ]
     },
     "metadata": {
      "needs_background": "light"
     },
     "output_type": "display_data"
    }
   ],
   "source": [
    "compdata.boxplot(column=['T2','T3'],vert=False)\n",
    "plt.title('Number of Words & Number of Real Words Box Plot')\n",
    "plt.show()"
   ]
  },
  {
   "cell_type": "code",
   "execution_count": 27,
   "metadata": {},
   "outputs": [
    {
     "data": {
      "image/png": "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\n",
      "text/plain": [
       "<Figure size 432x288 with 1 Axes>"
      ]
     },
     "metadata": {
      "needs_background": "light"
     },
     "output_type": "display_data"
    }
   ],
   "source": [
    "compdata.boxplot(column='T5',vert=False)\n",
    "plt.title('Number of Long Words Box Plot')\n",
    "plt.show()"
   ]
  },
  {
   "cell_type": "code",
   "execution_count": 28,
   "metadata": {},
   "outputs": [
    {
     "data": {
      "image/png": "iVBORw0KGgoAAAANSUhEUgAAAXQAAAEICAYAAABPgw/pAAAABHNCSVQICAgIfAhkiAAAAAlwSFlzAAALEgAACxIB0t1+/AAAADl0RVh0U29mdHdhcmUAbWF0cGxvdGxpYiB2ZXJzaW9uIDIuMi40LCBodHRwOi8vbWF0cGxvdGxpYi5vcmcv7US4rQAAHlRJREFUeJzt3X+cXHV97/HXZ3Ynm5Bf5MeyCeySWUUpOws+JHgtqJdQaIKgkPrQVn70Cq0XS5totffC6lKFR1GpNYjXn7dahaizSi1tER8KVyd7W8EfFxQQ2IKobAJCEtRQEmN+7H7uH+fMcGYzOzO7O7M/vvN+Ph7nsXN+fc/n+5057zlzdicxd0dEROa+1EwXICIi9aFAFxEJhAJdRCQQCnQRkUAo0EVEAqFAFxEJhAJ9ljCzT5vZX890HZNhZtea2Rdnuo56MLPXmNmjk9z3G2b2lnrXVOF415vZs2b2zHQdc7Yxs0Eze+tM1zFbKNArMLNXm9k9Zvacmf3KzO42s1fUod3LzOw7yWXu/mfu/jdTbXsStdQUxmZ2sZnda2Z7zezpOLxePR011qrcuE6Uu/+7u59Yw7GOGDd3f6273zKV49fKzLqAvwJ63H1VmfXrzOzJxPygmf02fv6eNbPbzGx1Yv0ZZpY3s+fj1/vXzKynwvEvM7ORuL29ZvYzM7uy3v2Mj/WEme2Pj7PTzD5vZosm2EbGzNzMWhtR42yhQB+HmS0B7gA+BiwHjgOuAw7MZF0zwczeBdwEfADoAI4HPglc2IBjzdgJN8dO9jXAL9191wT22eTui4CXAkcDHwEws9OBu4B/BY4FuoEHgLvN7EUV2vuuuy+K23wj8CEze/nEu1KT18fHORV4BXBNg44zt7m7pjITcBqwp8o2fwIMAb8G7gTWJNY58GfAT+L1nwAMOAn4LTAC7C0cA7gZuD5+vA54ErgK2AU8DWwEzgMeA34FvCdxrBTQB/wU+CVwK7A8XpeJa3kLsB14FuiP150LHAQOxbU8UKaPS+N1b6owDtfGx9wKPA88DJyWWF+o7XngEeAPEusuA+4mCpdfAdcDLwbycV+eBb4EHJ3Ypwu4Ddgdb/PxCuPaBnw47vtO4NPAgjHjfDXwDPCFwrLEsa4GnoprfxQ4e7xxAwaBtyb2/e9Er49Cv08dr81xxnVpPKa7gWGiEEsB5wD7gdH4+DeX2XdsP8bW9hfAQ/Hjfwc+WaaNbwBbx6ntMuA7Y5b9ALg4MX9B/FrYEx//pHj5i+PnujAex8bP87pxjvUEcE5i/u+AO8b2Kx6ba+Kx2hWP3dJ43Xai82BvPJ0+0xnTiGnGC5itE7AkDotbgNcCy8as3wg8ThQkrfEL6Z7Eeie6wj+a6Ip2N3BuvK7cyXAzpYF+GHgvkI6DYTeQAxYDWaLwelG8/V8C3wM6iQLsfwMD8bpMXMtngAXAy4g+ZRROrmuBL1YYh3PjWlorbHNtXM95QAvwQeB7ifVvik/aFPBHwD5gdWIsDgOb43FcAJwA/H7cl3bg34Cb4u1biK4ePwIsBOYDr64wrjcBtxN9yloMfA344Jhx/tv4WAtIBCFwIrADODYxli8eb9woDZc3EYX2K4jeyE8guqoet80y47qV6Kp5cbzdY8CfJmp/ssJzUrJ+TG0rid4wvwAcRfQmeFaZNi4Hnh6n/ZKxjvu5B3hpPP/S+Hn+faLX8FVE58u8eH3hze4ooouhD1foyxPEgU70Zv4w8Ddl+vUn8TFeBCwietP/wpjzYNzXcQjTjBcwmyeisL6Z6CrucBwMHfG6bxROrng+BfyG+Co9fvG8OrH+VqAvflxyMsTLbqY00PcDLfH84ri9Vya2vw/YGD8eInGVB6wmunpsTbyQOxPrfwC8OX58LZUD/RLgmSrjdC3wrcR8D7C/wvb3AxcmxmJ7lfY3Aj+KH59O9OZ2xIk5dlyJgnQficCM9/95YpwPAvMT69fxQqCfQHSldw6QLtPnSoF+J/COMjWO2+aY7VqI3nh7EsveBgyOrXOc/UvWx7X9hih0nyL61NNOdBHgwO+UaeNc4NA47V9GdE7sIbridaLbkxav/2vg1jHnx1MkrsKJzqcfAw8CbRX68kR8jD1EV9+f5IVPWckx/zbw54n9TuTI8yDoQNc99ArcfcjdL3P3TqCX6Crzpnj1GuCjZrbHzPYQfYQ0onvtBcm/PvgN0VVDrX7p7iPx4/3xz52J9fsT7a0B/jlRyxDRVVdHHWr5JbCyhvvLY9ufX9jHzP6bmd2fqK+X6CqxYEeyITM7xsy+bGZPmdl/Al9MbN8FDLv74Rpqbye6ArwvcexvxssLdrv7b8vt7O6PE336uRbYFdd0bA3HLdT50ym0uRKYRxRgBcOUvr4m6u3ufrS7H+ful7j7bqLbgaNEFwFjrSa6FTKe78XtLQJWEX1y/EC87thk7e4+SvQ8J+v/DNFr4WPuXu13UxvjY61x9z939/1ltik5Zvy4ldLzIGgK9Bq5+38QXUX3xot2AG+LX2SFaYG731NLc3Uubwfw2jG1zHf3p+pQy3eJbqdsnExhZraG6MTdBKxw96OBh4je/Mar4YPxslPcfQlwaWL7HcDx47zBjG3nWaI3vmxiXJbGATTePqUNuufc/dVEb5pOdHum6n5xnS+eYJtjaz8Ub1NwPNFVbt24+z6i5/hNZVb/IdFVby3t7AT+CXh9vOgXJGo3MyN6k3sqnl9EdHH0D8C1ZrZ8kl1IKjkm0XgdJroQqvc5Nysp0MdhZr9jZn9lZp3xfBdwEdG9aoh+ufZuM8vG65eaWbmTopydQKeZzatTuZ8G3h+HJ2bWbma1/gXKTiBjZmVfC+7+HNG9/E+Y2UYzO8rM0mb2WjP7UA3tLyQ6mXbHtV3OC2+K41lM/BHbzI4D/mdi3Q+Ifkl8g5ktNLP5ZvaqRF+K4xpfFX4G+IiZHRMf/zgz21BD3ZjZiWb2e2bWRvSmtp/ok0/hWOOOG/BZ4H+Y2VqLnGBma6q0WRR/OruV6HldHD+37yL6tFJvfcBbzOzt8bGWmdn1RLenrqulATNbAfwB0f1t4trPN7OzzSxN9CeWB4DCBc9Hgfvc/a3A14lew1M1ALzTzLrjN4wPAF+JP83tJvokUumvduY8Bfr4ngdeCXzfzPYRBflDRC9M3P2fia6svhzfFniI6JentcgTvfCfMbNKH2lr9VGi+5F3mdnzca2vrHHff4x//tLMflhuA3e/kShMriE6MXYQXXH/S7XG3f0RYAvRVeBO4GSiv2qp5DqiP097juhkvy3R3gjRVeAJRH+58CTRL1qh/LheTfSLsu/Fz9O3iO6t1qINuIHoavkZ4BjgPfG6iuPm7v8IvJ/oF9nPE43V8iptjrWZ6HcAPwO+E7f1uRprr5m7fwfYALyB6M1yGHg50e+AflJh19MLf4dOdJtvd1wz7v4o0SerjxH19fVEf3p4ML7YOJfor8Agem2damaXTLErnyP6Re+/AT8nesMs1PMboufj7vj22+9O8VizUuEXGCIiMsfpCl1EJBAKdBGRQCjQRUQCoUAXEQnEtP5jRCtXrvRMJjOpffft28fChQvrW9Ac0+xj0Oz9B41Bs/b/vvvue9bd26ttN62BnslkuPfeeye17+DgIOvWratvQXNMs49Bs/cfNAbN2n8zG66+lW65iIgEQ4EuIhIIBbqISCAU6CIigVCgi4gEQoEuIhIIBbqISCAU6CIigVCgi4gEQoEuIhIIBbqISCAU6CIigVCgi4gEQoEuIhIIBbqISCAU6CIigVCgi4gEQoEuIhIIBbqISCAU6CIigVCgi4gEQoEuIhIIBbqISCAU6CIigWid6QLmkpdddxfP7T9U07aLT+rj+aEbam576YI0D7xv/WRLExFRoE/Ec/sP8cQN59e07cm39NW8LUCm7+uTLUtEBNAtFxGRYCjQRUQCoUAXEQlEUIFuZjNdwpylsROZ+4IKdBGRZlbTX7mYWT9wMTACjAJvA64ATgMMeAy4zN33NqhOERGpouoVupmdDrwOONXdTwHOAXYA73T3l8XLtgObGlqpTIvjjz8eMztiam1tZcOGDXR1dZVdX5h6e3sZGBhgYGCA3t5eWlpaKi5LSq7v6uqiq6tr3G2bxdgx+/a3vz0r6gj5+ZjTfXX3ihPwBuBrFdYb8Cng6mptrV271idr27ZtVbeJutM4a66+o+Zte2/urXvbtYzBZAHe1dXlQMVp3rx5vmTJEp83b54Dnk6nHfD58+d7KpXyjRs3ent7u7e3t3s+n/eDBw96Pp8vu6y7u9tzuZy7u+dyOe/u7vZ8Pu9bt271VatW+erVq33r1q3Fba+55pqG9X82So5JYcxWr15dHLOZrCP53E2nRp4D7rOrr0nAvV4lX929pkBfBNxPdFvlk8CZiXWfB3YC24CjqrWlQJ9a240O9MJkZt7a2upbtmzxM84444hQz2Qynk6n/corr/R0Ou2rVq3yTCbjHR0d3tbW5plMxjOZTEn75Zbl83nPZrPu7p7NZj2fz5c8Tq7P5/NH7B+65JgU3HjjjcUxmck6ks/NdGp0oM+mvibVGuhV76G7+14zWwu8BjgL+IqZ9bn7ze5+uZm1AB8D/igO+BJmdgXR/XY6OjoYHBys5YPDEfbu3VvTvo3+xuVE6p9oX2uq/ZuN/0apu3P48GF6eno4/vjjueeee0rWDw8P4+6cd955fOpTn2LXrl0AjI6OArB9+3bcvaT/w8PDmFnJspGREYaGhhgcHGRoaIiRkZGSx0Bx/cjICNu3b5/062cuSo5JQXd3d3FMZrKO5HM3nWrNgcmaTX2dlFpSPzkBb2TMLRjgTOCOavvqCn1qbesKXVfoukLf1tD2Z1Nfk6jjLZcTgZck5q8HPgGc4C/cQ/8w8OFqbSnQp9a27qHrHrruoW9raPuzqa9J9Qz0tcA9wCPAg8BtwDHA3cCPgYeALwFLqrWlQJ9a240OdHcfN9RbWlp8/fr13tnZWTHws9ms53I5z+Vyns1mPZVKVVyWlFzf2dnpnZ2dJds2+mSejcaO2Uy9qVV77qbLdLwGZktfk+oW6PWcFOhTa3s6An02a8ZAH6vZx6BZ+19roOuboiIigQgq0KM3MpkMjZ3I3BdUoIuINDMFuohIIBToIiKB0P8pOkG1fhN18UkT+9bq0gXpyZYkIgIo0CdkIv/pM0xkWxGRqdMtFxGRQCjQRUQCoUAXEQmEAl1EJBAKdBGRQCjQRUQCoUAXEQmEAl1EJBAKdBGRQCjQRUQCoUAXEQmEAl1EJBAKdBGRQCjQRUQCoUAXEQmEAl1EJBAKdBGRQCjQRUQCoUAXEQmEAl1EJBAKdBGRQCjQRUQCoUAXEQmEAl1EJBAKdBGRQCjQRUQCoUAXEQmEAl1EJBAKdBGRQCjQRUQCoUAXEQmEAl1EJBAKdBGRQCjQRUQCoUAXEQmEAl1EJBAKdBGRQCjQRUQCoUAXEQmEAl1EJBAKdBGRQCjQRUQCoUAXEQmEAl1EJBAKdBGRQCjQRUQCoUAXEQmEAl1EJBAKdBGRQLTOdAGzxcuuu4vn9h+quM3ik/p4fuiGCbW7dEGaB963fiqliYjURIEee27/IZ644fyK25x8S1/VbcbK9H19KmWJiNRMt1xERAKhQBcRCYQCXUQkEAp0EZFABBHoZjbTJcxaGhuR5hFEoIuISI2Bbmb9ZvawmT1oZveb2SvN7Etm9qiZPWRmnzOzdKOLlcnZvHkz6XQaMytOK1asYNGiRSXLxptSqVTxcTqdZsOGDfT29pJKpZg/fz6pVKqk/RUrVrBixYrifFdXFwMDA2VrGxgYKLY1to2uri5aWlro7e1l8+bNXH755cX5au0l90vODwwMHLHNeG1NRS11VNq+ETVNtOZG1TAb+jpdpr2v7l5xAk4Hvgu0xfMrgWOB8wCLpwHgymptrV271idr27Zt466LujE1a66+o+o2vTf3NqTdWlUag/EAnkqlfOHChX7MMcf4FVdc4WbmgAM+b948T6fTxfnk1NLSUrLdVVdd5QsXLnTATzvtNO/u7vZLLrnEzcwXLlzoq1at8gsuuMDNzM3M+/r6/K677vLVq1d7e3u753K5ktpyuZx3d3d7f3+/r1y50pcvX15so6WlxZcuXepbt271/v5+b21t9UsvvdQPHjzo+Xzeu7u7x20vn8/7wYMHi/v19/cX92tvb/f29vbiNuO1NRW11JE85tjtK9U0mdfAZGpuxLjU4ziN6n8j1HNMgXu9Sr66e02B/gbga1W2eSfw/mptKdCnZrKB3tHR4ZlMxvP5vLu7r1q1qhj06XTa0+m0L1u2zFOpVHH5smXLimG+ePFiT6fTns1mPZPJ+LJly9zMPJ/PezabLWm/ra3NOzo6vKOjw7PZrLu75/N5z2QyxfmCbDZbbKOwf6GNLVu2FPfJZrPF+YLCfuXaS85v2bKlZLtMJlPSznhtTUUtdSSPOXb7SjU1KtAmUsNMHmcuBXo9x7TWQK/lm6J3Ae81s8eAbwFfcff/W1gZ32r5Y+Ad5XY2syuAKwA6OjoYHBys4ZBH2rt3b8V96/GNzFpqm0z9df226Dcn3tauXbsAGBkZYXBwsDg/OjrK6OgoAL/+9a+L24+OjpbM79u3j9HRUYaGhoAXLgJGRkYYGhrC3TEzRkZGOHDgALt27cLd2b17N4ODg4yMjLB9+3agdPyGhoaKbRTqAzhw4AA9PT0MDw8Xf6nb09PD9u3bi/sX9ivXXmHZ0NAQPT09JdsV2kzuV66tqailjuQxx25fqaZq50G9aq5Uw0wep1H9b4TpGtMStaQ+0AKsA64DngEuS6z7DHBTLe3oCn1qdIWuK3RdoW+raz2NNBNX6DUFeskO8EbiWzDA+4B/AVK17KtAnxrdQ9c9dN1D31bXehpptt5DPxF4SWL+euDjwFuBe4AFtRzIFehTNtlA37Rpk7e2tpaE9fLly4vhXG1KvgG0trb6+vXrPZvNupl5W1ubm1lJ+8uXL/fly5cX5zs7O8d9EedyuWJbY9vo7Oz0VCrl2WzWN23a5JlMpjhfrb3kfsn5XC53xDb1Dq1a66i0/Xg1NTLQpmNcpnqcuRTo7vUb03oG+to4uB8BHgRuI/pLl8PAT4H74+m91dpSoE/NZAM9FHPtZG6EZh+DZu1/rYFe9Zei7n4fcEaZVfqnd0VEZhF9U1REJBBBBHr0iUTK0diINI8gAl1ERBToIiLBUKCLiARCf6mSUO0r+otPmvjX+Jcu0D9CKSLTQ4Eee+KG82vYqpZtRERmhm65iIgEQoEuIhIIBbqISCAU6CIigVCgi4gEQoEuIhIIBbqISCAU6CIigVCgi4gEQoEuIhIIBbqISCAU6CIigVCgi4gEQoEuIhIIBbqISCAU6CIigVCgi4gEQoEuIhIIBbqISCAU6CIigVCgi4gEQoEuIhIIBbqISCAU6CIigVCgi4gEQoEuIhIIBbqISCAU6CIigVCgi4gEQoEuIhIIBbqISCAU6CIigVCgi4gEQoEuIhIIBbqISCAU6CIigVCgi4gEQoEuIhIIBbqISCAU6CIigVCgi4gEQoEuIhIIBbqISCAU6CIigVCgi4gEQoEuIhIIBbqISCAU6CIigVCgi4gEonWmC5gOL7vuLp7bf6hk2eKT+nh+6IZx91m6IM0D71vf6NJEROqmKQL9uf2HeOKG80uWnXxL3xHLkjJ9X290WSIidaVbLiIigVCgi4gEQoEuIhKIORPoZ5111kyXMGFmNtMliEgTmTOBLiIildUU6GbWb2YPm9mDZna/mb3SzDaZ2eNm5ma2stGFiohIZVUD3cxOB14HnOrupwDnADuAu+PHww2tcI7r6urCzIpTa2tr8XFXVxcDAwPFbQcGBlixYkXJ9snprLPOoquri82bN9Pb20sqlWL+/PmkUil6e3tL2koaGBigt7eXlpaW4nbllgFs2LCBVCqFmZFKpTjllFNKtisce+x+IjILuHvFCXgD8LUK658AVlZrx91Zu3atT1ZU6uSsufqOI5b13tw74X0mIpfLOeBLly71jo4Ov/jiiz3+NONLlizxvr4+X716tbe3t3sul/NcLueLFy8ubnPmmWc6UJzOOOMMX7ZsmS9YsMBTqZRv3LjRM5mMb9myxbu7u72/v9+7u7s9l8sdUUd3d7fn83k/ePCg5/N5b29v9/b29pJl3d3dfvLJJzvgV155pe/Zs8fPPvtsB/y0007zgwcPen9/v7e2tnp/f3/JfmOP2Sjbtm2bluPMZs0+Bs3af+BeryFjawn0RcD9wGPAJ4EzXYFeVTabdcAzmYzn83nPZrPe0dHhq1at8kwm49ls1vP5fPFxNpv1dDrtLS0tvmXLFs9ms75q1SpPpVKeSqW8ra3Nb7zxRk+n097R0eFtbW2ez+fd3YvtF36OraOwXUEmk/FMJlOyLJ/PF8M8ue8FF1zgZlacL9SW3G/sMRulWU/mpGYfg2btf62BXvWbou6+18zWAq8BzgK+YmZ97n5zLZ8AzOwK4AqAjo4OBgcHa9mtrKl8e7PccavVMpXjDT8yFP0cHmZkZIShoSFGR0dJpV64yzUyMsL27duL86OjowD09PQwNDRUsuzAgQN0d3dz6NAhdu7cWdx/cHCw2H7hZ7JfheXJZcPDw5hZybKRkREAzjvvvOLyoaEhrr/+em6//XYGBwcZGhoq1lbYptwxG2Xv3r3TcpzZrNnHoNn7X1Utqe+lV+RvJHELBl2hl6Ur9Ppr1quzpGYfg2btP3W85XIi8JLE/PXAx12BXpHuoddfs57MSc0+Bs3a/3oG+lrgHuAR4EHgNmAl8HbgSeAw8Avgs9XaaqZAd49q7uzsLAnmlpaW4uPOzs6SMMzlcr58+fKS7cdOnZ2dvmnTJs9ms25m3tbW5mbm2Wx23GDN5XKezWY9lUoVtyu3zN19/fr1bmYOuJn5ySefXLJd4dhj95sOzXoyJzX7GDRr/2sN9Fruod8HnFFm1f+KJ6lgx44dNW970UUXcdFFF427fnBwkHXr1k24hvHaLbfszjvvnHD7IjI76JuiIiKBmDOBvm3btpkuYcKiT0oiItNjzgS6iIhUpkAXEQmEAl1EJBBN8X+KwpHf+lx8UuVvgi5dkG50SSIiddUUgV7+P4Me/z+IFhGZi3TLRUQkEAp0EZFAKNBFRAKhQBcRCYQCXUQkEAp0EZFAKNBFRAKhQBcRCYQCXUQkEAp0EZFAKNBFRAKhQBcRCYQCXUQkEAp0EZFAKNBFRAKhQBcRCYQCXUQkEAp0EZFAKNBFRAKhQBcRCYQCXUQkEAp0EZFAKNBFRAKhQBcRCYS5+/QdzGw3MDzJ3VcCz9axnLmo2ceg2fsPGoNm7f8ad2+vttG0BvpUmNm97n7aTNcxk5p9DJq9/6AxaPb+V6NbLiIigVCgi4gEYi4F+t/PdAGzQLOPQbP3HzQGzd7/iubMPXQREalsLl2hi4hIBQp0EZFAzIlAN7NzzexRM3vczPpmup5GMLMuM9tmZkNm9rCZvSNevtzM/o+Z/ST+uSyxz7vjMXnUzDbMXPX1Y2YtZvYjM7sjnm+2/h9tZl81s/+IXwunN9MYmNk749f/Q2Y2YGbzm6n/U+bus3oCWoCfAi8C5gEPAD0zXVcD+rkaODV+vBh4DOgBPgT0xcv7gL+NH/fEY9EGdMdj1DLT/ajDOLwLyAF3xPPN1v9bgLfGj+cBRzfLGADHAT8HFsTztwKXNUv/6zHNhSv0/wI87u4/c/eDwJeBC2e4prpz96fd/Yfx4+eBIaIX+IVEJznxz43x4wuBL7v7AXf/OfA40VjNWWbWCZwPfDaxuJn6vwT4r8A/ALj7QXffQxONAdAKLDCzVuAo4Bc0V/+nZC4E+nHAjsT8k/GyYJlZBng58H2gw92fhij0gWPizUIcl5uAq4DRxLJm6v+LgN3A5+PbTp81s4U0yRi4+1PAh4HtwNPAc+5+F03S/3qYC4FuZZYF+7eWZrYI+CfgL939PyttWmbZnB0XM3sdsMvd76t1lzLL5mz/Y63AqcCn3P3lwD6iWwzjCWoM4nvjFxLdPjkWWGhml1bapcyyOdv/epgLgf4k0JWY7yT6GBYcM0sThfmX3P22ePFOM1sdr18N7IqXhzYurwIuMLMniG6r/Z6ZfZHm6T9EfXrS3b8fz3+VKOCbZQzOAX7u7rvd/RBwG3AGzdP/KZsLgf7/gJeYWbeZzQPeDNw+wzXVnZkZ0b3TIXe/MbHqduAt8eO3AP+aWP5mM2szs27gJcAPpqveenP3d7t7p7tniJ7jvLtfSpP0H8DdnwF2mNmJ8aKzgUdonjHYDvyumR0Vnw9nE/0uqVn6P2WtM11ANe5+2Mw2AXcS/cXL59z94RkuqxFeBfwx8GMzuz9e9h7gBuBWM/tTohf8mwDc/WEzu5XohD8M/IW7j0x/2Q3XbP3fDHwpvnj5GXA50YVX8GPg7t83s68CPyTqz4+Ivuq/iCbofz3oq/8iIoGYC7dcRESkBgp0EZFAKNBFRAKhQBcRCYQCXUQkEAp0EZFAKNBFRALx/wHfbNPUhSwrWAAAAABJRU5ErkJggg==\n",
>>>>>>> c29acd06a0cadd2dba62c0c3d17d46893bc97f3a
      "text/plain": [
       "   P(IPO)  P(H)  P(L)    P(1Day)     C1    C3        C4          C5  \\\n",
       "0    10.0   9.5   8.5  11.870000  122.0  3.43  0.029074  40962052.0   \n",
       "1     8.0  10.0   8.0   7.250000  259.0 -1.62 -0.013352  28869196.0   \n",
       "2     7.0  14.0  12.0   6.700000   90.0 -1.24  0.020715  16845668.0   \n",
       "3    11.5  16.0  14.0  12.390000  209.0 -0.91  0.020023  14848637.0   \n",
       "4    21.0  21.0  19.0  56.599998   80.0  0.07 -0.034895  30741716.0   \n",
       "\n",
       "           C6       C7  ...       T5_       S1_       S2_       S3_  P(mid)  \\\n",
       "0  10600000.0   51.345  ...  0.054250  0.004875  0.009199  0.010929     9.0   \n",
       "1   2400000.0   25.936  ...  0.051395  0.003258  0.011105  0.010876     9.0   \n",
       "2   5000000.0    7.378  ...  0.061764  0.011593  0.006271  0.011403    13.0   \n",
       "3   4500000.0    8.526  ...  0.061630  0.009686  0.007144  0.013319    15.0   \n",
       "4   8250000.0  632.298  ...  0.048550  0.004518  0.010047  0.011261    20.0   \n",
       "\n",
       "   C3_        C5_        C6_  Y1  Y2  \n",
       "0    1   3.864345  11.111111   0   1  \n",
       "1    0  12.028832   0.000000   1   0  \n",
       "2    0   3.369134   0.000000   1   0  \n",
       "3    0   3.299697   0.000000   1   1  \n",
       "4    1   3.726269   5.000000   0   1  \n",
       "\n",
       "[5 rows x 30 columns]"
      ]
     },
     "execution_count": 144,
     "metadata": {},
     "output_type": "execute_result"
    }
   ],
   "source": [
    "# Create DF with only continuous features\n",
    "\n",
    "compdata_cont = compdata.drop(['I1','I2','I3','C2','Imputed_C2'], axis=1)\n",
    "compdata_cont.head()"
   ]
  },
  {
   "cell_type": "code",
<<<<<<< HEAD
   "execution_count": 145,
=======
   "execution_count": 29,
>>>>>>> c29acd06a0cadd2dba62c0c3d17d46893bc97f3a
   "metadata": {},
   "outputs": [],
   "source": [
    "# Drop missing P Values from Continues DF\n",
    "\n",
    "compdata_cont = compdata_cont.dropna(how='all', subset=['P(1Day)'])"
   ]
  },
  {
   "cell_type": "code",
<<<<<<< HEAD
   "execution_count": 146,
=======
   "execution_count": 30,
>>>>>>> c29acd06a0cadd2dba62c0c3d17d46893bc97f3a
   "metadata": {},
   "outputs": [
    {
     "data": {
      "text/plain": [
       "P(IPO)      0\n",
       "P(H)        0\n",
       "P(L)        0\n",
       "P(1Day)     0\n",
       "C1          0\n",
       "C3         24\n",
       "C4          0\n",
       "C5          0\n",
       "C6          0\n",
       "C7         60\n",
       "T1          0\n",
       "T2          0\n",
       "T3          0\n",
       "T4          0\n",
       "T5          0\n",
       "S1          0\n",
       "S2          0\n",
       "S3          0\n",
       "T3_         0\n",
       "T4_         0\n",
       "T5_         0\n",
       "S1_         0\n",
       "S2_         0\n",
       "S3_         0\n",
       "P(mid)      0\n",
       "C3_         0\n",
       "C5_         0\n",
       "C6_         0\n",
       "Y1          0\n",
       "Y2          0\n",
       "dtype: int64"
      ]
     },
     "execution_count": 146,
     "metadata": {},
     "output_type": "execute_result"
    }
   ],
   "source": [
<<<<<<< HEAD
    "compdata_cont.isna().sum()"
=======
    "compdata.boxplot(column='S1',vert=False)\n",
    "plt.title('Number of Positive Words Box Plot')\n",
    "plt.show()"
   ]
  },
  {
   "cell_type": "markdown",
   "metadata": {},
   "source": [
    "It is obvious that there are outliers in the dataset that will offset the results. \n",
    "To remove this data we will use the interquartile range to determine the upper and lower bound limits and any data outside the limit will be converted to either the lower or upper bound number."
   ]
  },
  {
   "cell_type": "code",
   "execution_count": 31,
   "metadata": {},
   "outputs": [],
   "source": [
    "Q1 = compdata['P(IPO)'].quantile(0.25)\n",
    "Q3 = compdata['P(IPO)'].quantile(0.75)\n",
    "IQR = Q3 - Q1\n",
    "LowerBound = Q1 - (1.5 * IQR)\n",
    "UpperBound = Q3 + (1.5 * IQR)\n",
    "\n",
    "# compdata[((compdata['P(IPO)'] < LowerBound) |(compdata['P(IPO)'] > UpperBound))]"
>>>>>>> c29acd06a0cadd2dba62c0c3d17d46893bc97f3a
   ]
  },
  {
   "cell_type": "code",
<<<<<<< HEAD
   "execution_count": 147,
   "metadata": {},
   "outputs": [
    {
     "data": {
      "text/html": [
       "<div>\n",
       "<style scoped>\n",
       "    .dataframe tbody tr th:only-of-type {\n",
       "        vertical-align: middle;\n",
       "    }\n",
       "\n",
       "    .dataframe tbody tr th {\n",
       "        vertical-align: top;\n",
       "    }\n",
       "\n",
       "    .dataframe thead th {\n",
       "        text-align: right;\n",
       "    }\n",
       "</style>\n",
       "<table border=\"1\" class=\"dataframe\">\n",
       "  <thead>\n",
       "    <tr style=\"text-align: right;\">\n",
       "      <th></th>\n",
       "      <th>I1</th>\n",
       "      <th>I2</th>\n",
       "      <th>I3</th>\n",
       "      <th>C2</th>\n",
       "      <th>C3_</th>\n",
       "      <th>Y1</th>\n",
       "      <th>Y2</th>\n",
       "      <th>Imputed_C2</th>\n",
       "    </tr>\n",
       "  </thead>\n",
       "  <tbody>\n",
       "    <tr>\n",
       "      <th>0</th>\n",
       "      <td>AATI</td>\n",
       "      <td>ADVANCED ANALOGIC TECHNOLOGIES INC</td>\n",
       "      <td>3674</td>\n",
       "      <td>1.0</td>\n",
       "      <td>1</td>\n",
       "      <td>0</td>\n",
       "      <td>1</td>\n",
       "      <td>1.0</td>\n",
       "    </tr>\n",
       "    <tr>\n",
       "      <th>1</th>\n",
       "      <td>ABPI</td>\n",
       "      <td>ACCENTIA BIOPHARMACEUTICALS INC</td>\n",
       "      <td>2834</td>\n",
       "      <td>0.0</td>\n",
       "      <td>0</td>\n",
       "      <td>1</td>\n",
       "      <td>0</td>\n",
       "      <td>0.0</td>\n",
       "    </tr>\n",
       "    <tr>\n",
       "      <th>2</th>\n",
       "      <td>ACAD</td>\n",
       "      <td>ACADIA PHARMACEUTICALS INC</td>\n",
       "      <td>2834</td>\n",
       "      <td>1.0</td>\n",
       "      <td>0</td>\n",
       "      <td>1</td>\n",
       "      <td>0</td>\n",
       "      <td>1.0</td>\n",
       "    </tr>\n",
       "    <tr>\n",
       "      <th>3</th>\n",
       "      <td>ACHN</td>\n",
       "      <td>ACHILLION PHARMACEUTICALS INC</td>\n",
       "      <td>2834</td>\n",
       "      <td>1.0</td>\n",
       "      <td>0</td>\n",
       "      <td>1</td>\n",
       "      <td>1</td>\n",
       "      <td>1.0</td>\n",
       "    </tr>\n",
       "    <tr>\n",
       "      <th>4</th>\n",
       "      <td>ACLI</td>\n",
       "      <td>AMERICAN COMMERCIAL LINES INC.</td>\n",
       "      <td>4492</td>\n",
       "      <td>1.0</td>\n",
       "      <td>1</td>\n",
       "      <td>0</td>\n",
       "      <td>1</td>\n",
       "      <td>1.0</td>\n",
       "    </tr>\n",
       "  </tbody>\n",
       "</table>\n",
       "</div>"
      ],
      "text/plain": [
       "     I1                                  I2    I3   C2  C3_  Y1  Y2  \\\n",
       "0  AATI  ADVANCED ANALOGIC TECHNOLOGIES INC  3674  1.0    1   0   1   \n",
       "1  ABPI     ACCENTIA BIOPHARMACEUTICALS INC  2834  0.0    0   1   0   \n",
       "2  ACAD          ACADIA PHARMACEUTICALS INC  2834  1.0    0   1   0   \n",
       "3  ACHN       ACHILLION PHARMACEUTICALS INC  2834  1.0    0   1   1   \n",
       "4  ACLI     AMERICAN COMMERCIAL LINES INC.   4492  1.0    1   0   1   \n",
       "\n",
       "   Imputed_C2  \n",
       "0         1.0  \n",
       "1         0.0  \n",
       "2         1.0  \n",
       "3         1.0  \n",
       "4         1.0  "
      ]
     },
     "execution_count": 147,
     "metadata": {},
     "output_type": "execute_result"
    }
   ],
   "source": [
    "# Create DF with only categorical features\n",
    "\n",
    "compdata_cat = compdata.drop(['P(IPO)','P(H)','P(L)','P(1Day)','P(mid)','C1','C3','C4','C5','C6','C7','T1','T2','T3','T4','T5','S1','S2','S3','T3_','T4_','T5_','S1_','S2_','S3_','C5_','C6_'], axis=1)\n",
    "compdata_cat.head()"
   ]
  },
  {
   "cell_type": "markdown",
   "metadata": {},
   "source": [
    "__Thoughts:__\n",
    "\n",
    "- Should we just use the median to fill the continuous values?\n",
    "\n",
    "__Replace missing values in categorical field with logistic regression predictions__\n",
    "\n",
    "__Checking the correlations between interval variables__\n",
    "- heatmap is a good way to visualize the correlation between variables\n",
    "- **See metadata**\n",
    "- Do we need to do metadata first?"
   ]
  },
  {
   "cell_type": "markdown",
   "metadata": {},
   "source": [
    "- Use the Heatmap to determine most correlated variables\n",
    "    - make scatterplots comparing the 2 variables"
   ]
  },
  {
   "cell_type": "markdown",
   "metadata": {},
   "source": [
    "# Interquartile Ratio"
   ]
  },
  {
   "cell_type": "code",
   "execution_count": 148,
   "metadata": {},
   "outputs": [
    {
     "data": {
      "text/plain": [
       "(680, 35)"
      ]
     },
     "execution_count": 148,
     "metadata": {},
     "output_type": "execute_result"
=======
   "execution_count": 32,
   "metadata": {},
   "outputs": [
    {
     "ename": "NameError",
     "evalue": "name 'compdata_int' is not defined",
     "output_type": "error",
     "traceback": [
      "\u001b[0;31m---------------------------------------------------------------------------\u001b[0m",
      "\u001b[0;31mNameError\u001b[0m                                 Traceback (most recent call last)",
      "\u001b[0;32m<ipython-input-32-466136ab7aa8>\u001b[0m in \u001b[0;36m<module>\u001b[0;34m\u001b[0m\n\u001b[0;32m----> 1\u001b[0;31m \u001b[0miqrdata\u001b[0m \u001b[0;34m=\u001b[0m \u001b[0mcompdata_int\u001b[0m\u001b[0;34m.\u001b[0m\u001b[0mdescribe\u001b[0m\u001b[0;34m(\u001b[0m\u001b[0;34m)\u001b[0m\u001b[0;34m\u001b[0m\u001b[0;34m\u001b[0m\u001b[0m\n\u001b[0m\u001b[1;32m      2\u001b[0m \u001b[0miqrdata\u001b[0m\u001b[0;34m\u001b[0m\u001b[0;34m\u001b[0m\u001b[0m\n",
      "\u001b[0;31mNameError\u001b[0m: name 'compdata_int' is not defined"
     ]
>>>>>>> c29acd06a0cadd2dba62c0c3d17d46893bc97f3a
    }
   ],
   "source": [
    "compdata.shape"
   ]
  },
  {
   "cell_type": "code",
<<<<<<< HEAD
   "execution_count": 149,
   "metadata": {},
   "outputs": [
    {
     "data": {
      "text/html": [
       "<div>\n",
       "<style scoped>\n",
       "    .dataframe tbody tr th:only-of-type {\n",
       "        vertical-align: middle;\n",
       "    }\n",
       "\n",
       "    .dataframe tbody tr th {\n",
       "        vertical-align: top;\n",
       "    }\n",
       "\n",
       "    .dataframe thead th {\n",
       "        text-align: right;\n",
       "    }\n",
       "</style>\n",
       "<table border=\"1\" class=\"dataframe\">\n",
       "  <thead>\n",
       "    <tr style=\"text-align: right;\">\n",
       "      <th></th>\n",
       "      <th>I1</th>\n",
       "      <th>I2</th>\n",
       "      <th>I3</th>\n",
       "      <th>P(IPO)</th>\n",
       "      <th>P(H)</th>\n",
       "      <th>P(L)</th>\n",
       "      <th>P(1Day)</th>\n",
       "      <th>C1</th>\n",
       "      <th>C2</th>\n",
       "      <th>C3</th>\n",
       "      <th>...</th>\n",
       "      <th>S1_</th>\n",
       "      <th>S2_</th>\n",
       "      <th>S3_</th>\n",
       "      <th>P(mid)</th>\n",
       "      <th>C3_</th>\n",
       "      <th>C5_</th>\n",
       "      <th>C6_</th>\n",
       "      <th>Y1</th>\n",
       "      <th>Y2</th>\n",
       "      <th>Imputed_C2</th>\n",
       "    </tr>\n",
       "  </thead>\n",
       "  <tbody>\n",
       "    <tr>\n",
       "      <th>count</th>\n",
       "      <td>680</td>\n",
       "      <td>680</td>\n",
       "      <td>672</td>\n",
       "      <td>675.000000</td>\n",
       "      <td>670.000000</td>\n",
       "      <td>670.000000</td>\n",
       "      <td>658.000000</td>\n",
       "      <td>658.000000</td>\n",
       "      <td>658.000000</td>\n",
       "      <td>644.000000</td>\n",
       "      <td>...</td>\n",
       "      <td>679.000000</td>\n",
       "      <td>679.000000</td>\n",
       "      <td>679.000000</td>\n",
       "      <td>670.000000</td>\n",
       "      <td>680.000000</td>\n",
       "      <td>674.000000</td>\n",
       "      <td>680.000000</td>\n",
       "      <td>680.000000</td>\n",
       "      <td>680.000000</td>\n",
       "      <td>680.000000</td>\n",
       "    </tr>\n",
       "    <tr>\n",
       "      <th>unique</th>\n",
       "      <td>680</td>\n",
       "      <td>680</td>\n",
       "      <td>200</td>\n",
       "      <td>NaN</td>\n",
       "      <td>NaN</td>\n",
       "      <td>NaN</td>\n",
       "      <td>NaN</td>\n",
       "      <td>NaN</td>\n",
       "      <td>NaN</td>\n",
       "      <td>NaN</td>\n",
       "      <td>...</td>\n",
       "      <td>NaN</td>\n",
       "      <td>NaN</td>\n",
       "      <td>NaN</td>\n",
       "      <td>NaN</td>\n",
       "      <td>NaN</td>\n",
       "      <td>NaN</td>\n",
       "      <td>NaN</td>\n",
       "      <td>NaN</td>\n",
       "      <td>NaN</td>\n",
       "      <td>NaN</td>\n",
       "    </tr>\n",
       "    <tr>\n",
       "      <th>top</th>\n",
       "      <td>GSAT</td>\n",
       "      <td>Primo Water Corp</td>\n",
       "      <td>2834</td>\n",
       "      <td>NaN</td>\n",
       "      <td>NaN</td>\n",
       "      <td>NaN</td>\n",
       "      <td>NaN</td>\n",
       "      <td>NaN</td>\n",
       "      <td>NaN</td>\n",
       "      <td>NaN</td>\n",
       "      <td>...</td>\n",
       "      <td>NaN</td>\n",
       "      <td>NaN</td>\n",
       "      <td>NaN</td>\n",
       "      <td>NaN</td>\n",
       "      <td>NaN</td>\n",
       "      <td>NaN</td>\n",
       "      <td>NaN</td>\n",
       "      <td>NaN</td>\n",
       "      <td>NaN</td>\n",
       "      <td>NaN</td>\n",
       "    </tr>\n",
       "    <tr>\n",
       "      <th>freq</th>\n",
       "      <td>1</td>\n",
       "      <td>1</td>\n",
       "      <td>76</td>\n",
       "      <td>NaN</td>\n",
       "      <td>NaN</td>\n",
       "      <td>NaN</td>\n",
       "      <td>NaN</td>\n",
       "      <td>NaN</td>\n",
       "      <td>NaN</td>\n",
       "      <td>NaN</td>\n",
       "      <td>...</td>\n",
       "      <td>NaN</td>\n",
       "      <td>NaN</td>\n",
       "      <td>NaN</td>\n",
       "      <td>NaN</td>\n",
       "      <td>NaN</td>\n",
       "      <td>NaN</td>\n",
       "      <td>NaN</td>\n",
       "      <td>NaN</td>\n",
       "      <td>NaN</td>\n",
       "      <td>NaN</td>\n",
       "    </tr>\n",
       "    <tr>\n",
       "      <th>mean</th>\n",
       "      <td>NaN</td>\n",
       "      <td>NaN</td>\n",
       "      <td>NaN</td>\n",
       "      <td>13.840148</td>\n",
       "      <td>15.476657</td>\n",
       "      <td>13.510612</td>\n",
       "      <td>25.976604</td>\n",
       "      <td>149.849544</td>\n",
       "      <td>0.858663</td>\n",
       "      <td>1.792270</td>\n",
       "      <td>...</td>\n",
       "      <td>0.005490</td>\n",
       "      <td>0.009154</td>\n",
       "      <td>0.011835</td>\n",
       "      <td>14.493634</td>\n",
       "      <td>0.483824</td>\n",
       "      <td>4.641534</td>\n",
       "      <td>5.245685</td>\n",
       "      <td>0.500000</td>\n",
       "      <td>0.677941</td>\n",
       "      <td>0.863235</td>\n",
       "    </tr>\n",
       "    <tr>\n",
       "      <th>std</th>\n",
       "      <td>NaN</td>\n",
       "      <td>NaN</td>\n",
       "      <td>NaN</td>\n",
       "      <td>6.061555</td>\n",
       "      <td>6.662624</td>\n",
       "      <td>5.843541</td>\n",
       "      <td>73.342240</td>\n",
       "      <td>153.033149</td>\n",
       "      <td>0.348634</td>\n",
       "      <td>162.919289</td>\n",
       "      <td>...</td>\n",
       "      <td>0.004798</td>\n",
       "      <td>0.004309</td>\n",
       "      <td>0.008982</td>\n",
       "      <td>6.238462</td>\n",
       "      <td>0.500106</td>\n",
       "      <td>6.280361</td>\n",
       "      <td>10.755064</td>\n",
       "      <td>0.500368</td>\n",
       "      <td>0.467609</td>\n",
       "      <td>0.343852</td>\n",
       "    </tr>\n",
       "    <tr>\n",
       "      <th>min</th>\n",
       "      <td>NaN</td>\n",
       "      <td>NaN</td>\n",
       "      <td>NaN</td>\n",
       "      <td>3.000000</td>\n",
       "      <td>0.000000</td>\n",
       "      <td>3.000000</td>\n",
       "      <td>0.000000</td>\n",
       "      <td>10.000000</td>\n",
       "      <td>0.000000</td>\n",
       "      <td>-786.239000</td>\n",
       "      <td>...</td>\n",
       "      <td>-0.000093</td>\n",
       "      <td>0.002152</td>\n",
       "      <td>0.005125</td>\n",
       "      <td>3.500000</td>\n",
       "      <td>0.000000</td>\n",
       "      <td>0.283223</td>\n",
       "      <td>0.000000</td>\n",
       "      <td>0.000000</td>\n",
       "      <td>0.000000</td>\n",
       "      <td>0.000000</td>\n",
       "    </tr>\n",
       "    <tr>\n",
       "      <th>25%</th>\n",
       "      <td>NaN</td>\n",
       "      <td>NaN</td>\n",
       "      <td>NaN</td>\n",
       "      <td>10.000000</td>\n",
       "      <td>12.500000</td>\n",
       "      <td>11.000000</td>\n",
       "      <td>11.000000</td>\n",
       "      <td>85.000000</td>\n",
       "      <td>1.000000</td>\n",
       "      <td>-0.860000</td>\n",
       "      <td>...</td>\n",
       "      <td>0.004142</td>\n",
       "      <td>0.007023</td>\n",
       "      <td>0.009568</td>\n",
       "      <td>11.500000</td>\n",
       "      <td>0.000000</td>\n",
       "      <td>2.853439</td>\n",
       "      <td>0.000000</td>\n",
       "      <td>0.000000</td>\n",
       "      <td>0.000000</td>\n",
       "      <td>1.000000</td>\n",
       "    </tr>\n",
       "    <tr>\n",
       "      <th>50%</th>\n",
       "      <td>NaN</td>\n",
       "      <td>NaN</td>\n",
       "      <td>NaN</td>\n",
       "      <td>13.500000</td>\n",
       "      <td>15.000000</td>\n",
       "      <td>13.000000</td>\n",
       "      <td>14.865000</td>\n",
       "      <td>107.000000</td>\n",
       "      <td>1.000000</td>\n",
       "      <td>0.010000</td>\n",
       "      <td>...</td>\n",
       "      <td>0.005050</td>\n",
       "      <td>0.008592</td>\n",
       "      <td>0.011299</td>\n",
       "      <td>14.000000</td>\n",
       "      <td>0.000000</td>\n",
       "      <td>3.766083</td>\n",
       "      <td>0.000000</td>\n",
       "      <td>0.500000</td>\n",
       "      <td>1.000000</td>\n",
       "      <td>1.000000</td>\n",
       "    </tr>\n",
       "    <tr>\n",
       "      <th>75%</th>\n",
       "      <td>NaN</td>\n",
       "      <td>NaN</td>\n",
       "      <td>NaN</td>\n",
       "      <td>17.000000</td>\n",
       "      <td>17.000000</td>\n",
       "      <td>15.000000</td>\n",
       "      <td>20.495000</td>\n",
       "      <td>155.750000</td>\n",
       "      <td>1.000000</td>\n",
       "      <td>0.470000</td>\n",
       "      <td>...</td>\n",
       "      <td>0.006255</td>\n",
       "      <td>0.010509</td>\n",
       "      <td>0.012857</td>\n",
       "      <td>16.000000</td>\n",
       "      <td>1.000000</td>\n",
       "      <td>4.906387</td>\n",
       "      <td>7.142857</td>\n",
       "      <td>1.000000</td>\n",
       "      <td>1.000000</td>\n",
       "      <td>1.000000</td>\n",
       "    </tr>\n",
       "    <tr>\n",
       "      <th>max</th>\n",
       "      <td>NaN</td>\n",
       "      <td>NaN</td>\n",
       "      <td>NaN</td>\n",
       "      <td>85.000000</td>\n",
       "      <td>135.000000</td>\n",
       "      <td>108.000000</td>\n",
       "      <td>1159.200562</td>\n",
       "      <td>2087.000000</td>\n",
       "      <td>1.000000</td>\n",
       "      <td>3864.500000</td>\n",
       "      <td>...</td>\n",
       "      <td>0.121442</td>\n",
       "      <td>0.091082</td>\n",
       "      <td>0.233397</td>\n",
       "      <td>121.500000</td>\n",
       "      <td>1.000000</td>\n",
       "      <td>99.787255</td>\n",
       "      <td>100.000000</td>\n",
       "      <td>1.000000</td>\n",
       "      <td>1.000000</td>\n",
       "      <td>1.000000</td>\n",
       "    </tr>\n",
       "  </tbody>\n",
       "</table>\n",
       "<p>11 rows × 35 columns</p>\n",
       "</div>"
      ],
      "text/plain": [
       "          I1                I2    I3      P(IPO)        P(H)        P(L)  \\\n",
       "count    680               680   672  675.000000  670.000000  670.000000   \n",
       "unique   680               680   200         NaN         NaN         NaN   \n",
       "top     GSAT  Primo Water Corp  2834         NaN         NaN         NaN   \n",
       "freq       1                 1    76         NaN         NaN         NaN   \n",
       "mean     NaN               NaN   NaN   13.840148   15.476657   13.510612   \n",
       "std      NaN               NaN   NaN    6.061555    6.662624    5.843541   \n",
       "min      NaN               NaN   NaN    3.000000    0.000000    3.000000   \n",
       "25%      NaN               NaN   NaN   10.000000   12.500000   11.000000   \n",
       "50%      NaN               NaN   NaN   13.500000   15.000000   13.000000   \n",
       "75%      NaN               NaN   NaN   17.000000   17.000000   15.000000   \n",
       "max      NaN               NaN   NaN   85.000000  135.000000  108.000000   \n",
       "\n",
       "            P(1Day)           C1          C2           C3  ...         S1_  \\\n",
       "count    658.000000   658.000000  658.000000   644.000000  ...  679.000000   \n",
       "unique          NaN          NaN         NaN          NaN  ...         NaN   \n",
       "top             NaN          NaN         NaN          NaN  ...         NaN   \n",
       "freq            NaN          NaN         NaN          NaN  ...         NaN   \n",
       "mean      25.976604   149.849544    0.858663     1.792270  ...    0.005490   \n",
       "std       73.342240   153.033149    0.348634   162.919289  ...    0.004798   \n",
       "min        0.000000    10.000000    0.000000  -786.239000  ...   -0.000093   \n",
       "25%       11.000000    85.000000    1.000000    -0.860000  ...    0.004142   \n",
       "50%       14.865000   107.000000    1.000000     0.010000  ...    0.005050   \n",
       "75%       20.495000   155.750000    1.000000     0.470000  ...    0.006255   \n",
       "max     1159.200562  2087.000000    1.000000  3864.500000  ...    0.121442   \n",
       "\n",
       "               S2_         S3_      P(mid)         C3_         C5_  \\\n",
       "count   679.000000  679.000000  670.000000  680.000000  674.000000   \n",
       "unique         NaN         NaN         NaN         NaN         NaN   \n",
       "top            NaN         NaN         NaN         NaN         NaN   \n",
       "freq           NaN         NaN         NaN         NaN         NaN   \n",
       "mean      0.009154    0.011835   14.493634    0.483824    4.641534   \n",
       "std       0.004309    0.008982    6.238462    0.500106    6.280361   \n",
       "min       0.002152    0.005125    3.500000    0.000000    0.283223   \n",
       "25%       0.007023    0.009568   11.500000    0.000000    2.853439   \n",
       "50%       0.008592    0.011299   14.000000    0.000000    3.766083   \n",
       "75%       0.010509    0.012857   16.000000    1.000000    4.906387   \n",
       "max       0.091082    0.233397  121.500000    1.000000   99.787255   \n",
       "\n",
       "               C6_          Y1          Y2  Imputed_C2  \n",
       "count   680.000000  680.000000  680.000000  680.000000  \n",
       "unique         NaN         NaN         NaN         NaN  \n",
       "top            NaN         NaN         NaN         NaN  \n",
       "freq           NaN         NaN         NaN         NaN  \n",
       "mean      5.245685    0.500000    0.677941    0.863235  \n",
       "std      10.755064    0.500368    0.467609    0.343852  \n",
       "min       0.000000    0.000000    0.000000    0.000000  \n",
       "25%       0.000000    0.000000    0.000000    1.000000  \n",
       "50%       0.000000    0.500000    1.000000    1.000000  \n",
       "75%       7.142857    1.000000    1.000000    1.000000  \n",
       "max     100.000000    1.000000    1.000000    1.000000  \n",
       "\n",
       "[11 rows x 35 columns]"
      ]
     },
     "execution_count": 149,
     "metadata": {},
     "output_type": "execute_result"
    }
   ],
   "source": [
    "compdata.describe(include='all')"
   ]
  },
  {
   "cell_type": "markdown",
   "metadata": {},
   "source": [
    "# Outliers:"
   ]
  },
  {
   "cell_type": "code",
   "execution_count": 150,
   "metadata": {},
   "outputs": [],
   "source": [
    "# Determine if there are any outliers in the data that will alter the results\n",
    "# Use box plots for all the variables to visualize the outliers \n",
    "# Standardize first!\n",
    "\n",
    "# only continuous"
   ]
  },
  {
   "cell_type": "code",
   "execution_count": 179,
   "metadata": {},
   "outputs": [
    {
     "data": {
      "image/png": "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\n",
      "text/plain": [
       "<Figure size 1080x720 with 1 Axes>"
      ]
     },
     "metadata": {
      "needs_background": "light"
     },
     "output_type": "display_data"
    }
   ],
   "source": [
    "compdata_cont.boxplot(vert=False, figsize=(15,10))\n",
    "plt.title('IPO Characteristics Box Plot')\n",
    "plt.show()"
   ]
  },
  {
   "cell_type": "code",
   "execution_count": 197,
   "metadata": {},
   "outputs": [
    {
     "data": {
      "image/png": "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\n",
      "text/plain": [
       "<Figure size 1080x288 with 1 Axes>"
      ]
     },
     "metadata": {
      "needs_background": "light"
     },
     "output_type": "display_data"
    }
   ],
   "source": [
    "compdata_cont.boxplot(column=['C1','C3','C4','C5','C6','C7'],vert=False, figsize=(15,4))\n",
    "plt.title('IPO Characteristics Box Plot')\n",
    "plt.show()"
   ]
  },
  {
   "cell_type": "code",
   "execution_count": 183,
   "metadata": {},
   "outputs": [
    {
     "data": {
      "image/png": "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\n",
      "text/plain": [
       "<Figure size 1080x72 with 1 Axes>"
      ]
     },
     "metadata": {
      "needs_background": "light"
     },
     "output_type": "display_data"
    }
   ],
   "source": [
    "# In number of days\n",
    "\n",
    "compdata_cont.boxplot(column=['C1'],vert=False, figsize=(15,1))\n",
    "plt.title('Days Box Plot')\n",
    "plt.show()"
   ]
  },
  {
   "cell_type": "code",
   "execution_count": 184,
   "metadata": {},
   "outputs": [
    {
     "data": {
      "image/png": "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\n",
      "text/plain": [
       "<Figure size 1080x72 with 1 Axes>"
      ]
     },
     "metadata": {
      "needs_background": "light"
     },
     "output_type": "display_data"
    }
   ],
=======
   "execution_count": null,
   "metadata": {},
   "outputs": [],
>>>>>>> c29acd06a0cadd2dba62c0c3d17d46893bc97f3a
   "source": [
    "# Seperate the variables into that fit better with one another into their own box plot\n",
    "    # Help visualization\n",
    "# EPS is in dollars \n",
    "\n",
    "compdata_cont.boxplot(column=['C3'],vert=False, figsize=(15,1))\n",
    "plt.title('EPS Box Plot')\n",
    "plt.show()"
   ]
  },
  {
   "cell_type": "code",
   "execution_count": 185,
   "metadata": {},
   "outputs": [
    {
     "data": {
      "image/png": "iVBORw0KGgoAAAANSUhEUgAAA2sAAABlCAYAAADTV3t9AAAABHNCSVQICAgIfAhkiAAAAAlwSFlzAAALEgAACxIB0t1+/AAAADl0RVh0U29mdHdhcmUAbWF0cGxvdGxpYiB2ZXJzaW9uIDIuMi40LCBodHRwOi8vbWF0cGxvdGxpYi5vcmcv7US4rQAAE3dJREFUeJzt3Xu0HVV9wPHvjwCXd4JEQJ4Ry9KkPiiC1aqriTVEwIqsWjSrFUEMxkhcNqBEggLFC0YlpURJJIKASBBdoigoiZKoWNoarLZAFBHDU94mkAAhhF//mDnk5HIf5957zrmTe7+ftc5Kzszs2Xtmfmdyftl7z4nMRJIkSZJULVsNdQMkSZIkSS9msiZJkiRJFWSyJkmSJEkVZLImSZIkSRVksiZJkiRJFWSyJkmSJEkVZLImSS0UET+MiA8MdTv6KyImRsR9Q90ODX8RkRHxF0PdDkmqIpM1SeqHiFgVEU9HxNqIeCgivhYRO/W0fWYenpmXNanuieUX2y93WX5TRBzXjDraISJOiogVEbE+Ii7tsm5ceYxr616f7mVfEyPi+bpt74uIqyPi0Ba1/cyI2FDWtToi/iMi3tSP8qsi4u2taFt/RcSlEfFseSxPRsQtEfG3Lain6zVdFRGzB7Cf4yLipma3T5KqzGRNkvrv7zNzJ+Bg4FDg9K4bRGHA99iI2LqHVeuAYyNi3ED3XQEPAJ8FLullmzGZuVP5Oruv/ZXXY2fgjcBvgZ9HxN81p7kv8s2yvrHAMuBbLarnRXqJi4H6fHkso4EFwHciYlST66gZU9Y1FfhMRLyjRfVI0rBhsiZJA5SZ9wM/BF4NEBHLI6IzIn4BPAUcUC77ULl+q4g4PSLujoiHI+LyiBhdrqv1PpwQEfcAN/ZQ7WrgUuCM7lZGxCsi4saIeCwiHo2Ib0TEmLr1p0bE/WVPyu9qCU1EbF/2tPw5Im6nSELr9zs7Iv5Qlrs9Io6uWzcqIr5Y1ndXRHy0PJZuE4vM/E5mfhd4rM+T3A9ZuC8zPwN8FZhb18Z/j4h7I+KJsgfpreXyPSPiqYjYrW7b10fEIxGxTR/1PQd8A9g7Il5aV/6dEfHrup6315bLvw7sB3y/7GH6ZHfDTet738qevG9HxBUR8QRwXLns6jJ+noyI2yLikLry3V7jPo7leeBK4CXAHuV+eovX95bXepfy/eER8WD9eeilrpuB2yg/N12OfXRZzyNlvaeX7RgPLATeVJ671X3VI0nDgcmaJA1QROwLHAH8T93i9wMnUvTy3N2lyHHlaxJwALAT8KUu2/wtMB6Y0kvVncA/RMQru2sWcC6wV7mffYEzy/a+EjgJODQzdy7rWFWWOwN4RfmaAnSdZ/cH4K0UPTBnAVdExMvKddOAdwJ/BRwCvKeXtjfq7iiGNH4tIsYOoPx3gIMjYsfy/S+BgyiSkSuBb0XEdpn5ILAcOKau7D8DV2Xmht4qiIhtgWMpks4/l8sOpugx/DCwG/AV4NqI6MjM9wP3UPbMZubnGzyWo4BvA2MokkOAdwFXlcuupYyjPq5xb8cyqjyWPwIPlYuPo4d4zcxvAjcDF5SJ7sXAhzLzkT7qiYh4M/CXbP65qZlPEWMHUHwWjgWOz8yVwHTg5vLcjemmrCQNOyZrktR/3y3/Z/8m4KfAOXXrLs3M2zLzuW6+7P8TMC8z78rMtcCngPd16YE6MzPXZebTPVVeJhgLgX/tZt2dmbk0M9eXX5znUXzpBdgIdAATImKbzFyVmX8o1x0DdGbm45l5L3BBl/1+KzMfyMznyy/qvwfeUFf2/My8NzMfp0gWB+pRil69/YHXUyS93+i1RPceoEhcx5TtvyIzHyuvy3kU56GW7F5GkaDVkpapwNd72fcx5fV/miJRfU/Zy0b5/iuZ+V+ZubGcr7ieYnjmQN2cmd8tz30tLm7KzOszc2PZ1teVy3u7xt05pTyWdcD5wKfLfULf8fpR4G0Uye73M/MHfRzHo8DjFL2eszPzJ/Ury3P/XuBTmflkZq4CzqP4DxBJGpFM1iSp/96dmWMyc//MnNElsbq3l3J7sXlv293A1pTDzhooX28uMCUiXle/MCJ2j4irymFwTwBXUMytIjPvBD5O0dP2cLndXnVtq697s17BiDi2bmjfaoohbGMbKdsfmbk2M1eUSdVDFL1Eh0XELhGxX9Q9eKSPXe0NJMWwUSLi5IhYGRFryvaPrmv/9yiSmwOAycCazPzvXvZ9ddmzswdwK0VSWbM/cHLtPJV17Utxjgaqu5h4sO7vTwHbRcTWfVzj7nyxPJbtKXpFvxARh5freo3XzFxNMV/v1RRJVV/GZuaumTk+My/obj2wbTd17t3AviVpWDJZk6Tmyl7WPUDxZb5mP+A5Ng0766v8po0yH6PoCen68I1zy328NjN3oegxirpyV2bmW8p2JJvmdf2JIqmobxsAEbE/sIgicdqt/HJ/a91+eyzbBLXzEZl5T91DR3p8AmfpaOBXmbmunJ92KkUP4K5l+9fU2p+ZzwBXU/QkvZ/ee9U2NSzzUYrhjmfWDQm9l6KHckzda4fMXNzleGrWATvU3pS9S13nfTUUE3Xt6uka91YmM/NW4BfAkeXiXuM1Ig4CPggspktP7AA9Cmzops77a81sQh2StEUxWZOk9lkM/EtEvDyKx/2fQ/Fkwef6KNeTecDfUMxNq9kZWAusjoi9gU/UVkTEKyPibRHRATxDMYyvNuTtauBTEbFrROwDzKzb544UX5QfKfdzPJs/HOJq4GMRsU9E7Ar0+lj2iNg6IrYDRgGjImK72tC6iPjrsp1blXOhLgCWZ+aavk5GOR9q74g4A/gQcFrdOXmubP/WEfEZYJcuxS+nmJ/1LoreyIZk5m+BG4BPlosWAdPL44iI2DEijoyIncv1D1HMx6q5g6JX7MgoHmhyOsUwxgHp4xr3VfZVwFsoHv4BvcRref2uoDjHx1M8ZGXGQNsNUA6/vBrojIidy/8kmMWm6/EQsE85V1CSRgSTNUlqn0soem1+RvEgh2fYPCnql8x8Avg8xUMzas6i+EmBNcB1FA/aqOkAPkfRg/EgsDubEpqzKIac/RFYQl3vUmbeTjHM7WaKL8yvoeiBqVlEkbD8BvhVlzq7czpFEjGboufvaTb9/MEBwI+AJyl679ZTzCHrzV7lsMi1FA8SeQ0wMTOXlOtvoHhq5x3lMT5Dl6GFmfkL4HmK3rhVfdTX1ReAEyNi98xcQTFv7UsUDx25kyIJrDkXOL0cInlKmYTOoJjHdT9FT9tgfoy8t2vcnU+Ww0rXUVz3r1E8FAV6j9dzgfsyc0Fmrqe4jp+NiAMH0XbK/a8D7qKYE3olm37i4UaKRPLBiHh0kPVI0hYhMh1VIElqnih+A+6PwDaD6DVsu4i4EbgyM7861G2RJAmKicKSJI1oEXEoRY/kUUPdFkmSahwGKUka0SLiMuDHwMcz88mhbo8kSTUOg5QkSZKkCrJnTZIkSZIqqK1z1saOHZvjxo1rZ5VbrHXr1rHjjjsOdTM0jBhTajZjSs1mTKkVjCs122Bj6pZbbnk0M7v+pma32pqsjRs3jhUrVrSzyi3W8uXLmThx4lA3Q8OIMaVmM6bUbMaUWsG4UrMNNqYi4u5Gt3UYpCRJkiRVkMmaJEmSJFWQyZokSZIkVZDJmiRJkiRVkMmaJEmSJFWQyZokSZIkVZDJmiRJkiRVkMmaJEmSJFWQyZokSZIkVZDJmiRJkiRVkMmaJEmSJFWQyZokSZIkVZDJmiRJkiRVkMmaJEmSJFWQyZokSZIkVZDJmiRJkiRVkMmaJEmSJFWQyZokSZIkVZDJmiRJkiRVkMmaJEmSJFWQyZokSZIkVZDJmiRJkiRV0NaNbBQRewLnA4cC64FVwMcz846I2AVYCVyTmSe1qqGSJGngXnfWEtY8vWGom9G3H13Xtqp2Hj+bJ1d+rm31VdXo7bfhN2ccNtTNkNSNPpO1iAjgGuCyzHxfuewgYA/gDuBs4KetbGSrLF68mM7OTlauXMn48eOZM2cOU6dOHepmSVuEVn1+Zs6cyaJFi1i/fj0dHR1MmzaN+fPnAzBlyhSWLl1KZhIRTJ48mRtuuGHQdUojwZqnN7Dqc0cOdTN6tXz5ciZOnNi2+l5z2ezKn5N2GDe7fQmypP5pZBjkJGBDZi6sLcjMX2fmzyPi9RRJ25JWNbBVFi9ezJw5c5g/fz7PPPMM8+fPZ86cOSxevHiomyZVXqs+PzNnzmThwoWcc845rFu3jnPOOYeFCxcyc+ZMpkyZwpIlS5g+fTqrV69m+vTpLFmyhClTpjTpqCRJ0nBS9Dlt2RpJ1l4N3NJ1YURsBZwHfKLZjWqHzs5OLr74YiZNmsQ222zDpEmTuPjii+ns7BzqpkmV16rPz6JFi5g7dy6zZs1ihx12YNasWcydO5dFixaxdOlSPvKRj3DhhRcyevRoLrzwQgCWLl3ajEOSJEmqnIbmrPVgBnB9Zt7bW9YaEScCJwLsscceLF++fBBVNs/KlSvZuHHjZu3ZuHEjK1eurEQb165dW4l2aPhoZky16vOzfv16JkyYsNk+JkyYwPr16wE44ogjXrT/zHQIz1Bq4/wiDV7V/10Zin/7qn5O2mXY30e9V41YrfiMt/Ne1Uiydhvwnm6Wvwl4a0TMAHYCto2ItZk5u36jzLwIuAjgkEMOyXaORe/N+PHjGTVq1GZj45ctW8b48ePbOl6+J+0et6/hr5kx1arPT0dHB7fffjuzZs16Ydm8efPo6Ojg2Wef5frrr3+hR60mIpxzMkS8T21Zxs2+rvLXq+0xdRmVPydt8aPrhvV91HvVyBVzW/MZb2dMNTIM8kagIyKm1RZExKHARZm5X2aOA04BLu+aqFXZnDlzOOGEE1i2bBkbNmxg2bJlnHDCCcyZM2eomyZVXqs+P9OmTePUU09l3rx5PPXUU8ybN49TTz2VadOmMXnyZBYsWMCMGTNYs2YNM2bMAGDy5MnNOCRJkqTK6bNnLTMzIo4Gzo+I2cAzlI/ub3HbWqr21LqZM2e+8DS7zs5OnwYpNaBVn5/aUx9PO+00Tj75ZDo6Opg+ffpmT4NcuHAhCxYsICI47LDDfBqkJEnqVmYOdRMGraE5a5n5AHBML+svBS5tTpPaZ+rUqSZn0gC16vMzf/78F5KzrkzMpMHZIuYltfV31raQc9Jio7ffZqibIKkHg3nAiCRJ2kJsCXOS2j+3qPrnRNLI1sicNUmSJElSm5msSZIkSVIFmaxJkiRJUgWZrEmSJElSBZmsSZIkSVIFmaxJkiRJUgWZrEmSJElSBZmsSZIkSVIFmaxJkiRJUgWZrEmSJElSBZmsSZIkSVIFmaxJkiRJUgWZrEmSJElSBZmsSZIkSVIFmaxJkiRJUgWZrEmSJElSBZmsSZIkSVIFmaxJkiRJUgWZrEmSJElSBZmsSZIkSVIFmaxJkiRJUgVFZravsohHgLvbVuGWbSzw6FA3QsOKMaVmM6bUbMaUWsG4UrMNNqb2z8yXNrJhW5M1NS4iVmTmIUPdDg0fxpSazZhSsxlTagXjSs3WzphyGKQkSZIkVZDJmiRJkiRVkMladV001A3QsGNMqdmMKTWbMaVWMK7UbG2LKeesSZIkSVIF2bMmSZIkSRVksiZJkiRJFWSyNoQi4iURsTQifl/+uWsP210SEQ9HxK1dlp8ZEfdHxK/L1xHtabmqqgkx1VB5jRz9iKl3RMTvIuLOiJhdt9z7lICeY6RufUTEBeX6/42Igxstq5FpkDG1KiL+r7wvrWhvy1VVDcTUqyLi5ohYHxGn9KfsQJmsDa3ZwE8y80DgJ+X77lwKvKOHdf+WmQeVr+tb0EZtWQYbU42W18jRZ0xExCjgy8DhwARgakRMqNvE+9QI10CMUK47sHydCCzoR1mNMIOJqTqTyvuSv8GmRmPqceBjwBcHUHZATNaG1lHAZeXfLwPe3d1GmfkziuCQ+jLYmGqovEaURmLiDcCdmXlXZj4LXFWWk2oaiZGjgMuz8J/AmIh4WYNlNfIMJqak7vQZU5n5cGb+EtjQ37IDZbI2tPbIzD8BlH/uPoB9nFR27V/ikDUx+JhqRkxqeGkkJvYG7q17f1+5rMb7lPqKkd62aaSsRp7BxBRAAksi4paIOLFlrdSWZDD3mpbdp7Zuxk7Us4j4MbBnN6vmNGH3C4CzKW44ZwPnAR9swn5VYS2OKY1ATYip6GZZ7XdhvE8Jeo+RvrZppKxGnsHEFMCbM/OBiNgdWBoRvy1HnWjkGsy9pmX3KZO1FsvMt/e0LiIeioiXZeafym75h/u574fq9rUI+MHAW6otRStjChhseW2BmhBT9wH71r3fB3ig3Lf3KUEvMdLANts2UFYjz2Biisys/flwRFxDMYzNZG1kaySmWlG2Vw6DHFrXAh8o//4B4Hv9Kdxl3PXRwK09basRY1Ax1YTyGn4aiYlfAgdGxMsjYlvgfWU571Oq6TFG6lwLHFs+we+NwJpy6G0jZTXyDDimImLHiNgZICJ2BA7De5MGd69p2X0qMh1JMFQiYjfgamA/4B7gHzPz8YjYC/hqZh5RbrcYmAiMBR4CzsjMiyPi68BBFN2sq4AP1+aWaGRqQkx1W779R6Kq6EdMHQGcD4wCLsnMznK59ykB3cdIREwHyMyFERHAlyieVPsUcHxmruip7FAcg6ploDEVEQcA15S72Rq40pgSNBRTewIrgF2A54G1wITMfKJV9ymTNUmSJEmqIIdBSpIkSVIFmaxJkiRJUgWZrEmSJElSBZmsSZIkSVIFmaxJkiRJUgWZrEmSJElSBZmsSZIkSVIF/T8P18UZ3hiO8wAAAABJRU5ErkJggg==\n",
      "text/plain": [
       "<Figure size 1080x72 with 1 Axes>"
      ]
     },
     "metadata": {
      "needs_background": "light"
     },
     "output_type": "display_data"
    }
   ],
   "source": [
    "compdata_cont.boxplot(column='C4',vert=False, figsize=(15,1))\n",
    "plt.title('Prior Nasdaq 15-Day Returns Box Plot')\n",
    "plt.show()"
   ]
  },
  {
   "cell_type": "code",
<<<<<<< HEAD
   "execution_count": 186,
=======
   "execution_count": null,
>>>>>>> c29acd06a0cadd2dba62c0c3d17d46893bc97f3a
   "metadata": {},
   "outputs": [
    {
     "data": {
      "image/png": "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\n",
      "text/plain": [
       "<Figure size 1080x144 with 1 Axes>"
      ]
     },
     "metadata": {
      "needs_background": "light"
     },
     "output_type": "display_data"
    }
   ],
   "source": [
    "compdata_cont.boxplot(column=['C5','C6'],vert=False, figsize=(15,2))\n",
    "plt.title('Outstanding Shares & Offering Shares Box Plot')\n",
    "plt.show()"
   ]
  },
  {
   "cell_type": "code",
   "execution_count": 187,
   "metadata": {},
   "outputs": [
    {
     "data": {
      "image/png": "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\n",
      "text/plain": [
       "<Figure size 1080x72 with 1 Axes>"
      ]
     },
     "metadata": {
      "needs_background": "light"
     },
     "output_type": "display_data"
    }
   ],
   "source": [
    "# in millions of dollars\n",
    "\n",
    "compdata_cont.boxplot(column='C7',vert=False, figsize=(15,1))\n",
    "plt.title('Sales Box Plot')\n",
    "plt.show()"
   ]
  },
  {
   "cell_type": "code",
   "execution_count": 188,
   "metadata": {},
   "outputs": [
    {
     "data": {
      "image/png": "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\n",
      "text/plain": [
       "<Figure size 1080x288 with 1 Axes>"
      ]
     },
     "metadata": {
      "needs_background": "light"
     },
     "output_type": "display_data"
    }
   ],
   "source": [
    "compdata_cont.boxplot(column=['T1','T2','T3','T4','T5'],vert=False, figsize=(15,4))\n",
    "plt.title('Textual Characteristics of IPO Box Plot')\n",
    "plt.show()"
   ]
  },
  {
   "cell_type": "code",
<<<<<<< HEAD
   "execution_count": 189,
   "metadata": {},
   "outputs": [
    {
     "data": {
      "image/png": "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\n",
      "text/plain": [
       "<Figure size 1080x144 with 1 Axes>"
      ]
     },
     "metadata": {
      "needs_background": "light"
     },
     "output_type": "display_data"
    }
   ],
   "source": [
    "compdata_cont.boxplot(column=['T1','T4'],vert=False, figsize=(15,2))\n",
    "plt.title('Number of Sentences & Number of Long Sentences Box Plot')\n",
    "plt.show()"
   ]
  },
  {
   "cell_type": "code",
   "execution_count": 190,
   "metadata": {},
   "outputs": [
    {
     "data": {
      "image/png": "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\n",
      "text/plain": [
       "<Figure size 1080x144 with 1 Axes>"
      ]
     },
     "metadata": {
      "needs_background": "light"
     },
     "output_type": "display_data"
    }
   ],
=======
   "execution_count": null,
   "metadata": {},
   "outputs": [],
>>>>>>> c29acd06a0cadd2dba62c0c3d17d46893bc97f3a
   "source": [
    "compdata_cont.boxplot(column=['T2','T3'],vert=False, figsize=(15,2))\n",
    "plt.title('Number of Words & Number of Real Words Box Plot')\n",
    "plt.show()"
   ]
  },
  {
   "cell_type": "code",
<<<<<<< HEAD
   "execution_count": 191,
   "metadata": {},
   "outputs": [
    {
     "data": {
      "image/png": "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\n",
      "text/plain": [
       "<Figure size 1080x72 with 1 Axes>"
      ]
     },
     "metadata": {
      "needs_background": "light"
     },
     "output_type": "display_data"
    }
   ],
   "source": [
    "compdata_cont.boxplot(column='T5',vert=False, figsize=(15,1))\n",
    "plt.title('Number of Long Words Box Plot')\n",
    "plt.show()"
   ]
  },
  {
   "cell_type": "code",
   "execution_count": 192,
   "metadata": {},
   "outputs": [
    {
     "data": {
      "image/png": "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\n",
      "text/plain": [
       "<Figure size 1080x216 with 1 Axes>"
      ]
     },
     "metadata": {
      "needs_background": "light"
     },
     "output_type": "display_data"
    }
   ],
   "source": [
    "compdata_cont.boxplot(column=['S1','S2','S3'],vert=False, figsize=(15,3))\n",
    "plt.title('Sentiment Characteristics of IPO Box Plot')\n",
    "plt.show()"
   ]
  },
  {
   "cell_type": "code",
   "execution_count": 193,
   "metadata": {},
   "outputs": [
    {
     "data": {
      "image/png": "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\n",
      "text/plain": [
       "<Figure size 1080x144 with 1 Axes>"
      ]
     },
     "metadata": {
      "needs_background": "light"
     },
     "output_type": "display_data"
    }
   ],
   "source": [
    "compdata_cont.boxplot(column=['S2','S3'],vert=False, figsize=(15,2))\n",
    "plt.title('Number of Negative Words & Number of Uncertain Words Box Plot')\n",
    "plt.show()"
   ]
  },
  {
   "cell_type": "code",
   "execution_count": 198,
   "metadata": {},
   "outputs": [
    {
     "data": {
      "image/png": "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\n",
      "text/plain": [
       "<Figure size 1080x72 with 1 Axes>"
      ]
     },
     "metadata": {
      "needs_background": "light"
     },
     "output_type": "display_data"
    }
   ],
=======
   "execution_count": null,
   "metadata": {},
   "outputs": [],
>>>>>>> c29acd06a0cadd2dba62c0c3d17d46893bc97f3a
   "source": [
    "compdata_cont.boxplot(column='S1',vert=False, figsize=(15,1))\n",
    "plt.title('Number of Positive Words Box Plot')\n",
    "plt.show()"
   ]
  },
  {
   "cell_type": "markdown",
   "metadata": {},
   "source": [
    "It is obvious that there are outliers in the dataset that will offset the results. \n",
    "To remove this data we will use the interquartile range to determine the upper and lower bound limits and any data outside the limit will be converted to either the lower or upper bound number."
   ]
  },
  {
   "cell_type": "code",
   "execution_count": null,
   "metadata": {},
   "outputs": [],
   "source": [
    "for col in compdata_cont.columns:\n",
    "    u_bound = compdata_cont[col].mean() + 3* compdata_cont[col].std()\n",
    "    compdata_cont[col][compdata_cont[col] > u_bound] = u_bound"
   ]
  },
  {
   "cell_type": "code",
   "execution_count": 199,
   "metadata": {},
   "outputs": [],
   "source": [
    "# Did not need.. used a for loop instead\n",
    "\n",
    "# Q1 = compdata['P(IPO)'].quantile(0.25)\n",
    "# Q3 = compdata['P(IPO)'].quantile(0.75)\n",
    "# IQR = Q3 - Q1\n",
    "# LowerBound = Q1 - (1.5 * IQR)\n",
    "# UpperBound = Q3 + (1.5 * IQR)\n",
    "\n",
    "# compdata[((compdata['P(IPO)'] < LowerBound) |(compdata['P(IPO)'] > UpperBound))]\n",
    "\n",
    "# This dataframe has rows for the IQR Upper Bound and Lower Bound numbers for each variable\n",
    "\n",
    "# iqrdata.loc['IQR'] = (iqrdata.loc['75%']-iqrdata.loc['25%'])\n",
    "# iqrdata.loc['UpperRange'] = (iqrdata.loc['75%']+(1.5*iqrdata.loc['IQR']))\n",
    "# iqrdata.loc['LowerRange'] = (iqrdata.loc['25%']-(1.5*iqrdata.loc['IQR']))\n",
    "# iqrdata"
   ]
  },
  {
   "cell_type": "markdown",
   "metadata": {},
   "source": [
    "- We need to connect the upper bound and lower bound limits to all the variable results in the original dataframe\n",
    "- Check to make sure the dataframe shows these changes in variables\n",
    "- Create a new dataframe of the results excluding the outliers"
   ]
  },
  {
   "cell_type": "code",
   "execution_count": 200,
   "metadata": {},
   "outputs": [],
   "source": [
    "# Normalization\n",
    "#... zscore"
   ]
  },
  {
   "cell_type": "markdown",
   "metadata": {},
   "source": [
    "## Histograms "
   ]
  },
  {
   "cell_type": "code",
   "execution_count": 196,
   "metadata": {},
   "outputs": [
    {
     "data": {
      "text/plain": [
       "20.561940377359615"
      ]
     },
     "execution_count": 196,
     "metadata": {},
     "output_type": "execute_result"
    }
   ],
   "source": [
    "compdata['C3'].skew()"
   ]
  },
  {
   "cell_type": "code",
   "execution_count": null,
   "metadata": {},
   "outputs": [],
   "source": [
    "# a lot of missing values here so this is irrelevant right now\n",
    "\n",
    "compdata['C2'].hist(bins=20)"
   ]
  },
  {
   "cell_type": "code",
   "execution_count": null,
   "metadata": {},
   "outputs": [],
   "source": [
    "compdata['C3'].hist(bins=20)"
   ]
  },
  {
   "cell_type": "code",
   "execution_count": null,
   "metadata": {},
   "outputs": [],
   "source": [
    "compdata['C4'].hist(bins=20)"
   ]
  },
  {
   "cell_type": "code",
   "execution_count": null,
   "metadata": {},
   "outputs": [],
   "source": [
    "compdata['C5'].hist(bins=20)"
   ]
  },
  {
   "cell_type": "code",
   "execution_count": null,
   "metadata": {},
   "outputs": [],
   "source": [
    "compdata['C6'].hist(bins=20)"
   ]
  },
  {
   "cell_type": "code",
   "execution_count": null,
   "metadata": {},
   "outputs": [],
   "source": [
    "compdata['C7'].hist(bins=20)"
   ]
  },
  {
   "cell_type": "code",
   "execution_count": null,
   "metadata": {},
   "outputs": [],
   "source": [
    "compdata['T1'].hist(bins=20)"
   ]
  },
  {
   "cell_type": "code",
   "execution_count": null,
   "metadata": {},
   "outputs": [],
   "source": [
    "compdata['T2'].hist(bins=20)"
   ]
  },
  {
   "cell_type": "code",
   "execution_count": null,
   "metadata": {},
   "outputs": [],
   "source": [
    "compdata['T3'].hist(bins=20)"
   ]
  },
  {
   "cell_type": "code",
   "execution_count": null,
   "metadata": {},
   "outputs": [],
   "source": [
    "compdata['T4'].hist(bins=20)"
   ]
  },
  {
   "cell_type": "code",
   "execution_count": null,
   "metadata": {},
   "outputs": [],
   "source": [
    "compdata['T5'].hist(bins=20)"
   ]
  },
  {
   "cell_type": "code",
   "execution_count": null,
   "metadata": {},
   "outputs": [],
   "source": [
    "compdata['S1'].hist(bins=20)"
   ]
  },
  {
   "cell_type": "code",
   "execution_count": null,
   "metadata": {},
   "outputs": [],
   "source": [
    "compdata['S2'].hist(bins=20)"
   ]
  },
  {
   "cell_type": "code",
   "execution_count": null,
   "metadata": {},
   "outputs": [],
   "source": [
    "compdata['S3'].hist(bins=20)"
   ]
  },
  {
   "cell_type": "code",
   "execution_count": null,
   "metadata": {},
   "outputs": [],
   "source": [
    "# must revisit these histograms.  "
   ]
  },
  {
   "cell_type": "code",
   "execution_count": null,
   "metadata": {},
   "outputs": [],
   "source": [
    "# Correlation between Variables\n",
    "\n",
    "index= ['P(IPO)', 'P(H)', 'P(L)', 'P(1Day)','C1','C3','C4','C5','C6','C7','T1','T2','T3','T4','T5','S1','S2','S3']\n",
    "cols = ['P(IPO)', 'P(H)', 'P(L)', 'P(1Day)','C1','C3','C4','C5','C6','C7','T1','T2','T3','T4','T5','S1','S2','S3']\n",
    "df = DataFrame(abs(np.random.randn(18,18)), index=index,  columns=cols)\n",
    "fig, ax = plt.subplots(figsize=(15,15))\n",
    "sns.heatmap(df, annot=True, cbar=True, cmap='Blues')\n",
    "plt.title(\"Correlation between Variables\")\n",
    "plt.show()"
   ]
  },
  {
   "cell_type": "markdown",
   "metadata": {},
   "source": [
    "# Meta Data:\n",
    "__Variable Identification__"
   ]
  },
  {
   "cell_type": "markdown",
   "metadata": {},
   "source": [
    "- Do we need metadata?\n",
    "- Will this help create the heatmap and correlations?"
   ]
  },
  {
   "cell_type": "markdown",
   "metadata": {},
   "source": [
    "__**Not Finished__\n",
    "\n",
    "data = []\n",
    "for v in compdata.columns:\n",
    "    # Defining the role\n",
    "    if v == 'I1':\n",
    "        role = 'ticker'\n",
    "    elif v == 'I2':\n",
    "        role = 'company_name'\n",
    "    elif v == 'I3':\n",
    "        role = 'standard_industry_classifier'\n",
    "    else:\n",
    "        role = 'input'\n",
    "         \n",
    "    # Defining the level\n",
    "    if v == ('C2','Y1','Y2','C3'):\n",
    "        level = 'binary'\n",
    "    elif v == 'I2':\n",
    "        role = 'company_name'\n",
    "    elif v == 'I3':\n",
    "        role = 'standard_industry_classifier'\n",
    "    else:\n",
    "        role = 'input'\n",
    "    \n",
    "    # Defining the data type \n",
    "    \n",
    "    # Create a Dict that contains all the metadata for the variable\n",
    "\n",
    "    \n",
    "meta = pd.DataFrame(data, columns=[])\n",
    "meta.set_index('varname', inplace=True)"
   ]
  }
 ],
 "metadata": {
  "kernelspec": {
   "display_name": "Python 3",
   "language": "python",
   "name": "python3"
  },
  "language_info": {
   "codemirror_mode": {
    "name": "ipython",
    "version": 3
   },
   "file_extension": ".py",
   "mimetype": "text/x-python",
   "name": "python",
   "nbconvert_exporter": "python",
   "pygments_lexer": "ipython3",
   "version": "3.6.7"
  }
 },
 "nbformat": 4,
 "nbformat_minor": 4
}
