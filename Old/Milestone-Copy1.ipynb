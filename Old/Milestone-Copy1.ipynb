{
 "cells": [
  {
   "cell_type": "markdown",
   "metadata": {},
   "source": [
    "# Importing Data:"
   ]
  },
  {
   "cell_type": "code",
   "execution_count": 2,
   "metadata": {},
   "outputs": [],
   "source": [
    "# import required package for data handling\n",
    "import pandas as pd\n",
    "import numpy as np\n",
    "import seaborn as sns\n",
    "import matplotlib as plt\n",
    "import matplotlib.pyplot as plt\n",
    "from pandas import DataFrame\n",
    "%matplotlib inline\n",
    "\n",
    "# import required packages for splitting data\n",
    "from sklearn import model_selection\n",
    "from sklearn.model_selection import cross_val_score\n",
    "from sklearn.model_selection import train_test_split\n",
    "\n",
    "# import required packages for evaluating models\n",
    "from sklearn import metrics\n",
    "from sklearn.metrics import confusion_matrix\n",
    "from sklearn.metrics import classification_report\n",
    "from sklearn.metrics import roc_auc_score\n",
    "from sklearn.metrics import accuracy_score\n",
    "from sklearn.metrics import precision_recall_fscore_support\n",
    "\n",
    "# import `logistic regression` model\n",
    "from sklearn.linear_model import LogisticRegression"
   ]
  },
  {
   "cell_type": "code",
   "execution_count": 3,
   "metadata": {},
   "outputs": [
    {
     "data": {
      "text/html": [
       "<div>\n",
       "<style scoped>\n",
       "    .dataframe tbody tr th:only-of-type {\n",
       "        vertical-align: middle;\n",
       "    }\n",
       "\n",
       "    .dataframe tbody tr th {\n",
       "        vertical-align: top;\n",
       "    }\n",
       "\n",
       "    .dataframe thead th {\n",
       "        text-align: right;\n",
       "    }\n",
       "</style>\n",
       "<table border=\"1\" class=\"dataframe\">\n",
       "  <thead>\n",
       "    <tr style=\"text-align: right;\">\n",
       "      <th></th>\n",
       "      <th>I1</th>\n",
       "      <th>I2</th>\n",
       "      <th>I3</th>\n",
       "      <th>P(IPO)</th>\n",
       "      <th>P(H)</th>\n",
       "      <th>P(L)</th>\n",
       "      <th>P(1Day)</th>\n",
       "      <th>C1</th>\n",
       "      <th>C2</th>\n",
       "      <th>C3</th>\n",
       "      <th>...</th>\n",
       "      <th>C6</th>\n",
       "      <th>C7</th>\n",
       "      <th>T1</th>\n",
       "      <th>T2</th>\n",
       "      <th>T3</th>\n",
       "      <th>T4</th>\n",
       "      <th>T5</th>\n",
       "      <th>S1</th>\n",
       "      <th>S2</th>\n",
       "      <th>S3</th>\n",
       "    </tr>\n",
       "  </thead>\n",
       "  <tbody>\n",
       "    <tr>\n",
       "      <th>0</th>\n",
       "      <td>AATI</td>\n",
       "      <td>ADVANCED ANALOGIC TECHNOLOGIES INC</td>\n",
       "      <td>3674</td>\n",
       "      <td>10.0</td>\n",
       "      <td>9.5</td>\n",
       "      <td>8.5</td>\n",
       "      <td>11.870000</td>\n",
       "      <td>122.0</td>\n",
       "      <td>1.0</td>\n",
       "      <td>3.43</td>\n",
       "      <td>...</td>\n",
       "      <td>10600000.0</td>\n",
       "      <td>51.345</td>\n",
       "      <td>470.0</td>\n",
       "      <td>12719.0</td>\n",
       "      <td>11560.0</td>\n",
       "      <td>301.0</td>\n",
       "      <td>690.0</td>\n",
       "      <td>62.0</td>\n",
       "      <td>117.0</td>\n",
       "      <td>139.0</td>\n",
       "    </tr>\n",
       "    <tr>\n",
       "      <th>1</th>\n",
       "      <td>ABPI</td>\n",
       "      <td>ACCENTIA BIOPHARMACEUTICALS INC</td>\n",
       "      <td>2834</td>\n",
       "      <td>8.0</td>\n",
       "      <td>10.0</td>\n",
       "      <td>8.0</td>\n",
       "      <td>7.250000</td>\n",
       "      <td>259.0</td>\n",
       "      <td>0.0</td>\n",
       "      <td>-1.62</td>\n",
       "      <td>...</td>\n",
       "      <td>2400000.0</td>\n",
       "      <td>25.936</td>\n",
       "      <td>791.0</td>\n",
       "      <td>21792.0</td>\n",
       "      <td>19585.0</td>\n",
       "      <td>510.0</td>\n",
       "      <td>1120.0</td>\n",
       "      <td>71.0</td>\n",
       "      <td>242.0</td>\n",
       "      <td>237.0</td>\n",
       "    </tr>\n",
       "    <tr>\n",
       "      <th>2</th>\n",
       "      <td>ACAD</td>\n",
       "      <td>ACADIA PHARMACEUTICALS INC</td>\n",
       "      <td>2834</td>\n",
       "      <td>7.0</td>\n",
       "      <td>14.0</td>\n",
       "      <td>12.0</td>\n",
       "      <td>6.700000</td>\n",
       "      <td>90.0</td>\n",
       "      <td>1.0</td>\n",
       "      <td>-1.24</td>\n",
       "      <td>...</td>\n",
       "      <td>5000000.0</td>\n",
       "      <td>7.378</td>\n",
       "      <td>201.0</td>\n",
       "      <td>5262.0</td>\n",
       "      <td>4785.0</td>\n",
       "      <td>128.0</td>\n",
       "      <td>325.0</td>\n",
       "      <td>61.0</td>\n",
       "      <td>33.0</td>\n",
       "      <td>60.0</td>\n",
       "    </tr>\n",
       "    <tr>\n",
       "      <th>3</th>\n",
       "      <td>ACHN</td>\n",
       "      <td>ACHILLION PHARMACEUTICALS INC</td>\n",
       "      <td>2834</td>\n",
       "      <td>11.5</td>\n",
       "      <td>16.0</td>\n",
       "      <td>14.0</td>\n",
       "      <td>12.390000</td>\n",
       "      <td>209.0</td>\n",
       "      <td>1.0</td>\n",
       "      <td>-0.91</td>\n",
       "      <td>...</td>\n",
       "      <td>4500000.0</td>\n",
       "      <td>8.526</td>\n",
       "      <td>328.0</td>\n",
       "      <td>8259.0</td>\n",
       "      <td>7574.0</td>\n",
       "      <td>177.0</td>\n",
       "      <td>509.0</td>\n",
       "      <td>80.0</td>\n",
       "      <td>59.0</td>\n",
       "      <td>110.0</td>\n",
       "    </tr>\n",
       "    <tr>\n",
       "      <th>4</th>\n",
       "      <td>ACLI</td>\n",
       "      <td>AMERICAN COMMERCIAL LINES INC.</td>\n",
       "      <td>4492</td>\n",
       "      <td>21.0</td>\n",
       "      <td>21.0</td>\n",
       "      <td>19.0</td>\n",
       "      <td>56.599998</td>\n",
       "      <td>80.0</td>\n",
       "      <td>1.0</td>\n",
       "      <td>0.07</td>\n",
       "      <td>...</td>\n",
       "      <td>8250000.0</td>\n",
       "      <td>632.298</td>\n",
       "      <td>572.0</td>\n",
       "      <td>14830.0</td>\n",
       "      <td>13176.0</td>\n",
       "      <td>336.0</td>\n",
       "      <td>720.0</td>\n",
       "      <td>67.0</td>\n",
       "      <td>149.0</td>\n",
       "      <td>167.0</td>\n",
       "    </tr>\n",
       "  </tbody>\n",
       "</table>\n",
       "<p>5 rows × 22 columns</p>\n",
       "</div>"
      ],
      "text/plain": [
       "     I1                                  I2    I3  P(IPO)  P(H)  P(L)  \\\n",
       "0  AATI  ADVANCED ANALOGIC TECHNOLOGIES INC  3674    10.0   9.5   8.5   \n",
       "1  ABPI     ACCENTIA BIOPHARMACEUTICALS INC  2834     8.0  10.0   8.0   \n",
       "2  ACAD          ACADIA PHARMACEUTICALS INC  2834     7.0  14.0  12.0   \n",
       "3  ACHN       ACHILLION PHARMACEUTICALS INC  2834    11.5  16.0  14.0   \n",
       "4  ACLI     AMERICAN COMMERCIAL LINES INC.   4492    21.0  21.0  19.0   \n",
       "\n",
       "     P(1Day)     C1   C2    C3  ...          C6       C7     T1       T2  \\\n",
       "0  11.870000  122.0  1.0  3.43  ...  10600000.0   51.345  470.0  12719.0   \n",
       "1   7.250000  259.0  0.0 -1.62  ...   2400000.0   25.936  791.0  21792.0   \n",
       "2   6.700000   90.0  1.0 -1.24  ...   5000000.0    7.378  201.0   5262.0   \n",
       "3  12.390000  209.0  1.0 -0.91  ...   4500000.0    8.526  328.0   8259.0   \n",
       "4  56.599998   80.0  1.0  0.07  ...   8250000.0  632.298  572.0  14830.0   \n",
       "\n",
       "        T3     T4      T5    S1     S2     S3  \n",
       "0  11560.0  301.0   690.0  62.0  117.0  139.0  \n",
       "1  19585.0  510.0  1120.0  71.0  242.0  237.0  \n",
       "2   4785.0  128.0   325.0  61.0   33.0   60.0  \n",
       "3   7574.0  177.0   509.0  80.0   59.0  110.0  \n",
       "4  13176.0  336.0   720.0  67.0  149.0  167.0  \n",
       "\n",
       "[5 rows x 22 columns]"
      ]
     },
     "execution_count": 3,
     "metadata": {},
     "output_type": "execute_result"
    }
   ],
   "source": [
    "compdata_original = pd.read_csv('comp1data.csv', header=0, na_values = '-')\n",
    "compdata_original.head()"
   ]
  },
  {
   "cell_type": "markdown",
   "metadata": {},
   "source": [
    "# Descriptive Statistics"
   ]
  },
  {
   "cell_type": "code",
   "execution_count": 4,
   "metadata": {},
   "outputs": [
    {
     "data": {
      "text/plain": [
       "(682, 22)"
      ]
     },
     "execution_count": 4,
     "metadata": {},
     "output_type": "execute_result"
    }
   ],
   "source": [
    "compdata_original.shape\n",
    "# 682 rows and 22 columns"
   ]
  },
  {
   "cell_type": "code",
   "execution_count": 5,
   "metadata": {},
   "outputs": [
    {
     "data": {
      "text/plain": [
       "P(IPO)     1.350000e+01\n",
       "P(H)       1.500000e+01\n",
       "P(L)       1.300000e+01\n",
       "P(1Day)    1.484500e+01\n",
       "C1         1.070000e+02\n",
       "C2         1.000000e+00\n",
       "C3         1.000000e-02\n",
       "C4         9.124591e-03\n",
       "C5         2.740018e+07\n",
       "C6         7.398704e+06\n",
       "C7         1.038330e+02\n",
       "T1         4.440000e+02\n",
       "T2         1.204500e+04\n",
       "T3         1.078500e+04\n",
       "T4         2.790000e+02\n",
       "T5         6.240000e+02\n",
       "S1         6.000000e+01\n",
       "S2         1.000000e+02\n",
       "S3         1.340000e+02\n",
       "dtype: float64"
      ]
     },
     "execution_count": 5,
     "metadata": {},
     "output_type": "execute_result"
    }
   ],
   "source": [
    "compdata_original.describe(include='all')\n",
    "compdata_original.median()"
   ]
  },
  {
   "cell_type": "code",
   "execution_count": 6,
   "metadata": {},
   "outputs": [
    {
     "data": {
      "text/plain": [
       "P(IPO)     1.350000e+01\n",
       "P(H)       1.500000e+01\n",
       "P(L)       1.300000e+01\n",
       "P(1Day)    1.484500e+01\n",
       "C1         1.070000e+02\n",
       "C2         1.000000e+00\n",
       "C3         1.000000e-02\n",
       "C4         9.124591e-03\n",
       "C5         2.740018e+07\n",
       "C6         7.398704e+06\n",
       "C7         1.038330e+02\n",
       "T1         4.440000e+02\n",
       "T2         1.204500e+04\n",
       "T3         1.078500e+04\n",
       "T4         2.790000e+02\n",
       "T5         6.240000e+02\n",
       "S1         6.000000e+01\n",
       "S2         1.000000e+02\n",
       "S3         1.340000e+02\n",
       "dtype: float64"
      ]
     },
     "execution_count": 6,
     "metadata": {},
     "output_type": "execute_result"
    }
   ],
   "source": [
    "compdata_original.median()"
   ]
  },
  {
   "cell_type": "code",
   "execution_count": 7,
   "metadata": {},
   "outputs": [],
   "source": [
    "# Create a copy of the data\n",
    "compdata = compdata_original.copy()"
   ]
  },
  {
   "cell_type": "markdown",
   "metadata": {},
   "source": [
    "# Variable Calculations"
   ]
  },
  {
   "cell_type": "code",
   "execution_count": 8,
   "metadata": {},
   "outputs": [
    {
     "data": {
      "text/html": [
       "<div>\n",
       "<style scoped>\n",
       "    .dataframe tbody tr th:only-of-type {\n",
       "        vertical-align: middle;\n",
       "    }\n",
       "\n",
       "    .dataframe tbody tr th {\n",
       "        vertical-align: top;\n",
       "    }\n",
       "\n",
       "    .dataframe thead th {\n",
       "        text-align: right;\n",
       "    }\n",
       "</style>\n",
       "<table border=\"1\" class=\"dataframe\">\n",
       "  <thead>\n",
       "    <tr style=\"text-align: right;\">\n",
       "      <th></th>\n",
       "      <th>I1</th>\n",
       "      <th>I2</th>\n",
       "      <th>I3</th>\n",
       "      <th>P(IPO)</th>\n",
       "      <th>P(H)</th>\n",
       "      <th>P(L)</th>\n",
       "      <th>P(1Day)</th>\n",
       "      <th>C1</th>\n",
       "      <th>C2</th>\n",
       "      <th>C3</th>\n",
       "      <th>...</th>\n",
       "      <th>C6</th>\n",
       "      <th>C7</th>\n",
       "      <th>T1</th>\n",
       "      <th>T2</th>\n",
       "      <th>T3</th>\n",
       "      <th>T4</th>\n",
       "      <th>T5</th>\n",
       "      <th>S1</th>\n",
       "      <th>S2</th>\n",
       "      <th>S3</th>\n",
       "    </tr>\n",
       "  </thead>\n",
       "  <tbody>\n",
       "  </tbody>\n",
       "</table>\n",
       "<p>0 rows × 22 columns</p>\n",
       "</div>"
      ],
      "text/plain": [
       "Empty DataFrame\n",
       "Columns: [I1, I2, I3, P(IPO), P(H), P(L), P(1Day), C1, C2, C3, C4, C5, C6, C7, T1, T2, T3, T4, T5, S1, S2, S3]\n",
       "Index: []\n",
       "\n",
       "[0 rows x 22 columns]"
      ]
     },
     "execution_count": 8,
     "metadata": {},
     "output_type": "execute_result"
    }
   ],
   "source": [
    "# Drop the rows with mising T2 values\n",
    "# Cannot do calculations with missing data on the number of words, the ratios will be 0 and create outliers\n",
    "\n",
    "compdata.drop(compdata[compdata['T1'] == 0].index, inplace = True) \n",
    "compdata.drop(compdata[compdata['T2'] == 0].index, inplace = True) \n",
    "compdata.loc[compdata['T1'] == 0]"
   ]
  },
  {
   "cell_type": "code",
   "execution_count": 9,
   "metadata": {},
   "outputs": [
    {
     "data": {
      "text/html": [
       "<div>\n",
       "<style scoped>\n",
       "    .dataframe tbody tr th:only-of-type {\n",
       "        vertical-align: middle;\n",
       "    }\n",
       "\n",
       "    .dataframe tbody tr th {\n",
       "        vertical-align: top;\n",
       "    }\n",
       "\n",
       "    .dataframe thead th {\n",
       "        text-align: right;\n",
       "    }\n",
       "</style>\n",
       "<table border=\"1\" class=\"dataframe\">\n",
       "  <thead>\n",
       "    <tr style=\"text-align: right;\">\n",
       "      <th></th>\n",
       "      <th>I1</th>\n",
       "      <th>I2</th>\n",
       "      <th>I3</th>\n",
       "      <th>P(IPO)</th>\n",
       "      <th>P(H)</th>\n",
       "      <th>P(L)</th>\n",
       "      <th>P(1Day)</th>\n",
       "      <th>C1</th>\n",
       "      <th>C2</th>\n",
       "      <th>C3</th>\n",
       "      <th>...</th>\n",
       "      <th>C6</th>\n",
       "      <th>C7</th>\n",
       "      <th>T1</th>\n",
       "      <th>T2</th>\n",
       "      <th>T3</th>\n",
       "      <th>T4</th>\n",
       "      <th>T5</th>\n",
       "      <th>S1</th>\n",
       "      <th>S2</th>\n",
       "      <th>S3</th>\n",
       "    </tr>\n",
       "  </thead>\n",
       "  <tbody>\n",
       "  </tbody>\n",
       "</table>\n",
       "<p>0 rows × 22 columns</p>\n",
       "</div>"
      ],
      "text/plain": [
       "Empty DataFrame\n",
       "Columns: [I1, I2, I3, P(IPO), P(H), P(L), P(1Day), C1, C2, C3, C4, C5, C6, C7, T1, T2, T3, T4, T5, S1, S2, S3]\n",
       "Index: []\n",
       "\n",
       "[0 rows x 22 columns]"
      ]
     },
     "execution_count": 9,
     "metadata": {},
     "output_type": "execute_result"
    }
   ],
   "source": [
    "compdata.loc[compdata['T2'] == 0]"
   ]
  },
  {
   "cell_type": "code",
   "execution_count": 1,
   "metadata": {},
   "outputs": [
    {
     "ename": "NameError",
     "evalue": "name 'compdata' is not defined",
     "output_type": "error",
     "traceback": [
      "\u001b[0;31m---------------------------------------------------------------------------\u001b[0m",
      "\u001b[0;31mNameError\u001b[0m                                 Traceback (most recent call last)",
      "\u001b[0;32m<ipython-input-1-f3a65b7cdb57>\u001b[0m in \u001b[0;36m<module>\u001b[0;34m\u001b[0m\n\u001b[1;32m      5\u001b[0m \u001b[0;34m\u001b[0m\u001b[0m\n\u001b[1;32m      6\u001b[0m \u001b[0;31m# Percentage of real words\u001b[0m\u001b[0;34m\u001b[0m\u001b[0;34m\u001b[0m\u001b[0;34m\u001b[0m\u001b[0m\n\u001b[0;32m----> 7\u001b[0;31m \u001b[0mcompdata\u001b[0m\u001b[0;34m[\u001b[0m\u001b[0;34m'T3_'\u001b[0m\u001b[0;34m]\u001b[0m \u001b[0;34m=\u001b[0m \u001b[0;34m(\u001b[0m\u001b[0mcompdata\u001b[0m\u001b[0;34m[\u001b[0m\u001b[0;34m'T3'\u001b[0m\u001b[0;34m]\u001b[0m\u001b[0;34m/\u001b[0m\u001b[0mcompdata\u001b[0m\u001b[0;34m[\u001b[0m\u001b[0;34m'T2'\u001b[0m\u001b[0;34m]\u001b[0m\u001b[0;34m)\u001b[0m\u001b[0;34m\u001b[0m\u001b[0;34m\u001b[0m\u001b[0m\n\u001b[0m\u001b[1;32m      8\u001b[0m \u001b[0;31m# Percentage of long sentences\u001b[0m\u001b[0;34m\u001b[0m\u001b[0;34m\u001b[0m\u001b[0;34m\u001b[0m\u001b[0m\n\u001b[1;32m      9\u001b[0m \u001b[0mcompdata\u001b[0m\u001b[0;34m[\u001b[0m\u001b[0;34m'T4_'\u001b[0m\u001b[0;34m]\u001b[0m \u001b[0;34m=\u001b[0m \u001b[0;34m(\u001b[0m\u001b[0mcompdata\u001b[0m\u001b[0;34m[\u001b[0m\u001b[0;34m'T4'\u001b[0m\u001b[0;34m]\u001b[0m\u001b[0;34m/\u001b[0m\u001b[0mcompdata\u001b[0m\u001b[0;34m[\u001b[0m\u001b[0;34m'T1'\u001b[0m\u001b[0;34m]\u001b[0m\u001b[0;34m)\u001b[0m\u001b[0;34m\u001b[0m\u001b[0;34m\u001b[0m\u001b[0m\n",
      "\u001b[0;31mNameError\u001b[0m: name 'compdata' is not defined"
     ]
    }
   ],
   "source": [
    "# Ratios:\n",
    "\n",
    "    # ** How to find the ratio for T1 and T2... drop them\n",
    "    # Should the other numbers be dropped? Make a new df with imputed/calculated numbers?\n",
    "\n",
    "# Percentage of real words\n",
    "compdata['T3_'] = (compdata['T3']/compdata['T2'])\n",
    "# Percentage of long sentences\n",
    "compdata['T4_'] = (compdata['T4']/compdata['T1'])\n",
    "# Percentage of long words\n",
    "compdata['T5_'] = (compdata['T5']/compdata['T2'])\n",
    "# Percentage of positive words\n",
    "compdata['S1_'] = (compdata['S1']/compdata['T2'])\n",
    "# Percentage of negative words\n",
    "compdata['S2_'] = (compdata['S2']/compdata['T2'])\n",
    "# Percentage of uncertain words\n",
    "compdata['S3_'] = (compdata['S3']/compdata['T2'])\n",
    "compdata.head()\n",
    "\n",
    "# Target & Control Variable Calculation\n",
    "\n",
    "compdata['P(mid)'] = ((compdata['P(H)']+compdata['P(L)'])/2)\n",
    "\n",
    "def p(row):\n",
    "    if row['P(IPO)'] < row['P(mid)']:\n",
    "        val = 1\n",
    "    else:\n",
    "        val = 0\n",
    "    return val\n",
    "\n",
    "def q(row):\n",
    "    if row['P(1Day)'] > row['P(IPO)']:\n",
    "        val = 1\n",
    "    else:\n",
    "        val = 0\n",
    "    return val\n",
    "\n",
    "def r(row):\n",
    "    if row['C3'] >= 0:\n",
    "        val = 1\n",
    "    else:\n",
    "        val = 0\n",
    "    return val\n",
    "\n",
    "def s(row):\n",
    "    if row['P(IPO)'] > row['P(mid)']:\n",
    "        val = (row['P(IPO)'] - row['P(mid)'])/row['P(mid)']*100\n",
    "    else:\n",
    "        val = 0\n",
    "    return val\n",
    "\n",
    "compdata['C3_'] = compdata.apply(r, axis=1)\n",
    "compdata['C5_'] = compdata['C5']/compdata['C6'] \n",
    "compdata['C6_'] = compdata.apply(s, axis=1)\n",
    "compdata['Y1'] = compdata.apply(p, axis=1)\n",
    "compdata['Y2'] = compdata.apply(q, axis=1)"
   ]
  },
  {
   "cell_type": "markdown",
   "metadata": {},
   "source": [
    "# Missing Data:"
   ]
  },
  {
   "cell_type": "code",
   "execution_count": 282,
   "metadata": {},
   "outputs": [
    {
     "name": "stdout",
     "output_type": "stream",
     "text": [
      "<class 'pandas.core.frame.DataFrame'>\n",
      "RangeIndex: 682 entries, 0 to 681\n",
      "Data columns (total 22 columns):\n",
      "I1         682 non-null object\n",
      "I2         682 non-null object\n",
      "I3         674 non-null object\n",
      "P(IPO)     677 non-null float64\n",
      "P(H)       672 non-null float64\n",
      "P(L)       672 non-null float64\n",
      "P(1Day)    660 non-null float64\n",
      "C1         660 non-null float64\n",
      "C2         660 non-null float64\n",
      "C3         646 non-null float64\n",
      "C4         660 non-null float64\n",
      "C5         676 non-null float64\n",
      "C6         676 non-null float64\n",
      "C7         610 non-null float64\n",
      "T1         681 non-null float64\n",
      "T2         681 non-null float64\n",
      "T3         681 non-null float64\n",
      "T4         681 non-null float64\n",
      "T5         681 non-null float64\n",
      "S1         681 non-null float64\n",
      "S2         681 non-null float64\n",
      "S3         681 non-null float64\n",
      "dtypes: float64(19), object(3)\n",
      "memory usage: 117.3+ KB\n"
     ]
    }
   ],
   "source": [
    "compdata.info()"
   ]
  },
  {
   "cell_type": "code",
   "execution_count": 298,
   "metadata": {},
   "outputs": [],
   "source": [
    "#isinstance(compdata['I3'], object) \n",
    "\n",
    "#compdata['I3'] = [isinstance(x, str) for x in compdata.I3]\n",
    "#compdata\n",
    "\n",
    "#compdata[compdata.I3.apply(lambda x: isinstance(x, str))]"
   ]
  },
  {
   "cell_type": "code",
   "execution_count": 140,
   "metadata": {},
   "outputs": [
    {
     "data": {
      "text/plain": [
       "I1          0\n",
       "I2          0\n",
       "I3          8\n",
       "P(IPO)      5\n",
       "P(H)       10\n",
       "P(L)       10\n",
       "P(1Day)    22\n",
       "C1         22\n",
       "C2         22\n",
       "C3         36\n",
       "C4         22\n",
       "C5          6\n",
       "C6          6\n",
       "C7         72\n",
       "T1          1\n",
       "T2          1\n",
       "T3          1\n",
       "T4          1\n",
       "T5          1\n",
       "S1          1\n",
       "S2          1\n",
       "S3          1\n",
       "T3_         1\n",
       "T4_         1\n",
       "T5_         1\n",
       "S1_         1\n",
       "S2_         1\n",
       "S3_         1\n",
       "P(mid)     10\n",
       "C3_         0\n",
       "C5_         6\n",
       "C6_         0\n",
       "Y1          0\n",
       "Y2          0\n",
       "dtype: int64"
      ]
     },
     "execution_count": 140,
     "metadata": {},
     "output_type": "execute_result"
    }
   ],
   "source": [
    "compdata.isna().sum()"
   ]
  },
  {
   "cell_type": "code",
   "execution_count": 310,
   "metadata": {},
   "outputs": [
    {
     "data": {
      "text/plain": [
       "I1          0.00\n",
       "I2          0.00\n",
       "I3          1.17\n",
       "P(IPO)      0.73\n",
       "P(H)        1.47\n",
       "P(L)        1.47\n",
       "P(1Day)     3.23\n",
       "C1          3.23\n",
       "C2          3.23\n",
       "C3          5.28\n",
       "C4          3.23\n",
       "C5          0.88\n",
       "C6          0.88\n",
       "C7         10.56\n",
       "T1          0.15\n",
       "T2          0.15\n",
       "T3          0.15\n",
       "T4          0.15\n",
       "T5          0.15\n",
       "S1          0.15\n",
       "S2          0.15\n",
       "S3          0.15\n",
       "dtype: float64"
      ]
     },
     "execution_count": 310,
     "metadata": {},
     "output_type": "execute_result"
    }
   ],
   "source": [
    "# what is the percentage of missing data in each column\n",
    "compdata.isna().mean().round(4) * 100\n",
    "\n",
    "# Majority of the data is missing from C7"
   ]
  },
  {
   "cell_type": "code",
   "execution_count": 311,
   "metadata": {},
   "outputs": [
    {
     "data": {
      "text/html": [
       "<div>\n",
       "<style scoped>\n",
       "    .dataframe tbody tr th:only-of-type {\n",
       "        vertical-align: middle;\n",
       "    }\n",
       "\n",
       "    .dataframe tbody tr th {\n",
       "        vertical-align: top;\n",
       "    }\n",
       "\n",
       "    .dataframe thead th {\n",
       "        text-align: right;\n",
       "    }\n",
       "</style>\n",
       "<table border=\"1\" class=\"dataframe\">\n",
       "  <thead>\n",
       "    <tr style=\"text-align: right;\">\n",
       "      <th></th>\n",
       "      <th>I1</th>\n",
       "      <th>I2</th>\n",
       "      <th>I3</th>\n",
       "      <th>P(IPO)</th>\n",
       "      <th>P(H)</th>\n",
       "      <th>P(L)</th>\n",
       "      <th>P(1Day)</th>\n",
       "      <th>C1</th>\n",
       "      <th>C2</th>\n",
       "      <th>C3</th>\n",
       "      <th>...</th>\n",
       "      <th>C6</th>\n",
       "      <th>C7</th>\n",
       "      <th>T1</th>\n",
       "      <th>T2</th>\n",
       "      <th>T3</th>\n",
       "      <th>T4</th>\n",
       "      <th>T5</th>\n",
       "      <th>S1</th>\n",
       "      <th>S2</th>\n",
       "      <th>S3</th>\n",
       "    </tr>\n",
       "  </thead>\n",
       "  <tbody>\n",
       "    <tr>\n",
       "      <th>174</th>\n",
       "      <td>DLB</td>\n",
       "      <td>Dolby Laboratories, Inc.</td>\n",
       "      <td>6794, 3861, 3663, 7819</td>\n",
       "      <td>18.0</td>\n",
       "      <td>18.0</td>\n",
       "      <td>16.0</td>\n",
       "      <td>24.299999</td>\n",
       "      <td>90.0</td>\n",
       "      <td>1.0</td>\n",
       "      <td>0.47</td>\n",
       "      <td>...</td>\n",
       "      <td>27500000.0</td>\n",
       "      <td>289.041</td>\n",
       "      <td>500.0</td>\n",
       "      <td>15288.0</td>\n",
       "      <td>14243.0</td>\n",
       "      <td>360.0</td>\n",
       "      <td>912.0</td>\n",
       "      <td>69.0</td>\n",
       "      <td>122.0</td>\n",
       "      <td>165.0</td>\n",
       "    </tr>\n",
       "  </tbody>\n",
       "</table>\n",
       "<p>1 rows × 22 columns</p>\n",
       "</div>"
      ],
      "text/plain": [
       "      I1                         I2                      I3  P(IPO)  P(H)  \\\n",
       "174  DLB  Dolby Laboratories, Inc.   6794, 3861, 3663, 7819    18.0  18.0   \n",
       "\n",
       "     P(L)    P(1Day)    C1   C2    C3  ...          C6       C7     T1  \\\n",
       "174  16.0  24.299999  90.0  1.0  0.47  ...  27500000.0  289.041  500.0   \n",
       "\n",
       "          T2       T3     T4     T5    S1     S2     S3  \n",
       "174  15288.0  14243.0  360.0  912.0  69.0  122.0  165.0  \n",
       "\n",
       "[1 rows x 22 columns]"
      ]
     },
     "execution_count": 311,
     "metadata": {},
     "output_type": "execute_result"
    }
   ],
   "source": [
    "compdata[compdata[\"I1\"]=='DLB']"
   ]
  },
  {
   "cell_type": "code",
   "execution_count": 312,
   "metadata": {},
   "outputs": [
    {
     "data": {
      "text/html": [
       "<div>\n",
       "<style scoped>\n",
       "    .dataframe tbody tr th:only-of-type {\n",
       "        vertical-align: middle;\n",
       "    }\n",
       "\n",
       "    .dataframe tbody tr th {\n",
       "        vertical-align: top;\n",
       "    }\n",
       "\n",
       "    .dataframe thead th {\n",
       "        text-align: right;\n",
       "    }\n",
       "</style>\n",
       "<table border=\"1\" class=\"dataframe\">\n",
       "  <thead>\n",
       "    <tr style=\"text-align: right;\">\n",
       "      <th></th>\n",
       "      <th>I1</th>\n",
       "      <th>I2</th>\n",
       "      <th>I3</th>\n",
       "      <th>P(IPO)</th>\n",
       "      <th>P(H)</th>\n",
       "      <th>P(L)</th>\n",
       "      <th>P(1Day)</th>\n",
       "      <th>C1</th>\n",
       "      <th>C2</th>\n",
       "      <th>C3</th>\n",
       "      <th>...</th>\n",
       "      <th>C6</th>\n",
       "      <th>C7</th>\n",
       "      <th>T1</th>\n",
       "      <th>T2</th>\n",
       "      <th>T3</th>\n",
       "      <th>T4</th>\n",
       "      <th>T5</th>\n",
       "      <th>S1</th>\n",
       "      <th>S2</th>\n",
       "      <th>S3</th>\n",
       "    </tr>\n",
       "  </thead>\n",
       "  <tbody>\n",
       "    <tr>\n",
       "      <th>187</th>\n",
       "      <td>DTSI</td>\n",
       "      <td>DTS, INC.</td>\n",
       "      <td>3651, 6794, 7819</td>\n",
       "      <td>17.0</td>\n",
       "      <td>16.0</td>\n",
       "      <td>14.0</td>\n",
       "      <td>24.92</td>\n",
       "      <td>76.0</td>\n",
       "      <td>0.0</td>\n",
       "      <td>0.99</td>\n",
       "      <td>...</td>\n",
       "      <td>3840000.0</td>\n",
       "      <td>41.056</td>\n",
       "      <td>339.0</td>\n",
       "      <td>8274.0</td>\n",
       "      <td>7487.0</td>\n",
       "      <td>204.0</td>\n",
       "      <td>421.0</td>\n",
       "      <td>49.0</td>\n",
       "      <td>95.0</td>\n",
       "      <td>70.0</td>\n",
       "    </tr>\n",
       "  </tbody>\n",
       "</table>\n",
       "<p>1 rows × 22 columns</p>\n",
       "</div>"
      ],
      "text/plain": [
       "       I1         I2                I3  P(IPO)  P(H)  P(L)  P(1Day)    C1  \\\n",
       "187  DTSI  DTS, INC.  3651, 6794, 7819    17.0  16.0  14.0    24.92  76.0   \n",
       "\n",
       "      C2    C3  ...         C6      C7     T1      T2      T3     T4     T5  \\\n",
       "187  0.0  0.99  ...  3840000.0  41.056  339.0  8274.0  7487.0  204.0  421.0   \n",
       "\n",
       "       S1    S2    S3  \n",
       "187  49.0  95.0  70.0  \n",
       "\n",
       "[1 rows x 22 columns]"
      ]
     },
     "execution_count": 312,
     "metadata": {},
     "output_type": "execute_result"
    }
   ],
   "source": [
    "compdata[compdata[\"I1\"]=='DTSI']"
   ]
  },
  {
   "cell_type": "code",
   "execution_count": 313,
   "metadata": {},
   "outputs": [
    {
     "data": {
      "text/html": [
       "<div>\n",
       "<style scoped>\n",
       "    .dataframe tbody tr th:only-of-type {\n",
       "        vertical-align: middle;\n",
       "    }\n",
       "\n",
       "    .dataframe tbody tr th {\n",
       "        vertical-align: top;\n",
       "    }\n",
       "\n",
       "    .dataframe thead th {\n",
       "        text-align: right;\n",
       "    }\n",
       "</style>\n",
       "<table border=\"1\" class=\"dataframe\">\n",
       "  <thead>\n",
       "    <tr style=\"text-align: right;\">\n",
       "      <th></th>\n",
       "      <th>I1</th>\n",
       "      <th>I2</th>\n",
       "      <th>I3</th>\n",
       "      <th>P(IPO)</th>\n",
       "      <th>P(H)</th>\n",
       "      <th>P(L)</th>\n",
       "      <th>P(1Day)</th>\n",
       "      <th>C1</th>\n",
       "      <th>C2</th>\n",
       "      <th>C3</th>\n",
       "      <th>...</th>\n",
       "      <th>C6</th>\n",
       "      <th>C7</th>\n",
       "      <th>T1</th>\n",
       "      <th>T2</th>\n",
       "      <th>T3</th>\n",
       "      <th>T4</th>\n",
       "      <th>T5</th>\n",
       "      <th>S1</th>\n",
       "      <th>S2</th>\n",
       "      <th>S3</th>\n",
       "    </tr>\n",
       "  </thead>\n",
       "  <tbody>\n",
       "    <tr>\n",
       "      <th>499</th>\n",
       "      <td>RLD</td>\n",
       "      <td>RealD Inc.</td>\n",
       "      <td>3663, 3861, 6794</td>\n",
       "      <td>16.0</td>\n",
       "      <td>15.0</td>\n",
       "      <td>13.0</td>\n",
       "      <td>19.51</td>\n",
       "      <td>98.0</td>\n",
       "      <td>1.0</td>\n",
       "      <td>-0.33</td>\n",
       "      <td>...</td>\n",
       "      <td>12500000.0</td>\n",
       "      <td>39.675</td>\n",
       "      <td>629.0</td>\n",
       "      <td>15904.0</td>\n",
       "      <td>14741.0</td>\n",
       "      <td>364.0</td>\n",
       "      <td>899.0</td>\n",
       "      <td>104.0</td>\n",
       "      <td>139.0</td>\n",
       "      <td>227.0</td>\n",
       "    </tr>\n",
       "  </tbody>\n",
       "</table>\n",
       "<p>1 rows × 22 columns</p>\n",
       "</div>"
      ],
      "text/plain": [
       "      I1          I2                I3  P(IPO)  P(H)  P(L)  P(1Day)    C1  \\\n",
       "499  RLD  RealD Inc.  3663, 3861, 6794    16.0  15.0  13.0    19.51  98.0   \n",
       "\n",
       "      C2    C3  ...          C6      C7     T1       T2       T3     T4  \\\n",
       "499  1.0 -0.33  ...  12500000.0  39.675  629.0  15904.0  14741.0  364.0   \n",
       "\n",
       "        T5     S1     S2     S3  \n",
       "499  899.0  104.0  139.0  227.0  \n",
       "\n",
       "[1 rows x 22 columns]"
      ]
     },
     "execution_count": 313,
     "metadata": {},
     "output_type": "execute_result"
    }
   ],
   "source": [
    "compdata[compdata[\"I1\"]=='RLD']"
   ]
  },
  {
   "cell_type": "code",
   "execution_count": 314,
   "metadata": {},
   "outputs": [
    {
     "data": {
      "text/html": [
       "<div>\n",
       "<style scoped>\n",
       "    .dataframe tbody tr th:only-of-type {\n",
       "        vertical-align: middle;\n",
       "    }\n",
       "\n",
       "    .dataframe tbody tr th {\n",
       "        vertical-align: top;\n",
       "    }\n",
       "\n",
       "    .dataframe thead th {\n",
       "        text-align: right;\n",
       "    }\n",
       "</style>\n",
       "<table border=\"1\" class=\"dataframe\">\n",
       "  <thead>\n",
       "    <tr style=\"text-align: right;\">\n",
       "      <th></th>\n",
       "      <th>I1</th>\n",
       "      <th>I2</th>\n",
       "      <th>I3</th>\n",
       "      <th>P(IPO)</th>\n",
       "      <th>P(H)</th>\n",
       "      <th>P(L)</th>\n",
       "      <th>P(1Day)</th>\n",
       "      <th>C1</th>\n",
       "      <th>C2</th>\n",
       "      <th>C3</th>\n",
       "      <th>...</th>\n",
       "      <th>C6</th>\n",
       "      <th>C7</th>\n",
       "      <th>T1</th>\n",
       "      <th>T2</th>\n",
       "      <th>T3</th>\n",
       "      <th>T4</th>\n",
       "      <th>T5</th>\n",
       "      <th>S1</th>\n",
       "      <th>S2</th>\n",
       "      <th>S3</th>\n",
       "    </tr>\n",
       "  </thead>\n",
       "  <tbody>\n",
       "    <tr>\n",
       "      <th>620</th>\n",
       "      <td>UPG</td>\n",
       "      <td>UNIVERSAL POWER GROUP</td>\n",
       "      <td>7389, 5063</td>\n",
       "      <td>7.0</td>\n",
       "      <td>9.0</td>\n",
       "      <td>7.0</td>\n",
       "      <td>7.35</td>\n",
       "      <td>101.0</td>\n",
       "      <td>0.0</td>\n",
       "      <td>0.38</td>\n",
       "      <td>...</td>\n",
       "      <td>3000000.0</td>\n",
       "      <td>81.275</td>\n",
       "      <td>304.0</td>\n",
       "      <td>6904.0</td>\n",
       "      <td>6234.0</td>\n",
       "      <td>147.0</td>\n",
       "      <td>287.0</td>\n",
       "      <td>29.0</td>\n",
       "      <td>61.0</td>\n",
       "      <td>66.0</td>\n",
       "    </tr>\n",
       "  </tbody>\n",
       "</table>\n",
       "<p>1 rows × 22 columns</p>\n",
       "</div>"
      ],
      "text/plain": [
       "      I1                      I2          I3  P(IPO)  P(H)  P(L)  P(1Day)  \\\n",
       "620  UPG  UNIVERSAL POWER GROUP   7389, 5063     7.0   9.0   7.0     7.35   \n",
       "\n",
       "        C1   C2    C3  ...         C6      C7     T1      T2      T3     T4  \\\n",
       "620  101.0  0.0  0.38  ...  3000000.0  81.275  304.0  6904.0  6234.0  147.0   \n",
       "\n",
       "        T5    S1    S2    S3  \n",
       "620  287.0  29.0  61.0  66.0  \n",
       "\n",
       "[1 rows x 22 columns]"
      ]
     },
     "execution_count": 314,
     "metadata": {},
     "output_type": "execute_result"
    }
   ],
   "source": [
    "compdata[compdata[\"I1\"]=='UPG']"
   ]
  },
  {
   "cell_type": "code",
   "execution_count": 142,
   "metadata": {},
   "outputs": [
    {
     "data": {
      "text/html": [
       "<div>\n",
       "<style scoped>\n",
       "    .dataframe tbody tr th:only-of-type {\n",
       "        vertical-align: middle;\n",
       "    }\n",
       "\n",
       "    .dataframe tbody tr th {\n",
       "        vertical-align: top;\n",
       "    }\n",
       "\n",
       "    .dataframe thead th {\n",
       "        text-align: right;\n",
       "    }\n",
       "</style>\n",
       "<table border=\"1\" class=\"dataframe\">\n",
       "  <thead>\n",
       "    <tr style=\"text-align: right;\">\n",
       "      <th></th>\n",
       "      <th>I1</th>\n",
       "      <th>I2</th>\n",
       "      <th>I3</th>\n",
       "      <th>P(IPO)</th>\n",
       "      <th>P(H)</th>\n",
       "      <th>P(L)</th>\n",
       "      <th>P(1Day)</th>\n",
       "      <th>C1</th>\n",
       "      <th>C2</th>\n",
       "      <th>C3</th>\n",
       "      <th>...</th>\n",
       "      <th>S1_</th>\n",
       "      <th>S2_</th>\n",
       "      <th>S3_</th>\n",
       "      <th>P(mid)</th>\n",
       "      <th>C3_</th>\n",
       "      <th>C5_</th>\n",
       "      <th>C6_</th>\n",
       "      <th>Y1</th>\n",
       "      <th>Y2</th>\n",
       "      <th>Imputed_C2</th>\n",
       "    </tr>\n",
       "  </thead>\n",
       "  <tbody>\n",
       "    <tr>\n",
       "      <th>0</th>\n",
       "      <td>AATI</td>\n",
       "      <td>ADVANCED ANALOGIC TECHNOLOGIES INC</td>\n",
       "      <td>3674</td>\n",
       "      <td>10.0</td>\n",
       "      <td>9.5</td>\n",
       "      <td>8.5</td>\n",
       "      <td>11.870000</td>\n",
       "      <td>122.0</td>\n",
       "      <td>1.0</td>\n",
       "      <td>3.43</td>\n",
       "      <td>...</td>\n",
       "      <td>0.004875</td>\n",
       "      <td>0.009199</td>\n",
       "      <td>0.010929</td>\n",
       "      <td>9.0</td>\n",
       "      <td>1</td>\n",
       "      <td>3.864345</td>\n",
       "      <td>11.111111</td>\n",
       "      <td>0</td>\n",
       "      <td>1</td>\n",
       "      <td>1.0</td>\n",
       "    </tr>\n",
       "    <tr>\n",
       "      <th>1</th>\n",
       "      <td>ABPI</td>\n",
       "      <td>ACCENTIA BIOPHARMACEUTICALS INC</td>\n",
       "      <td>2834</td>\n",
       "      <td>8.0</td>\n",
       "      <td>10.0</td>\n",
       "      <td>8.0</td>\n",
       "      <td>7.250000</td>\n",
       "      <td>259.0</td>\n",
       "      <td>0.0</td>\n",
       "      <td>-1.62</td>\n",
       "      <td>...</td>\n",
       "      <td>0.003258</td>\n",
       "      <td>0.011105</td>\n",
       "      <td>0.010876</td>\n",
       "      <td>9.0</td>\n",
       "      <td>0</td>\n",
       "      <td>12.028832</td>\n",
       "      <td>0.000000</td>\n",
       "      <td>1</td>\n",
       "      <td>0</td>\n",
       "      <td>0.0</td>\n",
       "    </tr>\n",
       "    <tr>\n",
       "      <th>2</th>\n",
       "      <td>ACAD</td>\n",
       "      <td>ACADIA PHARMACEUTICALS INC</td>\n",
       "      <td>2834</td>\n",
       "      <td>7.0</td>\n",
       "      <td>14.0</td>\n",
       "      <td>12.0</td>\n",
       "      <td>6.700000</td>\n",
       "      <td>90.0</td>\n",
       "      <td>1.0</td>\n",
       "      <td>-1.24</td>\n",
       "      <td>...</td>\n",
       "      <td>0.011593</td>\n",
       "      <td>0.006271</td>\n",
       "      <td>0.011403</td>\n",
       "      <td>13.0</td>\n",
       "      <td>0</td>\n",
       "      <td>3.369134</td>\n",
       "      <td>0.000000</td>\n",
       "      <td>1</td>\n",
       "      <td>0</td>\n",
       "      <td>1.0</td>\n",
       "    </tr>\n",
       "    <tr>\n",
       "      <th>3</th>\n",
       "      <td>ACHN</td>\n",
       "      <td>ACHILLION PHARMACEUTICALS INC</td>\n",
       "      <td>2834</td>\n",
       "      <td>11.5</td>\n",
       "      <td>16.0</td>\n",
       "      <td>14.0</td>\n",
       "      <td>12.390000</td>\n",
       "      <td>209.0</td>\n",
       "      <td>1.0</td>\n",
       "      <td>-0.91</td>\n",
       "      <td>...</td>\n",
       "      <td>0.009686</td>\n",
       "      <td>0.007144</td>\n",
       "      <td>0.013319</td>\n",
       "      <td>15.0</td>\n",
       "      <td>0</td>\n",
       "      <td>3.299697</td>\n",
       "      <td>0.000000</td>\n",
       "      <td>1</td>\n",
       "      <td>1</td>\n",
       "      <td>1.0</td>\n",
       "    </tr>\n",
       "    <tr>\n",
       "      <th>4</th>\n",
       "      <td>ACLI</td>\n",
       "      <td>AMERICAN COMMERCIAL LINES INC.</td>\n",
       "      <td>4492</td>\n",
       "      <td>21.0</td>\n",
       "      <td>21.0</td>\n",
       "      <td>19.0</td>\n",
       "      <td>56.599998</td>\n",
       "      <td>80.0</td>\n",
       "      <td>1.0</td>\n",
       "      <td>0.07</td>\n",
       "      <td>...</td>\n",
       "      <td>0.004518</td>\n",
       "      <td>0.010047</td>\n",
       "      <td>0.011261</td>\n",
       "      <td>20.0</td>\n",
       "      <td>1</td>\n",
       "      <td>3.726269</td>\n",
       "      <td>5.000000</td>\n",
       "      <td>0</td>\n",
       "      <td>1</td>\n",
       "      <td>1.0</td>\n",
       "    </tr>\n",
       "  </tbody>\n",
       "</table>\n",
       "<p>5 rows × 35 columns</p>\n",
       "</div>"
      ],
      "text/plain": [
       "     I1                                  I2    I3  P(IPO)  P(H)  P(L)  \\\n",
       "0  AATI  ADVANCED ANALOGIC TECHNOLOGIES INC  3674    10.0   9.5   8.5   \n",
       "1  ABPI     ACCENTIA BIOPHARMACEUTICALS INC  2834     8.0  10.0   8.0   \n",
       "2  ACAD          ACADIA PHARMACEUTICALS INC  2834     7.0  14.0  12.0   \n",
       "3  ACHN       ACHILLION PHARMACEUTICALS INC  2834    11.5  16.0  14.0   \n",
       "4  ACLI     AMERICAN COMMERCIAL LINES INC.   4492    21.0  21.0  19.0   \n",
       "\n",
       "     P(1Day)     C1   C2    C3  ...       S1_       S2_       S3_  P(mid)  \\\n",
       "0  11.870000  122.0  1.0  3.43  ...  0.004875  0.009199  0.010929     9.0   \n",
       "1   7.250000  259.0  0.0 -1.62  ...  0.003258  0.011105  0.010876     9.0   \n",
       "2   6.700000   90.0  1.0 -1.24  ...  0.011593  0.006271  0.011403    13.0   \n",
       "3  12.390000  209.0  1.0 -0.91  ...  0.009686  0.007144  0.013319    15.0   \n",
       "4  56.599998   80.0  1.0  0.07  ...  0.004518  0.010047  0.011261    20.0   \n",
       "\n",
       "   C3_        C5_        C6_  Y1  Y2  Imputed_C2  \n",
       "0    1   3.864345  11.111111   0   1         1.0  \n",
       "1    0  12.028832   0.000000   1   0         0.0  \n",
       "2    0   3.369134   0.000000   1   0         1.0  \n",
       "3    0   3.299697   0.000000   1   1         1.0  \n",
       "4    1   3.726269   5.000000   0   1         1.0  \n",
       "\n",
       "[5 rows x 35 columns]"
      ]
     },
     "execution_count": 142,
     "metadata": {},
     "output_type": "execute_result"
    }
   ],
   "source": [
    "# Since C2 is a binary value, we will fill the missing data with the mode\n",
    "\n",
    "compdata['Imputed_C2'] = compdata['C2'].fillna(compdata['C2'].mode()[0])\n",
    "compdata.head()"
   ]
  },
  {
   "cell_type": "code",
   "execution_count": 143,
   "metadata": {},
   "outputs": [
    {
     "data": {
      "text/plain": [
       "I1             0\n",
       "I2             0\n",
       "I3             8\n",
       "P(IPO)         5\n",
       "P(H)          10\n",
       "P(L)          10\n",
       "P(1Day)       22\n",
       "C1            22\n",
       "C2            22\n",
       "C3            36\n",
       "C4            22\n",
       "C5             6\n",
       "C6             6\n",
       "C7            72\n",
       "T1             1\n",
       "T2             1\n",
       "T3             1\n",
       "T4             1\n",
       "T5             1\n",
       "S1             1\n",
       "S2             1\n",
       "S3             1\n",
       "T3_            1\n",
       "T4_            1\n",
       "T5_            1\n",
       "S1_            1\n",
       "S2_            1\n",
       "S3_            1\n",
       "P(mid)        10\n",
       "C3_            0\n",
       "C5_            6\n",
       "C6_            0\n",
       "Y1             0\n",
       "Y2             0\n",
       "Imputed_C2     0\n",
       "dtype: int64"
      ]
     },
     "execution_count": 143,
     "metadata": {},
     "output_type": "execute_result"
    }
   ],
   "source": [
    "# Drop the columns that are missing data in the P variables\n",
    "\n",
    "compdata.isna().sum()"
   ]
  },
  {
   "cell_type": "code",
   "execution_count": 144,
   "metadata": {},
   "outputs": [
    {
     "data": {
      "text/html": [
       "<div>\n",
       "<style scoped>\n",
       "    .dataframe tbody tr th:only-of-type {\n",
       "        vertical-align: middle;\n",
       "    }\n",
       "\n",
       "    .dataframe tbody tr th {\n",
       "        vertical-align: top;\n",
       "    }\n",
       "\n",
       "    .dataframe thead th {\n",
       "        text-align: right;\n",
       "    }\n",
       "</style>\n",
       "<table border=\"1\" class=\"dataframe\">\n",
       "  <thead>\n",
       "    <tr style=\"text-align: right;\">\n",
       "      <th></th>\n",
       "      <th>P(IPO)</th>\n",
       "      <th>P(H)</th>\n",
       "      <th>P(L)</th>\n",
       "      <th>P(1Day)</th>\n",
       "      <th>C1</th>\n",
       "      <th>C3</th>\n",
       "      <th>C4</th>\n",
       "      <th>C5</th>\n",
       "      <th>C6</th>\n",
       "      <th>C7</th>\n",
       "      <th>...</th>\n",
       "      <th>T5_</th>\n",
       "      <th>S1_</th>\n",
       "      <th>S2_</th>\n",
       "      <th>S3_</th>\n",
       "      <th>P(mid)</th>\n",
       "      <th>C3_</th>\n",
       "      <th>C5_</th>\n",
       "      <th>C6_</th>\n",
       "      <th>Y1</th>\n",
       "      <th>Y2</th>\n",
       "    </tr>\n",
       "  </thead>\n",
       "  <tbody>\n",
       "    <tr>\n",
       "      <th>0</th>\n",
       "      <td>10.0</td>\n",
       "      <td>9.5</td>\n",
       "      <td>8.5</td>\n",
       "      <td>11.870000</td>\n",
       "      <td>122.0</td>\n",
       "      <td>3.43</td>\n",
       "      <td>0.029074</td>\n",
       "      <td>40962052.0</td>\n",
       "      <td>10600000.0</td>\n",
       "      <td>51.345</td>\n",
       "      <td>...</td>\n",
       "      <td>0.054250</td>\n",
       "      <td>0.004875</td>\n",
       "      <td>0.009199</td>\n",
       "      <td>0.010929</td>\n",
       "      <td>9.0</td>\n",
       "      <td>1</td>\n",
       "      <td>3.864345</td>\n",
       "      <td>11.111111</td>\n",
       "      <td>0</td>\n",
       "      <td>1</td>\n",
       "    </tr>\n",
       "    <tr>\n",
       "      <th>1</th>\n",
       "      <td>8.0</td>\n",
       "      <td>10.0</td>\n",
       "      <td>8.0</td>\n",
       "      <td>7.250000</td>\n",
       "      <td>259.0</td>\n",
       "      <td>-1.62</td>\n",
       "      <td>-0.013352</td>\n",
       "      <td>28869196.0</td>\n",
       "      <td>2400000.0</td>\n",
       "      <td>25.936</td>\n",
       "      <td>...</td>\n",
       "      <td>0.051395</td>\n",
       "      <td>0.003258</td>\n",
       "      <td>0.011105</td>\n",
       "      <td>0.010876</td>\n",
       "      <td>9.0</td>\n",
       "      <td>0</td>\n",
       "      <td>12.028832</td>\n",
       "      <td>0.000000</td>\n",
       "      <td>1</td>\n",
       "      <td>0</td>\n",
       "    </tr>\n",
       "    <tr>\n",
       "      <th>2</th>\n",
       "      <td>7.0</td>\n",
       "      <td>14.0</td>\n",
       "      <td>12.0</td>\n",
       "      <td>6.700000</td>\n",
       "      <td>90.0</td>\n",
       "      <td>-1.24</td>\n",
       "      <td>0.020715</td>\n",
       "      <td>16845668.0</td>\n",
       "      <td>5000000.0</td>\n",
       "      <td>7.378</td>\n",
       "      <td>...</td>\n",
       "      <td>0.061764</td>\n",
       "      <td>0.011593</td>\n",
       "      <td>0.006271</td>\n",
       "      <td>0.011403</td>\n",
       "      <td>13.0</td>\n",
       "      <td>0</td>\n",
       "      <td>3.369134</td>\n",
       "      <td>0.000000</td>\n",
       "      <td>1</td>\n",
       "      <td>0</td>\n",
       "    </tr>\n",
       "    <tr>\n",
       "      <th>3</th>\n",
       "      <td>11.5</td>\n",
       "      <td>16.0</td>\n",
       "      <td>14.0</td>\n",
       "      <td>12.390000</td>\n",
       "      <td>209.0</td>\n",
       "      <td>-0.91</td>\n",
       "      <td>0.020023</td>\n",
       "      <td>14848637.0</td>\n",
       "      <td>4500000.0</td>\n",
       "      <td>8.526</td>\n",
       "      <td>...</td>\n",
       "      <td>0.061630</td>\n",
       "      <td>0.009686</td>\n",
       "      <td>0.007144</td>\n",
       "      <td>0.013319</td>\n",
       "      <td>15.0</td>\n",
       "      <td>0</td>\n",
       "      <td>3.299697</td>\n",
       "      <td>0.000000</td>\n",
       "      <td>1</td>\n",
       "      <td>1</td>\n",
       "    </tr>\n",
       "    <tr>\n",
       "      <th>4</th>\n",
       "      <td>21.0</td>\n",
       "      <td>21.0</td>\n",
       "      <td>19.0</td>\n",
       "      <td>56.599998</td>\n",
       "      <td>80.0</td>\n",
       "      <td>0.07</td>\n",
       "      <td>-0.034895</td>\n",
       "      <td>30741716.0</td>\n",
       "      <td>8250000.0</td>\n",
       "      <td>632.298</td>\n",
       "      <td>...</td>\n",
       "      <td>0.048550</td>\n",
       "      <td>0.004518</td>\n",
       "      <td>0.010047</td>\n",
       "      <td>0.011261</td>\n",
       "      <td>20.0</td>\n",
       "      <td>1</td>\n",
       "      <td>3.726269</td>\n",
       "      <td>5.000000</td>\n",
       "      <td>0</td>\n",
       "      <td>1</td>\n",
       "    </tr>\n",
       "  </tbody>\n",
       "</table>\n",
       "<p>5 rows × 30 columns</p>\n",
       "</div>"
      ],
      "text/plain": [
       "   P(IPO)  P(H)  P(L)    P(1Day)     C1    C3        C4          C5  \\\n",
       "0    10.0   9.5   8.5  11.870000  122.0  3.43  0.029074  40962052.0   \n",
       "1     8.0  10.0   8.0   7.250000  259.0 -1.62 -0.013352  28869196.0   \n",
       "2     7.0  14.0  12.0   6.700000   90.0 -1.24  0.020715  16845668.0   \n",
       "3    11.5  16.0  14.0  12.390000  209.0 -0.91  0.020023  14848637.0   \n",
       "4    21.0  21.0  19.0  56.599998   80.0  0.07 -0.034895  30741716.0   \n",
       "\n",
       "           C6       C7  ...       T5_       S1_       S2_       S3_  P(mid)  \\\n",
       "0  10600000.0   51.345  ...  0.054250  0.004875  0.009199  0.010929     9.0   \n",
       "1   2400000.0   25.936  ...  0.051395  0.003258  0.011105  0.010876     9.0   \n",
       "2   5000000.0    7.378  ...  0.061764  0.011593  0.006271  0.011403    13.0   \n",
       "3   4500000.0    8.526  ...  0.061630  0.009686  0.007144  0.013319    15.0   \n",
       "4   8250000.0  632.298  ...  0.048550  0.004518  0.010047  0.011261    20.0   \n",
       "\n",
       "   C3_        C5_        C6_  Y1  Y2  \n",
       "0    1   3.864345  11.111111   0   1  \n",
       "1    0  12.028832   0.000000   1   0  \n",
       "2    0   3.369134   0.000000   1   0  \n",
       "3    0   3.299697   0.000000   1   1  \n",
       "4    1   3.726269   5.000000   0   1  \n",
       "\n",
       "[5 rows x 30 columns]"
      ]
     },
     "execution_count": 144,
     "metadata": {},
     "output_type": "execute_result"
    }
   ],
   "source": [
    "# Create DF with only continuous features\n",
    "\n",
    "compdata_cont = compdata.drop(['I1','I2','I3','C2','Imputed_C2'], axis=1)\n",
    "compdata_cont.head()"
   ]
  },
  {
   "cell_type": "code",
   "execution_count": 145,
   "metadata": {},
   "outputs": [],
   "source": [
    "# Drop missing P Values from Continues DF\n",
    "\n",
    "compdata_cont = compdata_cont.dropna(how='all', subset=['P(1Day)'])"
   ]
  },
  {
   "cell_type": "code",
   "execution_count": 146,
   "metadata": {},
   "outputs": [
    {
     "data": {
      "text/plain": [
       "P(IPO)      0\n",
       "P(H)        0\n",
       "P(L)        0\n",
       "P(1Day)     0\n",
       "C1          0\n",
       "C3         24\n",
       "C4          0\n",
       "C5          0\n",
       "C6          0\n",
       "C7         60\n",
       "T1          0\n",
       "T2          0\n",
       "T3          0\n",
       "T4          0\n",
       "T5          0\n",
       "S1          0\n",
       "S2          0\n",
       "S3          0\n",
       "T3_         0\n",
       "T4_         0\n",
       "T5_         0\n",
       "S1_         0\n",
       "S2_         0\n",
       "S3_         0\n",
       "P(mid)      0\n",
       "C3_         0\n",
       "C5_         0\n",
       "C6_         0\n",
       "Y1          0\n",
       "Y2          0\n",
       "dtype: int64"
      ]
     },
     "execution_count": 146,
     "metadata": {},
     "output_type": "execute_result"
    }
   ],
   "source": [
    "compdata_cont.isna().sum()"
   ]
  },
  {
   "cell_type": "code",
   "execution_count": 147,
   "metadata": {},
   "outputs": [
    {
     "data": {
      "text/html": [
       "<div>\n",
       "<style scoped>\n",
       "    .dataframe tbody tr th:only-of-type {\n",
       "        vertical-align: middle;\n",
       "    }\n",
       "\n",
       "    .dataframe tbody tr th {\n",
       "        vertical-align: top;\n",
       "    }\n",
       "\n",
       "    .dataframe thead th {\n",
       "        text-align: right;\n",
       "    }\n",
       "</style>\n",
       "<table border=\"1\" class=\"dataframe\">\n",
       "  <thead>\n",
       "    <tr style=\"text-align: right;\">\n",
       "      <th></th>\n",
       "      <th>I1</th>\n",
       "      <th>I2</th>\n",
       "      <th>I3</th>\n",
       "      <th>C2</th>\n",
       "      <th>C3_</th>\n",
       "      <th>Y1</th>\n",
       "      <th>Y2</th>\n",
       "      <th>Imputed_C2</th>\n",
       "    </tr>\n",
       "  </thead>\n",
       "  <tbody>\n",
       "    <tr>\n",
       "      <th>0</th>\n",
       "      <td>AATI</td>\n",
       "      <td>ADVANCED ANALOGIC TECHNOLOGIES INC</td>\n",
       "      <td>3674</td>\n",
       "      <td>1.0</td>\n",
       "      <td>1</td>\n",
       "      <td>0</td>\n",
       "      <td>1</td>\n",
       "      <td>1.0</td>\n",
       "    </tr>\n",
       "    <tr>\n",
       "      <th>1</th>\n",
       "      <td>ABPI</td>\n",
       "      <td>ACCENTIA BIOPHARMACEUTICALS INC</td>\n",
       "      <td>2834</td>\n",
       "      <td>0.0</td>\n",
       "      <td>0</td>\n",
       "      <td>1</td>\n",
       "      <td>0</td>\n",
       "      <td>0.0</td>\n",
       "    </tr>\n",
       "    <tr>\n",
       "      <th>2</th>\n",
       "      <td>ACAD</td>\n",
       "      <td>ACADIA PHARMACEUTICALS INC</td>\n",
       "      <td>2834</td>\n",
       "      <td>1.0</td>\n",
       "      <td>0</td>\n",
       "      <td>1</td>\n",
       "      <td>0</td>\n",
       "      <td>1.0</td>\n",
       "    </tr>\n",
       "    <tr>\n",
       "      <th>3</th>\n",
       "      <td>ACHN</td>\n",
       "      <td>ACHILLION PHARMACEUTICALS INC</td>\n",
       "      <td>2834</td>\n",
       "      <td>1.0</td>\n",
       "      <td>0</td>\n",
       "      <td>1</td>\n",
       "      <td>1</td>\n",
       "      <td>1.0</td>\n",
       "    </tr>\n",
       "    <tr>\n",
       "      <th>4</th>\n",
       "      <td>ACLI</td>\n",
       "      <td>AMERICAN COMMERCIAL LINES INC.</td>\n",
       "      <td>4492</td>\n",
       "      <td>1.0</td>\n",
       "      <td>1</td>\n",
       "      <td>0</td>\n",
       "      <td>1</td>\n",
       "      <td>1.0</td>\n",
       "    </tr>\n",
       "  </tbody>\n",
       "</table>\n",
       "</div>"
      ],
      "text/plain": [
       "     I1                                  I2    I3   C2  C3_  Y1  Y2  \\\n",
       "0  AATI  ADVANCED ANALOGIC TECHNOLOGIES INC  3674  1.0    1   0   1   \n",
       "1  ABPI     ACCENTIA BIOPHARMACEUTICALS INC  2834  0.0    0   1   0   \n",
       "2  ACAD          ACADIA PHARMACEUTICALS INC  2834  1.0    0   1   0   \n",
       "3  ACHN       ACHILLION PHARMACEUTICALS INC  2834  1.0    0   1   1   \n",
       "4  ACLI     AMERICAN COMMERCIAL LINES INC.   4492  1.0    1   0   1   \n",
       "\n",
       "   Imputed_C2  \n",
       "0         1.0  \n",
       "1         0.0  \n",
       "2         1.0  \n",
       "3         1.0  \n",
       "4         1.0  "
      ]
     },
     "execution_count": 147,
     "metadata": {},
     "output_type": "execute_result"
    }
   ],
   "source": [
    "# Create DF with only categorical features\n",
    "\n",
    "compdata_cat = compdata.drop(['P(IPO)','P(H)','P(L)','P(1Day)','P(mid)','C1','C3','C4','C5','C6','C7','T1','T2','T3','T4','T5','S1','S2','S3','T3_','T4_','T5_','S1_','S2_','S3_','C5_','C6_'], axis=1)\n",
    "compdata_cat.head()"
   ]
  },
  {
   "cell_type": "markdown",
   "metadata": {},
   "source": [
    "__Thoughts:__\n",
    "\n",
    "- Should we just use the median to fill the continuous values?\n",
    "\n",
    "__Replace missing values in categorical field with logistic regression predictions__\n",
    "\n",
    "__Checking the correlations between interval variables__\n",
    "- heatmap is a good way to visualize the correlation between variables\n",
    "- **See metadata**\n",
    "- Do we need to do metadata first?"
   ]
  },
  {
   "cell_type": "markdown",
   "metadata": {},
   "source": [
    "- Use the Heatmap to determine most correlated variables\n",
    "    - make scatterplots comparing the 2 variables"
   ]
  },
  {
   "cell_type": "markdown",
   "metadata": {},
   "source": [
    "# Interquartile Ratio"
   ]
  },
  {
   "cell_type": "code",
   "execution_count": 148,
   "metadata": {},
   "outputs": [
    {
     "data": {
      "text/plain": [
       "(680, 35)"
      ]
     },
     "execution_count": 148,
     "metadata": {},
     "output_type": "execute_result"
    }
   ],
   "source": [
    "compdata.shape"
   ]
  },
  {
   "cell_type": "code",
   "execution_count": 149,
   "metadata": {},
   "outputs": [
    {
     "data": {
      "text/html": [
       "<div>\n",
       "<style scoped>\n",
       "    .dataframe tbody tr th:only-of-type {\n",
       "        vertical-align: middle;\n",
       "    }\n",
       "\n",
       "    .dataframe tbody tr th {\n",
       "        vertical-align: top;\n",
       "    }\n",
       "\n",
       "    .dataframe thead th {\n",
       "        text-align: right;\n",
       "    }\n",
       "</style>\n",
       "<table border=\"1\" class=\"dataframe\">\n",
       "  <thead>\n",
       "    <tr style=\"text-align: right;\">\n",
       "      <th></th>\n",
       "      <th>I1</th>\n",
       "      <th>I2</th>\n",
       "      <th>I3</th>\n",
       "      <th>P(IPO)</th>\n",
       "      <th>P(H)</th>\n",
       "      <th>P(L)</th>\n",
       "      <th>P(1Day)</th>\n",
       "      <th>C1</th>\n",
       "      <th>C2</th>\n",
       "      <th>C3</th>\n",
       "      <th>...</th>\n",
       "      <th>S1_</th>\n",
       "      <th>S2_</th>\n",
       "      <th>S3_</th>\n",
       "      <th>P(mid)</th>\n",
       "      <th>C3_</th>\n",
       "      <th>C5_</th>\n",
       "      <th>C6_</th>\n",
       "      <th>Y1</th>\n",
       "      <th>Y2</th>\n",
       "      <th>Imputed_C2</th>\n",
       "    </tr>\n",
       "  </thead>\n",
       "  <tbody>\n",
       "    <tr>\n",
       "      <th>count</th>\n",
       "      <td>680</td>\n",
       "      <td>680</td>\n",
       "      <td>672</td>\n",
       "      <td>675.000000</td>\n",
       "      <td>670.000000</td>\n",
       "      <td>670.000000</td>\n",
       "      <td>658.000000</td>\n",
       "      <td>658.000000</td>\n",
       "      <td>658.000000</td>\n",
       "      <td>644.000000</td>\n",
       "      <td>...</td>\n",
       "      <td>679.000000</td>\n",
       "      <td>679.000000</td>\n",
       "      <td>679.000000</td>\n",
       "      <td>670.000000</td>\n",
       "      <td>680.000000</td>\n",
       "      <td>674.000000</td>\n",
       "      <td>680.000000</td>\n",
       "      <td>680.000000</td>\n",
       "      <td>680.000000</td>\n",
       "      <td>680.000000</td>\n",
       "    </tr>\n",
       "    <tr>\n",
       "      <th>unique</th>\n",
       "      <td>680</td>\n",
       "      <td>680</td>\n",
       "      <td>200</td>\n",
       "      <td>NaN</td>\n",
       "      <td>NaN</td>\n",
       "      <td>NaN</td>\n",
       "      <td>NaN</td>\n",
       "      <td>NaN</td>\n",
       "      <td>NaN</td>\n",
       "      <td>NaN</td>\n",
       "      <td>...</td>\n",
       "      <td>NaN</td>\n",
       "      <td>NaN</td>\n",
       "      <td>NaN</td>\n",
       "      <td>NaN</td>\n",
       "      <td>NaN</td>\n",
       "      <td>NaN</td>\n",
       "      <td>NaN</td>\n",
       "      <td>NaN</td>\n",
       "      <td>NaN</td>\n",
       "      <td>NaN</td>\n",
       "    </tr>\n",
       "    <tr>\n",
       "      <th>top</th>\n",
       "      <td>GSAT</td>\n",
       "      <td>Primo Water Corp</td>\n",
       "      <td>2834</td>\n",
       "      <td>NaN</td>\n",
       "      <td>NaN</td>\n",
       "      <td>NaN</td>\n",
       "      <td>NaN</td>\n",
       "      <td>NaN</td>\n",
       "      <td>NaN</td>\n",
       "      <td>NaN</td>\n",
       "      <td>...</td>\n",
       "      <td>NaN</td>\n",
       "      <td>NaN</td>\n",
       "      <td>NaN</td>\n",
       "      <td>NaN</td>\n",
       "      <td>NaN</td>\n",
       "      <td>NaN</td>\n",
       "      <td>NaN</td>\n",
       "      <td>NaN</td>\n",
       "      <td>NaN</td>\n",
       "      <td>NaN</td>\n",
       "    </tr>\n",
       "    <tr>\n",
       "      <th>freq</th>\n",
       "      <td>1</td>\n",
       "      <td>1</td>\n",
       "      <td>76</td>\n",
       "      <td>NaN</td>\n",
       "      <td>NaN</td>\n",
       "      <td>NaN</td>\n",
       "      <td>NaN</td>\n",
       "      <td>NaN</td>\n",
       "      <td>NaN</td>\n",
       "      <td>NaN</td>\n",
       "      <td>...</td>\n",
       "      <td>NaN</td>\n",
       "      <td>NaN</td>\n",
       "      <td>NaN</td>\n",
       "      <td>NaN</td>\n",
       "      <td>NaN</td>\n",
       "      <td>NaN</td>\n",
       "      <td>NaN</td>\n",
       "      <td>NaN</td>\n",
       "      <td>NaN</td>\n",
       "      <td>NaN</td>\n",
       "    </tr>\n",
       "    <tr>\n",
       "      <th>mean</th>\n",
       "      <td>NaN</td>\n",
       "      <td>NaN</td>\n",
       "      <td>NaN</td>\n",
       "      <td>13.840148</td>\n",
       "      <td>15.476657</td>\n",
       "      <td>13.510612</td>\n",
       "      <td>25.976604</td>\n",
       "      <td>149.849544</td>\n",
       "      <td>0.858663</td>\n",
       "      <td>1.792270</td>\n",
       "      <td>...</td>\n",
       "      <td>0.005490</td>\n",
       "      <td>0.009154</td>\n",
       "      <td>0.011835</td>\n",
       "      <td>14.493634</td>\n",
       "      <td>0.483824</td>\n",
       "      <td>4.641534</td>\n",
       "      <td>5.245685</td>\n",
       "      <td>0.500000</td>\n",
       "      <td>0.677941</td>\n",
       "      <td>0.863235</td>\n",
       "    </tr>\n",
       "    <tr>\n",
       "      <th>std</th>\n",
       "      <td>NaN</td>\n",
       "      <td>NaN</td>\n",
       "      <td>NaN</td>\n",
       "      <td>6.061555</td>\n",
       "      <td>6.662624</td>\n",
       "      <td>5.843541</td>\n",
       "      <td>73.342240</td>\n",
       "      <td>153.033149</td>\n",
       "      <td>0.348634</td>\n",
       "      <td>162.919289</td>\n",
       "      <td>...</td>\n",
       "      <td>0.004798</td>\n",
       "      <td>0.004309</td>\n",
       "      <td>0.008982</td>\n",
       "      <td>6.238462</td>\n",
       "      <td>0.500106</td>\n",
       "      <td>6.280361</td>\n",
       "      <td>10.755064</td>\n",
       "      <td>0.500368</td>\n",
       "      <td>0.467609</td>\n",
       "      <td>0.343852</td>\n",
       "    </tr>\n",
       "    <tr>\n",
       "      <th>min</th>\n",
       "      <td>NaN</td>\n",
       "      <td>NaN</td>\n",
       "      <td>NaN</td>\n",
       "      <td>3.000000</td>\n",
       "      <td>0.000000</td>\n",
       "      <td>3.000000</td>\n",
       "      <td>0.000000</td>\n",
       "      <td>10.000000</td>\n",
       "      <td>0.000000</td>\n",
       "      <td>-786.239000</td>\n",
       "      <td>...</td>\n",
       "      <td>-0.000093</td>\n",
       "      <td>0.002152</td>\n",
       "      <td>0.005125</td>\n",
       "      <td>3.500000</td>\n",
       "      <td>0.000000</td>\n",
       "      <td>0.283223</td>\n",
       "      <td>0.000000</td>\n",
       "      <td>0.000000</td>\n",
       "      <td>0.000000</td>\n",
       "      <td>0.000000</td>\n",
       "    </tr>\n",
       "    <tr>\n",
       "      <th>25%</th>\n",
       "      <td>NaN</td>\n",
       "      <td>NaN</td>\n",
       "      <td>NaN</td>\n",
       "      <td>10.000000</td>\n",
       "      <td>12.500000</td>\n",
       "      <td>11.000000</td>\n",
       "      <td>11.000000</td>\n",
       "      <td>85.000000</td>\n",
       "      <td>1.000000</td>\n",
       "      <td>-0.860000</td>\n",
       "      <td>...</td>\n",
       "      <td>0.004142</td>\n",
       "      <td>0.007023</td>\n",
       "      <td>0.009568</td>\n",
       "      <td>11.500000</td>\n",
       "      <td>0.000000</td>\n",
       "      <td>2.853439</td>\n",
       "      <td>0.000000</td>\n",
       "      <td>0.000000</td>\n",
       "      <td>0.000000</td>\n",
       "      <td>1.000000</td>\n",
       "    </tr>\n",
       "    <tr>\n",
       "      <th>50%</th>\n",
       "      <td>NaN</td>\n",
       "      <td>NaN</td>\n",
       "      <td>NaN</td>\n",
       "      <td>13.500000</td>\n",
       "      <td>15.000000</td>\n",
       "      <td>13.000000</td>\n",
       "      <td>14.865000</td>\n",
       "      <td>107.000000</td>\n",
       "      <td>1.000000</td>\n",
       "      <td>0.010000</td>\n",
       "      <td>...</td>\n",
       "      <td>0.005050</td>\n",
       "      <td>0.008592</td>\n",
       "      <td>0.011299</td>\n",
       "      <td>14.000000</td>\n",
       "      <td>0.000000</td>\n",
       "      <td>3.766083</td>\n",
       "      <td>0.000000</td>\n",
       "      <td>0.500000</td>\n",
       "      <td>1.000000</td>\n",
       "      <td>1.000000</td>\n",
       "    </tr>\n",
       "    <tr>\n",
       "      <th>75%</th>\n",
       "      <td>NaN</td>\n",
       "      <td>NaN</td>\n",
       "      <td>NaN</td>\n",
       "      <td>17.000000</td>\n",
       "      <td>17.000000</td>\n",
       "      <td>15.000000</td>\n",
       "      <td>20.495000</td>\n",
       "      <td>155.750000</td>\n",
       "      <td>1.000000</td>\n",
       "      <td>0.470000</td>\n",
       "      <td>...</td>\n",
       "      <td>0.006255</td>\n",
       "      <td>0.010509</td>\n",
       "      <td>0.012857</td>\n",
       "      <td>16.000000</td>\n",
       "      <td>1.000000</td>\n",
       "      <td>4.906387</td>\n",
       "      <td>7.142857</td>\n",
       "      <td>1.000000</td>\n",
       "      <td>1.000000</td>\n",
       "      <td>1.000000</td>\n",
       "    </tr>\n",
       "    <tr>\n",
       "      <th>max</th>\n",
       "      <td>NaN</td>\n",
       "      <td>NaN</td>\n",
       "      <td>NaN</td>\n",
       "      <td>85.000000</td>\n",
       "      <td>135.000000</td>\n",
       "      <td>108.000000</td>\n",
       "      <td>1159.200562</td>\n",
       "      <td>2087.000000</td>\n",
       "      <td>1.000000</td>\n",
       "      <td>3864.500000</td>\n",
       "      <td>...</td>\n",
       "      <td>0.121442</td>\n",
       "      <td>0.091082</td>\n",
       "      <td>0.233397</td>\n",
       "      <td>121.500000</td>\n",
       "      <td>1.000000</td>\n",
       "      <td>99.787255</td>\n",
       "      <td>100.000000</td>\n",
       "      <td>1.000000</td>\n",
       "      <td>1.000000</td>\n",
       "      <td>1.000000</td>\n",
       "    </tr>\n",
       "  </tbody>\n",
       "</table>\n",
       "<p>11 rows × 35 columns</p>\n",
       "</div>"
      ],
      "text/plain": [
       "          I1                I2    I3      P(IPO)        P(H)        P(L)  \\\n",
       "count    680               680   672  675.000000  670.000000  670.000000   \n",
       "unique   680               680   200         NaN         NaN         NaN   \n",
       "top     GSAT  Primo Water Corp  2834         NaN         NaN         NaN   \n",
       "freq       1                 1    76         NaN         NaN         NaN   \n",
       "mean     NaN               NaN   NaN   13.840148   15.476657   13.510612   \n",
       "std      NaN               NaN   NaN    6.061555    6.662624    5.843541   \n",
       "min      NaN               NaN   NaN    3.000000    0.000000    3.000000   \n",
       "25%      NaN               NaN   NaN   10.000000   12.500000   11.000000   \n",
       "50%      NaN               NaN   NaN   13.500000   15.000000   13.000000   \n",
       "75%      NaN               NaN   NaN   17.000000   17.000000   15.000000   \n",
       "max      NaN               NaN   NaN   85.000000  135.000000  108.000000   \n",
       "\n",
       "            P(1Day)           C1          C2           C3  ...         S1_  \\\n",
       "count    658.000000   658.000000  658.000000   644.000000  ...  679.000000   \n",
       "unique          NaN          NaN         NaN          NaN  ...         NaN   \n",
       "top             NaN          NaN         NaN          NaN  ...         NaN   \n",
       "freq            NaN          NaN         NaN          NaN  ...         NaN   \n",
       "mean      25.976604   149.849544    0.858663     1.792270  ...    0.005490   \n",
       "std       73.342240   153.033149    0.348634   162.919289  ...    0.004798   \n",
       "min        0.000000    10.000000    0.000000  -786.239000  ...   -0.000093   \n",
       "25%       11.000000    85.000000    1.000000    -0.860000  ...    0.004142   \n",
       "50%       14.865000   107.000000    1.000000     0.010000  ...    0.005050   \n",
       "75%       20.495000   155.750000    1.000000     0.470000  ...    0.006255   \n",
       "max     1159.200562  2087.000000    1.000000  3864.500000  ...    0.121442   \n",
       "\n",
       "               S2_         S3_      P(mid)         C3_         C5_  \\\n",
       "count   679.000000  679.000000  670.000000  680.000000  674.000000   \n",
       "unique         NaN         NaN         NaN         NaN         NaN   \n",
       "top            NaN         NaN         NaN         NaN         NaN   \n",
       "freq           NaN         NaN         NaN         NaN         NaN   \n",
       "mean      0.009154    0.011835   14.493634    0.483824    4.641534   \n",
       "std       0.004309    0.008982    6.238462    0.500106    6.280361   \n",
       "min       0.002152    0.005125    3.500000    0.000000    0.283223   \n",
       "25%       0.007023    0.009568   11.500000    0.000000    2.853439   \n",
       "50%       0.008592    0.011299   14.000000    0.000000    3.766083   \n",
       "75%       0.010509    0.012857   16.000000    1.000000    4.906387   \n",
       "max       0.091082    0.233397  121.500000    1.000000   99.787255   \n",
       "\n",
       "               C6_          Y1          Y2  Imputed_C2  \n",
       "count   680.000000  680.000000  680.000000  680.000000  \n",
       "unique         NaN         NaN         NaN         NaN  \n",
       "top            NaN         NaN         NaN         NaN  \n",
       "freq           NaN         NaN         NaN         NaN  \n",
       "mean      5.245685    0.500000    0.677941    0.863235  \n",
       "std      10.755064    0.500368    0.467609    0.343852  \n",
       "min       0.000000    0.000000    0.000000    0.000000  \n",
       "25%       0.000000    0.000000    0.000000    1.000000  \n",
       "50%       0.000000    0.500000    1.000000    1.000000  \n",
       "75%       7.142857    1.000000    1.000000    1.000000  \n",
       "max     100.000000    1.000000    1.000000    1.000000  \n",
       "\n",
       "[11 rows x 35 columns]"
      ]
     },
     "execution_count": 149,
     "metadata": {},
     "output_type": "execute_result"
    }
   ],
   "source": [
    "compdata.describe(include='all')"
   ]
  },
  {
   "cell_type": "markdown",
   "metadata": {},
   "source": [
    "# Outliers:"
   ]
  },
  {
   "cell_type": "code",
   "execution_count": 150,
   "metadata": {},
   "outputs": [],
   "source": [
    "# Determine if there are any outliers in the data that will alter the results\n",
    "# Use box plots for all the variables to visualize the outliers \n",
    "# Standardize first!\n",
    "\n",
    "# only continuous"
   ]
  },
  {
   "cell_type": "code",
   "execution_count": 179,
   "metadata": {},
   "outputs": [
    {
     "data": {
      "image/png": "[encoded data removed]",
      "text/plain": [
       "<Figure size 1080x720 with 1 Axes>"
      ]
     },
     "metadata": {
      "needs_background": "light"
     },
     "output_type": "display_data"
    }
   ],
   "source": [
    "compdata_cont.boxplot(vert=False, figsize=(15,10))\n",
    "plt.title('IPO Characteristics Box Plot')\n",
    "plt.show()"
   ]
  },
  {
   "cell_type": "code",
   "execution_count": 197,
   "metadata": {},
   "outputs": [
    {
     "data": {
      "image/png": "[encoded data removed]",
      "text/plain": [
       "<Figure size 1080x288 with 1 Axes>"
      ]
     },
     "metadata": {
      "needs_background": "light"
     },
     "output_type": "display_data"
    }
   ],
   "source": [
    "compdata_cont.boxplot(column=['C1','C3','C4','C5','C6','C7'],vert=False, figsize=(15,4))\n",
    "plt.title('IPO Characteristics Box Plot')\n",
    "plt.show()"
   ]
  },
  {
   "cell_type": "code",
   "execution_count": 183,
   "metadata": {},
   "outputs": [
    {
     "data": {
      "image/png": "[encoded data removed]",
      "text/plain": [
       "<Figure size 1080x72 with 1 Axes>"
      ]
     },
     "metadata": {
      "needs_background": "light"
     },
     "output_type": "display_data"
    }
   ],
   "source": [
    "# In number of days\n",
    "\n",
    "compdata_cont.boxplot(column=['C1'],vert=False, figsize=(15,1))\n",
    "plt.title('Days Box Plot')\n",
    "plt.show()"
   ]
  },
  {
   "cell_type": "code",
   "execution_count": 184,
   "metadata": {},
   "outputs": [
    {
     "data": {
      "image/png": "[encoded data removed]",
      "text/plain": [
       "<Figure size 1080x72 with 1 Axes>"
      ]
     },
     "metadata": {
      "needs_background": "light"
     },
     "output_type": "display_data"
    }
   ],
   "source": [
    "# Seperate the variables into that fit better with one another into their own box plot\n",
    "    # Help visualization\n",
    "# EPS is in dollars \n",
    "\n",
    "compdata_cont.boxplot(column=['C3'],vert=False, figsize=(15,1))\n",
    "plt.title('EPS Box Plot')\n",
    "plt.show()"
   ]
  },
  {
   "cell_type": "code",
   "execution_count": 185,
   "metadata": {},
   "outputs": [
    {
     "data": {
      "image/png": "[encoded data removed]",
      "text/plain": [
       "<Figure size 1080x72 with 1 Axes>"
      ]
     },
     "metadata": {
      "needs_background": "light"
     },
     "output_type": "display_data"
    }
   ],
   "source": [
    "compdata_cont.boxplot(column='C4',vert=False, figsize=(15,1))\n",
    "plt.title('Prior Nasdaq 15-Day Returns Box Plot')\n",
    "plt.show()"
   ]
  },
  {
   "cell_type": "code",
   "execution_count": 186,
   "metadata": {},
   "outputs": [
    {
     "data": {
      "image/png": "[encoded data removed]",
      "text/plain": [
       "<Figure size 1080x144 with 1 Axes>"
      ]
     },
     "metadata": {
      "needs_background": "light"
     },
     "output_type": "display_data"
    }
   ],
   "source": [
    "compdata_cont.boxplot(column=['C5','C6'],vert=False, figsize=(15,2))\n",
    "plt.title('Outstanding Shares & Offering Shares Box Plot')\n",
    "plt.show()"
   ]
  },
  {
   "cell_type": "code",
   "execution_count": 187,
   "metadata": {},
   "outputs": [
    {
     "data": {
      "image/png": "[encoded data removed]",
      "text/plain": [
       "<Figure size 1080x72 with 1 Axes>"
      ]
     },
     "metadata": {
      "needs_background": "light"
     },
     "output_type": "display_data"
    }
   ],
   "source": [
    "# in millions of dollars\n",
    "\n",
    "compdata_cont.boxplot(column='C7',vert=False, figsize=(15,1))\n",
    "plt.title('Sales Box Plot')\n",
    "plt.show()"
   ]
  },
  {
   "cell_type": "code",
   "execution_count": 188,
   "metadata": {},
   "outputs": [
    {
     "data": {
      "image/png": "[encoded data removed]",
      "text/plain": [
       "<Figure size 1080x288 with 1 Axes>"
      ]
     },
     "metadata": {
      "needs_background": "light"
     },
     "output_type": "display_data"
    }
   ],
   "source": [
    "compdata_cont.boxplot(column=['T1','T2','T3','T4','T5'],vert=False, figsize=(15,4))\n",
    "plt.title('Textual Characteristics of IPO Box Plot')\n",
    "plt.show()"
   ]
  },
  {
   "cell_type": "code",
   "execution_count": 189,
   "metadata": {},
   "outputs": [
    {
     "data": {
      "image/png": "[encoded data removed]",
      "text/plain": [
       "<Figure size 1080x144 with 1 Axes>"
      ]
     },
     "metadata": {
      "needs_background": "light"
     },
     "output_type": "display_data"
    }
   ],
   "source": [
    "compdata_cont.boxplot(column=['T1','T4'],vert=False, figsize=(15,2))\n",
    "plt.title('Number of Sentences & Number of Long Sentences Box Plot')\n",
    "plt.show()"
   ]
  },
  {
   "cell_type": "code",
   "execution_count": 190,
   "metadata": {},
   "outputs": [
    {
     "data": {
      "image/png": "[encoded data removed]",
      "text/plain": [
       "<Figure size 1080x144 with 1 Axes>"
      ]
     },
     "metadata": {
      "needs_background": "light"
     },
     "output_type": "display_data"
    }
   ],
   "source": [
    "compdata_cont.boxplot(column=['T2','T3'],vert=False, figsize=(15,2))\n",
    "plt.title('Number of Words & Number of Real Words Box Plot')\n",
    "plt.show()"
   ]
  },
  {
   "cell_type": "code",
   "execution_count": 191,
   "metadata": {},
   "outputs": [
    {
     "data": {
      "image/png": "[encoded data removed]",
      "text/plain": [
       "<Figure size 1080x72 with 1 Axes>"
      ]
     },
     "metadata": {
      "needs_background": "light"
     },
     "output_type": "display_data"
    }
   ],
   "source": [
    "compdata_cont.boxplot(column='T5',vert=False, figsize=(15,1))\n",
    "plt.title('Number of Long Words Box Plot')\n",
    "plt.show()"
   ]
  },
  {
   "cell_type": "code",
   "execution_count": 192,
   "metadata": {},
   "outputs": [
    {
     "data": {
      "image/png": "[encoded data removed]",
      "text/plain": [
       "<Figure size 1080x216 with 1 Axes>"
      ]
     },
     "metadata": {
      "needs_background": "light"
     },
     "output_type": "display_data"
    }
   ],
   "source": [
    "compdata_cont.boxplot(column=['S1','S2','S3'],vert=False, figsize=(15,3))\n",
    "plt.title('Sentiment Characteristics of IPO Box Plot')\n",
    "plt.show()"
   ]
  },
  {
   "cell_type": "code",
   "execution_count": 193,
   "metadata": {},
   "outputs": [
    {
     "data": {
      "image/png": "[encoded data removed]",
      "text/plain": [
       "<Figure size 1080x144 with 1 Axes>"
      ]
     },
     "metadata": {
      "needs_background": "light"
     },
     "output_type": "display_data"
    }
   ],
   "source": [
    "compdata_cont.boxplot(column=['S2','S3'],vert=False, figsize=(15,2))\n",
    "plt.title('Number of Negative Words & Number of Uncertain Words Box Plot')\n",
    "plt.show()"
   ]
  },
  {
   "cell_type": "code",
   "execution_count": 198,
   "metadata": {},
   "outputs": [
    {
     "data": {
      "image/png": "[encoded data removed]",
      "text/plain": [
       "<Figure size 1080x72 with 1 Axes>"
      ]
     },
     "metadata": {
      "needs_background": "light"
     },
     "output_type": "display_data"
    }
   ],
   "source": [
    "compdata_cont.boxplot(column='S1',vert=False, figsize=(15,1))\n",
    "plt.title('Number of Positive Words Box Plot')\n",
    "plt.show()"
   ]
  },
  {
   "cell_type": "markdown",
   "metadata": {},
   "source": [
    "It is obvious that there are outliers in the dataset that will offset the results. \n",
    "To remove this data we will use the interquartile range to determine the upper and lower bound limits and any data outside the limit will be converted to either the lower or upper bound number."
   ]
  },
  {
   "cell_type": "code",
   "execution_count": null,
   "metadata": {},
   "outputs": [],
   "source": [
    "for col in compdata_cont.columns:\n",
    "    u_bound = compdata_cont[col].mean() + 3* compdata_cont[col].std()\n",
    "    compdata_cont[col][compdata_cont[col] > u_bound] = u_bound\n",
    "    \n",
    "    # getting the upper boundary using 3 standard deviation\n",
    "# you should also get the lower boundary\n",
    "# You can also set the boundaries using IQR\n",
    "u_bound = my_col.mean() + 3* my_col.std()\n",
    "print(u_bound)\n",
    "\n",
    "# detecting any values are greater than the upper boundary\n",
    "my_col[my_col>u_bound]\n",
    "\n",
    "# Replace the values greater than the upper boundary with the upper boundary\n",
    "my_col[my_col>u_bound] = u_bound"
   ]
  },
  {
   "cell_type": "code",
   "execution_count": 199,
   "metadata": {},
   "outputs": [],
   "source": [
    "# Did not need.. used a for loop instead\n",
    "\n",
    "# Q1 = compdata['P(IPO)'].quantile(0.25)\n",
    "# Q3 = compdata['P(IPO)'].quantile(0.75)\n",
    "# IQR = Q3 - Q1\n",
    "# LowerBound = Q1 - (1.5 * IQR)\n",
    "# UpperBound = Q3 + (1.5 * IQR)\n",
    "\n",
    "# compdata[((compdata['P(IPO)'] < LowerBound) |(compdata['P(IPO)'] > UpperBound))]\n",
    "\n",
    "# This dataframe has rows for the IQR Upper Bound and Lower Bound numbers for each variable\n",
    "\n",
    "# iqrdata.loc['IQR'] = (iqrdata.loc['75%']-iqrdata.loc['25%'])\n",
    "# iqrdata.loc['UpperRange'] = (iqrdata.loc['75%']+(1.5*iqrdata.loc['IQR']))\n",
    "# iqrdata.loc['LowerRange'] = (iqrdata.loc['25%']-(1.5*iqrdata.loc['IQR']))\n",
    "# iqrdata"
   ]
  },
  {
   "cell_type": "markdown",
   "metadata": {},
   "source": [
    "- We need to connect the upper bound and lower bound limits to all the variable results in the original dataframe\n",
    "- Check to make sure the dataframe shows these changes in variables\n",
    "- Create a new dataframe of the results excluding the outliers"
   ]
  },
  {
   "cell_type": "code",
   "execution_count": 200,
   "metadata": {},
   "outputs": [],
   "source": [
    "# Normalization\n",
    "#... zscore"
   ]
  },
  {
   "cell_type": "markdown",
   "metadata": {},
   "source": [
    "## Histograms "
   ]
  },
  {
   "cell_type": "code",
   "execution_count": 196,
   "metadata": {},
   "outputs": [
    {
     "data": {
      "text/plain": [
       "20.561940377359615"
      ]
     },
     "execution_count": 196,
     "metadata": {},
     "output_type": "execute_result"
    }
   ],
   "source": [
    "compdata['C3'].skew()"
   ]
  },
  {
   "cell_type": "code",
   "execution_count": 39,
   "metadata": {},
   "outputs": [
    {
     "data": {
      "text/plain": [
       "<matplotlib.axes._subplots.AxesSubplot at 0x7f3e87f9c5f8>"
      ]
     },
     "execution_count": 39,
     "metadata": {},
     "output_type": "execute_result"
    },
    {
     "data": {
      "image/png": "[encoded data removed]",
      "text/plain": [
       "<Figure size 432x288 with 1 Axes>"
      ]
     },
     "metadata": {
      "needs_background": "light"
     },
     "output_type": "display_data"
    }
   ],
   "source": [
    "# a lot of missing values here so this is irrelevant right now\n",
    "\n",
    "compdata['C2'].hist(bins=20)"
   ]
  },
  {
   "cell_type": "code",
   "execution_count": 40,
   "metadata": {},
   "outputs": [
    {
     "data": {
      "text/plain": [
       "<matplotlib.axes._subplots.AxesSubplot at 0x7f3e89699748>"
      ]
     },
     "execution_count": 40,
     "metadata": {},
     "output_type": "execute_result"
    },
    {
     "data": {
      "image/png": "[encoded data removed]",
      "text/plain": [
       "<Figure size 432x288 with 1 Axes>"
      ]
     },
     "metadata": {
      "needs_background": "light"
     },
     "output_type": "display_data"
    }
   ],
   "source": [
    "compdata['C3'].hist(bins=20)"
   ]
  },
  {
   "cell_type": "code",
   "execution_count": 41,
   "metadata": {},
   "outputs": [
    {
     "data": {
      "text/plain": [
       "<matplotlib.axes._subplots.AxesSubplot at 0x7f3e85deceb8>"
      ]
     },
     "execution_count": 41,
     "metadata": {},
     "output_type": "execute_result"
    },
    {
     "data": {
      "image/png": "[encoded data removed]",
      "text/plain": [
       "<Figure size 432x288 with 1 Axes>"
      ]
     },
     "metadata": {
      "needs_background": "light"
     },
     "output_type": "display_data"
    }
   ],
   "source": [
    "compdata['C4'].hist(bins=20)"
   ]
  },
  {
   "cell_type": "code",
   "execution_count": 42,
   "metadata": {},
   "outputs": [
    {
     "data": {
      "text/plain": [
       "<matplotlib.axes._subplots.AxesSubplot at 0x7f3e85d68d30>"
      ]
     },
     "execution_count": 42,
     "metadata": {},
     "output_type": "execute_result"
    },
    {
     "data": {
      "image/png": "[encoded data removed]",
      "text/plain": [
       "<Figure size 432x288 with 1 Axes>"
      ]
     },
     "metadata": {
      "needs_background": "light"
     },
     "output_type": "display_data"
    }
   ],
   "source": [
    "compdata['C5'].hist(bins=20)"
   ]
  },
  {
   "cell_type": "code",
   "execution_count": 43,
   "metadata": {},
   "outputs": [
    {
     "data": {
      "text/plain": [
       "<matplotlib.axes._subplots.AxesSubplot at 0x7f3e85cfa828>"
      ]
     },
     "execution_count": 43,
     "metadata": {},
     "output_type": "execute_result"
    },
    {
     "data": {
      "image/png": "[encoded data removed]",
      "text/plain": [
       "<Figure size 432x288 with 1 Axes>"
      ]
     },
     "metadata": {
      "needs_background": "light"
     },
     "output_type": "display_data"
    }
   ],
   "source": [
    "compdata['C6'].hist(bins=20)"
   ]
  },
  {
   "cell_type": "code",
   "execution_count": 44,
   "metadata": {},
   "outputs": [
    {
     "data": {
      "text/plain": [
       "<matplotlib.axes._subplots.AxesSubplot at 0x7f3e85cc8a20>"
      ]
     },
     "execution_count": 44,
     "metadata": {},
     "output_type": "execute_result"
    },
    {
     "data": {
      "image/png": "[encoded data removed]",
      "text/plain": [
       "<Figure size 432x288 with 1 Axes>"
      ]
     },
     "metadata": {
      "needs_background": "light"
     },
     "output_type": "display_data"
    }
   ],
   "source": [
    "compdata['C7'].hist(bins=20)"
   ]
  },
  {
   "cell_type": "code",
   "execution_count": 45,
   "metadata": {},
   "outputs": [
    {
     "data": {
      "text/plain": [
       "<matplotlib.axes._subplots.AxesSubplot at 0x7f3e85cfa7b8>"
      ]
     },
     "execution_count": 45,
     "metadata": {},
     "output_type": "execute_result"
    },
    {
     "data": {
      "image/png": "[encoded data removed]",
      "text/plain": [
       "<Figure size 432x288 with 1 Axes>"
      ]
     },
     "metadata": {
      "needs_background": "light"
     },
     "output_type": "display_data"
    }
   ],
   "source": [
    "compdata['T1'].hist(bins=20)"
   ]
  },
  {
   "cell_type": "code",
   "execution_count": 46,
   "metadata": {},
   "outputs": [
    {
     "data": {
      "text/plain": [
       "<matplotlib.axes._subplots.AxesSubplot at 0x7f3e859527b8>"
      ]
     },
     "execution_count": 46,
     "metadata": {},
     "output_type": "execute_result"
    },
    {
     "data": {
      "image/png": "[encoded data removed]",
      "text/plain": [
       "<Figure size 432x288 with 1 Axes>"
      ]
     },
     "metadata": {
      "needs_background": "light"
     },
     "output_type": "display_data"
    }
   ],
   "source": [
    "compdata['T2'].hist(bins=20)"
   ]
  },
  {
   "cell_type": "code",
   "execution_count": 47,
   "metadata": {},
   "outputs": [
    {
     "data": {
      "text/plain": [
       "<matplotlib.axes._subplots.AxesSubplot at 0x7f3e857e9710>"
      ]
     },
     "execution_count": 47,
     "metadata": {},
     "output_type": "execute_result"
    },
    {
     "data": {
      "image/png": "[encoded data removed]",
      "text/plain": [
       "<Figure size 432x288 with 1 Axes>"
      ]
     },
     "metadata": {
      "needs_background": "light"
     },
     "output_type": "display_data"
    }
   ],
   "source": [
    "compdata['T3'].hist(bins=20)"
   ]
  },
  {
   "cell_type": "code",
   "execution_count": 48,
   "metadata": {},
   "outputs": [
    {
     "data": {
      "text/plain": [
       "<matplotlib.axes._subplots.AxesSubplot at 0x7f3e85840710>"
      ]
     },
     "execution_count": 48,
     "metadata": {},
     "output_type": "execute_result"
    },
    {
     "data": {
      "image/png": "[encoded data removed]",
      "text/plain": [
       "<Figure size 432x288 with 1 Axes>"
      ]
     },
     "metadata": {
      "needs_background": "light"
     },
     "output_type": "display_data"
    }
   ],
   "source": [
    "compdata['T4'].hist(bins=20)"
   ]
  },
  {
   "cell_type": "code",
   "execution_count": 49,
   "metadata": {},
   "outputs": [
    {
     "data": {
      "text/plain": [
       "<matplotlib.axes._subplots.AxesSubplot at 0x7f3e85711518>"
      ]
     },
     "execution_count": 49,
     "metadata": {},
     "output_type": "execute_result"
    },
    {
     "data": {
      "image/png": "[encoded data removed]",
      "text/plain": [
       "<Figure size 432x288 with 1 Axes>"
      ]
     },
     "metadata": {
      "needs_background": "light"
     },
     "output_type": "display_data"
    }
   ],
   "source": [
    "compdata['T5'].hist(bins=20)"
   ]
  },
  {
   "cell_type": "code",
   "execution_count": 50,
   "metadata": {},
   "outputs": [
    {
     "data": {
      "text/plain": [
       "<matplotlib.axes._subplots.AxesSubplot at 0x7f3e8567b6a0>"
      ]
     },
     "execution_count": 50,
     "metadata": {},
     "output_type": "execute_result"
    },
    {
     "data": {
      "image/png": "[encoded data removed]",
      "text/plain": [
       "<Figure size 432x288 with 1 Axes>"
      ]
     },
     "metadata": {
      "needs_background": "light"
     },
     "output_type": "display_data"
    }
   ],
   "source": [
    "compdata['S1'].hist(bins=20)"
   ]
  },
  {
   "cell_type": "code",
   "execution_count": 51,
   "metadata": {},
   "outputs": [
    {
     "data": {
      "text/plain": [
       "<matplotlib.axes._subplots.AxesSubplot at 0x7f3e85632b70>"
      ]
     },
     "execution_count": 51,
     "metadata": {},
     "output_type": "execute_result"
    },
    {
     "data": {
      "image/png": "[encoded data removed]",
      "text/plain": [
       "<Figure size 432x288 with 1 Axes>"
      ]
     },
     "metadata": {
      "needs_background": "light"
     },
     "output_type": "display_data"
    }
   ],
   "source": [
    "compdata['S2'].hist(bins=20)"
   ]
  },
  {
   "cell_type": "code",
   "execution_count": 52,
   "metadata": {},
   "outputs": [
    {
     "data": {
      "text/plain": [
       "<matplotlib.axes._subplots.AxesSubplot at 0x7f3e8581b710>"
      ]
     },
     "execution_count": 52,
     "metadata": {},
     "output_type": "execute_result"
    },
    {
     "data": {
      "image/png": "[encoded data removed]",
      "text/plain": [
       "<Figure size 432x288 with 1 Axes>"
      ]
     },
     "metadata": {
      "needs_background": "light"
     },
     "output_type": "display_data"
    }
   ],
   "source": [
    "compdata['S3'].hist(bins=20)"
   ]
  },
  {
   "cell_type": "code",
   "execution_count": 133,
   "metadata": {},
   "outputs": [],
   "source": [
    "# must revisit these histograms.  "
   ]
  },
  {
   "cell_type": "code",
   "execution_count": 10,
   "metadata": {},
   "outputs": [
    {
     "data": {
      "image/png": "[encoded data removed]",
      "text/plain": [
       "<Figure size 1080x1080 with 2 Axes>"
      ]
     },
     "metadata": {
      "needs_background": "light"
     },
     "output_type": "display_data"
    }
   ],
   "source": [
    "# Correlation between Variables\n",
    "\n",
    "index= ['P(IPO)', 'P(H)', 'P(L)', 'P(1Day)','C1','C3','C4','C5','C6','C7','T1','T2','T3','T4','T5','S1','S2','S3']\n",
    "cols = ['P(IPO)', 'P(H)', 'P(L)', 'P(1Day)','C1','C3','C4','C5','C6','C7','T1','T2','T3','T4','T5','S1','S2','S3']\n",
    "df = DataFrame(abs(np.random.randn(18,18)), index=index,  columns=cols)\n",
    "fig, ax = plt.subplots(figsize=(15,15))\n",
    "sns.heatmap(df, annot=True, cbar=True, cmap='Blues')\n",
    "plt.title(\"Correlation between Variables\")\n",
    "plt.show()"
   ]
  },
  {
   "cell_type": "markdown",
   "metadata": {},
   "source": [
    "# Meta Data:\n",
    "__Variable Identification__"
   ]
  },
  {
   "cell_type": "markdown",
   "metadata": {},
   "source": [
    "- Do we need metadata?\n",
    "- Will this help create the heatmap and correlations?"
   ]
  },
  {
   "cell_type": "markdown",
   "metadata": {},
   "source": [
    "__**Not Finished__\n",
    "\n",
    "data = []\n",
    "for v in compdata.columns:\n",
    "    # Defining the role\n",
    "    if v == 'I1':\n",
    "        role = 'ticker'\n",
    "    elif v == 'I2':\n",
    "        role = 'company_name'\n",
    "    elif v == 'I3':\n",
    "        role = 'standard_industry_classifier'\n",
    "    else:\n",
    "        role = 'input'\n",
    "         \n",
    "    # Defining the level\n",
    "    if v == ('C2','Y1','Y2','C3'):\n",
    "        level = 'binary'\n",
    "    elif v == 'I2':\n",
    "        role = 'company_name'\n",
    "    elif v == 'I3':\n",
    "        role = 'standard_industry_classifier'\n",
    "    else:\n",
    "        role = 'input'\n",
    "    \n",
    "    # Defining the data type \n",
    "    \n",
    "    # Create a Dict that contains all the metadata for the variable\n",
    "\n",
    "    \n",
    "meta = pd.DataFrame(data, columns=[])\n",
    "meta.set_index('varname', inplace=True)"
   ]
  }
 ],
 "metadata": {
  "kernelspec": {
   "display_name": "Python 3",
   "language": "python",
   "name": "python3"
  },
  "language_info": {
   "codemirror_mode": {
    "name": "ipython",
    "version": 3
   },
   "file_extension": ".py",
   "mimetype": "text/x-python",
   "name": "python",
   "nbconvert_exporter": "python",
   "pygments_lexer": "ipython3",
   "version": "3.6.7"
  }
 },
 "nbformat": 4,
 "nbformat_minor": 4
}
