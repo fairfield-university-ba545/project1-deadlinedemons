{
 "cells": [
  {
   "cell_type": "markdown",
   "metadata": {},
   "source": [
    "# Importing Data:"
   ]
  },
  {
   "cell_type": "code",
   "execution_count": 58,
   "metadata": {},
   "outputs": [],
   "source": [
    "# import required package for data handling\n",
    "import pandas as pd\n",
    "import numpy as np\n",
    "import seaborn as sns\n",
    "import matplotlib as plt\n",
    "import matplotlib.pyplot as plt\n",
    "from pandas import DataFrame\n",
    "%matplotlib inline\n",
    "\n",
    "# import required packages for splitting data\n",
    "from sklearn import model_selection\n",
    "from sklearn.model_selection import cross_val_score\n",
    "from sklearn.model_selection import train_test_split\n",
    "\n",
    "# import required packages for evaluating models\n",
    "from sklearn import metrics\n",
    "from sklearn.metrics import confusion_matrix\n",
    "from sklearn.metrics import classification_report\n",
    "from sklearn.metrics import roc_auc_score\n",
    "from sklearn.metrics import accuracy_score\n",
    "from sklearn.metrics import precision_recall_fscore_support\n",
    "\n",
    "# import `logistic regression` model\n",
    "from sklearn.linear_model import LogisticRegression"
   ]
  },
  {
   "cell_type": "code",
   "execution_count": 3,
   "metadata": {},
   "outputs": [
    {
     "data": {
      "text/html": [
       "<div>\n",
       "<style scoped>\n",
       "    .dataframe tbody tr th:only-of-type {\n",
       "        vertical-align: middle;\n",
       "    }\n",
       "\n",
       "    .dataframe tbody tr th {\n",
       "        vertical-align: top;\n",
       "    }\n",
       "\n",
       "    .dataframe thead th {\n",
       "        text-align: right;\n",
       "    }\n",
       "</style>\n",
       "<table border=\"1\" class=\"dataframe\">\n",
       "  <thead>\n",
       "    <tr style=\"text-align: right;\">\n",
       "      <th></th>\n",
       "      <th>I1</th>\n",
       "      <th>I2</th>\n",
       "      <th>I3</th>\n",
       "      <th>P(IPO)</th>\n",
       "      <th>P(H)</th>\n",
       "      <th>P(L)</th>\n",
       "      <th>P(1Day)</th>\n",
       "      <th>C1</th>\n",
       "      <th>C2</th>\n",
       "      <th>C3</th>\n",
       "      <th>...</th>\n",
       "      <th>C6</th>\n",
       "      <th>C7</th>\n",
       "      <th>T1</th>\n",
       "      <th>T2</th>\n",
       "      <th>T3</th>\n",
       "      <th>T4</th>\n",
       "      <th>T5</th>\n",
       "      <th>S1</th>\n",
       "      <th>S2</th>\n",
       "      <th>S3</th>\n",
       "    </tr>\n",
       "  </thead>\n",
       "  <tbody>\n",
       "    <tr>\n",
       "      <th>0</th>\n",
       "      <td>AATI</td>\n",
       "      <td>ADVANCED ANALOGIC TECHNOLOGIES INC</td>\n",
       "      <td>3674</td>\n",
       "      <td>10.0</td>\n",
       "      <td>9.5</td>\n",
       "      <td>8.5</td>\n",
       "      <td>11.870000</td>\n",
       "      <td>122.0</td>\n",
       "      <td>1.0</td>\n",
       "      <td>3.43</td>\n",
       "      <td>...</td>\n",
       "      <td>10600000.0</td>\n",
       "      <td>51.345</td>\n",
       "      <td>470.0</td>\n",
       "      <td>12719.0</td>\n",
       "      <td>11560.0</td>\n",
       "      <td>301.0</td>\n",
       "      <td>690.0</td>\n",
       "      <td>62.0</td>\n",
       "      <td>117.0</td>\n",
       "      <td>139.0</td>\n",
       "    </tr>\n",
       "    <tr>\n",
       "      <th>1</th>\n",
       "      <td>ABPI</td>\n",
       "      <td>ACCENTIA BIOPHARMACEUTICALS INC</td>\n",
       "      <td>2834</td>\n",
       "      <td>8.0</td>\n",
       "      <td>10.0</td>\n",
       "      <td>8.0</td>\n",
       "      <td>7.250000</td>\n",
       "      <td>259.0</td>\n",
       "      <td>0.0</td>\n",
       "      <td>-1.62</td>\n",
       "      <td>...</td>\n",
       "      <td>2400000.0</td>\n",
       "      <td>25.936</td>\n",
       "      <td>791.0</td>\n",
       "      <td>21792.0</td>\n",
       "      <td>19585.0</td>\n",
       "      <td>510.0</td>\n",
       "      <td>1120.0</td>\n",
       "      <td>71.0</td>\n",
       "      <td>242.0</td>\n",
       "      <td>237.0</td>\n",
       "    </tr>\n",
       "    <tr>\n",
       "      <th>2</th>\n",
       "      <td>ACAD</td>\n",
       "      <td>ACADIA PHARMACEUTICALS INC</td>\n",
       "      <td>2834</td>\n",
       "      <td>7.0</td>\n",
       "      <td>14.0</td>\n",
       "      <td>12.0</td>\n",
       "      <td>6.700000</td>\n",
       "      <td>90.0</td>\n",
       "      <td>1.0</td>\n",
       "      <td>-1.24</td>\n",
       "      <td>...</td>\n",
       "      <td>5000000.0</td>\n",
       "      <td>7.378</td>\n",
       "      <td>201.0</td>\n",
       "      <td>5262.0</td>\n",
       "      <td>4785.0</td>\n",
       "      <td>128.0</td>\n",
       "      <td>325.0</td>\n",
       "      <td>61.0</td>\n",
       "      <td>33.0</td>\n",
       "      <td>60.0</td>\n",
       "    </tr>\n",
       "    <tr>\n",
       "      <th>3</th>\n",
       "      <td>ACHN</td>\n",
       "      <td>ACHILLION PHARMACEUTICALS INC</td>\n",
       "      <td>2834</td>\n",
       "      <td>11.5</td>\n",
       "      <td>16.0</td>\n",
       "      <td>14.0</td>\n",
       "      <td>12.390000</td>\n",
       "      <td>209.0</td>\n",
       "      <td>1.0</td>\n",
       "      <td>-0.91</td>\n",
       "      <td>...</td>\n",
       "      <td>4500000.0</td>\n",
       "      <td>8.526</td>\n",
       "      <td>328.0</td>\n",
       "      <td>8259.0</td>\n",
       "      <td>7574.0</td>\n",
       "      <td>177.0</td>\n",
       "      <td>509.0</td>\n",
       "      <td>80.0</td>\n",
       "      <td>59.0</td>\n",
       "      <td>110.0</td>\n",
       "    </tr>\n",
       "    <tr>\n",
       "      <th>4</th>\n",
       "      <td>ACLI</td>\n",
       "      <td>AMERICAN COMMERCIAL LINES INC.</td>\n",
       "      <td>4492</td>\n",
       "      <td>21.0</td>\n",
       "      <td>21.0</td>\n",
       "      <td>19.0</td>\n",
       "      <td>56.599998</td>\n",
       "      <td>80.0</td>\n",
       "      <td>1.0</td>\n",
       "      <td>0.07</td>\n",
       "      <td>...</td>\n",
       "      <td>8250000.0</td>\n",
       "      <td>632.298</td>\n",
       "      <td>572.0</td>\n",
       "      <td>14830.0</td>\n",
       "      <td>13176.0</td>\n",
       "      <td>336.0</td>\n",
       "      <td>720.0</td>\n",
       "      <td>67.0</td>\n",
       "      <td>149.0</td>\n",
       "      <td>167.0</td>\n",
       "    </tr>\n",
       "  </tbody>\n",
       "</table>\n",
       "<p>5 rows × 22 columns</p>\n",
       "</div>"
      ],
      "text/plain": [
       "     I1                                  I2    I3  P(IPO)  P(H)  P(L)  \\\n",
       "0  AATI  ADVANCED ANALOGIC TECHNOLOGIES INC  3674    10.0   9.5   8.5   \n",
       "1  ABPI     ACCENTIA BIOPHARMACEUTICALS INC  2834     8.0  10.0   8.0   \n",
       "2  ACAD          ACADIA PHARMACEUTICALS INC  2834     7.0  14.0  12.0   \n",
       "3  ACHN       ACHILLION PHARMACEUTICALS INC  2834    11.5  16.0  14.0   \n",
       "4  ACLI     AMERICAN COMMERCIAL LINES INC.   4492    21.0  21.0  19.0   \n",
       "\n",
       "     P(1Day)     C1   C2    C3  ...          C6       C7     T1       T2  \\\n",
       "0  11.870000  122.0  1.0  3.43  ...  10600000.0   51.345  470.0  12719.0   \n",
       "1   7.250000  259.0  0.0 -1.62  ...   2400000.0   25.936  791.0  21792.0   \n",
       "2   6.700000   90.0  1.0 -1.24  ...   5000000.0    7.378  201.0   5262.0   \n",
       "3  12.390000  209.0  1.0 -0.91  ...   4500000.0    8.526  328.0   8259.0   \n",
       "4  56.599998   80.0  1.0  0.07  ...   8250000.0  632.298  572.0  14830.0   \n",
       "\n",
       "        T3     T4      T5    S1     S2     S3  \n",
       "0  11560.0  301.0   690.0  62.0  117.0  139.0  \n",
       "1  19585.0  510.0  1120.0  71.0  242.0  237.0  \n",
       "2   4785.0  128.0   325.0  61.0   33.0   60.0  \n",
       "3   7574.0  177.0   509.0  80.0   59.0  110.0  \n",
       "4  13176.0  336.0   720.0  67.0  149.0  167.0  \n",
       "\n",
       "[5 rows x 22 columns]"
      ]
     },
     "execution_count": 3,
     "metadata": {},
     "output_type": "execute_result"
    }
   ],
   "source": [
    "compdata_original = pd.read_csv('comp1data.csv', header=0, na_values = '-')\n",
    "compdata_original.head()"
   ]
  },
  {
   "cell_type": "markdown",
   "metadata": {},
   "source": [
    "# Descriptive Statistics"
   ]
  },
  {
   "cell_type": "code",
   "execution_count": 4,
   "metadata": {},
   "outputs": [
    {
     "data": {
      "text/plain": [
       "(682, 22)"
      ]
     },
     "execution_count": 4,
     "metadata": {},
     "output_type": "execute_result"
    }
   ],
   "source": [
    "compdata_original.shape\n",
    "\n",
    "# do we have enough data? - YES\n",
    "# 682 rows and 22 columns"
   ]
  },
  {
   "cell_type": "code",
   "execution_count": 5,
   "metadata": {},
   "outputs": [
    {
     "data": {
      "text/plain": [
       "P(IPO)     1.350000e+01\n",
       "P(H)       1.500000e+01\n",
       "P(L)       1.300000e+01\n",
       "P(1Day)    1.484500e+01\n",
       "C1         1.070000e+02\n",
       "C2         1.000000e+00\n",
       "C3         1.000000e-02\n",
       "C4         9.124591e-03\n",
       "C5         2.740018e+07\n",
       "C6         7.398704e+06\n",
       "C7         1.038330e+02\n",
       "T1         4.440000e+02\n",
       "T2         1.204500e+04\n",
       "T3         1.078500e+04\n",
       "T4         2.790000e+02\n",
       "T5         6.240000e+02\n",
       "S1         6.000000e+01\n",
       "S2         1.000000e+02\n",
       "S3         1.340000e+02\n",
       "dtype: float64"
      ]
     },
     "execution_count": 5,
     "metadata": {},
     "output_type": "execute_result"
    }
   ],
   "source": [
    "compdata_original.describe(include='all')\n",
    "compdata_original.median()"
   ]
  },
  {
   "cell_type": "code",
   "execution_count": 6,
   "metadata": {},
   "outputs": [
    {
     "data": {
      "text/plain": [
       "P(IPO)     1.350000e+01\n",
       "P(H)       1.500000e+01\n",
       "P(L)       1.300000e+01\n",
       "P(1Day)    1.484500e+01\n",
       "C1         1.070000e+02\n",
       "C2         1.000000e+00\n",
       "C3         1.000000e-02\n",
       "C4         9.124591e-03\n",
       "C5         2.740018e+07\n",
       "C6         7.398704e+06\n",
       "C7         1.038330e+02\n",
       "T1         4.440000e+02\n",
       "T2         1.204500e+04\n",
       "T3         1.078500e+04\n",
       "T4         2.790000e+02\n",
       "T5         6.240000e+02\n",
       "S1         6.000000e+01\n",
       "S2         1.000000e+02\n",
       "S3         1.340000e+02\n",
       "dtype: float64"
      ]
     },
     "execution_count": 6,
     "metadata": {},
     "output_type": "execute_result"
    }
   ],
   "source": [
    "compdata_original.median()"
   ]
  },
  {
   "cell_type": "code",
   "execution_count": 7,
   "metadata": {},
   "outputs": [],
   "source": [
    "# Create a copy of the data\n",
    "compdata = compdata_original.copy()"
   ]
  },
  {
   "cell_type": "markdown",
   "metadata": {},
   "source": [
    "# Variable Calculations"
   ]
  },
  {
   "cell_type": "code",
   "execution_count": 8,
   "metadata": {},
   "outputs": [],
   "source": [
    "# Ratios:\n",
    "\n",
    "    # ** How to find the ratio for T1 and T2... drop them\n",
    "    # Should the other numbers be dropped? Make a new df with imputed/calculated numbers?\n",
    "\n",
    "# Percentage of real words\n",
    "compdata['T3_'] = (compdata['T3']/compdata['T2'])\n",
    "# Percentage of long sentences\n",
    "compdata['T4_'] = (compdata['T4']/compdata['T1'])\n",
    "# Percentage of long words\n",
    "compdata['T5_'] = (compdata['T5']/compdata['T2'])\n",
    "# Percentage of positive words\n",
    "compdata['S1_'] = (compdata['S1']/compdata['T2'])\n",
    "# Percentage of negative words\n",
    "compdata['S2_'] = (compdata['S2']/compdata['T2'])\n",
    "# Percentage of uncertain words\n",
    "compdata['S3_'] = (compdata['S3']/compdata['T2'])\n",
    "compdata.head()\n",
    "\n",
    "# Target & Control Variable Calculation\n",
    "\n",
    "compdata['P(mid)'] = ((compdata['P(H)']+compdata['P(L)'])/2)\n",
    "\n",
    "def p(row):\n",
    "    if row['P(IPO)'] < row['P(mid)']:\n",
    "        val = 1\n",
    "    else:\n",
    "        val = 0\n",
    "    return val\n",
    "\n",
    "def q(row):\n",
    "    if row['P(1Day)'] > row['P(IPO)']:\n",
    "        val = 1\n",
    "    else:\n",
    "        val = 0\n",
    "    return val\n",
    "\n",
    "def r(row):\n",
    "    if row['C3'] >= 0:\n",
    "        val = 1\n",
    "    else:\n",
    "        val = 0\n",
    "    return val\n",
    "\n",
    "def s(row):\n",
    "    if row['P(IPO)'] > row['P(mid)']:\n",
    "        val = (row['P(IPO)'] - row['P(mid)'])/row['P(mid)']*100\n",
    "    else:\n",
    "        val = 0\n",
    "    return val\n",
    "\n",
    "compdata['C3_'] = compdata.apply(r, axis=1)\n",
    "compdata['C5_'] = compdata['C5']/compdata['C6'] \n",
    "compdata['C6_'] = compdata.apply(s, axis=1)\n",
    "compdata['Y1'] = compdata.apply(p, axis=1)\n",
    "compdata['Y2'] = compdata.apply(q, axis=1)"
   ]
  },
  {
   "cell_type": "markdown",
   "metadata": {},
   "source": [
    "# Missing Data:"
   ]
  },
  {
   "cell_type": "code",
   "execution_count": 9,
   "metadata": {},
   "outputs": [
    {
     "name": "stdout",
     "output_type": "stream",
     "text": [
      "<class 'pandas.core.frame.DataFrame'>\n",
      "RangeIndex: 682 entries, 0 to 681\n",
      "Data columns (total 34 columns):\n",
      "I1         682 non-null object\n",
      "I2         682 non-null object\n",
      "I3         674 non-null object\n",
      "P(IPO)     677 non-null float64\n",
      "P(H)       672 non-null float64\n",
      "P(L)       672 non-null float64\n",
      "P(1Day)    660 non-null float64\n",
      "C1         660 non-null float64\n",
      "C2         660 non-null float64\n",
      "C3         646 non-null float64\n",
      "C4         660 non-null float64\n",
      "C5         676 non-null float64\n",
      "C6         676 non-null float64\n",
      "C7         610 non-null float64\n",
      "T1         681 non-null float64\n",
      "T2         681 non-null float64\n",
      "T3         681 non-null float64\n",
      "T4         681 non-null float64\n",
      "T5         681 non-null float64\n",
      "S1         681 non-null float64\n",
      "S2         681 non-null float64\n",
      "S3         681 non-null float64\n",
      "T3_        681 non-null float64\n",
      "T4_        681 non-null float64\n",
      "T5_        681 non-null float64\n",
      "S1_        681 non-null float64\n",
      "S2_        681 non-null float64\n",
      "S3_        681 non-null float64\n",
      "P(mid)     672 non-null float64\n",
      "C3_        682 non-null int64\n",
      "C5_        676 non-null float64\n",
      "C6_        682 non-null float64\n",
      "Y1         682 non-null int64\n",
      "Y2         682 non-null int64\n",
      "dtypes: float64(28), int64(3), object(3)\n",
      "memory usage: 181.3+ KB\n"
     ]
    }
   ],
   "source": [
    "compdata.info()"
   ]
  },
  {
   "cell_type": "code",
   "execution_count": 10,
   "metadata": {},
   "outputs": [
    {
     "data": {
      "text/plain": [
       "I1          0\n",
       "I2          0\n",
       "I3          8\n",
       "P(IPO)      5\n",
       "P(H)       10\n",
       "P(L)       10\n",
       "P(1Day)    22\n",
       "C1         22\n",
       "C2         22\n",
       "C3         36\n",
       "C4         22\n",
       "C5          6\n",
       "C6          6\n",
       "C7         72\n",
       "T1          1\n",
       "T2          1\n",
       "T3          1\n",
       "T4          1\n",
       "T5          1\n",
       "S1          1\n",
       "S2          1\n",
       "S3          1\n",
       "T3_         1\n",
       "T4_         1\n",
       "T5_         1\n",
       "S1_         1\n",
       "S2_         1\n",
       "S3_         1\n",
       "P(mid)     10\n",
       "C3_         0\n",
       "C5_         6\n",
       "C6_         0\n",
       "Y1          0\n",
       "Y2          0\n",
       "dtype: int64"
      ]
     },
     "execution_count": 10,
     "metadata": {},
     "output_type": "execute_result"
    }
   ],
   "source": [
    "compdata.isna().sum()"
   ]
  },
  {
   "cell_type": "markdown",
   "metadata": {},
   "source": [
    "## Drop Missing P Values as we cannot impute these."
   ]
  },
  {
   "cell_type": "code",
   "execution_count": 11,
   "metadata": {},
   "outputs": [],
   "source": [
    "# Drop missing P Values from DF\n",
    "\n",
    "compdata = compdata.dropna(how='all', subset=['P(1Day)'])"
   ]
  },
  {
   "cell_type": "code",
   "execution_count": 12,
   "metadata": {},
   "outputs": [
    {
     "data": {
      "text/plain": [
       "I1          0\n",
       "I2          0\n",
       "I3          0\n",
       "P(IPO)      0\n",
       "P(H)        0\n",
       "P(L)        0\n",
       "P(1Day)     0\n",
       "C1          0\n",
       "C2          0\n",
       "C3         24\n",
       "C4          0\n",
       "C5          0\n",
       "C6          0\n",
       "C7         60\n",
       "T1          0\n",
       "T2          0\n",
       "T3          0\n",
       "T4          0\n",
       "T5          0\n",
       "S1          0\n",
       "S2          0\n",
       "S3          0\n",
       "T3_         0\n",
       "T4_         0\n",
       "T5_         0\n",
       "S1_         0\n",
       "S2_         0\n",
       "S3_         0\n",
       "P(mid)      0\n",
       "C3_         0\n",
       "C5_         0\n",
       "C6_         0\n",
       "Y1          0\n",
       "Y2          0\n",
       "dtype: int64"
      ]
     },
     "execution_count": 12,
     "metadata": {},
     "output_type": "execute_result"
    }
   ],
   "source": [
    "compdata.isna().sum()"
   ]
  },
  {
   "cell_type": "markdown",
   "metadata": {},
   "source": [
    "## Drop Rows with Missing T2 Values"
   ]
  },
  {
   "cell_type": "code",
   "execution_count": 13,
   "metadata": {},
   "outputs": [
    {
     "data": {
      "text/html": [
       "<div>\n",
       "<style scoped>\n",
       "    .dataframe tbody tr th:only-of-type {\n",
       "        vertical-align: middle;\n",
       "    }\n",
       "\n",
       "    .dataframe tbody tr th {\n",
       "        vertical-align: top;\n",
       "    }\n",
       "\n",
       "    .dataframe thead th {\n",
       "        text-align: right;\n",
       "    }\n",
       "</style>\n",
       "<table border=\"1\" class=\"dataframe\">\n",
       "  <thead>\n",
       "    <tr style=\"text-align: right;\">\n",
       "      <th></th>\n",
       "      <th>I1</th>\n",
       "      <th>I2</th>\n",
       "      <th>I3</th>\n",
       "      <th>P(IPO)</th>\n",
       "      <th>P(H)</th>\n",
       "      <th>P(L)</th>\n",
       "      <th>P(1Day)</th>\n",
       "      <th>C1</th>\n",
       "      <th>C2</th>\n",
       "      <th>C3</th>\n",
       "      <th>...</th>\n",
       "      <th>T5_</th>\n",
       "      <th>S1_</th>\n",
       "      <th>S2_</th>\n",
       "      <th>S3_</th>\n",
       "      <th>P(mid)</th>\n",
       "      <th>C3_</th>\n",
       "      <th>C5_</th>\n",
       "      <th>C6_</th>\n",
       "      <th>Y1</th>\n",
       "      <th>Y2</th>\n",
       "    </tr>\n",
       "  </thead>\n",
       "  <tbody>\n",
       "  </tbody>\n",
       "</table>\n",
       "<p>0 rows × 34 columns</p>\n",
       "</div>"
      ],
      "text/plain": [
       "Empty DataFrame\n",
       "Columns: [I1, I2, I3, P(IPO), P(H), P(L), P(1Day), C1, C2, C3, C4, C5, C6, C7, T1, T2, T3, T4, T5, S1, S2, S3, T3_, T4_, T5_, S1_, S2_, S3_, P(mid), C3_, C5_, C6_, Y1, Y2]\n",
       "Index: []\n",
       "\n",
       "[0 rows x 34 columns]"
      ]
     },
     "execution_count": 13,
     "metadata": {},
     "output_type": "execute_result"
    }
   ],
   "source": [
    "# Drop the rows with mising T2 values\n",
    "# Cannot do calculations with missing data on the number of words, the ratios will be 0 and create outliers\n",
    "\n",
    "compdata.drop(compdata[compdata['T1'] == 0].index, inplace = True) \n",
    "compdata.drop(compdata[compdata['T2'] == 0].index, inplace = True) \n",
    "compdata.loc[compdata['T1'] == 0]"
   ]
  },
  {
   "cell_type": "code",
   "execution_count": 14,
   "metadata": {},
   "outputs": [
    {
     "data": {
      "text/html": [
       "<div>\n",
       "<style scoped>\n",
       "    .dataframe tbody tr th:only-of-type {\n",
       "        vertical-align: middle;\n",
       "    }\n",
       "\n",
       "    .dataframe tbody tr th {\n",
       "        vertical-align: top;\n",
       "    }\n",
       "\n",
       "    .dataframe thead th {\n",
       "        text-align: right;\n",
       "    }\n",
       "</style>\n",
       "<table border=\"1\" class=\"dataframe\">\n",
       "  <thead>\n",
       "    <tr style=\"text-align: right;\">\n",
       "      <th></th>\n",
       "      <th>I1</th>\n",
       "      <th>I2</th>\n",
       "      <th>I3</th>\n",
       "      <th>P(IPO)</th>\n",
       "      <th>P(H)</th>\n",
       "      <th>P(L)</th>\n",
       "      <th>P(1Day)</th>\n",
       "      <th>C1</th>\n",
       "      <th>C2</th>\n",
       "      <th>C3</th>\n",
       "      <th>...</th>\n",
       "      <th>T5_</th>\n",
       "      <th>S1_</th>\n",
       "      <th>S2_</th>\n",
       "      <th>S3_</th>\n",
       "      <th>P(mid)</th>\n",
       "      <th>C3_</th>\n",
       "      <th>C5_</th>\n",
       "      <th>C6_</th>\n",
       "      <th>Y1</th>\n",
       "      <th>Y2</th>\n",
       "    </tr>\n",
       "  </thead>\n",
       "  <tbody>\n",
       "  </tbody>\n",
       "</table>\n",
       "<p>0 rows × 34 columns</p>\n",
       "</div>"
      ],
      "text/plain": [
       "Empty DataFrame\n",
       "Columns: [I1, I2, I3, P(IPO), P(H), P(L), P(1Day), C1, C2, C3, C4, C5, C6, C7, T1, T2, T3, T4, T5, S1, S2, S3, T3_, T4_, T5_, S1_, S2_, S3_, P(mid), C3_, C5_, C6_, Y1, Y2]\n",
       "Index: []\n",
       "\n",
       "[0 rows x 34 columns]"
      ]
     },
     "execution_count": 14,
     "metadata": {},
     "output_type": "execute_result"
    }
   ],
   "source": [
    "compdata.loc[compdata['T2'] == 0]"
   ]
  },
  {
   "cell_type": "markdown",
   "metadata": {},
   "source": [
    "Now that we've dropped the missing P values, we simply need to impute C3 and C7 as they are the only remaining missing values in the dataframe."
   ]
  },
  {
   "cell_type": "markdown",
   "metadata": {},
   "source": [
    "## Impute C3 & C7"
   ]
  },
  {
   "cell_type": "code",
   "execution_count": 15,
   "metadata": {},
   "outputs": [
    {
     "data": {
      "text/plain": [
       "<matplotlib.axes._subplots.AxesSubplot at 0x7fdeb3517128>"
      ]
     },
     "execution_count": 15,
     "metadata": {},
     "output_type": "execute_result"
    },
    {
     "data": {
      "image/png": "[encoded data removed]",
      "text/plain": [
       "<Figure size 1080x72 with 1 Axes>"
      ]
     },
     "metadata": {
      "needs_background": "light"
     },
     "output_type": "display_data"
    }
   ],
   "source": [
    "# C3 imputation\n",
    "# check distribution to determine if mean or median should be used\n",
    "\n",
    "compdata.boxplot(column='C3',vert=False, figsize=(15,1))\n",
    "\n",
    "# since there are clear outliers, will use median."
   ]
  },
  {
   "cell_type": "code",
   "execution_count": 16,
   "metadata": {},
   "outputs": [],
   "source": [
    "compdata['Imputed_C3'] = compdata['C3'].fillna(compdata['C3'].median())"
   ]
  },
  {
   "cell_type": "code",
   "execution_count": 17,
   "metadata": {},
   "outputs": [
    {
     "data": {
      "text/plain": [
       "I1             0\n",
       "I2             0\n",
       "I3             0\n",
       "P(IPO)         0\n",
       "P(H)           0\n",
       "P(L)           0\n",
       "P(1Day)        0\n",
       "C1             0\n",
       "C2             0\n",
       "C3            24\n",
       "C4             0\n",
       "C5             0\n",
       "C6             0\n",
       "C7            60\n",
       "T1             0\n",
       "T2             0\n",
       "T3             0\n",
       "T4             0\n",
       "T5             0\n",
       "S1             0\n",
       "S2             0\n",
       "S3             0\n",
       "T3_            0\n",
       "T4_            0\n",
       "T5_            0\n",
       "S1_            0\n",
       "S2_            0\n",
       "S3_            0\n",
       "P(mid)         0\n",
       "C3_            0\n",
       "C5_            0\n",
       "C6_            0\n",
       "Y1             0\n",
       "Y2             0\n",
       "Imputed_C3     0\n",
       "dtype: int64"
      ]
     },
     "execution_count": 17,
     "metadata": {},
     "output_type": "execute_result"
    }
   ],
   "source": [
    "compdata.isna().sum()"
   ]
  },
  {
   "cell_type": "code",
   "execution_count": 18,
   "metadata": {},
   "outputs": [
    {
     "data": {
      "text/plain": [
       "<matplotlib.axes._subplots.AxesSubplot at 0x7fdeb347f7b8>"
      ]
     },
     "execution_count": 18,
     "metadata": {},
     "output_type": "execute_result"
    },
    {
     "data": {
      "image/png": "[encoded data removed]",
      "text/plain": [
       "<Figure size 1080x72 with 1 Axes>"
      ]
     },
     "metadata": {
      "needs_background": "light"
     },
     "output_type": "display_data"
    }
   ],
   "source": [
    "# C7 imputation\n",
    "# check distribution to determine if mean or median should be used.\n",
    "\n",
    "\n",
    "compdata.boxplot(column='C7',vert=False, figsize=(15,1))\n",
    "\n",
    "# since there are clear outliers, will use median."
   ]
  },
  {
   "cell_type": "code",
   "execution_count": 19,
   "metadata": {},
   "outputs": [],
   "source": [
    "compdata['Imputed_C7'] = compdata['C7'].fillna(compdata['C7'].median())"
   ]
  },
  {
   "cell_type": "code",
   "execution_count": 20,
   "metadata": {},
   "outputs": [
    {
     "data": {
      "text/plain": [
       "I1             0\n",
       "I2             0\n",
       "I3             0\n",
       "P(IPO)         0\n",
       "P(H)           0\n",
       "P(L)           0\n",
       "P(1Day)        0\n",
       "C1             0\n",
       "C2             0\n",
       "C3            24\n",
       "C4             0\n",
       "C5             0\n",
       "C6             0\n",
       "C7            60\n",
       "T1             0\n",
       "T2             0\n",
       "T3             0\n",
       "T4             0\n",
       "T5             0\n",
       "S1             0\n",
       "S2             0\n",
       "S3             0\n",
       "T3_            0\n",
       "T4_            0\n",
       "T5_            0\n",
       "S1_            0\n",
       "S2_            0\n",
       "S3_            0\n",
       "P(mid)         0\n",
       "C3_            0\n",
       "C5_            0\n",
       "C6_            0\n",
       "Y1             0\n",
       "Y2             0\n",
       "Imputed_C3     0\n",
       "Imputed_C7     0\n",
       "dtype: int64"
      ]
     },
     "execution_count": 20,
     "metadata": {},
     "output_type": "execute_result"
    }
   ],
   "source": [
    "compdata.isna().sum()"
   ]
  },
  {
   "cell_type": "markdown",
   "metadata": {},
   "source": [
    "## Identify values in I3 that have multiple values and replace them with 1.\n",
    "- we discovered (via some handy Excel work) that some values in I3 had multiple SIC codes.\n",
    "- need to replace these first."
   ]
  },
  {
   "cell_type": "code",
   "execution_count": 21,
   "metadata": {},
   "outputs": [
    {
     "data": {
      "text/html": [
       "<div>\n",
       "<style scoped>\n",
       "    .dataframe tbody tr th:only-of-type {\n",
       "        vertical-align: middle;\n",
       "    }\n",
       "\n",
       "    .dataframe tbody tr th {\n",
       "        vertical-align: top;\n",
       "    }\n",
       "\n",
       "    .dataframe thead th {\n",
       "        text-align: right;\n",
       "    }\n",
       "</style>\n",
       "<table border=\"1\" class=\"dataframe\">\n",
       "  <thead>\n",
       "    <tr style=\"text-align: right;\">\n",
       "      <th></th>\n",
       "      <th>I1</th>\n",
       "      <th>I2</th>\n",
       "      <th>I3</th>\n",
       "      <th>P(IPO)</th>\n",
       "      <th>P(H)</th>\n",
       "      <th>P(L)</th>\n",
       "      <th>P(1Day)</th>\n",
       "      <th>C1</th>\n",
       "      <th>C2</th>\n",
       "      <th>C3</th>\n",
       "      <th>...</th>\n",
       "      <th>S2_</th>\n",
       "      <th>S3_</th>\n",
       "      <th>P(mid)</th>\n",
       "      <th>C3_</th>\n",
       "      <th>C5_</th>\n",
       "      <th>C6_</th>\n",
       "      <th>Y1</th>\n",
       "      <th>Y2</th>\n",
       "      <th>Imputed_C3</th>\n",
       "      <th>Imputed_C7</th>\n",
       "    </tr>\n",
       "  </thead>\n",
       "  <tbody>\n",
       "    <tr>\n",
       "      <th>174</th>\n",
       "      <td>DLB</td>\n",
       "      <td>Dolby Laboratories, Inc.</td>\n",
       "      <td>6794, 3861, 3663, 7819</td>\n",
       "      <td>18.0</td>\n",
       "      <td>18.0</td>\n",
       "      <td>16.0</td>\n",
       "      <td>24.299999</td>\n",
       "      <td>90.0</td>\n",
       "      <td>1.0</td>\n",
       "      <td>0.47</td>\n",
       "      <td>...</td>\n",
       "      <td>0.00798</td>\n",
       "      <td>0.010793</td>\n",
       "      <td>17.0</td>\n",
       "      <td>1</td>\n",
       "      <td>3.540441</td>\n",
       "      <td>5.882353</td>\n",
       "      <td>0</td>\n",
       "      <td>1</td>\n",
       "      <td>0.47</td>\n",
       "      <td>289.041</td>\n",
       "    </tr>\n",
       "  </tbody>\n",
       "</table>\n",
       "<p>1 rows × 36 columns</p>\n",
       "</div>"
      ],
      "text/plain": [
       "      I1                         I2                      I3  P(IPO)  P(H)  \\\n",
       "174  DLB  Dolby Laboratories, Inc.   6794, 3861, 3663, 7819    18.0  18.0   \n",
       "\n",
       "     P(L)    P(1Day)    C1   C2    C3  ...      S2_       S3_  P(mid)  C3_  \\\n",
       "174  16.0  24.299999  90.0  1.0  0.47  ...  0.00798  0.010793    17.0    1   \n",
       "\n",
       "          C5_       C6_  Y1  Y2  Imputed_C3  Imputed_C7  \n",
       "174  3.540441  5.882353   0   1        0.47     289.041  \n",
       "\n",
       "[1 rows x 36 columns]"
      ]
     },
     "execution_count": 21,
     "metadata": {},
     "output_type": "execute_result"
    }
   ],
   "source": [
    "compdata[compdata[\"I1\"]=='DLB']"
   ]
  },
  {
   "cell_type": "code",
   "execution_count": 22,
   "metadata": {},
   "outputs": [
    {
     "data": {
      "text/html": [
       "<div>\n",
       "<style scoped>\n",
       "    .dataframe tbody tr th:only-of-type {\n",
       "        vertical-align: middle;\n",
       "    }\n",
       "\n",
       "    .dataframe tbody tr th {\n",
       "        vertical-align: top;\n",
       "    }\n",
       "\n",
       "    .dataframe thead th {\n",
       "        text-align: right;\n",
       "    }\n",
       "</style>\n",
       "<table border=\"1\" class=\"dataframe\">\n",
       "  <thead>\n",
       "    <tr style=\"text-align: right;\">\n",
       "      <th></th>\n",
       "      <th>I1</th>\n",
       "      <th>I2</th>\n",
       "      <th>I3</th>\n",
       "      <th>P(IPO)</th>\n",
       "      <th>P(H)</th>\n",
       "      <th>P(L)</th>\n",
       "      <th>P(1Day)</th>\n",
       "      <th>C1</th>\n",
       "      <th>C2</th>\n",
       "      <th>C3</th>\n",
       "      <th>...</th>\n",
       "      <th>S2_</th>\n",
       "      <th>S3_</th>\n",
       "      <th>P(mid)</th>\n",
       "      <th>C3_</th>\n",
       "      <th>C5_</th>\n",
       "      <th>C6_</th>\n",
       "      <th>Y1</th>\n",
       "      <th>Y2</th>\n",
       "      <th>Imputed_C3</th>\n",
       "      <th>Imputed_C7</th>\n",
       "    </tr>\n",
       "  </thead>\n",
       "  <tbody>\n",
       "    <tr>\n",
       "      <th>187</th>\n",
       "      <td>DTSI</td>\n",
       "      <td>DTS, INC.</td>\n",
       "      <td>3651, 6794, 7819</td>\n",
       "      <td>17.0</td>\n",
       "      <td>16.0</td>\n",
       "      <td>14.0</td>\n",
       "      <td>24.92</td>\n",
       "      <td>76.0</td>\n",
       "      <td>0.0</td>\n",
       "      <td>0.99</td>\n",
       "      <td>...</td>\n",
       "      <td>0.011482</td>\n",
       "      <td>0.00846</td>\n",
       "      <td>15.0</td>\n",
       "      <td>1</td>\n",
       "      <td>3.410759</td>\n",
       "      <td>13.333333</td>\n",
       "      <td>0</td>\n",
       "      <td>1</td>\n",
       "      <td>0.99</td>\n",
       "      <td>41.056</td>\n",
       "    </tr>\n",
       "  </tbody>\n",
       "</table>\n",
       "<p>1 rows × 36 columns</p>\n",
       "</div>"
      ],
      "text/plain": [
       "       I1         I2                I3  P(IPO)  P(H)  P(L)  P(1Day)    C1  \\\n",
       "187  DTSI  DTS, INC.  3651, 6794, 7819    17.0  16.0  14.0    24.92  76.0   \n",
       "\n",
       "      C2    C3  ...       S2_      S3_  P(mid)  C3_       C5_        C6_  Y1  \\\n",
       "187  0.0  0.99  ...  0.011482  0.00846    15.0    1  3.410759  13.333333   0   \n",
       "\n",
       "     Y2  Imputed_C3  Imputed_C7  \n",
       "187   1        0.99      41.056  \n",
       "\n",
       "[1 rows x 36 columns]"
      ]
     },
     "execution_count": 22,
     "metadata": {},
     "output_type": "execute_result"
    }
   ],
   "source": [
    "compdata[compdata[\"I1\"]=='DTSI']"
   ]
  },
  {
   "cell_type": "code",
   "execution_count": 23,
   "metadata": {},
   "outputs": [
    {
     "data": {
      "text/html": [
       "<div>\n",
       "<style scoped>\n",
       "    .dataframe tbody tr th:only-of-type {\n",
       "        vertical-align: middle;\n",
       "    }\n",
       "\n",
       "    .dataframe tbody tr th {\n",
       "        vertical-align: top;\n",
       "    }\n",
       "\n",
       "    .dataframe thead th {\n",
       "        text-align: right;\n",
       "    }\n",
       "</style>\n",
       "<table border=\"1\" class=\"dataframe\">\n",
       "  <thead>\n",
       "    <tr style=\"text-align: right;\">\n",
       "      <th></th>\n",
       "      <th>I1</th>\n",
       "      <th>I2</th>\n",
       "      <th>I3</th>\n",
       "      <th>P(IPO)</th>\n",
       "      <th>P(H)</th>\n",
       "      <th>P(L)</th>\n",
       "      <th>P(1Day)</th>\n",
       "      <th>C1</th>\n",
       "      <th>C2</th>\n",
       "      <th>C3</th>\n",
       "      <th>...</th>\n",
       "      <th>S2_</th>\n",
       "      <th>S3_</th>\n",
       "      <th>P(mid)</th>\n",
       "      <th>C3_</th>\n",
       "      <th>C5_</th>\n",
       "      <th>C6_</th>\n",
       "      <th>Y1</th>\n",
       "      <th>Y2</th>\n",
       "      <th>Imputed_C3</th>\n",
       "      <th>Imputed_C7</th>\n",
       "    </tr>\n",
       "  </thead>\n",
       "  <tbody>\n",
       "    <tr>\n",
       "      <th>499</th>\n",
       "      <td>RLD</td>\n",
       "      <td>RealD Inc.</td>\n",
       "      <td>3663, 3861, 6794</td>\n",
       "      <td>16.0</td>\n",
       "      <td>15.0</td>\n",
       "      <td>13.0</td>\n",
       "      <td>19.51</td>\n",
       "      <td>98.0</td>\n",
       "      <td>1.0</td>\n",
       "      <td>-0.33</td>\n",
       "      <td>...</td>\n",
       "      <td>0.00874</td>\n",
       "      <td>0.014273</td>\n",
       "      <td>14.0</td>\n",
       "      <td>0</td>\n",
       "      <td>3.81107</td>\n",
       "      <td>14.285714</td>\n",
       "      <td>0</td>\n",
       "      <td>1</td>\n",
       "      <td>-0.33</td>\n",
       "      <td>39.675</td>\n",
       "    </tr>\n",
       "  </tbody>\n",
       "</table>\n",
       "<p>1 rows × 36 columns</p>\n",
       "</div>"
      ],
      "text/plain": [
       "      I1          I2                I3  P(IPO)  P(H)  P(L)  P(1Day)    C1  \\\n",
       "499  RLD  RealD Inc.  3663, 3861, 6794    16.0  15.0  13.0    19.51  98.0   \n",
       "\n",
       "      C2    C3  ...      S2_       S3_  P(mid)  C3_      C5_        C6_  Y1  \\\n",
       "499  1.0 -0.33  ...  0.00874  0.014273    14.0    0  3.81107  14.285714   0   \n",
       "\n",
       "     Y2  Imputed_C3  Imputed_C7  \n",
       "499   1       -0.33      39.675  \n",
       "\n",
       "[1 rows x 36 columns]"
      ]
     },
     "execution_count": 23,
     "metadata": {},
     "output_type": "execute_result"
    }
   ],
   "source": [
    "compdata[compdata[\"I1\"]=='RLD']"
   ]
  },
  {
   "cell_type": "code",
   "execution_count": 24,
   "metadata": {},
   "outputs": [
    {
     "data": {
      "text/html": [
       "<div>\n",
       "<style scoped>\n",
       "    .dataframe tbody tr th:only-of-type {\n",
       "        vertical-align: middle;\n",
       "    }\n",
       "\n",
       "    .dataframe tbody tr th {\n",
       "        vertical-align: top;\n",
       "    }\n",
       "\n",
       "    .dataframe thead th {\n",
       "        text-align: right;\n",
       "    }\n",
       "</style>\n",
       "<table border=\"1\" class=\"dataframe\">\n",
       "  <thead>\n",
       "    <tr style=\"text-align: right;\">\n",
       "      <th></th>\n",
       "      <th>I1</th>\n",
       "      <th>I2</th>\n",
       "      <th>I3</th>\n",
       "      <th>P(IPO)</th>\n",
       "      <th>P(H)</th>\n",
       "      <th>P(L)</th>\n",
       "      <th>P(1Day)</th>\n",
       "      <th>C1</th>\n",
       "      <th>C2</th>\n",
       "      <th>C3</th>\n",
       "      <th>...</th>\n",
       "      <th>S2_</th>\n",
       "      <th>S3_</th>\n",
       "      <th>P(mid)</th>\n",
       "      <th>C3_</th>\n",
       "      <th>C5_</th>\n",
       "      <th>C6_</th>\n",
       "      <th>Y1</th>\n",
       "      <th>Y2</th>\n",
       "      <th>Imputed_C3</th>\n",
       "      <th>Imputed_C7</th>\n",
       "    </tr>\n",
       "  </thead>\n",
       "  <tbody>\n",
       "    <tr>\n",
       "      <th>620</th>\n",
       "      <td>UPG</td>\n",
       "      <td>UNIVERSAL POWER GROUP</td>\n",
       "      <td>7389, 5063</td>\n",
       "      <td>7.0</td>\n",
       "      <td>9.0</td>\n",
       "      <td>7.0</td>\n",
       "      <td>7.35</td>\n",
       "      <td>101.0</td>\n",
       "      <td>0.0</td>\n",
       "      <td>0.38</td>\n",
       "      <td>...</td>\n",
       "      <td>0.008835</td>\n",
       "      <td>0.00956</td>\n",
       "      <td>8.0</td>\n",
       "      <td>1</td>\n",
       "      <td>1.666667</td>\n",
       "      <td>0.0</td>\n",
       "      <td>1</td>\n",
       "      <td>1</td>\n",
       "      <td>0.38</td>\n",
       "      <td>81.275</td>\n",
       "    </tr>\n",
       "  </tbody>\n",
       "</table>\n",
       "<p>1 rows × 36 columns</p>\n",
       "</div>"
      ],
      "text/plain": [
       "      I1                      I2          I3  P(IPO)  P(H)  P(L)  P(1Day)  \\\n",
       "620  UPG  UNIVERSAL POWER GROUP   7389, 5063     7.0   9.0   7.0     7.35   \n",
       "\n",
       "        C1   C2    C3  ...       S2_      S3_  P(mid)  C3_       C5_  C6_  Y1  \\\n",
       "620  101.0  0.0  0.38  ...  0.008835  0.00956     8.0    1  1.666667  0.0   1   \n",
       "\n",
       "     Y2  Imputed_C3  Imputed_C7  \n",
       "620   1        0.38      81.275  \n",
       "\n",
       "[1 rows x 36 columns]"
      ]
     },
     "execution_count": 24,
     "metadata": {},
     "output_type": "execute_result"
    }
   ],
   "source": [
    "compdata[compdata[\"I1\"]=='UPG']"
   ]
  },
  {
   "cell_type": "markdown",
   "metadata": {},
   "source": [
    "## Replace I3 values with one value.\n",
    "- placed them in sensible industry based on the most common industries of the 4 values."
   ]
  },
  {
   "cell_type": "code",
   "execution_count": 25,
   "metadata": {},
   "outputs": [],
   "source": [
    "# adding to manufacturing \n",
    "\n",
    "compdata.I3.replace(to_replace =\"6794, 3861, 3663, 7819\", value =\"3000\", inplace=True)"
   ]
  },
  {
   "cell_type": "code",
   "execution_count": 26,
   "metadata": {},
   "outputs": [],
   "source": [
    "# adding to nonclassifiable \n",
    "\n",
    "compdata.I3.replace(to_replace =\"3651, 6794, 7819\", value =\"9900\", inplace=True)"
   ]
  },
  {
   "cell_type": "code",
   "execution_count": 27,
   "metadata": {},
   "outputs": [],
   "source": [
    "# adding to manufacturing\n",
    "\n",
    "compdata.I3.replace(to_replace =\"3663, 3861, 6794\", value =\"3000\", inplace=True)"
   ]
  },
  {
   "cell_type": "code",
   "execution_count": 28,
   "metadata": {},
   "outputs": [],
   "source": [
    "# adding to nonclassifiable \n",
    "\n",
    "compdata.I3.replace(to_replace =\"7389, 5063\", value =\"9900\", inplace=True)"
   ]
  },
  {
   "cell_type": "code",
   "execution_count": 29,
   "metadata": {},
   "outputs": [],
   "source": [
    "# adding to services\n",
    "\n",
    "compdata.I3.replace(to_replace =\"541990\", value =\"7000\", inplace=True)"
   ]
  },
  {
   "cell_type": "code",
   "execution_count": 30,
   "metadata": {},
   "outputs": [],
   "source": [
    "# make I3 a numerical column so we can properly bin\n",
    "\n",
    "compdata[\"I3\"] = pd.to_numeric(compdata[\"I3\"])"
   ]
  },
  {
   "cell_type": "markdown",
   "metadata": {},
   "source": [
    "## SIC Code Bins"
   ]
  },
  {
   "cell_type": "markdown",
   "metadata": {},
   "source": [
    "| Range of SIC Codes | Division | \n",
    "| ------------ | ---------- | \n",
    "| 0100-0999 | Agriculture, Forestry and Fishing |\n",
    "| 1000-1499 | Mining |\n",
    "| 1800-1999 | not used |\n",
    "| 2000-3999 | Manufacturing |\n",
    "| 4000-4999 | Transportation, Communications, Electric, Gas and Sanitary service |\n",
    "| 5000-5199 | Wholesale Trade |\n",
    "| 5200-5999 | Retail Trade |\n",
    "| 6000-6799 | Finance, Insurance and Real Estate |\n",
    "| 7000-8999 | Services |\n",
    "| 9100-9729 | Public Administration |\n",
    "| 9900-9999 | Nonclassifiable |\n"
   ]
  },
  {
   "cell_type": "code",
   "execution_count": 31,
   "metadata": {},
   "outputs": [
    {
     "data": {
      "text/html": [
       "<div>\n",
       "<style scoped>\n",
       "    .dataframe tbody tr th:only-of-type {\n",
       "        vertical-align: middle;\n",
       "    }\n",
       "\n",
       "    .dataframe tbody tr th {\n",
       "        vertical-align: top;\n",
       "    }\n",
       "\n",
       "    .dataframe thead th {\n",
       "        text-align: right;\n",
       "    }\n",
       "</style>\n",
       "<table border=\"1\" class=\"dataframe\">\n",
       "  <thead>\n",
       "    <tr style=\"text-align: right;\">\n",
       "      <th></th>\n",
       "      <th>I1</th>\n",
       "      <th>I2</th>\n",
       "      <th>I3</th>\n",
       "      <th>P(IPO)</th>\n",
       "      <th>P(H)</th>\n",
       "      <th>P(L)</th>\n",
       "      <th>P(1Day)</th>\n",
       "      <th>C1</th>\n",
       "      <th>C2</th>\n",
       "      <th>C3</th>\n",
       "      <th>...</th>\n",
       "      <th>S3_</th>\n",
       "      <th>P(mid)</th>\n",
       "      <th>C3_</th>\n",
       "      <th>C5_</th>\n",
       "      <th>C6_</th>\n",
       "      <th>Y1</th>\n",
       "      <th>Y2</th>\n",
       "      <th>Imputed_C3</th>\n",
       "      <th>Imputed_C7</th>\n",
       "      <th>I3_bins</th>\n",
       "    </tr>\n",
       "  </thead>\n",
       "  <tbody>\n",
       "    <tr>\n",
       "      <th>0</th>\n",
       "      <td>AATI</td>\n",
       "      <td>ADVANCED ANALOGIC TECHNOLOGIES INC</td>\n",
       "      <td>3674</td>\n",
       "      <td>10.0</td>\n",
       "      <td>9.5</td>\n",
       "      <td>8.5</td>\n",
       "      <td>11.870000</td>\n",
       "      <td>122.0</td>\n",
       "      <td>1.0</td>\n",
       "      <td>3.43</td>\n",
       "      <td>...</td>\n",
       "      <td>0.010929</td>\n",
       "      <td>9.0</td>\n",
       "      <td>1</td>\n",
       "      <td>3.864345</td>\n",
       "      <td>11.111111</td>\n",
       "      <td>0</td>\n",
       "      <td>1</td>\n",
       "      <td>3.43</td>\n",
       "      <td>51.345</td>\n",
       "      <td>5</td>\n",
       "    </tr>\n",
       "    <tr>\n",
       "      <th>1</th>\n",
       "      <td>ABPI</td>\n",
       "      <td>ACCENTIA BIOPHARMACEUTICALS INC</td>\n",
       "      <td>2834</td>\n",
       "      <td>8.0</td>\n",
       "      <td>10.0</td>\n",
       "      <td>8.0</td>\n",
       "      <td>7.250000</td>\n",
       "      <td>259.0</td>\n",
       "      <td>0.0</td>\n",
       "      <td>-1.62</td>\n",
       "      <td>...</td>\n",
       "      <td>0.010876</td>\n",
       "      <td>9.0</td>\n",
       "      <td>0</td>\n",
       "      <td>12.028832</td>\n",
       "      <td>0.000000</td>\n",
       "      <td>1</td>\n",
       "      <td>0</td>\n",
       "      <td>-1.62</td>\n",
       "      <td>25.936</td>\n",
       "      <td>5</td>\n",
       "    </tr>\n",
       "    <tr>\n",
       "      <th>2</th>\n",
       "      <td>ACAD</td>\n",
       "      <td>ACADIA PHARMACEUTICALS INC</td>\n",
       "      <td>2834</td>\n",
       "      <td>7.0</td>\n",
       "      <td>14.0</td>\n",
       "      <td>12.0</td>\n",
       "      <td>6.700000</td>\n",
       "      <td>90.0</td>\n",
       "      <td>1.0</td>\n",
       "      <td>-1.24</td>\n",
       "      <td>...</td>\n",
       "      <td>0.011403</td>\n",
       "      <td>13.0</td>\n",
       "      <td>0</td>\n",
       "      <td>3.369134</td>\n",
       "      <td>0.000000</td>\n",
       "      <td>1</td>\n",
       "      <td>0</td>\n",
       "      <td>-1.24</td>\n",
       "      <td>7.378</td>\n",
       "      <td>5</td>\n",
       "    </tr>\n",
       "    <tr>\n",
       "      <th>3</th>\n",
       "      <td>ACHN</td>\n",
       "      <td>ACHILLION PHARMACEUTICALS INC</td>\n",
       "      <td>2834</td>\n",
       "      <td>11.5</td>\n",
       "      <td>16.0</td>\n",
       "      <td>14.0</td>\n",
       "      <td>12.390000</td>\n",
       "      <td>209.0</td>\n",
       "      <td>1.0</td>\n",
       "      <td>-0.91</td>\n",
       "      <td>...</td>\n",
       "      <td>0.013319</td>\n",
       "      <td>15.0</td>\n",
       "      <td>0</td>\n",
       "      <td>3.299697</td>\n",
       "      <td>0.000000</td>\n",
       "      <td>1</td>\n",
       "      <td>1</td>\n",
       "      <td>-0.91</td>\n",
       "      <td>8.526</td>\n",
       "      <td>5</td>\n",
       "    </tr>\n",
       "    <tr>\n",
       "      <th>4</th>\n",
       "      <td>ACLI</td>\n",
       "      <td>AMERICAN COMMERCIAL LINES INC.</td>\n",
       "      <td>4492</td>\n",
       "      <td>21.0</td>\n",
       "      <td>21.0</td>\n",
       "      <td>19.0</td>\n",
       "      <td>56.599998</td>\n",
       "      <td>80.0</td>\n",
       "      <td>1.0</td>\n",
       "      <td>0.07</td>\n",
       "      <td>...</td>\n",
       "      <td>0.011261</td>\n",
       "      <td>20.0</td>\n",
       "      <td>1</td>\n",
       "      <td>3.726269</td>\n",
       "      <td>5.000000</td>\n",
       "      <td>0</td>\n",
       "      <td>1</td>\n",
       "      <td>0.07</td>\n",
       "      <td>632.298</td>\n",
       "      <td>6</td>\n",
       "    </tr>\n",
       "  </tbody>\n",
       "</table>\n",
       "<p>5 rows × 37 columns</p>\n",
       "</div>"
      ],
      "text/plain": [
       "     I1                                  I2    I3  P(IPO)  P(H)  P(L)  \\\n",
       "0  AATI  ADVANCED ANALOGIC TECHNOLOGIES INC  3674    10.0   9.5   8.5   \n",
       "1  ABPI     ACCENTIA BIOPHARMACEUTICALS INC  2834     8.0  10.0   8.0   \n",
       "2  ACAD          ACADIA PHARMACEUTICALS INC  2834     7.0  14.0  12.0   \n",
       "3  ACHN       ACHILLION PHARMACEUTICALS INC  2834    11.5  16.0  14.0   \n",
       "4  ACLI     AMERICAN COMMERCIAL LINES INC.   4492    21.0  21.0  19.0   \n",
       "\n",
       "     P(1Day)     C1   C2    C3  ...       S3_  P(mid)  C3_        C5_  \\\n",
       "0  11.870000  122.0  1.0  3.43  ...  0.010929     9.0    1   3.864345   \n",
       "1   7.250000  259.0  0.0 -1.62  ...  0.010876     9.0    0  12.028832   \n",
       "2   6.700000   90.0  1.0 -1.24  ...  0.011403    13.0    0   3.369134   \n",
       "3  12.390000  209.0  1.0 -0.91  ...  0.013319    15.0    0   3.299697   \n",
       "4  56.599998   80.0  1.0  0.07  ...  0.011261    20.0    1   3.726269   \n",
       "\n",
       "         C6_  Y1  Y2  Imputed_C3  Imputed_C7  I3_bins  \n",
       "0  11.111111   0   1        3.43      51.345        5  \n",
       "1   0.000000   1   0       -1.62      25.936        5  \n",
       "2   0.000000   1   0       -1.24       7.378        5  \n",
       "3   0.000000   1   1       -0.91       8.526        5  \n",
       "4   5.000000   0   1        0.07     632.298        6  \n",
       "\n",
       "[5 rows x 37 columns]"
      ]
     },
     "execution_count": 31,
     "metadata": {},
     "output_type": "execute_result"
    }
   ],
   "source": [
    "def assign_I3_bins(I3):\n",
    "    if I3 >= 100 and I3 <= 999:                    \n",
    "        return(1)\n",
    "    if I3 >= 1000 and I3 <= 1499:       \n",
    "        return(2)\n",
    "    if I3 >= 1500 and I3 <= 1799:       \n",
    "        return(3)\n",
    "    if I3 >= 1800 and I3 <= 1999:      \n",
    "        return(4)\n",
    "    if I3 >= 2000 and I3 <= 3999:                  \n",
    "        return(5)\n",
    "    if I3 >= 4000 and I3 <= 4999:                  \n",
    "        return(6)\n",
    "    if I3 >= 5000 and I3 <= 5199:                 \n",
    "        return(7)\n",
    "    if I3 >= 5200 and I3 <= 5999:                  \n",
    "        return(8)\n",
    "    if I3 >= 6000 and I3 <= 6799:                 \n",
    "        return(9)\n",
    "    if I3 >= 7000 and I3 <= 8999:                  \n",
    "        return(10)\n",
    "    if I3 >= 9100 and I3 <= 9729:                  \n",
    "        return(11)   \n",
    "    if I3 >= 9900 and I3 <= 9999:                  \n",
    "        return(12)   \n",
    "    \n",
    "    # Creating a new column I3_bins in the dataframe\n",
    "\n",
    "compdata['I3_bins'] = compdata['I3'].apply(assign_I3_bins)  \n",
    "\n",
    "compdata.head()"
   ]
  },
  {
   "cell_type": "markdown",
   "metadata": {},
   "source": [
    "## Analyze the Bins"
   ]
  },
  {
   "cell_type": "code",
   "execution_count": 32,
   "metadata": {},
   "outputs": [
    {
     "data": {
      "image/png": "[encoded data removed]",
      "text/plain": [
       "<Figure size 1008x216 with 1 Axes>"
      ]
     },
     "metadata": {},
     "output_type": "display_data"
    }
   ],
   "source": [
    "sns.set_style(\"darkgrid\")\n",
    "plt.figure(figsize=(14,3))\n",
    "\n",
    "# PLOT - distribution of industry bins\n",
    "plt.subplot(1,2,1)\n",
    "plt.text(4,260,\"5 and 10 by a large margin!\")\n",
    "ax = sns.countplot(x=\"I3_bins\", data=compdata, palette=\"viridis\")\n",
    "ax.set(title=\"Distribution of Industry Bins\")\n",
    "\n",
    "plt.show()"
   ]
  },
  {
   "cell_type": "markdown",
   "metadata": {},
   "source": [
    "- it is clear that bin 5, which is Manufacturing, and bin 10, which is Services, dominate the distribution.\n",
    "- the other remaining bins are not even close to the top 2, so let's bin these in an 'Other' category and only use 3 bins."
   ]
  },
  {
   "cell_type": "markdown",
   "metadata": {},
   "source": [
    "## SIC Code Bins (REVISED)"
   ]
  },
  {
   "cell_type": "markdown",
   "metadata": {},
   "source": [
    "| Range of SIC Codes | Division | \n",
    "| ------------ | ---------- | \n",
    "| 0100-1999 | Other |\n",
    "| 2000-3999 | Manufacturing |\n",
    "| 4000-6799 | Other |\n",
    "| 7000-8999 | Services |\n",
    "| 9100-9999 | Other |\n"
   ]
  },
  {
   "cell_type": "code",
   "execution_count": 35,
   "metadata": {},
   "outputs": [
    {
     "data": {
      "text/html": [
       "<div>\n",
       "<style scoped>\n",
       "    .dataframe tbody tr th:only-of-type {\n",
       "        vertical-align: middle;\n",
       "    }\n",
       "\n",
       "    .dataframe tbody tr th {\n",
       "        vertical-align: top;\n",
       "    }\n",
       "\n",
       "    .dataframe thead th {\n",
       "        text-align: right;\n",
       "    }\n",
       "</style>\n",
       "<table border=\"1\" class=\"dataframe\">\n",
       "  <thead>\n",
       "    <tr style=\"text-align: right;\">\n",
       "      <th></th>\n",
       "      <th>I1</th>\n",
       "      <th>I2</th>\n",
       "      <th>I3</th>\n",
       "      <th>P(IPO)</th>\n",
       "      <th>P(H)</th>\n",
       "      <th>P(L)</th>\n",
       "      <th>P(1Day)</th>\n",
       "      <th>C1</th>\n",
       "      <th>C2</th>\n",
       "      <th>C3</th>\n",
       "      <th>...</th>\n",
       "      <th>P(mid)</th>\n",
       "      <th>C3_</th>\n",
       "      <th>C5_</th>\n",
       "      <th>C6_</th>\n",
       "      <th>Y1</th>\n",
       "      <th>Y2</th>\n",
       "      <th>Imputed_C3</th>\n",
       "      <th>Imputed_C7</th>\n",
       "      <th>I3_bins</th>\n",
       "      <th>I3_bins_new</th>\n",
       "    </tr>\n",
       "  </thead>\n",
       "  <tbody>\n",
       "    <tr>\n",
       "      <th>0</th>\n",
       "      <td>AATI</td>\n",
       "      <td>ADVANCED ANALOGIC TECHNOLOGIES INC</td>\n",
       "      <td>3674</td>\n",
       "      <td>10.0</td>\n",
       "      <td>9.5</td>\n",
       "      <td>8.5</td>\n",
       "      <td>11.870000</td>\n",
       "      <td>122.0</td>\n",
       "      <td>1.0</td>\n",
       "      <td>3.43</td>\n",
       "      <td>...</td>\n",
       "      <td>9.0</td>\n",
       "      <td>1</td>\n",
       "      <td>3.864345</td>\n",
       "      <td>11.111111</td>\n",
       "      <td>0</td>\n",
       "      <td>1</td>\n",
       "      <td>3.43</td>\n",
       "      <td>51.345</td>\n",
       "      <td>5</td>\n",
       "      <td>2</td>\n",
       "    </tr>\n",
       "    <tr>\n",
       "      <th>1</th>\n",
       "      <td>ABPI</td>\n",
       "      <td>ACCENTIA BIOPHARMACEUTICALS INC</td>\n",
       "      <td>2834</td>\n",
       "      <td>8.0</td>\n",
       "      <td>10.0</td>\n",
       "      <td>8.0</td>\n",
       "      <td>7.250000</td>\n",
       "      <td>259.0</td>\n",
       "      <td>0.0</td>\n",
       "      <td>-1.62</td>\n",
       "      <td>...</td>\n",
       "      <td>9.0</td>\n",
       "      <td>0</td>\n",
       "      <td>12.028832</td>\n",
       "      <td>0.000000</td>\n",
       "      <td>1</td>\n",
       "      <td>0</td>\n",
       "      <td>-1.62</td>\n",
       "      <td>25.936</td>\n",
       "      <td>5</td>\n",
       "      <td>2</td>\n",
       "    </tr>\n",
       "    <tr>\n",
       "      <th>2</th>\n",
       "      <td>ACAD</td>\n",
       "      <td>ACADIA PHARMACEUTICALS INC</td>\n",
       "      <td>2834</td>\n",
       "      <td>7.0</td>\n",
       "      <td>14.0</td>\n",
       "      <td>12.0</td>\n",
       "      <td>6.700000</td>\n",
       "      <td>90.0</td>\n",
       "      <td>1.0</td>\n",
       "      <td>-1.24</td>\n",
       "      <td>...</td>\n",
       "      <td>13.0</td>\n",
       "      <td>0</td>\n",
       "      <td>3.369134</td>\n",
       "      <td>0.000000</td>\n",
       "      <td>1</td>\n",
       "      <td>0</td>\n",
       "      <td>-1.24</td>\n",
       "      <td>7.378</td>\n",
       "      <td>5</td>\n",
       "      <td>2</td>\n",
       "    </tr>\n",
       "    <tr>\n",
       "      <th>3</th>\n",
       "      <td>ACHN</td>\n",
       "      <td>ACHILLION PHARMACEUTICALS INC</td>\n",
       "      <td>2834</td>\n",
       "      <td>11.5</td>\n",
       "      <td>16.0</td>\n",
       "      <td>14.0</td>\n",
       "      <td>12.390000</td>\n",
       "      <td>209.0</td>\n",
       "      <td>1.0</td>\n",
       "      <td>-0.91</td>\n",
       "      <td>...</td>\n",
       "      <td>15.0</td>\n",
       "      <td>0</td>\n",
       "      <td>3.299697</td>\n",
       "      <td>0.000000</td>\n",
       "      <td>1</td>\n",
       "      <td>1</td>\n",
       "      <td>-0.91</td>\n",
       "      <td>8.526</td>\n",
       "      <td>5</td>\n",
       "      <td>2</td>\n",
       "    </tr>\n",
       "    <tr>\n",
       "      <th>4</th>\n",
       "      <td>ACLI</td>\n",
       "      <td>AMERICAN COMMERCIAL LINES INC.</td>\n",
       "      <td>4492</td>\n",
       "      <td>21.0</td>\n",
       "      <td>21.0</td>\n",
       "      <td>19.0</td>\n",
       "      <td>56.599998</td>\n",
       "      <td>80.0</td>\n",
       "      <td>1.0</td>\n",
       "      <td>0.07</td>\n",
       "      <td>...</td>\n",
       "      <td>20.0</td>\n",
       "      <td>1</td>\n",
       "      <td>3.726269</td>\n",
       "      <td>5.000000</td>\n",
       "      <td>0</td>\n",
       "      <td>1</td>\n",
       "      <td>0.07</td>\n",
       "      <td>632.298</td>\n",
       "      <td>6</td>\n",
       "      <td>1</td>\n",
       "    </tr>\n",
       "  </tbody>\n",
       "</table>\n",
       "<p>5 rows × 38 columns</p>\n",
       "</div>"
      ],
      "text/plain": [
       "     I1                                  I2    I3  P(IPO)  P(H)  P(L)  \\\n",
       "0  AATI  ADVANCED ANALOGIC TECHNOLOGIES INC  3674    10.0   9.5   8.5   \n",
       "1  ABPI     ACCENTIA BIOPHARMACEUTICALS INC  2834     8.0  10.0   8.0   \n",
       "2  ACAD          ACADIA PHARMACEUTICALS INC  2834     7.0  14.0  12.0   \n",
       "3  ACHN       ACHILLION PHARMACEUTICALS INC  2834    11.5  16.0  14.0   \n",
       "4  ACLI     AMERICAN COMMERCIAL LINES INC.   4492    21.0  21.0  19.0   \n",
       "\n",
       "     P(1Day)     C1   C2    C3  ...  P(mid)  C3_        C5_        C6_  Y1  \\\n",
       "0  11.870000  122.0  1.0  3.43  ...     9.0    1   3.864345  11.111111   0   \n",
       "1   7.250000  259.0  0.0 -1.62  ...     9.0    0  12.028832   0.000000   1   \n",
       "2   6.700000   90.0  1.0 -1.24  ...    13.0    0   3.369134   0.000000   1   \n",
       "3  12.390000  209.0  1.0 -0.91  ...    15.0    0   3.299697   0.000000   1   \n",
       "4  56.599998   80.0  1.0  0.07  ...    20.0    1   3.726269   5.000000   0   \n",
       "\n",
       "   Y2  Imputed_C3  Imputed_C7  I3_bins  I3_bins_new  \n",
       "0   1        3.43      51.345        5            2  \n",
       "1   0       -1.62      25.936        5            2  \n",
       "2   0       -1.24       7.378        5            2  \n",
       "3   1       -0.91       8.526        5            2  \n",
       "4   1        0.07     632.298        6            1  \n",
       "\n",
       "[5 rows x 38 columns]"
      ]
     },
     "execution_count": 35,
     "metadata": {},
     "output_type": "execute_result"
    }
   ],
   "source": [
    "def assign_I3_bins_new(I3):\n",
    "    if I3 >= 100 and I3 <= 1999:                          \n",
    "        return(1)\n",
    "    if I3 >= 2000 and I3 <= 3999:                  \n",
    "        return(2)\n",
    "    if I3 >= 4000 and I3 <= 6799:                  \n",
    "        return(1)\n",
    "    if I3 >= 7000 and I3 <= 8999:                  \n",
    "        return(3)\n",
    "    if I3 >= 9000 and I3 <= 9999:                  \n",
    "        return(1)   \n",
    "    \n",
    "    # Creating a new column I3_bins in the dataframe\n",
    "\n",
    "compdata['I3_bins_new'] = compdata['I3'].apply(assign_I3_bins_new)  \n",
    "\n",
    "compdata.head()"
   ]
  },
  {
   "cell_type": "markdown",
   "metadata": {},
   "source": [
    "# Split DF into Separate DFs - Continuous and Categorical"
   ]
  },
  {
   "cell_type": "markdown",
   "metadata": {},
   "source": [
    "## Categorical"
   ]
  },
  {
   "cell_type": "code",
   "execution_count": 35,
   "metadata": {},
   "outputs": [
    {
     "data": {
      "text/html": [
       "<div>\n",
       "<style scoped>\n",
       "    .dataframe tbody tr th:only-of-type {\n",
       "        vertical-align: middle;\n",
       "    }\n",
       "\n",
       "    .dataframe tbody tr th {\n",
       "        vertical-align: top;\n",
       "    }\n",
       "\n",
       "    .dataframe thead th {\n",
       "        text-align: right;\n",
       "    }\n",
       "</style>\n",
       "<table border=\"1\" class=\"dataframe\">\n",
       "  <thead>\n",
       "    <tr style=\"text-align: right;\">\n",
       "      <th></th>\n",
       "      <th>I1</th>\n",
       "      <th>I2</th>\n",
       "      <th>I3</th>\n",
       "      <th>C2</th>\n",
       "      <th>C3_</th>\n",
       "      <th>Y1</th>\n",
       "      <th>Y2</th>\n",
       "      <th>I3_bins</th>\n",
       "      <th>I3_bins_new</th>\n",
       "    </tr>\n",
       "  </thead>\n",
       "  <tbody>\n",
       "    <tr>\n",
       "      <th>0</th>\n",
       "      <td>AATI</td>\n",
       "      <td>ADVANCED ANALOGIC TECHNOLOGIES INC</td>\n",
       "      <td>3674</td>\n",
       "      <td>1.0</td>\n",
       "      <td>1</td>\n",
       "      <td>0</td>\n",
       "      <td>1</td>\n",
       "      <td>5</td>\n",
       "      <td>2</td>\n",
       "    </tr>\n",
       "    <tr>\n",
       "      <th>1</th>\n",
       "      <td>ABPI</td>\n",
       "      <td>ACCENTIA BIOPHARMACEUTICALS INC</td>\n",
       "      <td>2834</td>\n",
       "      <td>0.0</td>\n",
       "      <td>0</td>\n",
       "      <td>1</td>\n",
       "      <td>0</td>\n",
       "      <td>5</td>\n",
       "      <td>2</td>\n",
       "    </tr>\n",
       "    <tr>\n",
       "      <th>2</th>\n",
       "      <td>ACAD</td>\n",
       "      <td>ACADIA PHARMACEUTICALS INC</td>\n",
       "      <td>2834</td>\n",
       "      <td>1.0</td>\n",
       "      <td>0</td>\n",
       "      <td>1</td>\n",
       "      <td>0</td>\n",
       "      <td>5</td>\n",
       "      <td>2</td>\n",
       "    </tr>\n",
       "    <tr>\n",
       "      <th>3</th>\n",
       "      <td>ACHN</td>\n",
       "      <td>ACHILLION PHARMACEUTICALS INC</td>\n",
       "      <td>2834</td>\n",
       "      <td>1.0</td>\n",
       "      <td>0</td>\n",
       "      <td>1</td>\n",
       "      <td>1</td>\n",
       "      <td>5</td>\n",
       "      <td>2</td>\n",
       "    </tr>\n",
       "    <tr>\n",
       "      <th>4</th>\n",
       "      <td>ACLI</td>\n",
       "      <td>AMERICAN COMMERCIAL LINES INC.</td>\n",
       "      <td>4492</td>\n",
       "      <td>1.0</td>\n",
       "      <td>1</td>\n",
       "      <td>0</td>\n",
       "      <td>1</td>\n",
       "      <td>6</td>\n",
       "      <td>1</td>\n",
       "    </tr>\n",
       "  </tbody>\n",
       "</table>\n",
       "</div>"
      ],
      "text/plain": [
       "     I1                                  I2    I3   C2  C3_  Y1  Y2  I3_bins  \\\n",
       "0  AATI  ADVANCED ANALOGIC TECHNOLOGIES INC  3674  1.0    1   0   1        5   \n",
       "1  ABPI     ACCENTIA BIOPHARMACEUTICALS INC  2834  0.0    0   1   0        5   \n",
       "2  ACAD          ACADIA PHARMACEUTICALS INC  2834  1.0    0   1   0        5   \n",
       "3  ACHN       ACHILLION PHARMACEUTICALS INC  2834  1.0    0   1   1        5   \n",
       "4  ACLI     AMERICAN COMMERCIAL LINES INC.   4492  1.0    1   0   1        6   \n",
       "\n",
       "   I3_bins_new  \n",
       "0            2  \n",
       "1            2  \n",
       "2            2  \n",
       "3            2  \n",
       "4            1  "
      ]
     },
     "execution_count": 35,
     "metadata": {},
     "output_type": "execute_result"
    }
   ],
   "source": [
    "# Create DF with only categorical features\n",
    "\n",
    "compdata_cat = compdata.drop(['P(IPO)','P(H)','P(L)','P(1Day)','P(mid)','C1','C3','C4','C5','C6','C7','T1','T2','T3','T4','T5','S1','S2','S3','T3_','T4_','T5_','S1_','S2_','S3_','C5_','C6_','Imputed_C3', 'Imputed_C7'], axis=1)\n",
    "compdata_cat.head()"
   ]
  },
  {
   "cell_type": "markdown",
   "metadata": {},
   "source": [
    "## Continuous "
   ]
  },
  {
   "cell_type": "code",
   "execution_count": 38,
   "metadata": {},
   "outputs": [
    {
     "data": {
      "text/html": [
       "<div>\n",
       "<style scoped>\n",
       "    .dataframe tbody tr th:only-of-type {\n",
       "        vertical-align: middle;\n",
       "    }\n",
       "\n",
       "    .dataframe tbody tr th {\n",
       "        vertical-align: top;\n",
       "    }\n",
       "\n",
       "    .dataframe thead th {\n",
       "        text-align: right;\n",
       "    }\n",
       "</style>\n",
       "<table border=\"1\" class=\"dataframe\">\n",
       "  <thead>\n",
       "    <tr style=\"text-align: right;\">\n",
       "      <th></th>\n",
       "      <th>P(IPO)</th>\n",
       "      <th>P(H)</th>\n",
       "      <th>P(L)</th>\n",
       "      <th>P(1Day)</th>\n",
       "      <th>C1</th>\n",
       "      <th>C4</th>\n",
       "      <th>C5</th>\n",
       "      <th>C6</th>\n",
       "      <th>T1</th>\n",
       "      <th>T2</th>\n",
       "      <th>...</th>\n",
       "      <th>T4_</th>\n",
       "      <th>T5_</th>\n",
       "      <th>S1_</th>\n",
       "      <th>S2_</th>\n",
       "      <th>S3_</th>\n",
       "      <th>P(mid)</th>\n",
       "      <th>C5_</th>\n",
       "      <th>C6_</th>\n",
       "      <th>Imputed_C3</th>\n",
       "      <th>Imputed_C7</th>\n",
       "    </tr>\n",
       "  </thead>\n",
       "  <tbody>\n",
       "    <tr>\n",
       "      <th>0</th>\n",
       "      <td>10.0</td>\n",
       "      <td>9.5</td>\n",
       "      <td>8.5</td>\n",
       "      <td>11.870000</td>\n",
       "      <td>122.0</td>\n",
       "      <td>0.029074</td>\n",
       "      <td>40962052.0</td>\n",
       "      <td>10600000.0</td>\n",
       "      <td>470.0</td>\n",
       "      <td>12719.0</td>\n",
       "      <td>...</td>\n",
       "      <td>0.640426</td>\n",
       "      <td>0.054250</td>\n",
       "      <td>0.004875</td>\n",
       "      <td>0.009199</td>\n",
       "      <td>0.010929</td>\n",
       "      <td>9.0</td>\n",
       "      <td>3.864345</td>\n",
       "      <td>11.111111</td>\n",
       "      <td>3.43</td>\n",
       "      <td>51.345</td>\n",
       "    </tr>\n",
       "    <tr>\n",
       "      <th>1</th>\n",
       "      <td>8.0</td>\n",
       "      <td>10.0</td>\n",
       "      <td>8.0</td>\n",
       "      <td>7.250000</td>\n",
       "      <td>259.0</td>\n",
       "      <td>-0.013352</td>\n",
       "      <td>28869196.0</td>\n",
       "      <td>2400000.0</td>\n",
       "      <td>791.0</td>\n",
       "      <td>21792.0</td>\n",
       "      <td>...</td>\n",
       "      <td>0.644753</td>\n",
       "      <td>0.051395</td>\n",
       "      <td>0.003258</td>\n",
       "      <td>0.011105</td>\n",
       "      <td>0.010876</td>\n",
       "      <td>9.0</td>\n",
       "      <td>12.028832</td>\n",
       "      <td>0.000000</td>\n",
       "      <td>-1.62</td>\n",
       "      <td>25.936</td>\n",
       "    </tr>\n",
       "    <tr>\n",
       "      <th>2</th>\n",
       "      <td>7.0</td>\n",
       "      <td>14.0</td>\n",
       "      <td>12.0</td>\n",
       "      <td>6.700000</td>\n",
       "      <td>90.0</td>\n",
       "      <td>0.020715</td>\n",
       "      <td>16845668.0</td>\n",
       "      <td>5000000.0</td>\n",
       "      <td>201.0</td>\n",
       "      <td>5262.0</td>\n",
       "      <td>...</td>\n",
       "      <td>0.636816</td>\n",
       "      <td>0.061764</td>\n",
       "      <td>0.011593</td>\n",
       "      <td>0.006271</td>\n",
       "      <td>0.011403</td>\n",
       "      <td>13.0</td>\n",
       "      <td>3.369134</td>\n",
       "      <td>0.000000</td>\n",
       "      <td>-1.24</td>\n",
       "      <td>7.378</td>\n",
       "    </tr>\n",
       "    <tr>\n",
       "      <th>3</th>\n",
       "      <td>11.5</td>\n",
       "      <td>16.0</td>\n",
       "      <td>14.0</td>\n",
       "      <td>12.390000</td>\n",
       "      <td>209.0</td>\n",
       "      <td>0.020023</td>\n",
       "      <td>14848637.0</td>\n",
       "      <td>4500000.0</td>\n",
       "      <td>328.0</td>\n",
       "      <td>8259.0</td>\n",
       "      <td>...</td>\n",
       "      <td>0.539634</td>\n",
       "      <td>0.061630</td>\n",
       "      <td>0.009686</td>\n",
       "      <td>0.007144</td>\n",
       "      <td>0.013319</td>\n",
       "      <td>15.0</td>\n",
       "      <td>3.299697</td>\n",
       "      <td>0.000000</td>\n",
       "      <td>-0.91</td>\n",
       "      <td>8.526</td>\n",
       "    </tr>\n",
       "    <tr>\n",
       "      <th>4</th>\n",
       "      <td>21.0</td>\n",
       "      <td>21.0</td>\n",
       "      <td>19.0</td>\n",
       "      <td>56.599998</td>\n",
       "      <td>80.0</td>\n",
       "      <td>-0.034895</td>\n",
       "      <td>30741716.0</td>\n",
       "      <td>8250000.0</td>\n",
       "      <td>572.0</td>\n",
       "      <td>14830.0</td>\n",
       "      <td>...</td>\n",
       "      <td>0.587413</td>\n",
       "      <td>0.048550</td>\n",
       "      <td>0.004518</td>\n",
       "      <td>0.010047</td>\n",
       "      <td>0.011261</td>\n",
       "      <td>20.0</td>\n",
       "      <td>3.726269</td>\n",
       "      <td>5.000000</td>\n",
       "      <td>0.07</td>\n",
       "      <td>632.298</td>\n",
       "    </tr>\n",
       "  </tbody>\n",
       "</table>\n",
       "<p>5 rows × 27 columns</p>\n",
       "</div>"
      ],
      "text/plain": [
       "   P(IPO)  P(H)  P(L)    P(1Day)     C1        C4          C5          C6  \\\n",
       "0    10.0   9.5   8.5  11.870000  122.0  0.029074  40962052.0  10600000.0   \n",
       "1     8.0  10.0   8.0   7.250000  259.0 -0.013352  28869196.0   2400000.0   \n",
       "2     7.0  14.0  12.0   6.700000   90.0  0.020715  16845668.0   5000000.0   \n",
       "3    11.5  16.0  14.0  12.390000  209.0  0.020023  14848637.0   4500000.0   \n",
       "4    21.0  21.0  19.0  56.599998   80.0 -0.034895  30741716.0   8250000.0   \n",
       "\n",
       "      T1       T2  ...       T4_       T5_       S1_       S2_       S3_  \\\n",
       "0  470.0  12719.0  ...  0.640426  0.054250  0.004875  0.009199  0.010929   \n",
       "1  791.0  21792.0  ...  0.644753  0.051395  0.003258  0.011105  0.010876   \n",
       "2  201.0   5262.0  ...  0.636816  0.061764  0.011593  0.006271  0.011403   \n",
       "3  328.0   8259.0  ...  0.539634  0.061630  0.009686  0.007144  0.013319   \n",
       "4  572.0  14830.0  ...  0.587413  0.048550  0.004518  0.010047  0.011261   \n",
       "\n",
       "   P(mid)        C5_        C6_  Imputed_C3  Imputed_C7  \n",
       "0     9.0   3.864345  11.111111        3.43      51.345  \n",
       "1     9.0  12.028832   0.000000       -1.62      25.936  \n",
       "2    13.0   3.369134   0.000000       -1.24       7.378  \n",
       "3    15.0   3.299697   0.000000       -0.91       8.526  \n",
       "4    20.0   3.726269   5.000000        0.07     632.298  \n",
       "\n",
       "[5 rows x 27 columns]"
      ]
     },
     "execution_count": 38,
     "metadata": {},
     "output_type": "execute_result"
    }
   ],
   "source": [
    "# Create DF with only continuous features\n",
    "# Drop C3, C7 as well since we have separate imputed columns for these \n",
    "\n",
    "compdata_cont = compdata.drop(['I1','I2','I3','C2','C3', 'C7','I3_bins','I3_bins_new','Y1','Y2','C3_'], axis=1)\n",
    "compdata_cont.head()"
   ]
  },
  {
   "cell_type": "code",
   "execution_count": 39,
   "metadata": {},
   "outputs": [
    {
     "data": {
      "text/plain": [
       "P(IPO)        0\n",
       "P(H)          0\n",
       "P(L)          0\n",
       "P(1Day)       0\n",
       "C1            0\n",
       "C4            0\n",
       "C5            0\n",
       "C6            0\n",
       "T1            0\n",
       "T2            0\n",
       "T3            0\n",
       "T4            0\n",
       "T5            0\n",
       "S1            0\n",
       "S2            0\n",
       "S3            0\n",
       "T3_           0\n",
       "T4_           0\n",
       "T5_           0\n",
       "S1_           0\n",
       "S2_           0\n",
       "S3_           0\n",
       "P(mid)        0\n",
       "C5_           0\n",
       "C6_           0\n",
       "Imputed_C3    0\n",
       "Imputed_C7    0\n",
       "dtype: int64"
      ]
     },
     "execution_count": 39,
     "metadata": {},
     "output_type": "execute_result"
    }
   ],
   "source": [
    "compdata_cont.isna().sum()"
   ]
  },
  {
   "cell_type": "markdown",
   "metadata": {},
   "source": [
    "# Outlier Detection"
   ]
  },
  {
   "cell_type": "markdown",
   "metadata": {},
   "source": [
    "## Interquartile Ratio"
   ]
  },
  {
   "cell_type": "code",
   "execution_count": 40,
   "metadata": {},
   "outputs": [
    {
     "data": {
      "text/plain": [
       "(658, 27)"
      ]
     },
     "execution_count": 40,
     "metadata": {},
     "output_type": "execute_result"
    }
   ],
   "source": [
    "compdata_cont.shape"
   ]
  },
  {
   "cell_type": "code",
   "execution_count": 41,
   "metadata": {},
   "outputs": [],
   "source": [
    "# Determine if there are any outliers in the data that will alter the results\n",
    "# Use box plots for all the variables to visualize the outliers \n",
    "# Standardize first!\n",
    "\n",
    "# only continuous"
   ]
  },
  {
   "cell_type": "code",
   "execution_count": 42,
   "metadata": {},
   "outputs": [
    {
     "data": {
      "image/png": "[encoded data removed]",
      "text/plain": [
       "<Figure size 1080x720 with 1 Axes>"
      ]
     },
     "metadata": {},
     "output_type": "display_data"
    }
   ],
   "source": [
    "compdata_cont.boxplot(vert=False, figsize=(15,10))\n",
    "plt.title('IPO Characteristics Box Plot')\n",
    "plt.show()"
   ]
  },
  {
   "cell_type": "code",
   "execution_count": 43,
   "metadata": {},
   "outputs": [
    {
     "data": {
      "image/png": "[encoded data removed]",
      "text/plain": [
       "<Figure size 1080x288 with 1 Axes>"
      ]
     },
     "metadata": {},
     "output_type": "display_data"
    }
   ],
   "source": [
    "compdata_cont.boxplot(column=['C1','C4','C5_','C6_'],vert=False, figsize=(15,4))\n",
    "plt.title('IPO Characteristics Box Plot')\n",
    "plt.show()"
   ]
  },
  {
   "cell_type": "code",
   "execution_count": 44,
   "metadata": {},
   "outputs": [
    {
     "data": {
      "image/png": "[encoded data removed]",
      "text/plain": [
       "<Figure size 1080x72 with 1 Axes>"
      ]
     },
     "metadata": {},
     "output_type": "display_data"
    }
   ],
   "source": [
    "# In number of days\n",
    "\n",
    "compdata_cont.boxplot(column=['C1'],vert=False, figsize=(15,1))\n",
    "plt.title('Days Box Plot')\n",
    "plt.show()"
   ]
  },
  {
   "cell_type": "code",
   "execution_count": 45,
   "metadata": {},
   "outputs": [
    {
     "data": {
      "image/png": "[encoded data removed]",
      "text/plain": [
       "<Figure size 1080x72 with 1 Axes>"
      ]
     },
     "metadata": {},
     "output_type": "display_data"
    }
   ],
   "source": [
    "compdata_cont.boxplot(column='C4',vert=False, figsize=(15,1))\n",
    "plt.title('Prior Nasdaq 15-Day Returns Box Plot')\n",
    "plt.show()"
   ]
  },
  {
   "cell_type": "code",
   "execution_count": 46,
   "metadata": {},
   "outputs": [
    {
     "data": {
      "image/png": "[encoded data removed]",
      "text/plain": [
       "<Figure size 1080x144 with 1 Axes>"
      ]
     },
     "metadata": {},
     "output_type": "display_data"
    }
   ],
   "source": [
    "compdata_cont.boxplot(column=['C5_','C6_'],vert=False, figsize=(15,2))\n",
    "plt.title('Outstanding Shares & Offering Shares Box Plot')\n",
    "plt.show()"
   ]
  },
  {
   "cell_type": "code",
   "execution_count": 48,
   "metadata": {},
   "outputs": [
    {
     "data": {
      "image/png": "[encoded data removed]",
      "text/plain": [
       "<Figure size 1080x72 with 1 Axes>"
      ]
     },
     "metadata": {},
     "output_type": "display_data"
    }
   ],
   "source": [
    "# in millions of dollars\n",
    "\n",
    "compdata_cont.boxplot(column='Imputed_C7',vert=False, figsize=(15,1))\n",
    "plt.title('Sales Box Plot')\n",
    "plt.show()"
   ]
  },
  {
   "cell_type": "code",
   "execution_count": 49,
   "metadata": {},
   "outputs": [
    {
     "data": {
      "image/png": "[encoded data removed]",
      "text/plain": [
       "<Figure size 1080x288 with 1 Axes>"
      ]
     },
     "metadata": {},
     "output_type": "display_data"
    }
   ],
   "source": [
    "compdata_cont.boxplot(column=['T3_','T4_','T5_'],vert=False, figsize=(15,4))\n",
    "plt.title('Textual Characteristics of IPO Box Plot')\n",
    "plt.show()"
   ]
  },
  {
   "cell_type": "code",
   "execution_count": 50,
   "metadata": {},
   "outputs": [
    {
     "data": {
      "image/png": "[encoded data removed]",
      "text/plain": [
       "<Figure size 1080x216 with 1 Axes>"
      ]
     },
     "metadata": {},
     "output_type": "display_data"
    }
   ],
   "source": [
    "compdata_cont.boxplot(column=['S1_','S2_','S3_'],vert=False, figsize=(15,3))\n",
    "plt.title('Sentiment Characteristics of IPO Box Plot')\n",
    "plt.show()"
   ]
  },
  {
   "cell_type": "markdown",
   "metadata": {},
   "source": [
    "It is obvious that there are outliers in the dataset that will offset the results. \n",
    "To remove this data we will use the interquartile range to determine the upper and lower bound limits and any data outside the limit will be converted to either the lower or upper bound number."
   ]
  },
  {
   "cell_type": "code",
   "execution_count": 56,
   "metadata": {},
   "outputs": [
    {
     "data": {
      "text/html": [
       "<div>\n",
       "<style scoped>\n",
       "    .dataframe tbody tr th:only-of-type {\n",
       "        vertical-align: middle;\n",
       "    }\n",
       "\n",
       "    .dataframe tbody tr th {\n",
       "        vertical-align: top;\n",
       "    }\n",
       "\n",
       "    .dataframe thead th {\n",
       "        text-align: right;\n",
       "    }\n",
       "</style>\n",
       "<table border=\"1\" class=\"dataframe\">\n",
       "  <thead>\n",
       "    <tr style=\"text-align: right;\">\n",
       "      <th></th>\n",
       "      <th>P(IPO)</th>\n",
       "      <th>P(H)</th>\n",
       "      <th>P(L)</th>\n",
       "      <th>P(1Day)</th>\n",
       "      <th>C1</th>\n",
       "      <th>C4</th>\n",
       "      <th>C5</th>\n",
       "      <th>C6</th>\n",
       "      <th>T1</th>\n",
       "      <th>T2</th>\n",
       "      <th>...</th>\n",
       "      <th>T4_</th>\n",
       "      <th>T5_</th>\n",
       "      <th>S1_</th>\n",
       "      <th>S2_</th>\n",
       "      <th>S3_</th>\n",
       "      <th>P(mid)</th>\n",
       "      <th>C5_</th>\n",
       "      <th>C6_</th>\n",
       "      <th>Imputed_C3</th>\n",
       "      <th>Imputed_C7</th>\n",
       "    </tr>\n",
       "  </thead>\n",
       "  <tbody>\n",
       "    <tr>\n",
       "      <th>0</th>\n",
       "      <td>10.0</td>\n",
       "      <td>9.5</td>\n",
       "      <td>8.5</td>\n",
       "      <td>11.8700</td>\n",
       "      <td>122.0</td>\n",
       "      <td>0.029074</td>\n",
       "      <td>40962052.0</td>\n",
       "      <td>10600000.0</td>\n",
       "      <td>470.0</td>\n",
       "      <td>12719.0</td>\n",
       "      <td>...</td>\n",
       "      <td>0.640426</td>\n",
       "      <td>0.054250</td>\n",
       "      <td>0.004875</td>\n",
       "      <td>0.009199</td>\n",
       "      <td>0.010929</td>\n",
       "      <td>9.0</td>\n",
       "      <td>3.864345</td>\n",
       "      <td>11.111111</td>\n",
       "      <td>2.2075</td>\n",
       "      <td>51.345</td>\n",
       "    </tr>\n",
       "    <tr>\n",
       "      <th>1</th>\n",
       "      <td>8.0</td>\n",
       "      <td>10.0</td>\n",
       "      <td>8.0</td>\n",
       "      <td>7.2500</td>\n",
       "      <td>259.0</td>\n",
       "      <td>-0.013352</td>\n",
       "      <td>28869196.0</td>\n",
       "      <td>2400000.0</td>\n",
       "      <td>791.0</td>\n",
       "      <td>21792.0</td>\n",
       "      <td>...</td>\n",
       "      <td>0.644753</td>\n",
       "      <td>0.051395</td>\n",
       "      <td>0.003258</td>\n",
       "      <td>0.011105</td>\n",
       "      <td>0.010876</td>\n",
       "      <td>9.0</td>\n",
       "      <td>7.867911</td>\n",
       "      <td>0.000000</td>\n",
       "      <td>-1.6200</td>\n",
       "      <td>25.936</td>\n",
       "    </tr>\n",
       "    <tr>\n",
       "      <th>2</th>\n",
       "      <td>7.0</td>\n",
       "      <td>14.0</td>\n",
       "      <td>12.0</td>\n",
       "      <td>6.7000</td>\n",
       "      <td>90.0</td>\n",
       "      <td>0.020715</td>\n",
       "      <td>16845668.0</td>\n",
       "      <td>5000000.0</td>\n",
       "      <td>201.0</td>\n",
       "      <td>5262.0</td>\n",
       "      <td>...</td>\n",
       "      <td>0.636816</td>\n",
       "      <td>0.061764</td>\n",
       "      <td>0.009436</td>\n",
       "      <td>0.006271</td>\n",
       "      <td>0.011403</td>\n",
       "      <td>13.0</td>\n",
       "      <td>3.369134</td>\n",
       "      <td>0.000000</td>\n",
       "      <td>-1.2400</td>\n",
       "      <td>7.378</td>\n",
       "    </tr>\n",
       "    <tr>\n",
       "      <th>3</th>\n",
       "      <td>11.5</td>\n",
       "      <td>16.0</td>\n",
       "      <td>14.0</td>\n",
       "      <td>12.3900</td>\n",
       "      <td>209.0</td>\n",
       "      <td>0.020023</td>\n",
       "      <td>14848637.0</td>\n",
       "      <td>4500000.0</td>\n",
       "      <td>328.0</td>\n",
       "      <td>8259.0</td>\n",
       "      <td>...</td>\n",
       "      <td>0.539634</td>\n",
       "      <td>0.061630</td>\n",
       "      <td>0.009436</td>\n",
       "      <td>0.007144</td>\n",
       "      <td>0.013319</td>\n",
       "      <td>15.0</td>\n",
       "      <td>3.299697</td>\n",
       "      <td>0.000000</td>\n",
       "      <td>-0.9100</td>\n",
       "      <td>8.526</td>\n",
       "    </tr>\n",
       "    <tr>\n",
       "      <th>4</th>\n",
       "      <td>21.0</td>\n",
       "      <td>21.0</td>\n",
       "      <td>19.0</td>\n",
       "      <td>34.7375</td>\n",
       "      <td>80.0</td>\n",
       "      <td>-0.034895</td>\n",
       "      <td>30741716.0</td>\n",
       "      <td>8250000.0</td>\n",
       "      <td>572.0</td>\n",
       "      <td>14830.0</td>\n",
       "      <td>...</td>\n",
       "      <td>0.587413</td>\n",
       "      <td>0.048550</td>\n",
       "      <td>0.004518</td>\n",
       "      <td>0.010047</td>\n",
       "      <td>0.011261</td>\n",
       "      <td>20.0</td>\n",
       "      <td>3.726269</td>\n",
       "      <td>5.000000</td>\n",
       "      <td>0.0700</td>\n",
       "      <td>632.298</td>\n",
       "    </tr>\n",
       "  </tbody>\n",
       "</table>\n",
       "<p>5 rows × 27 columns</p>\n",
       "</div>"
      ],
      "text/plain": [
       "   P(IPO)  P(H)  P(L)  P(1Day)     C1        C4          C5          C6  \\\n",
       "0    10.0   9.5   8.5  11.8700  122.0  0.029074  40962052.0  10600000.0   \n",
       "1     8.0  10.0   8.0   7.2500  259.0 -0.013352  28869196.0   2400000.0   \n",
       "2     7.0  14.0  12.0   6.7000   90.0  0.020715  16845668.0   5000000.0   \n",
       "3    11.5  16.0  14.0  12.3900  209.0  0.020023  14848637.0   4500000.0   \n",
       "4    21.0  21.0  19.0  34.7375   80.0 -0.034895  30741716.0   8250000.0   \n",
       "\n",
       "      T1       T2  ...       T4_       T5_       S1_       S2_       S3_  \\\n",
       "0  470.0  12719.0  ...  0.640426  0.054250  0.004875  0.009199  0.010929   \n",
       "1  791.0  21792.0  ...  0.644753  0.051395  0.003258  0.011105  0.010876   \n",
       "2  201.0   5262.0  ...  0.636816  0.061764  0.009436  0.006271  0.011403   \n",
       "3  328.0   8259.0  ...  0.539634  0.061630  0.009436  0.007144  0.013319   \n",
       "4  572.0  14830.0  ...  0.587413  0.048550  0.004518  0.010047  0.011261   \n",
       "\n",
       "   P(mid)       C5_        C6_  Imputed_C3  Imputed_C7  \n",
       "0     9.0  3.864345  11.111111      2.2075      51.345  \n",
       "1     9.0  7.867911   0.000000     -1.6200      25.936  \n",
       "2    13.0  3.369134   0.000000     -1.2400       7.378  \n",
       "3    15.0  3.299697   0.000000     -0.9100       8.526  \n",
       "4    20.0  3.726269   5.000000      0.0700     632.298  \n",
       "\n",
       "[5 rows x 27 columns]"
      ]
     },
     "execution_count": 56,
     "metadata": {},
     "output_type": "execute_result"
    }
   ],
   "source": [
    "compdata_cont.head()"
   ]
  },
  {
   "cell_type": "code",
   "execution_count": 51,
   "metadata": {},
   "outputs": [],
   "source": [
    "for col in compdata_cont.columns:\n",
    "    u_bound = compdata_cont[col].quantile(0.75) + (1.5*(compdata_cont[col].quantile(0.75)-compdata_cont[col].quantile(0.25)))\n",
    "    compdata_cont[col][compdata_cont[col] > u_bound] = u_bound"
   ]
  },
  {
   "cell_type": "code",
   "execution_count": 52,
   "metadata": {},
   "outputs": [],
   "source": [
    "for col in compdata_cont.columns:\n",
    "    l_bound = compdata_cont[col].quantile(0.25) - (1.5*(compdata_cont[col].quantile(0.75)-compdata_cont[col].quantile(0.25)))\n",
    "    compdata_cont[col][compdata_cont[col] < l_bound] = l_bound"
   ]
  },
  {
   "cell_type": "code",
   "execution_count": 53,
   "metadata": {},
   "outputs": [
    {
     "data": {
      "text/html": [
       "<div>\n",
       "<style scoped>\n",
       "    .dataframe tbody tr th:only-of-type {\n",
       "        vertical-align: middle;\n",
       "    }\n",
       "\n",
       "    .dataframe tbody tr th {\n",
       "        vertical-align: top;\n",
       "    }\n",
       "\n",
       "    .dataframe thead th {\n",
       "        text-align: right;\n",
       "    }\n",
       "</style>\n",
       "<table border=\"1\" class=\"dataframe\">\n",
       "  <thead>\n",
       "    <tr style=\"text-align: right;\">\n",
       "      <th></th>\n",
       "      <th>P(IPO)</th>\n",
       "      <th>P(H)</th>\n",
       "      <th>P(L)</th>\n",
       "      <th>P(1Day)</th>\n",
       "      <th>C1</th>\n",
       "      <th>C4</th>\n",
       "      <th>C5</th>\n",
       "      <th>C6</th>\n",
       "      <th>T1</th>\n",
       "      <th>T2</th>\n",
       "      <th>...</th>\n",
       "      <th>T4_</th>\n",
       "      <th>T5_</th>\n",
       "      <th>S1_</th>\n",
       "      <th>S2_</th>\n",
       "      <th>S3_</th>\n",
       "      <th>P(mid)</th>\n",
       "      <th>C5_</th>\n",
       "      <th>C6_</th>\n",
       "      <th>Imputed_C3</th>\n",
       "      <th>Imputed_C7</th>\n",
       "    </tr>\n",
       "  </thead>\n",
       "  <tbody>\n",
       "    <tr>\n",
       "      <th>0</th>\n",
       "      <td>10.0</td>\n",
       "      <td>9.5</td>\n",
       "      <td>8.5</td>\n",
       "      <td>11.8700</td>\n",
       "      <td>122.0</td>\n",
       "      <td>0.029074</td>\n",
       "      <td>40962052.0</td>\n",
       "      <td>10600000.0</td>\n",
       "      <td>470.0</td>\n",
       "      <td>12719.0</td>\n",
       "      <td>...</td>\n",
       "      <td>0.640426</td>\n",
       "      <td>0.054250</td>\n",
       "      <td>0.004875</td>\n",
       "      <td>0.009199</td>\n",
       "      <td>0.010929</td>\n",
       "      <td>9.0</td>\n",
       "      <td>3.864345</td>\n",
       "      <td>11.111111</td>\n",
       "      <td>2.2075</td>\n",
       "      <td>51.345</td>\n",
       "    </tr>\n",
       "    <tr>\n",
       "      <th>1</th>\n",
       "      <td>8.0</td>\n",
       "      <td>10.0</td>\n",
       "      <td>8.0</td>\n",
       "      <td>7.2500</td>\n",
       "      <td>259.0</td>\n",
       "      <td>-0.013352</td>\n",
       "      <td>28869196.0</td>\n",
       "      <td>2400000.0</td>\n",
       "      <td>791.0</td>\n",
       "      <td>21792.0</td>\n",
       "      <td>...</td>\n",
       "      <td>0.644753</td>\n",
       "      <td>0.051395</td>\n",
       "      <td>0.003258</td>\n",
       "      <td>0.011105</td>\n",
       "      <td>0.010876</td>\n",
       "      <td>9.0</td>\n",
       "      <td>7.867911</td>\n",
       "      <td>0.000000</td>\n",
       "      <td>-1.6200</td>\n",
       "      <td>25.936</td>\n",
       "    </tr>\n",
       "    <tr>\n",
       "      <th>2</th>\n",
       "      <td>7.0</td>\n",
       "      <td>14.0</td>\n",
       "      <td>12.0</td>\n",
       "      <td>6.7000</td>\n",
       "      <td>90.0</td>\n",
       "      <td>0.020715</td>\n",
       "      <td>16845668.0</td>\n",
       "      <td>5000000.0</td>\n",
       "      <td>201.0</td>\n",
       "      <td>5262.0</td>\n",
       "      <td>...</td>\n",
       "      <td>0.636816</td>\n",
       "      <td>0.061764</td>\n",
       "      <td>0.009436</td>\n",
       "      <td>0.006271</td>\n",
       "      <td>0.011403</td>\n",
       "      <td>13.0</td>\n",
       "      <td>3.369134</td>\n",
       "      <td>0.000000</td>\n",
       "      <td>-1.2400</td>\n",
       "      <td>7.378</td>\n",
       "    </tr>\n",
       "    <tr>\n",
       "      <th>3</th>\n",
       "      <td>11.5</td>\n",
       "      <td>16.0</td>\n",
       "      <td>14.0</td>\n",
       "      <td>12.3900</td>\n",
       "      <td>209.0</td>\n",
       "      <td>0.020023</td>\n",
       "      <td>14848637.0</td>\n",
       "      <td>4500000.0</td>\n",
       "      <td>328.0</td>\n",
       "      <td>8259.0</td>\n",
       "      <td>...</td>\n",
       "      <td>0.539634</td>\n",
       "      <td>0.061630</td>\n",
       "      <td>0.009436</td>\n",
       "      <td>0.007144</td>\n",
       "      <td>0.013319</td>\n",
       "      <td>15.0</td>\n",
       "      <td>3.299697</td>\n",
       "      <td>0.000000</td>\n",
       "      <td>-0.9100</td>\n",
       "      <td>8.526</td>\n",
       "    </tr>\n",
       "    <tr>\n",
       "      <th>4</th>\n",
       "      <td>21.0</td>\n",
       "      <td>21.0</td>\n",
       "      <td>19.0</td>\n",
       "      <td>34.7375</td>\n",
       "      <td>80.0</td>\n",
       "      <td>-0.034895</td>\n",
       "      <td>30741716.0</td>\n",
       "      <td>8250000.0</td>\n",
       "      <td>572.0</td>\n",
       "      <td>14830.0</td>\n",
       "      <td>...</td>\n",
       "      <td>0.587413</td>\n",
       "      <td>0.048550</td>\n",
       "      <td>0.004518</td>\n",
       "      <td>0.010047</td>\n",
       "      <td>0.011261</td>\n",
       "      <td>20.0</td>\n",
       "      <td>3.726269</td>\n",
       "      <td>5.000000</td>\n",
       "      <td>0.0700</td>\n",
       "      <td>632.298</td>\n",
       "    </tr>\n",
       "  </tbody>\n",
       "</table>\n",
       "<p>5 rows × 27 columns</p>\n",
       "</div>"
      ],
      "text/plain": [
       "   P(IPO)  P(H)  P(L)  P(1Day)     C1        C4          C5          C6  \\\n",
       "0    10.0   9.5   8.5  11.8700  122.0  0.029074  40962052.0  10600000.0   \n",
       "1     8.0  10.0   8.0   7.2500  259.0 -0.013352  28869196.0   2400000.0   \n",
       "2     7.0  14.0  12.0   6.7000   90.0  0.020715  16845668.0   5000000.0   \n",
       "3    11.5  16.0  14.0  12.3900  209.0  0.020023  14848637.0   4500000.0   \n",
       "4    21.0  21.0  19.0  34.7375   80.0 -0.034895  30741716.0   8250000.0   \n",
       "\n",
       "      T1       T2  ...       T4_       T5_       S1_       S2_       S3_  \\\n",
       "0  470.0  12719.0  ...  0.640426  0.054250  0.004875  0.009199  0.010929   \n",
       "1  791.0  21792.0  ...  0.644753  0.051395  0.003258  0.011105  0.010876   \n",
       "2  201.0   5262.0  ...  0.636816  0.061764  0.009436  0.006271  0.011403   \n",
       "3  328.0   8259.0  ...  0.539634  0.061630  0.009436  0.007144  0.013319   \n",
       "4  572.0  14830.0  ...  0.587413  0.048550  0.004518  0.010047  0.011261   \n",
       "\n",
       "   P(mid)       C5_        C6_  Imputed_C3  Imputed_C7  \n",
       "0     9.0  3.864345  11.111111      2.2075      51.345  \n",
       "1     9.0  7.867911   0.000000     -1.6200      25.936  \n",
       "2    13.0  3.369134   0.000000     -1.2400       7.378  \n",
       "3    15.0  3.299697   0.000000     -0.9100       8.526  \n",
       "4    20.0  3.726269   5.000000      0.0700     632.298  \n",
       "\n",
       "[5 rows x 27 columns]"
      ]
     },
     "execution_count": 53,
     "metadata": {},
     "output_type": "execute_result"
    }
   ],
   "source": [
    "compdata_cont.head()"
   ]
  },
  {
   "cell_type": "code",
   "execution_count": 54,
   "metadata": {},
   "outputs": [
    {
     "data": {
      "image/png": "[encoded data removed]",
      "text/plain": [
       "<Figure size 1080x720 with 1 Axes>"
      ]
     },
     "metadata": {},
     "output_type": "display_data"
    }
   ],
   "source": [
    "compdata_cont.boxplot(vert=False, figsize=(15,10))\n",
    "plt.title('IPO Characteristics Box Plot')\n",
    "plt.show()"
   ]
  },
  {
   "cell_type": "code",
   "execution_count": 59,
   "metadata": {},
   "outputs": [
    {
     "data": {
      "image/png": "[encoded data removed]",
      "text/plain": [
       "<Figure size 1080x288 with 1 Axes>"
      ]
     },
     "metadata": {
      "needs_background": "light"
     },
     "output_type": "display_data"
    }
   ],
   "source": [
    "compdata_cont.boxplot(column=['C1','C4','C5_','C6_','Imputed_C7'],vert=False, figsize=(15,4))\n",
    "plt.title('IPO Characteristics Box Plot')\n",
    "plt.show()"
   ]
  },
  {
   "cell_type": "code",
   "execution_count": 60,
   "metadata": {},
   "outputs": [
    {
     "data": {
      "image/png": "[encoded data removed]",
      "text/plain": [
       "<Figure size 1080x288 with 1 Axes>"
      ]
     },
     "metadata": {
      "needs_background": "light"
     },
     "output_type": "display_data"
    }
   ],
   "source": [
    "compdata_cont.boxplot(column=['T3_','T4_','T5_'],vert=False, figsize=(15,4))\n",
    "plt.title('Textual Characteristics of IPO Box Plot')\n",
    "plt.show()"
   ]
  },
  {
   "cell_type": "code",
   "execution_count": 61,
   "metadata": {},
   "outputs": [
    {
     "data": {
      "image/png": "[encoded data removed]",
      "text/plain": [
       "<Figure size 1080x216 with 1 Axes>"
      ]
     },
     "metadata": {
      "needs_background": "light"
     },
     "output_type": "display_data"
    }
   ],
   "source": [
    "compdata_cont.boxplot(column=['S1_','S2_','S3_'],vert=False, figsize=(15,3))\n",
    "plt.title('Sentiment Characteristics of IPO Box Plot')\n",
    "plt.show()"
   ]
  },
  {
   "cell_type": "code",
   "execution_count": 62,
   "metadata": {},
   "outputs": [],
   "source": [
    "# Did not need.. used a for loop instead\n",
    "\n",
    "# Q1 = compdata['P(IPO)'].quantile(0.25)\n",
    "# Q3 = compdata['P(IPO)'].quantile(0.75)\n",
    "# IQR = Q3 - Q1\n",
    "# LowerBound = Q1 - (1.5 * IQR)\n",
    "# UpperBound = Q3 + (1.5 * IQR)\n",
    "\n",
    "# compdata[((compdata['P(IPO)'] < LowerBound) |(compdata['P(IPO)'] > UpperBound))]\n",
    "\n",
    "# This dataframe has rows for the IQR Upper Bound and Lower Bound numbers for each variable\n",
    "\n",
    "# iqrdata.loc['IQR'] = (iqrdata.loc['75%']-iqrdata.loc['25%'])\n",
    "# iqrdata.loc['UpperRange'] = (iqrdata.loc['75%']+(1.5*iqrdata.loc['IQR']))\n",
    "# iqrdata.loc['LowerRange'] = (iqrdata.loc['25%']-(1.5*iqrdata.loc['IQR']))\n",
    "# iqrdata"
   ]
  },
  {
   "cell_type": "code",
   "execution_count": 52,
   "metadata": {},
   "outputs": [],
   "source": [
    "# Normalization\n",
    "#... zscore"
   ]
  },
  {
   "cell_type": "markdown",
   "metadata": {},
   "source": [
    "# Z-Score "
   ]
  },
  {
   "cell_type": "code",
   "execution_count": 63,
   "metadata": {},
   "outputs": [
    {
     "data": {
      "text/html": [
       "<div>\n",
       "<style scoped>\n",
       "    .dataframe tbody tr th:only-of-type {\n",
       "        vertical-align: middle;\n",
       "    }\n",
       "\n",
       "    .dataframe tbody tr th {\n",
       "        vertical-align: top;\n",
       "    }\n",
       "\n",
       "    .dataframe thead th {\n",
       "        text-align: right;\n",
       "    }\n",
       "</style>\n",
       "<table border=\"1\" class=\"dataframe\">\n",
       "  <thead>\n",
       "    <tr style=\"text-align: right;\">\n",
       "      <th></th>\n",
       "      <th>P(IPO)</th>\n",
       "      <th>P(H)</th>\n",
       "      <th>P(L)</th>\n",
       "      <th>P(1Day)</th>\n",
       "      <th>C1</th>\n",
       "      <th>C4</th>\n",
       "      <th>C5</th>\n",
       "      <th>C6</th>\n",
       "      <th>T1</th>\n",
       "      <th>T2</th>\n",
       "      <th>...</th>\n",
       "      <th>T4_</th>\n",
       "      <th>T5_</th>\n",
       "      <th>S1_</th>\n",
       "      <th>S2_</th>\n",
       "      <th>S3_</th>\n",
       "      <th>P(mid)</th>\n",
       "      <th>C5_</th>\n",
       "      <th>C6_</th>\n",
       "      <th>Imputed_C3</th>\n",
       "      <th>Imputed_C7</th>\n",
       "    </tr>\n",
       "  </thead>\n",
       "  <tbody>\n",
       "    <tr>\n",
       "      <th>0</th>\n",
       "      <td>-0.809569</td>\n",
       "      <td>-1.526258</td>\n",
       "      <td>-1.311117</td>\n",
       "      <td>-0.582415</td>\n",
       "      <td>-0.079047</td>\n",
       "      <td>0.662868</td>\n",
       "      <td>0.120660</td>\n",
       "      <td>0.177765</td>\n",
       "      <td>0.052979</td>\n",
       "      <td>0.006978</td>\n",
       "      <td>...</td>\n",
       "      <td>0.181717</td>\n",
       "      <td>0.317074</td>\n",
       "      <td>-0.241226</td>\n",
       "      <td>0.089518</td>\n",
       "      <td>-0.190867</td>\n",
       "      <td>-1.415988</td>\n",
       "      <td>-0.092283</td>\n",
       "      <td>1.046981</td>\n",
       "      <td>1.987523</td>\n",
       "      <td>-0.686322</td>\n",
       "    </tr>\n",
       "    <tr>\n",
       "      <th>1</th>\n",
       "      <td>-1.235581</td>\n",
       "      <td>-1.392117</td>\n",
       "      <td>-1.449047</td>\n",
       "      <td>-1.153892</td>\n",
       "      <td>2.048280</td>\n",
       "      <td>-0.633739</td>\n",
       "      <td>-0.336431</td>\n",
       "      <td>-1.194415</td>\n",
       "      <td>2.163933</td>\n",
       "      <td>1.946017</td>\n",
       "      <td>...</td>\n",
       "      <td>0.243903</td>\n",
       "      <td>-0.105532</td>\n",
       "      <td>-1.217182</td>\n",
       "      <td>0.789992</td>\n",
       "      <td>-0.212047</td>\n",
       "      <td>-1.415988</td>\n",
       "      <td>2.342438</td>\n",
       "      <td>-0.680543</td>\n",
       "      <td>-1.090860</td>\n",
       "      <td>-0.797739</td>\n",
       "    </tr>\n",
       "    <tr>\n",
       "      <th>2</th>\n",
       "      <td>-1.448588</td>\n",
       "      <td>-0.318987</td>\n",
       "      <td>-0.345605</td>\n",
       "      <td>-1.221925</td>\n",
       "      <td>-0.575940</td>\n",
       "      <td>0.407395</td>\n",
       "      <td>-0.790901</td>\n",
       "      <td>-0.759334</td>\n",
       "      <td>-1.716013</td>\n",
       "      <td>-1.586697</td>\n",
       "      <td>...</td>\n",
       "      <td>0.129852</td>\n",
       "      <td>1.429507</td>\n",
       "      <td>2.512683</td>\n",
       "      <td>-0.986264</td>\n",
       "      <td>-0.001387</td>\n",
       "      <td>-0.329785</td>\n",
       "      <td>-0.393440</td>\n",
       "      <td>-0.680543</td>\n",
       "      <td>-0.785233</td>\n",
       "      <td>-0.879116</td>\n",
       "    </tr>\n",
       "    <tr>\n",
       "      <th>3</th>\n",
       "      <td>-0.490060</td>\n",
       "      <td>0.217578</td>\n",
       "      <td>0.206116</td>\n",
       "      <td>-0.518093</td>\n",
       "      <td>1.271883</td>\n",
       "      <td>0.386250</td>\n",
       "      <td>-0.866385</td>\n",
       "      <td>-0.843003</td>\n",
       "      <td>-0.880838</td>\n",
       "      <td>-0.946192</td>\n",
       "      <td>...</td>\n",
       "      <td>-1.266513</td>\n",
       "      <td>1.409691</td>\n",
       "      <td>2.512683</td>\n",
       "      <td>-0.665696</td>\n",
       "      <td>0.764685</td>\n",
       "      <td>0.213316</td>\n",
       "      <td>-0.435667</td>\n",
       "      <td>-0.680543</td>\n",
       "      <td>-0.519821</td>\n",
       "      <td>-0.874082</td>\n",
       "    </tr>\n",
       "    <tr>\n",
       "      <th>4</th>\n",
       "      <td>1.533499</td>\n",
       "      <td>1.558990</td>\n",
       "      <td>1.585418</td>\n",
       "      <td>2.246208</td>\n",
       "      <td>-0.731220</td>\n",
       "      <td>-1.292131</td>\n",
       "      <td>-0.265653</td>\n",
       "      <td>-0.215482</td>\n",
       "      <td>0.723750</td>\n",
       "      <td>0.458131</td>\n",
       "      <td>...</td>\n",
       "      <td>-0.580005</td>\n",
       "      <td>-0.526693</td>\n",
       "      <td>-0.456596</td>\n",
       "      <td>0.401275</td>\n",
       "      <td>-0.057974</td>\n",
       "      <td>1.571069</td>\n",
       "      <td>-0.176253</td>\n",
       "      <td>0.096843</td>\n",
       "      <td>0.268374</td>\n",
       "      <td>1.861134</td>\n",
       "    </tr>\n",
       "  </tbody>\n",
       "</table>\n",
       "<p>5 rows × 27 columns</p>\n",
       "</div>"
      ],
      "text/plain": [
       "     P(IPO)      P(H)      P(L)   P(1Day)        C1        C4        C5  \\\n",
       "0 -0.809569 -1.526258 -1.311117 -0.582415 -0.079047  0.662868  0.120660   \n",
       "1 -1.235581 -1.392117 -1.449047 -1.153892  2.048280 -0.633739 -0.336431   \n",
       "2 -1.448588 -0.318987 -0.345605 -1.221925 -0.575940  0.407395 -0.790901   \n",
       "3 -0.490060  0.217578  0.206116 -0.518093  1.271883  0.386250 -0.866385   \n",
       "4  1.533499  1.558990  1.585418  2.246208 -0.731220 -1.292131 -0.265653   \n",
       "\n",
       "         C6        T1        T2  ...       T4_       T5_       S1_       S2_  \\\n",
       "0  0.177765  0.052979  0.006978  ...  0.181717  0.317074 -0.241226  0.089518   \n",
       "1 -1.194415  2.163933  1.946017  ...  0.243903 -0.105532 -1.217182  0.789992   \n",
       "2 -0.759334 -1.716013 -1.586697  ...  0.129852  1.429507  2.512683 -0.986264   \n",
       "3 -0.843003 -0.880838 -0.946192  ... -1.266513  1.409691  2.512683 -0.665696   \n",
       "4 -0.215482  0.723750  0.458131  ... -0.580005 -0.526693 -0.456596  0.401275   \n",
       "\n",
       "        S3_    P(mid)       C5_       C6_  Imputed_C3  Imputed_C7  \n",
       "0 -0.190867 -1.415988 -0.092283  1.046981    1.987523   -0.686322  \n",
       "1 -0.212047 -1.415988  2.342438 -0.680543   -1.090860   -0.797739  \n",
       "2 -0.001387 -0.329785 -0.393440 -0.680543   -0.785233   -0.879116  \n",
       "3  0.764685  0.213316 -0.435667 -0.680543   -0.519821   -0.874082  \n",
       "4 -0.057974  1.571069 -0.176253  0.096843    0.268374    1.861134  \n",
       "\n",
       "[5 rows x 27 columns]"
      ]
     },
     "execution_count": 63,
     "metadata": {},
     "output_type": "execute_result"
    }
   ],
   "source": [
    "from scipy.stats import zscore\n",
    "\n",
    "compdata_cont = compdata_cont.apply(zscore)\n",
    "compdata_cont.head()"
   ]
  },
  {
   "cell_type": "markdown",
   "metadata": {},
   "source": [
    "## Skewness "
   ]
  },
  {
   "cell_type": "code",
   "execution_count": 53,
   "metadata": {},
   "outputs": [
    {
     "data": {
      "text/plain": [
       "-0.4804640634278896"
      ]
     },
     "execution_count": 53,
     "metadata": {},
     "output_type": "execute_result"
    }
   ],
   "source": [
    "compdata['C4'].skew()"
   ]
  },
  {
   "cell_type": "code",
   "execution_count": 54,
   "metadata": {},
   "outputs": [
    {
     "data": {
      "text/plain": [
       "13.440972035815504"
      ]
     },
     "execution_count": 54,
     "metadata": {},
     "output_type": "execute_result"
    }
   ],
   "source": [
    "compdata['C5'].skew()"
   ]
  },
  {
   "cell_type": "code",
   "execution_count": 55,
   "metadata": {},
   "outputs": [
    {
     "data": {
      "text/plain": [
       "12.438050101872676"
      ]
     },
     "execution_count": 55,
     "metadata": {},
     "output_type": "execute_result"
    }
   ],
   "source": [
    "compdata['C6'].skew()"
   ]
  },
  {
   "cell_type": "code",
   "execution_count": 56,
   "metadata": {},
   "outputs": [
    {
     "data": {
      "text/plain": [
       "11.618743512772395"
      ]
     },
     "execution_count": 56,
     "metadata": {},
     "output_type": "execute_result"
    }
   ],
   "source": [
    "compdata['C7'].skew()"
   ]
  },
  {
   "cell_type": "code",
   "execution_count": 57,
   "metadata": {},
   "outputs": [
    {
     "data": {
      "text/plain": [
       "-11.933706139550287"
      ]
     },
     "execution_count": 57,
     "metadata": {},
     "output_type": "execute_result"
    }
   ],
   "source": [
    "compdata['T3_'].skew()"
   ]
  },
  {
   "cell_type": "code",
   "execution_count": 58,
   "metadata": {},
   "outputs": [
    {
     "data": {
      "text/plain": [
       "-1.611424629084586"
      ]
     },
     "execution_count": 58,
     "metadata": {},
     "output_type": "execute_result"
    }
   ],
   "source": [
    "compdata['T4_'].skew()"
   ]
  },
  {
   "cell_type": "code",
   "execution_count": 59,
   "metadata": {},
   "outputs": [
    {
     "data": {
      "text/plain": [
       "-0.48457671733391683"
      ]
     },
     "execution_count": 59,
     "metadata": {},
     "output_type": "execute_result"
    }
   ],
   "source": [
    "compdata['T5_'].skew()"
   ]
  },
  {
   "cell_type": "code",
   "execution_count": 60,
   "metadata": {},
   "outputs": [
    {
     "data": {
      "text/plain": [
       "0.8934439405784013"
      ]
     },
     "execution_count": 60,
     "metadata": {},
     "output_type": "execute_result"
    }
   ],
   "source": [
    "compdata['S1_'].skew()"
   ]
  },
  {
   "cell_type": "code",
   "execution_count": 61,
   "metadata": {},
   "outputs": [
    {
     "data": {
      "text/plain": [
       "1.1882640878510211"
      ]
     },
     "execution_count": 61,
     "metadata": {},
     "output_type": "execute_result"
    }
   ],
   "source": [
    "compdata['S2_'].skew()"
   ]
  },
  {
   "cell_type": "code",
   "execution_count": 62,
   "metadata": {},
   "outputs": [
    {
     "data": {
      "text/plain": [
       "1.397555013879015"
      ]
     },
     "execution_count": 62,
     "metadata": {},
     "output_type": "execute_result"
    }
   ],
   "source": [
    "compdata['S3_'].skew()"
   ]
  },
  {
   "cell_type": "code",
   "execution_count": 63,
   "metadata": {},
   "outputs": [],
   "source": [
    "# must revisit these histograms.  "
   ]
  },
  {
   "cell_type": "code",
   "execution_count": 64,
   "metadata": {},
   "outputs": [
    {
     "data": {
      "image/png": "[encoded data removed]",
      "text/plain": [
       "<Figure size 1080x1080 with 2 Axes>"
      ]
     },
     "metadata": {},
     "output_type": "display_data"
    }
   ],
   "source": [
    "# Correlation between Variables\n",
    "\n",
    "index= ['P(IPO)', 'P(H)', 'P(L)', 'P(1Day)','C1','C3','C4','C5','C6','C7','T1','T2','T3','T4','T5','S1','S2','S3']\n",
    "cols = ['P(IPO)', 'P(H)', 'P(L)', 'P(1Day)','C1','C3','C4','C5','C6','C7','T1','T2','T3','T4','T5','S1','S2','S3']\n",
    "df = DataFrame(abs(np.random.randn(18,18)), index=index,  columns=cols)\n",
    "fig, ax = plt.subplots(figsize=(15,15))\n",
    "sns.heatmap(df, annot=True, cbar=True, cmap='Blues')\n",
    "plt.title(\"Correlation between Variables\")\n",
    "plt.show()"
   ]
  }
 ],
 "metadata": {
  "kernelspec": {
   "display_name": "Python 3",
   "language": "python",
   "name": "python3"
  },
  "language_info": {
   "codemirror_mode": {
    "name": "ipython",
    "version": 3
   },
   "file_extension": ".py",
   "mimetype": "text/x-python",
   "name": "python",
   "nbconvert_exporter": "python",
   "pygments_lexer": "ipython3",
   "version": "3.6.7"
  }
 },
 "nbformat": 4,
 "nbformat_minor": 4
}
