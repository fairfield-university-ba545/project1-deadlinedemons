{
 "cells": [
  {
   "cell_type": "markdown",
   "metadata": {},
   "source": [
    "# Import Data"
   ]
  },
  {
   "cell_type": "markdown",
   "metadata": {},
   "source": [
    "importing all potentially necessary packages."
   ]
  },
  {
   "cell_type": "code",
   "execution_count": 2,
   "metadata": {},
   "outputs": [],
   "source": [
    "# import required package for data handling\n",
    "import pandas as pd\n",
    "import numpy as np\n",
    "import seaborn as sbn\n",
    "import matplotlib as plt\n",
    "import matplotlib.pyplot as plt\n",
    "\n",
    "# import required packages for splitting data\n",
    "from sklearn import model_selection\n",
    "from sklearn.model_selection import cross_val_score\n",
    "from sklearn.model_selection import train_test_split\n",
    "\n",
    "# import required packages for evaluating models\n",
    "from sklearn import metrics\n",
    "from sklearn.metrics import confusion_matrix\n",
    "from sklearn.metrics import classification_report\n",
    "from sklearn.metrics import roc_auc_score\n",
    "from sklearn.metrics import accuracy_score\n",
    "from sklearn.metrics import precision_recall_fscore_support\n",
    "\n",
    "# import `logistic regression` model\n",
    "from sklearn.linear_model import LogisticRegression"
   ]
  },
  {
   "cell_type": "markdown",
   "metadata": {},
   "source": [
    "importing data then handling values with '-' and making then NaN"
   ]
  },
  {
   "cell_type": "code",
   "execution_count": 3,
   "metadata": {},
   "outputs": [
    {
     "data": {
      "text/html": [
       "<div>\n",
       "<style scoped>\n",
       "    .dataframe tbody tr th:only-of-type {\n",
       "        vertical-align: middle;\n",
       "    }\n",
       "\n",
       "    .dataframe tbody tr th {\n",
       "        vertical-align: top;\n",
       "    }\n",
       "\n",
       "    .dataframe thead th {\n",
       "        text-align: right;\n",
       "    }\n",
       "</style>\n",
       "<table border=\"1\" class=\"dataframe\">\n",
       "  <thead>\n",
       "    <tr style=\"text-align: right;\">\n",
       "      <th></th>\n",
       "      <th>I1</th>\n",
       "      <th>I2</th>\n",
       "      <th>I3</th>\n",
       "      <th>P(IPO)</th>\n",
       "      <th>P(H)</th>\n",
       "      <th>P(L)</th>\n",
       "      <th>P(1Day)</th>\n",
       "      <th>C1</th>\n",
       "      <th>C2</th>\n",
       "      <th>C3</th>\n",
       "      <th>...</th>\n",
       "      <th>C6</th>\n",
       "      <th>C7</th>\n",
       "      <th>T1</th>\n",
       "      <th>T2</th>\n",
       "      <th>T3</th>\n",
       "      <th>T4</th>\n",
       "      <th>T5</th>\n",
       "      <th>S1</th>\n",
       "      <th>S2</th>\n",
       "      <th>S3</th>\n",
       "    </tr>\n",
       "  </thead>\n",
       "  <tbody>\n",
       "    <tr>\n",
       "      <th>0</th>\n",
       "      <td>AATI</td>\n",
       "      <td>ADVANCED ANALOGIC TECHNOLOGIES INC</td>\n",
       "      <td>3674</td>\n",
       "      <td>10.0</td>\n",
       "      <td>9.5</td>\n",
       "      <td>8.5</td>\n",
       "      <td>11.870000</td>\n",
       "      <td>122.0</td>\n",
       "      <td>1.0</td>\n",
       "      <td>3.43</td>\n",
       "      <td>...</td>\n",
       "      <td>10600000.0</td>\n",
       "      <td>51.345</td>\n",
       "      <td>470.0</td>\n",
       "      <td>12719.0</td>\n",
       "      <td>11560.0</td>\n",
       "      <td>301.0</td>\n",
       "      <td>690.0</td>\n",
       "      <td>62.0</td>\n",
       "      <td>117.0</td>\n",
       "      <td>139.0</td>\n",
       "    </tr>\n",
       "    <tr>\n",
       "      <th>1</th>\n",
       "      <td>ABPI</td>\n",
       "      <td>ACCENTIA BIOPHARMACEUTICALS INC</td>\n",
       "      <td>2834</td>\n",
       "      <td>8.0</td>\n",
       "      <td>10.0</td>\n",
       "      <td>8.0</td>\n",
       "      <td>7.250000</td>\n",
       "      <td>259.0</td>\n",
       "      <td>0.0</td>\n",
       "      <td>-1.62</td>\n",
       "      <td>...</td>\n",
       "      <td>2400000.0</td>\n",
       "      <td>25.936</td>\n",
       "      <td>791.0</td>\n",
       "      <td>21792.0</td>\n",
       "      <td>19585.0</td>\n",
       "      <td>510.0</td>\n",
       "      <td>1120.0</td>\n",
       "      <td>71.0</td>\n",
       "      <td>242.0</td>\n",
       "      <td>237.0</td>\n",
       "    </tr>\n",
       "    <tr>\n",
       "      <th>2</th>\n",
       "      <td>ACAD</td>\n",
       "      <td>ACADIA PHARMACEUTICALS INC</td>\n",
       "      <td>2834</td>\n",
       "      <td>7.0</td>\n",
       "      <td>14.0</td>\n",
       "      <td>12.0</td>\n",
       "      <td>6.700000</td>\n",
       "      <td>90.0</td>\n",
       "      <td>1.0</td>\n",
       "      <td>-1.24</td>\n",
       "      <td>...</td>\n",
       "      <td>5000000.0</td>\n",
       "      <td>7.378</td>\n",
       "      <td>201.0</td>\n",
       "      <td>5262.0</td>\n",
       "      <td>4785.0</td>\n",
       "      <td>128.0</td>\n",
       "      <td>325.0</td>\n",
       "      <td>61.0</td>\n",
       "      <td>33.0</td>\n",
       "      <td>60.0</td>\n",
       "    </tr>\n",
       "    <tr>\n",
       "      <th>3</th>\n",
       "      <td>ACHN</td>\n",
       "      <td>ACHILLION PHARMACEUTICALS INC</td>\n",
       "      <td>2834</td>\n",
       "      <td>11.5</td>\n",
       "      <td>16.0</td>\n",
       "      <td>14.0</td>\n",
       "      <td>12.390000</td>\n",
       "      <td>209.0</td>\n",
       "      <td>1.0</td>\n",
       "      <td>-0.91</td>\n",
       "      <td>...</td>\n",
       "      <td>4500000.0</td>\n",
       "      <td>8.526</td>\n",
       "      <td>328.0</td>\n",
       "      <td>8259.0</td>\n",
       "      <td>7574.0</td>\n",
       "      <td>177.0</td>\n",
       "      <td>509.0</td>\n",
       "      <td>80.0</td>\n",
       "      <td>59.0</td>\n",
       "      <td>110.0</td>\n",
       "    </tr>\n",
       "    <tr>\n",
       "      <th>4</th>\n",
       "      <td>ACLI</td>\n",
       "      <td>AMERICAN COMMERCIAL LINES INC.</td>\n",
       "      <td>4492</td>\n",
       "      <td>21.0</td>\n",
       "      <td>21.0</td>\n",
       "      <td>19.0</td>\n",
       "      <td>56.599998</td>\n",
       "      <td>80.0</td>\n",
       "      <td>1.0</td>\n",
       "      <td>0.07</td>\n",
       "      <td>...</td>\n",
       "      <td>8250000.0</td>\n",
       "      <td>632.298</td>\n",
       "      <td>572.0</td>\n",
       "      <td>14830.0</td>\n",
       "      <td>13176.0</td>\n",
       "      <td>336.0</td>\n",
       "      <td>720.0</td>\n",
       "      <td>67.0</td>\n",
       "      <td>149.0</td>\n",
       "      <td>167.0</td>\n",
       "    </tr>\n",
       "  </tbody>\n",
       "</table>\n",
       "<p>5 rows × 22 columns</p>\n",
       "</div>"
      ],
      "text/plain": [
       "     I1                                  I2    I3  P(IPO)  P(H)  P(L)  \\\n",
       "0  AATI  ADVANCED ANALOGIC TECHNOLOGIES INC  3674    10.0   9.5   8.5   \n",
       "1  ABPI     ACCENTIA BIOPHARMACEUTICALS INC  2834     8.0  10.0   8.0   \n",
       "2  ACAD          ACADIA PHARMACEUTICALS INC  2834     7.0  14.0  12.0   \n",
       "3  ACHN       ACHILLION PHARMACEUTICALS INC  2834    11.5  16.0  14.0   \n",
       "4  ACLI     AMERICAN COMMERCIAL LINES INC.   4492    21.0  21.0  19.0   \n",
       "\n",
       "     P(1Day)     C1   C2    C3  ...          C6       C7     T1       T2  \\\n",
       "0  11.870000  122.0  1.0  3.43  ...  10600000.0   51.345  470.0  12719.0   \n",
       "1   7.250000  259.0  0.0 -1.62  ...   2400000.0   25.936  791.0  21792.0   \n",
       "2   6.700000   90.0  1.0 -1.24  ...   5000000.0    7.378  201.0   5262.0   \n",
       "3  12.390000  209.0  1.0 -0.91  ...   4500000.0    8.526  328.0   8259.0   \n",
       "4  56.599998   80.0  1.0  0.07  ...   8250000.0  632.298  572.0  14830.0   \n",
       "\n",
       "        T3     T4      T5    S1     S2     S3  \n",
       "0  11560.0  301.0   690.0  62.0  117.0  139.0  \n",
       "1  19585.0  510.0  1120.0  71.0  242.0  237.0  \n",
       "2   4785.0  128.0   325.0  61.0   33.0   60.0  \n",
       "3   7574.0  177.0   509.0  80.0   59.0  110.0  \n",
       "4  13176.0  336.0   720.0  67.0  149.0  167.0  \n",
       "\n",
       "[5 rows x 22 columns]"
      ]
     },
     "execution_count": 3,
     "metadata": {},
     "output_type": "execute_result"
    }
   ],
   "source": [
    "# took care of the missing values by defining the dashes as NaNs below.\n",
    "\n",
    "compdata_original = pd.read_csv('comp1data.csv', header=0, na_values = '-')\n",
    "\n",
    "# show first 5 lines of data \n",
    "\n",
    "compdata_original.head()"
   ]
  },
  {
   "cell_type": "code",
   "execution_count": 4,
   "metadata": {},
   "outputs": [],
   "source": [
    "# Create a copy of the data\n",
    "\n",
    "compdata = compdata_original.copy()"
   ]
  },
  {
   "cell_type": "markdown",
   "metadata": {},
   "source": [
    "# Missing Values"
   ]
  },
  {
   "cell_type": "code",
   "execution_count": 5,
   "metadata": {},
   "outputs": [
    {
     "data": {
      "text/html": [
       "<div>\n",
       "<style scoped>\n",
       "    .dataframe tbody tr th:only-of-type {\n",
       "        vertical-align: middle;\n",
       "    }\n",
       "\n",
       "    .dataframe tbody tr th {\n",
       "        vertical-align: top;\n",
       "    }\n",
       "\n",
       "    .dataframe thead th {\n",
       "        text-align: right;\n",
       "    }\n",
       "</style>\n",
       "<table border=\"1\" class=\"dataframe\">\n",
       "  <thead>\n",
       "    <tr style=\"text-align: right;\">\n",
       "      <th></th>\n",
       "      <th>P(IPO)</th>\n",
       "      <th>P(H)</th>\n",
       "      <th>P(L)</th>\n",
       "      <th>P(1Day)</th>\n",
       "      <th>C1</th>\n",
       "      <th>C3</th>\n",
       "      <th>C4</th>\n",
       "      <th>C5</th>\n",
       "      <th>C6</th>\n",
       "      <th>C7</th>\n",
       "      <th>T1</th>\n",
       "      <th>T2</th>\n",
       "      <th>T3</th>\n",
       "      <th>T4</th>\n",
       "      <th>T5</th>\n",
       "      <th>S1</th>\n",
       "      <th>S2</th>\n",
       "      <th>S3</th>\n",
       "    </tr>\n",
       "  </thead>\n",
       "  <tbody>\n",
       "    <tr>\n",
       "      <th>0</th>\n",
       "      <td>10.0</td>\n",
       "      <td>9.5</td>\n",
       "      <td>8.5</td>\n",
       "      <td>11.870000</td>\n",
       "      <td>122.0</td>\n",
       "      <td>3.43</td>\n",
       "      <td>0.029074</td>\n",
       "      <td>40962052.0</td>\n",
       "      <td>10600000.0</td>\n",
       "      <td>51.345</td>\n",
       "      <td>470.0</td>\n",
       "      <td>12719.0</td>\n",
       "      <td>11560.0</td>\n",
       "      <td>301.0</td>\n",
       "      <td>690.0</td>\n",
       "      <td>62.0</td>\n",
       "      <td>117.0</td>\n",
       "      <td>139.0</td>\n",
       "    </tr>\n",
       "    <tr>\n",
       "      <th>1</th>\n",
       "      <td>8.0</td>\n",
       "      <td>10.0</td>\n",
       "      <td>8.0</td>\n",
       "      <td>7.250000</td>\n",
       "      <td>259.0</td>\n",
       "      <td>-1.62</td>\n",
       "      <td>-0.013352</td>\n",
       "      <td>28869196.0</td>\n",
       "      <td>2400000.0</td>\n",
       "      <td>25.936</td>\n",
       "      <td>791.0</td>\n",
       "      <td>21792.0</td>\n",
       "      <td>19585.0</td>\n",
       "      <td>510.0</td>\n",
       "      <td>1120.0</td>\n",
       "      <td>71.0</td>\n",
       "      <td>242.0</td>\n",
       "      <td>237.0</td>\n",
       "    </tr>\n",
       "    <tr>\n",
       "      <th>2</th>\n",
       "      <td>7.0</td>\n",
       "      <td>14.0</td>\n",
       "      <td>12.0</td>\n",
       "      <td>6.700000</td>\n",
       "      <td>90.0</td>\n",
       "      <td>-1.24</td>\n",
       "      <td>0.020715</td>\n",
       "      <td>16845668.0</td>\n",
       "      <td>5000000.0</td>\n",
       "      <td>7.378</td>\n",
       "      <td>201.0</td>\n",
       "      <td>5262.0</td>\n",
       "      <td>4785.0</td>\n",
       "      <td>128.0</td>\n",
       "      <td>325.0</td>\n",
       "      <td>61.0</td>\n",
       "      <td>33.0</td>\n",
       "      <td>60.0</td>\n",
       "    </tr>\n",
       "    <tr>\n",
       "      <th>3</th>\n",
       "      <td>11.5</td>\n",
       "      <td>16.0</td>\n",
       "      <td>14.0</td>\n",
       "      <td>12.390000</td>\n",
       "      <td>209.0</td>\n",
       "      <td>-0.91</td>\n",
       "      <td>0.020023</td>\n",
       "      <td>14848637.0</td>\n",
       "      <td>4500000.0</td>\n",
       "      <td>8.526</td>\n",
       "      <td>328.0</td>\n",
       "      <td>8259.0</td>\n",
       "      <td>7574.0</td>\n",
       "      <td>177.0</td>\n",
       "      <td>509.0</td>\n",
       "      <td>80.0</td>\n",
       "      <td>59.0</td>\n",
       "      <td>110.0</td>\n",
       "    </tr>\n",
       "    <tr>\n",
       "      <th>4</th>\n",
       "      <td>21.0</td>\n",
       "      <td>21.0</td>\n",
       "      <td>19.0</td>\n",
       "      <td>56.599998</td>\n",
       "      <td>80.0</td>\n",
       "      <td>0.07</td>\n",
       "      <td>-0.034895</td>\n",
       "      <td>30741716.0</td>\n",
       "      <td>8250000.0</td>\n",
       "      <td>632.298</td>\n",
       "      <td>572.0</td>\n",
       "      <td>14830.0</td>\n",
       "      <td>13176.0</td>\n",
       "      <td>336.0</td>\n",
       "      <td>720.0</td>\n",
       "      <td>67.0</td>\n",
       "      <td>149.0</td>\n",
       "      <td>167.0</td>\n",
       "    </tr>\n",
       "  </tbody>\n",
       "</table>\n",
       "</div>"
      ],
      "text/plain": [
       "   P(IPO)  P(H)  P(L)    P(1Day)     C1    C3        C4          C5  \\\n",
       "0    10.0   9.5   8.5  11.870000  122.0  3.43  0.029074  40962052.0   \n",
       "1     8.0  10.0   8.0   7.250000  259.0 -1.62 -0.013352  28869196.0   \n",
       "2     7.0  14.0  12.0   6.700000   90.0 -1.24  0.020715  16845668.0   \n",
       "3    11.5  16.0  14.0  12.390000  209.0 -0.91  0.020023  14848637.0   \n",
       "4    21.0  21.0  19.0  56.599998   80.0  0.07 -0.034895  30741716.0   \n",
       "\n",
       "           C6       C7     T1       T2       T3     T4      T5    S1     S2  \\\n",
       "0  10600000.0   51.345  470.0  12719.0  11560.0  301.0   690.0  62.0  117.0   \n",
       "1   2400000.0   25.936  791.0  21792.0  19585.0  510.0  1120.0  71.0  242.0   \n",
       "2   5000000.0    7.378  201.0   5262.0   4785.0  128.0   325.0  61.0   33.0   \n",
       "3   4500000.0    8.526  328.0   8259.0   7574.0  177.0   509.0  80.0   59.0   \n",
       "4   8250000.0  632.298  572.0  14830.0  13176.0  336.0   720.0  67.0  149.0   \n",
       "\n",
       "      S3  \n",
       "0  139.0  \n",
       "1  237.0  \n",
       "2   60.0  \n",
       "3  110.0  \n",
       "4  167.0  "
      ]
     },
     "execution_count": 5,
     "metadata": {},
     "output_type": "execute_result"
    }
   ],
   "source": [
    "# Create DF with only continuous features\n",
    "\n",
    "compdata_cont = compdata.drop(['I1','I2','I3','C2'], axis=1)\n",
    "compdata_cont.head()"
   ]
  },
  {
   "cell_type": "code",
   "execution_count": 6,
   "metadata": {},
   "outputs": [
    {
     "data": {
      "text/html": [
       "<div>\n",
       "<style scoped>\n",
       "    .dataframe tbody tr th:only-of-type {\n",
       "        vertical-align: middle;\n",
       "    }\n",
       "\n",
       "    .dataframe tbody tr th {\n",
       "        vertical-align: top;\n",
       "    }\n",
       "\n",
       "    .dataframe thead th {\n",
       "        text-align: right;\n",
       "    }\n",
       "</style>\n",
       "<table border=\"1\" class=\"dataframe\">\n",
       "  <thead>\n",
       "    <tr style=\"text-align: right;\">\n",
       "      <th></th>\n",
       "      <th>I1</th>\n",
       "      <th>I2</th>\n",
       "      <th>I3</th>\n",
       "      <th>C2</th>\n",
       "    </tr>\n",
       "  </thead>\n",
       "  <tbody>\n",
       "    <tr>\n",
       "      <th>0</th>\n",
       "      <td>AATI</td>\n",
       "      <td>ADVANCED ANALOGIC TECHNOLOGIES INC</td>\n",
       "      <td>3674</td>\n",
       "      <td>1.0</td>\n",
       "    </tr>\n",
       "    <tr>\n",
       "      <th>1</th>\n",
       "      <td>ABPI</td>\n",
       "      <td>ACCENTIA BIOPHARMACEUTICALS INC</td>\n",
       "      <td>2834</td>\n",
       "      <td>0.0</td>\n",
       "    </tr>\n",
       "    <tr>\n",
       "      <th>2</th>\n",
       "      <td>ACAD</td>\n",
       "      <td>ACADIA PHARMACEUTICALS INC</td>\n",
       "      <td>2834</td>\n",
       "      <td>1.0</td>\n",
       "    </tr>\n",
       "    <tr>\n",
       "      <th>3</th>\n",
       "      <td>ACHN</td>\n",
       "      <td>ACHILLION PHARMACEUTICALS INC</td>\n",
       "      <td>2834</td>\n",
       "      <td>1.0</td>\n",
       "    </tr>\n",
       "    <tr>\n",
       "      <th>4</th>\n",
       "      <td>ACLI</td>\n",
       "      <td>AMERICAN COMMERCIAL LINES INC.</td>\n",
       "      <td>4492</td>\n",
       "      <td>1.0</td>\n",
       "    </tr>\n",
       "  </tbody>\n",
       "</table>\n",
       "</div>"
      ],
      "text/plain": [
       "     I1                                  I2    I3   C2\n",
       "0  AATI  ADVANCED ANALOGIC TECHNOLOGIES INC  3674  1.0\n",
       "1  ABPI     ACCENTIA BIOPHARMACEUTICALS INC  2834  0.0\n",
       "2  ACAD          ACADIA PHARMACEUTICALS INC  2834  1.0\n",
       "3  ACHN       ACHILLION PHARMACEUTICALS INC  2834  1.0\n",
       "4  ACLI     AMERICAN COMMERCIAL LINES INC.   4492  1.0"
      ]
     },
     "execution_count": 6,
     "metadata": {},
     "output_type": "execute_result"
    }
   ],
   "source": [
    "# Create DF with only categorical features\n",
    "\n",
    "compdata_cat = compdata.drop(['P(IPO)','P(H)','P(L)','P(1Day)','C1','C3','C4','C5','C6','C7','T1','T2','T3','T4','T5','S1','S2','S3'], axis=1)\n",
    "compdata_cat.head()"
   ]
  },
  {
   "cell_type": "markdown",
   "metadata": {},
   "source": [
    "# Descriptive Statistics \n",
    "- .describe() will give us a good summary of the data we're working with."
   ]
  },
  {
   "cell_type": "code",
   "execution_count": 7,
   "metadata": {},
   "outputs": [
    {
     "data": {
      "text/html": [
       "<div>\n",
       "<style scoped>\n",
       "    .dataframe tbody tr th:only-of-type {\n",
       "        vertical-align: middle;\n",
       "    }\n",
       "\n",
       "    .dataframe tbody tr th {\n",
       "        vertical-align: top;\n",
       "    }\n",
       "\n",
       "    .dataframe thead th {\n",
       "        text-align: right;\n",
       "    }\n",
       "</style>\n",
       "<table border=\"1\" class=\"dataframe\">\n",
       "  <thead>\n",
       "    <tr style=\"text-align: right;\">\n",
       "      <th></th>\n",
       "      <th>P(IPO)</th>\n",
       "      <th>P(H)</th>\n",
       "      <th>P(L)</th>\n",
       "      <th>P(1Day)</th>\n",
       "      <th>C1</th>\n",
       "      <th>C2</th>\n",
       "      <th>C3</th>\n",
       "      <th>C4</th>\n",
       "      <th>C5</th>\n",
       "      <th>C6</th>\n",
       "      <th>C7</th>\n",
       "      <th>T1</th>\n",
       "      <th>T2</th>\n",
       "      <th>T3</th>\n",
       "      <th>T4</th>\n",
       "      <th>T5</th>\n",
       "      <th>S1</th>\n",
       "      <th>S2</th>\n",
       "      <th>S3</th>\n",
       "    </tr>\n",
       "  </thead>\n",
       "  <tbody>\n",
       "    <tr>\n",
       "      <th>count</th>\n",
       "      <td>677.000000</td>\n",
       "      <td>672.000000</td>\n",
       "      <td>672.000000</td>\n",
       "      <td>660.000000</td>\n",
       "      <td>660.000000</td>\n",
       "      <td>660.000000</td>\n",
       "      <td>646.000000</td>\n",
       "      <td>660.000000</td>\n",
       "      <td>6.760000e+02</td>\n",
       "      <td>6.760000e+02</td>\n",
       "      <td>610.000000</td>\n",
       "      <td>681.000000</td>\n",
       "      <td>681.000000</td>\n",
       "      <td>681.000000</td>\n",
       "      <td>681.000000</td>\n",
       "      <td>681.000000</td>\n",
       "      <td>681.000000</td>\n",
       "      <td>681.000000</td>\n",
       "      <td>681.000000</td>\n",
       "    </tr>\n",
       "    <tr>\n",
       "      <th>mean</th>\n",
       "      <td>13.837666</td>\n",
       "      <td>15.481190</td>\n",
       "      <td>13.515045</td>\n",
       "      <td>25.934766</td>\n",
       "      <td>149.728788</td>\n",
       "      <td>0.859091</td>\n",
       "      <td>1.788904</td>\n",
       "      <td>0.007282</td>\n",
       "      <td>4.935776e+07</td>\n",
       "      <td>1.241519e+07</td>\n",
       "      <td>500.459962</td>\n",
       "      <td>465.634361</td>\n",
       "      <td>12758.606461</td>\n",
       "      <td>11395.844347</td>\n",
       "      <td>294.353891</td>\n",
       "      <td>679.220264</td>\n",
       "      <td>68.421439</td>\n",
       "      <td>120.104258</td>\n",
       "      <td>144.759178</td>\n",
       "    </tr>\n",
       "    <tr>\n",
       "      <th>std</th>\n",
       "      <td>6.053731</td>\n",
       "      <td>6.653429</td>\n",
       "      <td>5.835646</td>\n",
       "      <td>73.234948</td>\n",
       "      <td>152.817467</td>\n",
       "      <td>0.348192</td>\n",
       "      <td>162.666532</td>\n",
       "      <td>0.033318</td>\n",
       "      <td>1.043764e+08</td>\n",
       "      <td>2.512855e+07</td>\n",
       "      <td>1648.337634</td>\n",
       "      <td>175.741647</td>\n",
       "      <td>5449.644597</td>\n",
       "      <td>4839.670179</td>\n",
       "      <td>121.532637</td>\n",
       "      <td>472.914323</td>\n",
       "      <td>39.096525</td>\n",
       "      <td>84.828959</td>\n",
       "      <td>69.276285</td>\n",
       "    </tr>\n",
       "    <tr>\n",
       "      <th>min</th>\n",
       "      <td>3.000000</td>\n",
       "      <td>0.000000</td>\n",
       "      <td>3.000000</td>\n",
       "      <td>0.000000</td>\n",
       "      <td>10.000000</td>\n",
       "      <td>0.000000</td>\n",
       "      <td>-786.239000</td>\n",
       "      <td>-0.162352</td>\n",
       "      <td>3.693227e+06</td>\n",
       "      <td>5.250000e+05</td>\n",
       "      <td>0.074000</td>\n",
       "      <td>132.000000</td>\n",
       "      <td>0.000000</td>\n",
       "      <td>0.000000</td>\n",
       "      <td>0.000000</td>\n",
       "      <td>-1.000000</td>\n",
       "      <td>-1.000000</td>\n",
       "      <td>20.000000</td>\n",
       "      <td>26.000000</td>\n",
       "    </tr>\n",
       "    <tr>\n",
       "      <th>25%</th>\n",
       "      <td>10.000000</td>\n",
       "      <td>12.500000</td>\n",
       "      <td>11.000000</td>\n",
       "      <td>11.000000</td>\n",
       "      <td>85.000000</td>\n",
       "      <td>1.000000</td>\n",
       "      <td>-0.852500</td>\n",
       "      <td>-0.013927</td>\n",
       "      <td>1.871417e+07</td>\n",
       "      <td>5.000000e+06</td>\n",
       "      <td>37.245750</td>\n",
       "      <td>351.000000</td>\n",
       "      <td>9195.000000</td>\n",
       "      <td>8162.000000</td>\n",
       "      <td>213.000000</td>\n",
       "      <td>462.000000</td>\n",
       "      <td>45.000000</td>\n",
       "      <td>73.000000</td>\n",
       "      <td>100.000000</td>\n",
       "    </tr>\n",
       "    <tr>\n",
       "      <th>50%</th>\n",
       "      <td>13.500000</td>\n",
       "      <td>15.000000</td>\n",
       "      <td>13.000000</td>\n",
       "      <td>14.845000</td>\n",
       "      <td>107.000000</td>\n",
       "      <td>1.000000</td>\n",
       "      <td>0.010000</td>\n",
       "      <td>0.009125</td>\n",
       "      <td>2.740018e+07</td>\n",
       "      <td>7.398704e+06</td>\n",
       "      <td>103.833000</td>\n",
       "      <td>444.000000</td>\n",
       "      <td>12045.000000</td>\n",
       "      <td>10785.000000</td>\n",
       "      <td>279.000000</td>\n",
       "      <td>624.000000</td>\n",
       "      <td>60.000000</td>\n",
       "      <td>100.000000</td>\n",
       "      <td>134.000000</td>\n",
       "    </tr>\n",
       "    <tr>\n",
       "      <th>75%</th>\n",
       "      <td>17.000000</td>\n",
       "      <td>17.000000</td>\n",
       "      <td>15.000000</td>\n",
       "      <td>20.485000</td>\n",
       "      <td>155.250000</td>\n",
       "      <td>1.000000</td>\n",
       "      <td>0.470000</td>\n",
       "      <td>0.031571</td>\n",
       "      <td>4.980786e+07</td>\n",
       "      <td>1.200000e+07</td>\n",
       "      <td>331.138000</td>\n",
       "      <td>551.000000</td>\n",
       "      <td>15241.000000</td>\n",
       "      <td>13760.000000</td>\n",
       "      <td>354.000000</td>\n",
       "      <td>795.000000</td>\n",
       "      <td>85.000000</td>\n",
       "      <td>142.000000</td>\n",
       "      <td>173.000000</td>\n",
       "    </tr>\n",
       "    <tr>\n",
       "      <th>max</th>\n",
       "      <td>85.000000</td>\n",
       "      <td>135.000000</td>\n",
       "      <td>108.000000</td>\n",
       "      <td>1159.200562</td>\n",
       "      <td>2087.000000</td>\n",
       "      <td>1.000000</td>\n",
       "      <td>3864.500000</td>\n",
       "      <td>0.092896</td>\n",
       "      <td>2.138085e+09</td>\n",
       "      <td>4.212336e+08</td>\n",
       "      <td>30683.000000</td>\n",
       "      <td>1750.000000</td>\n",
       "      <td>49056.000000</td>\n",
       "      <td>43952.000000</td>\n",
       "      <td>1058.000000</td>\n",
       "      <td>10277.000000</td>\n",
       "      <td>309.000000</td>\n",
       "      <td>944.000000</td>\n",
       "      <td>883.000000</td>\n",
       "    </tr>\n",
       "  </tbody>\n",
       "</table>\n",
       "</div>"
      ],
      "text/plain": [
       "           P(IPO)        P(H)        P(L)      P(1Day)           C1  \\\n",
       "count  677.000000  672.000000  672.000000   660.000000   660.000000   \n",
       "mean    13.837666   15.481190   13.515045    25.934766   149.728788   \n",
       "std      6.053731    6.653429    5.835646    73.234948   152.817467   \n",
       "min      3.000000    0.000000    3.000000     0.000000    10.000000   \n",
       "25%     10.000000   12.500000   11.000000    11.000000    85.000000   \n",
       "50%     13.500000   15.000000   13.000000    14.845000   107.000000   \n",
       "75%     17.000000   17.000000   15.000000    20.485000   155.250000   \n",
       "max     85.000000  135.000000  108.000000  1159.200562  2087.000000   \n",
       "\n",
       "               C2           C3          C4            C5            C6  \\\n",
       "count  660.000000   646.000000  660.000000  6.760000e+02  6.760000e+02   \n",
       "mean     0.859091     1.788904    0.007282  4.935776e+07  1.241519e+07   \n",
       "std      0.348192   162.666532    0.033318  1.043764e+08  2.512855e+07   \n",
       "min      0.000000  -786.239000   -0.162352  3.693227e+06  5.250000e+05   \n",
       "25%      1.000000    -0.852500   -0.013927  1.871417e+07  5.000000e+06   \n",
       "50%      1.000000     0.010000    0.009125  2.740018e+07  7.398704e+06   \n",
       "75%      1.000000     0.470000    0.031571  4.980786e+07  1.200000e+07   \n",
       "max      1.000000  3864.500000    0.092896  2.138085e+09  4.212336e+08   \n",
       "\n",
       "                 C7           T1            T2            T3           T4  \\\n",
       "count    610.000000   681.000000    681.000000    681.000000   681.000000   \n",
       "mean     500.459962   465.634361  12758.606461  11395.844347   294.353891   \n",
       "std     1648.337634   175.741647   5449.644597   4839.670179   121.532637   \n",
       "min        0.074000   132.000000      0.000000      0.000000     0.000000   \n",
       "25%       37.245750   351.000000   9195.000000   8162.000000   213.000000   \n",
       "50%      103.833000   444.000000  12045.000000  10785.000000   279.000000   \n",
       "75%      331.138000   551.000000  15241.000000  13760.000000   354.000000   \n",
       "max    30683.000000  1750.000000  49056.000000  43952.000000  1058.000000   \n",
       "\n",
       "                 T5          S1          S2          S3  \n",
       "count    681.000000  681.000000  681.000000  681.000000  \n",
       "mean     679.220264   68.421439  120.104258  144.759178  \n",
       "std      472.914323   39.096525   84.828959   69.276285  \n",
       "min       -1.000000   -1.000000   20.000000   26.000000  \n",
       "25%      462.000000   45.000000   73.000000  100.000000  \n",
       "50%      624.000000   60.000000  100.000000  134.000000  \n",
       "75%      795.000000   85.000000  142.000000  173.000000  \n",
       "max    10277.000000  309.000000  944.000000  883.000000  "
      ]
     },
     "execution_count": 7,
     "metadata": {},
     "output_type": "execute_result"
    }
   ],
   "source": [
    "compdata.describe()"
   ]
  },
  {
   "cell_type": "code",
   "execution_count": 8,
   "metadata": {},
   "outputs": [
    {
     "name": "stdout",
     "output_type": "stream",
     "text": [
      "<class 'pandas.core.frame.DataFrame'>\n",
      "RangeIndex: 682 entries, 0 to 681\n",
      "Data columns (total 22 columns):\n",
      "I1         682 non-null object\n",
      "I2         682 non-null object\n",
      "I3         674 non-null object\n",
      "P(IPO)     677 non-null float64\n",
      "P(H)       672 non-null float64\n",
      "P(L)       672 non-null float64\n",
      "P(1Day)    660 non-null float64\n",
      "C1         660 non-null float64\n",
      "C2         660 non-null float64\n",
      "C3         646 non-null float64\n",
      "C4         660 non-null float64\n",
      "C5         676 non-null float64\n",
      "C6         676 non-null float64\n",
      "C7         610 non-null float64\n",
      "T1         681 non-null float64\n",
      "T2         681 non-null float64\n",
      "T3         681 non-null float64\n",
      "T4         681 non-null float64\n",
      "T5         681 non-null float64\n",
      "S1         681 non-null float64\n",
      "S2         681 non-null float64\n",
      "S3         681 non-null float64\n",
      "dtypes: float64(19), object(3)\n",
      "memory usage: 117.3+ KB\n"
     ]
    }
   ],
   "source": [
    "compdata.info()"
   ]
  },
  {
   "cell_type": "code",
   "execution_count": 9,
   "metadata": {},
   "outputs": [
    {
     "data": {
      "text/plain": [
       "I1         False\n",
       "I2         False\n",
       "I3          True\n",
       "P(IPO)      True\n",
       "P(H)        True\n",
       "P(L)        True\n",
       "P(1Day)     True\n",
       "C1          True\n",
       "C2          True\n",
       "C3          True\n",
       "C4          True\n",
       "C5          True\n",
       "C6          True\n",
       "C7          True\n",
       "T1          True\n",
       "T2          True\n",
       "T3          True\n",
       "T4          True\n",
       "T5          True\n",
       "S1          True\n",
       "S2          True\n",
       "S3          True\n",
       "dtype: bool"
      ]
     },
     "execution_count": 9,
     "metadata": {},
     "output_type": "execute_result"
    }
   ],
   "source": [
    "compdata.isna().any()"
   ]
  },
  {
   "cell_type": "code",
   "execution_count": 10,
   "metadata": {},
   "outputs": [
    {
     "data": {
      "text/plain": [
       "I1          0\n",
       "I2          0\n",
       "I3          8\n",
       "P(IPO)      5\n",
       "P(H)       10\n",
       "P(L)       10\n",
       "P(1Day)    22\n",
       "C1         22\n",
       "C2         22\n",
       "C3         36\n",
       "C4         22\n",
       "C5          6\n",
       "C6          6\n",
       "C7         72\n",
       "T1          1\n",
       "T2          1\n",
       "T3          1\n",
       "T4          1\n",
       "T5          1\n",
       "S1          1\n",
       "S2          1\n",
       "S3          1\n",
       "dtype: int64"
      ]
     },
     "execution_count": 10,
     "metadata": {},
     "output_type": "execute_result"
    }
   ],
   "source": [
    "compdata.isna().sum()"
   ]
  },
  {
   "cell_type": "code",
   "execution_count": 11,
   "metadata": {},
   "outputs": [
    {
     "data": {
      "text/plain": [
       "(682, 22)"
      ]
     },
     "execution_count": 11,
     "metadata": {},
     "output_type": "execute_result"
    }
   ],
   "source": [
    "compdata.shape"
   ]
  },
  {
   "cell_type": "code",
   "execution_count": 12,
   "metadata": {},
   "outputs": [
    {
     "data": {
      "text/plain": [
       "P(IPO)     1.350000e+01\n",
       "P(H)       1.500000e+01\n",
       "P(L)       1.300000e+01\n",
       "P(1Day)    1.484500e+01\n",
       "C1         1.070000e+02\n",
       "C2         1.000000e+00\n",
       "C3         1.000000e-02\n",
       "C4         9.124591e-03\n",
       "C5         2.740018e+07\n",
       "C6         7.398704e+06\n",
       "C7         1.038330e+02\n",
       "T1         4.440000e+02\n",
       "T2         1.204500e+04\n",
       "T3         1.078500e+04\n",
       "T4         2.790000e+02\n",
       "T5         6.240000e+02\n",
       "S1         6.000000e+01\n",
       "S2         1.000000e+02\n",
       "S3         1.340000e+02\n",
       "dtype: float64"
      ]
     },
     "execution_count": 12,
     "metadata": {},
     "output_type": "execute_result"
    }
   ],
   "source": [
    "compdata.median()"
   ]
  },
  {
   "cell_type": "markdown",
   "metadata": {},
   "source": [
    "# Imputation\n",
    "\n",
    "## C2\n",
    "- Since C2 is a binary value, we will fill the missing data with the mode\n",
    "- doesn't look like this is working... see line 10"
   ]
  },
  {
   "cell_type": "code",
   "execution_count": 13,
   "metadata": {},
   "outputs": [
    {
     "data": {
      "text/html": [
       "<div>\n",
       "<style scoped>\n",
       "    .dataframe tbody tr th:only-of-type {\n",
       "        vertical-align: middle;\n",
       "    }\n",
       "\n",
       "    .dataframe tbody tr th {\n",
       "        vertical-align: top;\n",
       "    }\n",
       "\n",
       "    .dataframe thead th {\n",
       "        text-align: right;\n",
       "    }\n",
       "</style>\n",
       "<table border=\"1\" class=\"dataframe\">\n",
       "  <thead>\n",
       "    <tr style=\"text-align: right;\">\n",
       "      <th></th>\n",
       "      <th>I1</th>\n",
       "      <th>I2</th>\n",
       "      <th>I3</th>\n",
       "      <th>C2</th>\n",
       "      <th>Imputed_C2</th>\n",
       "    </tr>\n",
       "  </thead>\n",
       "  <tbody>\n",
       "    <tr>\n",
       "      <th>0</th>\n",
       "      <td>AATI</td>\n",
       "      <td>ADVANCED ANALOGIC TECHNOLOGIES INC</td>\n",
       "      <td>3674</td>\n",
       "      <td>1.0</td>\n",
       "      <td>1.0</td>\n",
       "    </tr>\n",
       "    <tr>\n",
       "      <th>1</th>\n",
       "      <td>ABPI</td>\n",
       "      <td>ACCENTIA BIOPHARMACEUTICALS INC</td>\n",
       "      <td>2834</td>\n",
       "      <td>0.0</td>\n",
       "      <td>0.0</td>\n",
       "    </tr>\n",
       "    <tr>\n",
       "      <th>2</th>\n",
       "      <td>ACAD</td>\n",
       "      <td>ACADIA PHARMACEUTICALS INC</td>\n",
       "      <td>2834</td>\n",
       "      <td>1.0</td>\n",
       "      <td>1.0</td>\n",
       "    </tr>\n",
       "    <tr>\n",
       "      <th>3</th>\n",
       "      <td>ACHN</td>\n",
       "      <td>ACHILLION PHARMACEUTICALS INC</td>\n",
       "      <td>2834</td>\n",
       "      <td>1.0</td>\n",
       "      <td>1.0</td>\n",
       "    </tr>\n",
       "    <tr>\n",
       "      <th>4</th>\n",
       "      <td>ACLI</td>\n",
       "      <td>AMERICAN COMMERCIAL LINES INC.</td>\n",
       "      <td>4492</td>\n",
       "      <td>1.0</td>\n",
       "      <td>1.0</td>\n",
       "    </tr>\n",
       "    <tr>\n",
       "      <th>5</th>\n",
       "      <td>ACOM</td>\n",
       "      <td>Ancestry.com Inc.</td>\n",
       "      <td>7379</td>\n",
       "      <td>1.0</td>\n",
       "      <td>1.0</td>\n",
       "    </tr>\n",
       "    <tr>\n",
       "      <th>6</th>\n",
       "      <td>ACOR</td>\n",
       "      <td>ACORDA THERAPEUTICS INC</td>\n",
       "      <td>2836</td>\n",
       "      <td>1.0</td>\n",
       "      <td>1.0</td>\n",
       "    </tr>\n",
       "    <tr>\n",
       "      <th>7</th>\n",
       "      <td>ACRX</td>\n",
       "      <td>ACELRX PHARMACEUTICALS INC</td>\n",
       "      <td>2834</td>\n",
       "      <td>0.0</td>\n",
       "      <td>0.0</td>\n",
       "    </tr>\n",
       "    <tr>\n",
       "      <th>8</th>\n",
       "      <td>ACTV</td>\n",
       "      <td>ACTIVE NETWORK INC</td>\n",
       "      <td>7372</td>\n",
       "      <td>1.0</td>\n",
       "      <td>1.0</td>\n",
       "    </tr>\n",
       "    <tr>\n",
       "      <th>9</th>\n",
       "      <td>ACW</td>\n",
       "      <td>ACCURIDE CORP</td>\n",
       "      <td>3714</td>\n",
       "      <td>1.0</td>\n",
       "      <td>1.0</td>\n",
       "    </tr>\n",
       "    <tr>\n",
       "      <th>10</th>\n",
       "      <td>ADKU</td>\n",
       "      <td>ADCARE HEALTH SYSTEMS, INC</td>\n",
       "      <td>NaN</td>\n",
       "      <td>NaN</td>\n",
       "      <td>NaN</td>\n",
       "    </tr>\n",
       "    <tr>\n",
       "      <th>11</th>\n",
       "      <td>ADLS</td>\n",
       "      <td>Advanced Life Sciences Holdings, Inc.</td>\n",
       "      <td>2854</td>\n",
       "      <td>1.0</td>\n",
       "      <td>1.0</td>\n",
       "    </tr>\n",
       "    <tr>\n",
       "      <th>12</th>\n",
       "      <td>ADZA</td>\n",
       "      <td>ADEZA BIOMEDICAL CORP</td>\n",
       "      <td>2835</td>\n",
       "      <td>1.0</td>\n",
       "      <td>1.0</td>\n",
       "    </tr>\n",
       "    <tr>\n",
       "      <th>13</th>\n",
       "      <td>AFFY</td>\n",
       "      <td>AFFYMAX INC</td>\n",
       "      <td>2834</td>\n",
       "      <td>1.0</td>\n",
       "      <td>1.0</td>\n",
       "    </tr>\n",
       "    <tr>\n",
       "      <th>14</th>\n",
       "      <td>AGAM</td>\n",
       "      <td>AGA Medical Holdings, Inc.</td>\n",
       "      <td>3845</td>\n",
       "      <td>1.0</td>\n",
       "      <td>1.0</td>\n",
       "    </tr>\n",
       "    <tr>\n",
       "      <th>15</th>\n",
       "      <td>AH</td>\n",
       "      <td>R1 RCM INC.</td>\n",
       "      <td>7389</td>\n",
       "      <td>1.0</td>\n",
       "      <td>1.0</td>\n",
       "    </tr>\n",
       "    <tr>\n",
       "      <th>16</th>\n",
       "      <td>AHII</td>\n",
       "      <td>ANIMAL HEALTH HOLDINGS, INC.</td>\n",
       "      <td>5047</td>\n",
       "      <td>1.0</td>\n",
       "      <td>1.0</td>\n",
       "    </tr>\n",
       "    <tr>\n",
       "      <th>17</th>\n",
       "      <td>AIMC</td>\n",
       "      <td>Altra Industrial Motion Corp.</td>\n",
       "      <td>3568</td>\n",
       "      <td>1.0</td>\n",
       "      <td>1.0</td>\n",
       "    </tr>\n",
       "    <tr>\n",
       "      <th>18</th>\n",
       "      <td>AIRV</td>\n",
       "      <td>AIRVANA INC</td>\n",
       "      <td>3661</td>\n",
       "      <td>1.0</td>\n",
       "      <td>1.0</td>\n",
       "    </tr>\n",
       "    <tr>\n",
       "      <th>19</th>\n",
       "      <td>ALGT</td>\n",
       "      <td>Allegiant Travel CO</td>\n",
       "      <td>4512</td>\n",
       "      <td>1.0</td>\n",
       "      <td>1.0</td>\n",
       "    </tr>\n",
       "    <tr>\n",
       "      <th>20</th>\n",
       "      <td>ALIM</td>\n",
       "      <td>ALIMERA SCIENCES INC</td>\n",
       "      <td>2834</td>\n",
       "      <td>1.0</td>\n",
       "      <td>1.0</td>\n",
       "    </tr>\n",
       "    <tr>\n",
       "      <th>21</th>\n",
       "      <td>ALJ</td>\n",
       "      <td>Alon USA Energy, Inc.</td>\n",
       "      <td>2911</td>\n",
       "      <td>1.0</td>\n",
       "      <td>1.0</td>\n",
       "    </tr>\n",
       "    <tr>\n",
       "      <th>22</th>\n",
       "      <td>ALLI</td>\n",
       "      <td>ALLION HEALTHCARE INC</td>\n",
       "      <td>8099</td>\n",
       "      <td>1.0</td>\n",
       "      <td>1.0</td>\n",
       "    </tr>\n",
       "    <tr>\n",
       "      <th>23</th>\n",
       "      <td>ALNY</td>\n",
       "      <td>ALNYLAM PHARMACEUTICALS, INC.</td>\n",
       "      <td>2834</td>\n",
       "      <td>1.0</td>\n",
       "      <td>1.0</td>\n",
       "    </tr>\n",
       "    <tr>\n",
       "      <th>24</th>\n",
       "      <td>ALTU</td>\n",
       "      <td>Altus Pharmaceuticals Inc.</td>\n",
       "      <td>2836</td>\n",
       "      <td>1.0</td>\n",
       "      <td>1.0</td>\n",
       "    </tr>\n",
       "    <tr>\n",
       "      <th>25</th>\n",
       "      <td>ALXA</td>\n",
       "      <td>Alexza Pharmaceuticals Inc.</td>\n",
       "      <td>2834</td>\n",
       "      <td>1.0</td>\n",
       "      <td>1.0</td>\n",
       "    </tr>\n",
       "    <tr>\n",
       "      <th>26</th>\n",
       "      <td>AMBA</td>\n",
       "      <td>AMBARELLA INC</td>\n",
       "      <td>3674</td>\n",
       "      <td>1.0</td>\n",
       "      <td>1.0</td>\n",
       "    </tr>\n",
       "    <tr>\n",
       "      <th>27</th>\n",
       "      <td>AMIS</td>\n",
       "      <td>AMIS HOLDINGS INC</td>\n",
       "      <td>3674</td>\n",
       "      <td>1.0</td>\n",
       "      <td>1.0</td>\n",
       "    </tr>\n",
       "    <tr>\n",
       "      <th>28</th>\n",
       "      <td>AMRC</td>\n",
       "      <td>Ameresco, Inc.</td>\n",
       "      <td>4931</td>\n",
       "      <td>1.0</td>\n",
       "      <td>1.0</td>\n",
       "    </tr>\n",
       "    <tr>\n",
       "      <th>29</th>\n",
       "      <td>ANAC</td>\n",
       "      <td>Anacor Pharmaceuticals, Inc.</td>\n",
       "      <td>2834</td>\n",
       "      <td>1.0</td>\n",
       "      <td>1.0</td>\n",
       "    </tr>\n",
       "    <tr>\n",
       "      <th>30</th>\n",
       "      <td>ANFI</td>\n",
       "      <td>Amira Nature Foods Ltd.</td>\n",
       "      <td>2000</td>\n",
       "      <td>1.0</td>\n",
       "      <td>1.0</td>\n",
       "    </tr>\n",
       "    <tr>\n",
       "      <th>31</th>\n",
       "      <td>ANGI</td>\n",
       "      <td>Angie's List, Inc.</td>\n",
       "      <td>7379</td>\n",
       "      <td>1.0</td>\n",
       "      <td>1.0</td>\n",
       "    </tr>\n",
       "    <tr>\n",
       "      <th>32</th>\n",
       "      <td>ANGO</td>\n",
       "      <td>ANGIODYNAMICS INC</td>\n",
       "      <td>3841</td>\n",
       "      <td>0.0</td>\n",
       "      <td>0.0</td>\n",
       "    </tr>\n",
       "    <tr>\n",
       "      <th>33</th>\n",
       "      <td>AONE</td>\n",
       "      <td>B456 SYSTEMS, INC.</td>\n",
       "      <td>3690</td>\n",
       "      <td>1.0</td>\n",
       "      <td>1.0</td>\n",
       "    </tr>\n",
       "    <tr>\n",
       "      <th>34</th>\n",
       "      <td>AOSL</td>\n",
       "      <td>ALPHA &amp; OMEGA SEMICONDUCTOR Ltd</td>\n",
       "      <td>3674</td>\n",
       "      <td>1.0</td>\n",
       "      <td>1.0</td>\n",
       "    </tr>\n",
       "    <tr>\n",
       "      <th>35</th>\n",
       "      <td>APEI</td>\n",
       "      <td>AMERICAN PUBLIC EDUCATION INC</td>\n",
       "      <td>8221</td>\n",
       "      <td>1.0</td>\n",
       "      <td>1.0</td>\n",
       "    </tr>\n",
       "    <tr>\n",
       "      <th>36</th>\n",
       "      <td>APKT</td>\n",
       "      <td>ACME PACKET INC</td>\n",
       "      <td>3576</td>\n",
       "      <td>1.0</td>\n",
       "      <td>1.0</td>\n",
       "    </tr>\n",
       "    <tr>\n",
       "      <th>37</th>\n",
       "      <td>ARAY</td>\n",
       "      <td>ACCURAY INC CIK</td>\n",
       "      <td>3841</td>\n",
       "      <td>1.0</td>\n",
       "      <td>1.0</td>\n",
       "    </tr>\n",
       "    <tr>\n",
       "      <th>38</th>\n",
       "      <td>ARBX</td>\n",
       "      <td>ARBINET Corp</td>\n",
       "      <td>7389</td>\n",
       "      <td>1.0</td>\n",
       "      <td>1.0</td>\n",
       "    </tr>\n",
       "    <tr>\n",
       "      <th>39</th>\n",
       "      <td>ARCL</td>\n",
       "      <td>Archipelago Learning, Inc.</td>\n",
       "      <td>8200</td>\n",
       "      <td>1.0</td>\n",
       "      <td>1.0</td>\n",
       "    </tr>\n",
       "    <tr>\n",
       "      <th>40</th>\n",
       "      <td>ARCO</td>\n",
       "      <td>Arcos Dorados Holdings Inc.</td>\n",
       "      <td>5812</td>\n",
       "      <td>1.0</td>\n",
       "      <td>1.0</td>\n",
       "    </tr>\n",
       "    <tr>\n",
       "      <th>41</th>\n",
       "      <td>AREX</td>\n",
       "      <td>Approach Resources Inc</td>\n",
       "      <td>1311</td>\n",
       "      <td>1.0</td>\n",
       "      <td>1.0</td>\n",
       "    </tr>\n",
       "    <tr>\n",
       "      <th>42</th>\n",
       "      <td>ARII</td>\n",
       "      <td>American Railcar Industries, Inc.</td>\n",
       "      <td>3743</td>\n",
       "      <td>1.0</td>\n",
       "      <td>1.0</td>\n",
       "    </tr>\n",
       "    <tr>\n",
       "      <th>43</th>\n",
       "      <td>ARP</td>\n",
       "      <td>ARC DOCUMENT SOLUTIONS, INC.</td>\n",
       "      <td>7334</td>\n",
       "      <td>1.0</td>\n",
       "      <td>1.0</td>\n",
       "    </tr>\n",
       "    <tr>\n",
       "      <th>44</th>\n",
       "      <td>ARST</td>\n",
       "      <td>ArcSight Inc</td>\n",
       "      <td>7372</td>\n",
       "      <td>1.0</td>\n",
       "      <td>1.0</td>\n",
       "    </tr>\n",
       "    <tr>\n",
       "      <th>45</th>\n",
       "      <td>ARTE</td>\n",
       "      <td>ARTES MEDICAL INC</td>\n",
       "      <td>2834</td>\n",
       "      <td>1.0</td>\n",
       "      <td>1.0</td>\n",
       "    </tr>\n",
       "    <tr>\n",
       "      <th>46</th>\n",
       "      <td>ARUN</td>\n",
       "      <td>ARUBA NETWORKS, INC.</td>\n",
       "      <td>3577</td>\n",
       "      <td>1.0</td>\n",
       "      <td>1.0</td>\n",
       "    </tr>\n",
       "    <tr>\n",
       "      <th>47</th>\n",
       "      <td>ASPV</td>\n",
       "      <td>Aspreva Pharmaceuticals CORP</td>\n",
       "      <td>2834</td>\n",
       "      <td>1.0</td>\n",
       "      <td>1.0</td>\n",
       "    </tr>\n",
       "    <tr>\n",
       "      <th>48</th>\n",
       "      <td>ATEC</td>\n",
       "      <td>Alphatec Holdings, Inc.</td>\n",
       "      <td>3841</td>\n",
       "      <td>1.0</td>\n",
       "      <td>1.0</td>\n",
       "    </tr>\n",
       "    <tr>\n",
       "      <th>49</th>\n",
       "      <td>ATHN</td>\n",
       "      <td>ATHENAHEALTH INC</td>\n",
       "      <td>7389</td>\n",
       "      <td>1.0</td>\n",
       "      <td>1.0</td>\n",
       "    </tr>\n",
       "  </tbody>\n",
       "</table>\n",
       "</div>"
      ],
      "text/plain": [
       "      I1                                     I2    I3   C2  Imputed_C2\n",
       "0   AATI     ADVANCED ANALOGIC TECHNOLOGIES INC  3674  1.0         1.0\n",
       "1   ABPI        ACCENTIA BIOPHARMACEUTICALS INC  2834  0.0         0.0\n",
       "2   ACAD             ACADIA PHARMACEUTICALS INC  2834  1.0         1.0\n",
       "3   ACHN          ACHILLION PHARMACEUTICALS INC  2834  1.0         1.0\n",
       "4   ACLI        AMERICAN COMMERCIAL LINES INC.   4492  1.0         1.0\n",
       "5   ACOM                     Ancestry.com Inc.   7379  1.0         1.0\n",
       "6   ACOR                ACORDA THERAPEUTICS INC  2836  1.0         1.0\n",
       "7   ACRX             ACELRX PHARMACEUTICALS INC  2834  0.0         0.0\n",
       "8   ACTV                     ACTIVE NETWORK INC  7372  1.0         1.0\n",
       "9    ACW                          ACCURIDE CORP  3714  1.0         1.0\n",
       "10  ADKU             ADCARE HEALTH SYSTEMS, INC   NaN  NaN         NaN\n",
       "11  ADLS  Advanced Life Sciences Holdings, Inc.  2854  1.0         1.0\n",
       "12  ADZA                  ADEZA BIOMEDICAL CORP  2835  1.0         1.0\n",
       "13  AFFY                            AFFYMAX INC  2834  1.0         1.0\n",
       "14  AGAM            AGA Medical Holdings, Inc.   3845  1.0         1.0\n",
       "15    AH                           R1 RCM INC.   7389  1.0         1.0\n",
       "16  AHII           ANIMAL HEALTH HOLDINGS, INC.  5047  1.0         1.0\n",
       "17  AIMC         Altra Industrial Motion Corp.   3568  1.0         1.0\n",
       "18  AIRV                            AIRVANA INC  3661  1.0         1.0\n",
       "19  ALGT                   Allegiant Travel CO   4512  1.0         1.0\n",
       "20  ALIM                  ALIMERA SCIENCES INC   2834  1.0         1.0\n",
       "21   ALJ                 Alon USA Energy, Inc.   2911  1.0         1.0\n",
       "22  ALLI                  ALLION HEALTHCARE INC  8099  1.0         1.0\n",
       "23  ALNY          ALNYLAM PHARMACEUTICALS, INC.  2834  1.0         1.0\n",
       "24  ALTU            Altus Pharmaceuticals Inc.   2836  1.0         1.0\n",
       "25  ALXA           Alexza Pharmaceuticals Inc.   2834  1.0         1.0\n",
       "26  AMBA                         AMBARELLA INC   3674  1.0         1.0\n",
       "27  AMIS                      AMIS HOLDINGS INC  3674  1.0         1.0\n",
       "28  AMRC                         Ameresco, Inc.  4931  1.0         1.0\n",
       "29  ANAC           Anacor Pharmaceuticals, Inc.  2834  1.0         1.0\n",
       "30  ANFI               Amira Nature Foods Ltd.   2000  1.0         1.0\n",
       "31  ANGI                    Angie's List, Inc.   7379  1.0         1.0\n",
       "32  ANGO                      ANGIODYNAMICS INC  3841  0.0         0.0\n",
       "33  AONE                    B456 SYSTEMS, INC.   3690  1.0         1.0\n",
       "34  AOSL        ALPHA & OMEGA SEMICONDUCTOR Ltd  3674  1.0         1.0\n",
       "35  APEI          AMERICAN PUBLIC EDUCATION INC  8221  1.0         1.0\n",
       "36  APKT                        ACME PACKET INC  3576  1.0         1.0\n",
       "37  ARAY                        ACCURAY INC CIK  3841  1.0         1.0\n",
       "38  ARBX                           ARBINET Corp  7389  1.0         1.0\n",
       "39  ARCL             Archipelago Learning, Inc.  8200  1.0         1.0\n",
       "40  ARCO           Arcos Dorados Holdings Inc.   5812  1.0         1.0\n",
       "41  AREX                 Approach Resources Inc  1311  1.0         1.0\n",
       "42  ARII     American Railcar Industries, Inc.   3743  1.0         1.0\n",
       "43   ARP           ARC DOCUMENT SOLUTIONS, INC.  7334  1.0         1.0\n",
       "44  ARST                          ArcSight Inc   7372  1.0         1.0\n",
       "45  ARTE                      ARTES MEDICAL INC  2834  1.0         1.0\n",
       "46  ARUN                   ARUBA NETWORKS, INC.  3577  1.0         1.0\n",
       "47  ASPV           Aspreva Pharmaceuticals CORP  2834  1.0         1.0\n",
       "48  ATEC               Alphatec Holdings, Inc.   3841  1.0         1.0\n",
       "49  ATHN                       ATHENAHEALTH INC  7389  1.0         1.0"
      ]
     },
     "execution_count": 13,
     "metadata": {},
     "output_type": "execute_result"
    }
   ],
   "source": [
    "\n",
    "\n",
    "compdata_cat['Imputed_C2'] = compdata_cat['C2'].fillna(compdata_cat.C2.mode())\n",
    "compdata_cat.head(50)"
   ]
  },
  {
   "cell_type": "markdown",
   "metadata": {},
   "source": [
    "## I3\n",
    "- this is an industry classifier.  Since there are only 8 missing values, we can find this information online."
   ]
  },
  {
   "cell_type": "code",
   "execution_count": 18,
   "metadata": {},
   "outputs": [
    {
     "data": {
      "text/html": [
       "<div>\n",
       "<style scoped>\n",
       "    .dataframe tbody tr th:only-of-type {\n",
       "        vertical-align: middle;\n",
       "    }\n",
       "\n",
       "    .dataframe tbody tr th {\n",
       "        vertical-align: top;\n",
       "    }\n",
       "\n",
       "    .dataframe thead th {\n",
       "        text-align: right;\n",
       "    }\n",
       "</style>\n",
       "<table border=\"1\" class=\"dataframe\">\n",
       "  <thead>\n",
       "    <tr style=\"text-align: right;\">\n",
       "      <th></th>\n",
       "      <th>I1</th>\n",
       "      <th>I2</th>\n",
       "      <th>I3</th>\n",
       "      <th>C2</th>\n",
       "      <th>Imputed_C2</th>\n",
       "    </tr>\n",
       "  </thead>\n",
       "  <tbody>\n",
       "    <tr>\n",
       "      <th>10</th>\n",
       "      <td>ADKU</td>\n",
       "      <td>ADCARE HEALTH SYSTEMS, INC</td>\n",
       "      <td>NaN</td>\n",
       "      <td>NaN</td>\n",
       "      <td>NaN</td>\n",
       "    </tr>\n",
       "    <tr>\n",
       "      <th>86</th>\n",
       "      <td>BLT</td>\n",
       "      <td>BLOUNT INTERNATIONAL INC</td>\n",
       "      <td>NaN</td>\n",
       "      <td>NaN</td>\n",
       "      <td>NaN</td>\n",
       "    </tr>\n",
       "    <tr>\n",
       "      <th>268</th>\n",
       "      <td>GSL</td>\n",
       "      <td>GLOBAL SIGNAL INC</td>\n",
       "      <td>NaN</td>\n",
       "      <td>NaN</td>\n",
       "      <td>NaN</td>\n",
       "    </tr>\n",
       "    <tr>\n",
       "      <th>330</th>\n",
       "      <td>KFI</td>\n",
       "      <td>KKR Financial Holdings LLC</td>\n",
       "      <td>NaN</td>\n",
       "      <td>NaN</td>\n",
       "      <td>NaN</td>\n",
       "    </tr>\n",
       "    <tr>\n",
       "      <th>400</th>\n",
       "      <td>NAUH</td>\n",
       "      <td>National American University Holdings, Inc.</td>\n",
       "      <td>NaN</td>\n",
       "      <td>NaN</td>\n",
       "      <td>NaN</td>\n",
       "    </tr>\n",
       "    <tr>\n",
       "      <th>490</th>\n",
       "      <td>RCH</td>\n",
       "      <td>CHINA CGAME, INC.</td>\n",
       "      <td>NaN</td>\n",
       "      <td>NaN</td>\n",
       "      <td>NaN</td>\n",
       "    </tr>\n",
       "    <tr>\n",
       "      <th>597</th>\n",
       "      <td>TRMM</td>\n",
       "      <td>Access to Money, Inc.</td>\n",
       "      <td>NaN</td>\n",
       "      <td>NaN</td>\n",
       "      <td>NaN</td>\n",
       "    </tr>\n",
       "    <tr>\n",
       "      <th>614</th>\n",
       "      <td>TZOO</td>\n",
       "      <td>TRAVELZOO INC</td>\n",
       "      <td>NaN</td>\n",
       "      <td>NaN</td>\n",
       "      <td>NaN</td>\n",
       "    </tr>\n",
       "  </tbody>\n",
       "</table>\n",
       "</div>"
      ],
      "text/plain": [
       "       I1                                           I2   I3  C2  Imputed_C2\n",
       "10   ADKU                   ADCARE HEALTH SYSTEMS, INC  NaN NaN         NaN\n",
       "86    BLT                     BLOUNT INTERNATIONAL INC  NaN NaN         NaN\n",
       "268   GSL                            GLOBAL SIGNAL INC  NaN NaN         NaN\n",
       "330   KFI                   KKR Financial Holdings LLC  NaN NaN         NaN\n",
       "400  NAUH  National American University Holdings, Inc.  NaN NaN         NaN\n",
       "490   RCH                            CHINA CGAME, INC.  NaN NaN         NaN\n",
       "597  TRMM                       Access to Money, Inc.   NaN NaN         NaN\n",
       "614  TZOO                                TRAVELZOO INC  NaN NaN         NaN"
      ]
     },
     "execution_count": 18,
     "metadata": {},
     "output_type": "execute_result"
    }
   ],
   "source": [
    "compdata_cat.loc[compdata_cat['I3'].isnull()]"
   ]
  },
  {
   "cell_type": "markdown",
   "metadata": {},
   "source": [
    "- missing companies: ADKU, BLT, GSL, KFI, NAUH, RCH, TRMM, TZOO"
   ]
  },
  {
   "cell_type": "markdown",
   "metadata": {},
   "source": [
    "# P(1Day)\n",
    "- there are 22 missing values for this one.  Since the first day trading price is a factual value, it does not make sense to fill this in using imputation methods.  Only option is to drop the missing values."
   ]
  },
  {
   "cell_type": "code",
   "execution_count": 23,
   "metadata": {},
   "outputs": [
    {
     "data": {
      "text/plain": [
       "(660, 18)"
      ]
     },
     "execution_count": 23,
     "metadata": {},
     "output_type": "execute_result"
    }
   ],
   "source": []
  },
  {
   "cell_type": "markdown",
   "metadata": {},
   "source": [
    "# Outliers:"
   ]
  },
  {
   "cell_type": "code",
   "execution_count": 15,
   "metadata": {},
   "outputs": [],
   "source": [
    "# Determine if there are any outliers in the data that will alter the results\n",
    "# Use box plots for all the variables to visualize the outliers "
   ]
  },
  {
   "cell_type": "code",
   "execution_count": 16,
   "metadata": {},
   "outputs": [
    {
     "data": {
      "image/png": "[encoded data removed]",
      "text/plain": [
       "<Figure size 432x288 with 1 Axes>"
      ]
     },
     "metadata": {
      "needs_background": "light"
     },
     "output_type": "display_data"
    }
   ],
   "source": [
    "compdata.boxplot(column=['P(IPO)','P(H)','P(L)','P(1Day)'], vert=False)\n",
    "plt.title('IPO Pricing Box Plot')\n",
    "plt.show()"
   ]
  },
  {
   "cell_type": "code",
   "execution_count": 17,
   "metadata": {},
   "outputs": [
    {
     "data": {
      "image/png": "[encoded data removed]",
      "text/plain": [
       "<Figure size 432x288 with 1 Axes>"
      ]
     },
     "metadata": {
      "needs_background": "light"
     },
     "output_type": "display_data"
    }
   ],
   "source": [
    "# Take P(1Day) out to create more even results\n",
    "\n",
    "compdata.boxplot(column=['P(IPO)','P(H)','P(L)'], vert=False)\n",
    "plt.title('Offer Price & Higher Bound & Lower Bound Pricing Box Plot')\n",
    "plt.show()"
   ]
  },
  {
   "cell_type": "code",
   "execution_count": 18,
   "metadata": {},
   "outputs": [
    {
     "data": {
      "image/png": "[encoded data removed]",
      "text/plain": [
       "<Figure size 432x288 with 1 Axes>"
      ]
     },
     "metadata": {
      "needs_background": "light"
     },
     "output_type": "display_data"
    }
   ],
   "source": [
    "compdata.boxplot(column='P(1Day)', vert=False)\n",
    "plt.title('First Day Trading Price Box Plot')\n",
    "plt.show()"
   ]
  },
  {
   "cell_type": "markdown",
   "metadata": {},
   "source": [
    "As we see above, the P(1Day) is positively skewed, so we should be looking to fill the missing values with:\n",
    "- Square root\n",
    "- Cube root\n",
    "- log\n",
    "\n",
    "\n",
    "\n",
    "ref: https://medium.com/@TheDataGyan/day-8-data-transformation-skewness-normalization-and-much-more-4c144d370e55"
   ]
  },
  {
   "cell_type": "code",
   "execution_count": 19,
   "metadata": {},
   "outputs": [
    {
     "data": {
      "image/png": "[encoded data removed]",
      "text/plain": [
       "<Figure size 432x288 with 1 Axes>"
      ]
     },
     "metadata": {
      "needs_background": "light"
     },
     "output_type": "display_data"
    }
   ],
   "source": [
    "compdata.boxplot(column=['C1','C3','C4','C5','C6','C7'],vert=False)\n",
    "plt.title('IPO Characteristics Box Plot')\n",
    "plt.show()"
   ]
  },
  {
   "cell_type": "code",
   "execution_count": 20,
   "metadata": {},
   "outputs": [
    {
     "data": {
      "image/png": "[encoded data removed]",
      "text/plain": [
       "<Figure size 432x288 with 1 Axes>"
      ]
     },
     "metadata": {
      "needs_background": "light"
     },
     "output_type": "display_data"
    }
   ],
   "source": [
    "# Seperate the variables into that fit better with one another into their own box plot\n",
    "    # Help visualization\n",
    "\n",
    "compdata.boxplot(column=['C1','C3'],vert=False)\n",
    "plt.title('Days & EPS Box Plot')\n",
    "plt.show()"
   ]
  },
  {
   "cell_type": "code",
   "execution_count": 21,
   "metadata": {},
   "outputs": [
    {
     "data": {
      "image/png": "[encoded data removed]",
      "text/plain": [
       "<Figure size 432x288 with 1 Axes>"
      ]
     },
     "metadata": {
      "needs_background": "light"
     },
     "output_type": "display_data"
    }
   ],
   "source": [
    "compdata.boxplot(column=['C5','C6'],vert=False)\n",
    "plt.title('Outstanding Shares & Offering Shares Box Plot')\n",
    "plt.show()"
   ]
  },
  {
   "cell_type": "code",
   "execution_count": 22,
   "metadata": {},
   "outputs": [
    {
     "data": {
      "image/png": "[encoded data removed]",
      "text/plain": [
       "<Figure size 432x288 with 1 Axes>"
      ]
     },
     "metadata": {
      "needs_background": "light"
     },
     "output_type": "display_data"
    }
   ],
   "source": [
    "compdata.boxplot(column='C4',vert=False)\n",
    "plt.title('Prior Nasdaq 15-Day Returns Box Plot')\n",
    "plt.show()"
   ]
  },
  {
   "cell_type": "code",
   "execution_count": 23,
   "metadata": {},
   "outputs": [
    {
     "data": {
      "image/png": "[encoded data removed]",
      "text/plain": [
       "<Figure size 432x288 with 1 Axes>"
      ]
     },
     "metadata": {
      "needs_background": "light"
     },
     "output_type": "display_data"
    }
   ],
   "source": [
    "compdata.boxplot(column='C7',vert=False)\n",
    "plt.title('Sales Box Plot')\n",
    "plt.show()"
   ]
  },
  {
   "cell_type": "code",
   "execution_count": 24,
   "metadata": {},
   "outputs": [
    {
     "data": {
      "image/png": "[encoded data removed]",
      "text/plain": [
       "<Figure size 432x288 with 1 Axes>"
      ]
     },
     "metadata": {
      "needs_background": "light"
     },
     "output_type": "display_data"
    }
   ],
   "source": [
    "compdata.boxplot(column=['T1','T2','T3','T4','T5'],vert=False)\n",
    "plt.title('Textual Characteristics of IPO Box Plot')\n",
    "plt.show()"
   ]
  },
  {
   "cell_type": "code",
   "execution_count": 25,
   "metadata": {},
   "outputs": [
    {
     "data": {
      "image/png": "[encoded data removed]",
      "text/plain": [
       "<Figure size 432x288 with 1 Axes>"
      ]
     },
     "metadata": {
      "needs_background": "light"
     },
     "output_type": "display_data"
    }
   ],
   "source": [
    "compdata.boxplot(column=['T1','T4'],vert=False)\n",
    "plt.title('Number of Sentences & Number of Long Sentences Box Plot')\n",
    "plt.show()"
   ]
  },
  {
   "cell_type": "code",
   "execution_count": 26,
   "metadata": {},
   "outputs": [
    {
     "data": {
      "image/png": "[encoded data removed]",
      "text/plain": [
       "<Figure size 432x288 with 1 Axes>"
      ]
     },
     "metadata": {
      "needs_background": "light"
     },
     "output_type": "display_data"
    }
   ],
   "source": [
    "compdata.boxplot(column=['T2','T3'],vert=False)\n",
    "plt.title('Number of Words & Number of Real Words Box Plot')\n",
    "plt.show()"
   ]
  },
  {
   "cell_type": "code",
   "execution_count": 27,
   "metadata": {},
   "outputs": [
    {
     "data": {
      "image/png": "[encoded data removed]",
      "text/plain": [
       "<Figure size 432x288 with 1 Axes>"
      ]
     },
     "metadata": {
      "needs_background": "light"
     },
     "output_type": "display_data"
    }
   ],
   "source": [
    "compdata.boxplot(column='T5',vert=False)\n",
    "plt.title('Number of Long Words Box Plot')\n",
    "plt.show()"
   ]
  },
  {
   "cell_type": "code",
   "execution_count": 28,
   "metadata": {},
   "outputs": [
    {
     "data": {
      "image/png": "[encoded data removed]",
      "text/plain": [
       "<Figure size 432x288 with 1 Axes>"
      ]
     },
     "metadata": {
      "needs_background": "light"
     },
     "output_type": "display_data"
    }
   ],
   "source": [
    "compdata.boxplot(column=['S1','S2','S3'],vert=False)\n",
    "plt.title('Sentiment Characteristics of IPO Box Plot')\n",
    "plt.show()"
   ]
  },
  {
   "cell_type": "code",
   "execution_count": 29,
   "metadata": {},
   "outputs": [
    {
     "data": {
      "image/png": "[encoded data removed]",
      "text/plain": [
       "<Figure size 432x288 with 1 Axes>"
      ]
     },
     "metadata": {
      "needs_background": "light"
     },
     "output_type": "display_data"
    }
   ],
   "source": [
    "compdata.boxplot(column=['S2','S3'],vert=False)\n",
    "plt.title('Number of Negative Words & Number of Uncertain Words Box Plot')\n",
    "plt.show()"
   ]
  },
  {
   "cell_type": "code",
   "execution_count": 30,
   "metadata": {},
   "outputs": [
    {
     "data": {
      "image/png": "[encoded data removed]",
      "text/plain": [
       "<Figure size 432x288 with 1 Axes>"
      ]
     },
     "metadata": {
      "needs_background": "light"
     },
     "output_type": "display_data"
    }
   ],
   "source": [
    "compdata.boxplot(column='S1',vert=False)\n",
    "plt.title('Number of Positive Words Box Plot')\n",
    "plt.show()"
   ]
  },
  {
   "cell_type": "markdown",
   "metadata": {},
   "source": [
    "## Histograms "
   ]
  },
  {
   "cell_type": "code",
   "execution_count": 32,
   "metadata": {},
   "outputs": [
    {
     "data": {
      "text/plain": [
       "<matplotlib.axes._subplots.AxesSubplot at 0x7f3e85ad97f0>"
      ]
     },
     "execution_count": 32,
     "metadata": {},
     "output_type": "execute_result"
    },
    {
     "data": {
      "image/png": "[encoded data removed]",
      "text/plain": [
       "<Figure size 432x288 with 1 Axes>"
      ]
     },
     "metadata": {
      "needs_background": "light"
     },
     "output_type": "display_data"
    }
   ],
   "source": [
    "compdata['P(IPO)'].hist(bins=20)\n",
    "\n",
    "# clear skew to the "
   ]
  },
  {
   "cell_type": "code",
   "execution_count": 34,
   "metadata": {},
   "outputs": [
    {
     "data": {
      "text/plain": [
       "<matplotlib.axes._subplots.AxesSubplot at 0x7f3e85a37f98>"
      ]
     },
     "execution_count": 34,
     "metadata": {},
     "output_type": "execute_result"
    },
    {
     "data": {
      "image/png": "[encoded data removed]",
      "text/plain": [
       "<Figure size 432x288 with 1 Axes>"
      ]
     },
     "metadata": {
      "needs_background": "light"
     },
     "output_type": "display_data"
    }
   ],
   "source": [
    "compdata['P(1Day)'].hist(bins=20)"
   ]
  },
  {
   "cell_type": "code",
   "execution_count": 35,
   "metadata": {},
   "outputs": [
    {
     "data": {
      "text/plain": [
       "<matplotlib.axes._subplots.AxesSubplot at 0x7f3e85b207f0>"
      ]
     },
     "execution_count": 35,
     "metadata": {},
     "output_type": "execute_result"
    },
    {
     "data": {
      "image/png": "[encoded data removed]",
      "text/plain": [
       "<Figure size 432x288 with 1 Axes>"
      ]
     },
     "metadata": {
      "needs_background": "light"
     },
     "output_type": "display_data"
    }
   ],
   "source": [
    "compdata['P(H)'].hist(bins=20)"
   ]
  },
  {
   "cell_type": "code",
   "execution_count": 37,
   "metadata": {},
   "outputs": [
    {
     "data": {
      "text/plain": [
       "<matplotlib.axes._subplots.AxesSubplot at 0x7f3e85e52cf8>"
      ]
     },
     "execution_count": 37,
     "metadata": {},
     "output_type": "execute_result"
    },
    {
     "data": {
      "image/png": "[encoded data removed]",
      "text/plain": [
       "<Figure size 432x288 with 1 Axes>"
      ]
     },
     "metadata": {
      "needs_background": "light"
     },
     "output_type": "display_data"
    }
   ],
   "source": [
    "compdata['P(L)'].hist(bins=20)"
   ]
  },
  {
   "cell_type": "code",
   "execution_count": 38,
   "metadata": {},
   "outputs": [
    {
     "data": {
      "text/plain": [
       "<matplotlib.axes._subplots.AxesSubplot at 0x7f3e85c81748>"
      ]
     },
     "execution_count": 38,
     "metadata": {},
     "output_type": "execute_result"
    },
    {
     "data": {
      "image/png": "[encoded data removed]",
      "text/plain": [
       "<Figure size 432x288 with 1 Axes>"
      ]
     },
     "metadata": {
      "needs_background": "light"
     },
     "output_type": "display_data"
    }
   ],
   "source": [
    "compdata['C1'].hist(bins=20)"
   ]
  },
  {
   "cell_type": "code",
   "execution_count": 39,
   "metadata": {},
   "outputs": [
    {
     "data": {
      "text/plain": [
       "<matplotlib.axes._subplots.AxesSubplot at 0x7f3e87f9c5f8>"
      ]
     },
     "execution_count": 39,
     "metadata": {},
     "output_type": "execute_result"
    },
    {
     "data": {
      "image/png": "[encoded data removed]",
      "text/plain": [
       "<Figure size 432x288 with 1 Axes>"
      ]
     },
     "metadata": {
      "needs_background": "light"
     },
     "output_type": "display_data"
    }
   ],
   "source": [
    "# a lot of missing values here so this is irrelevant right now\n",
    "\n",
    "compdata['C2'].hist(bins=20)"
   ]
  },
  {
   "cell_type": "code",
   "execution_count": 40,
   "metadata": {},
   "outputs": [
    {
     "data": {
      "text/plain": [
       "<matplotlib.axes._subplots.AxesSubplot at 0x7f3e89699748>"
      ]
     },
     "execution_count": 40,
     "metadata": {},
     "output_type": "execute_result"
    },
    {
     "data": {
      "image/png": "[encoded data removed]",
      "text/plain": [
       "<Figure size 432x288 with 1 Axes>"
      ]
     },
     "metadata": {
      "needs_background": "light"
     },
     "output_type": "display_data"
    }
   ],
   "source": [
    "compdata['C3'].hist(bins=20)"
   ]
  },
  {
   "cell_type": "code",
   "execution_count": 41,
   "metadata": {},
   "outputs": [
    {
     "data": {
      "text/plain": [
       "<matplotlib.axes._subplots.AxesSubplot at 0x7f3e85deceb8>"
      ]
     },
     "execution_count": 41,
     "metadata": {},
     "output_type": "execute_result"
    },
    {
     "data": {
      "image/png": "[encoded data removed]",
      "text/plain": [
       "<Figure size 432x288 with 1 Axes>"
      ]
     },
     "metadata": {
      "needs_background": "light"
     },
     "output_type": "display_data"
    }
   ],
   "source": [
    "compdata['C4'].hist(bins=20)"
   ]
  },
  {
   "cell_type": "code",
   "execution_count": 42,
   "metadata": {},
   "outputs": [
    {
     "data": {
      "text/plain": [
       "<matplotlib.axes._subplots.AxesSubplot at 0x7f3e85d68d30>"
      ]
     },
     "execution_count": 42,
     "metadata": {},
     "output_type": "execute_result"
    },
    {
     "data": {
      "image/png": "[encoded data removed]",
      "text/plain": [
       "<Figure size 432x288 with 1 Axes>"
      ]
     },
     "metadata": {
      "needs_background": "light"
     },
     "output_type": "display_data"
    }
   ],
   "source": [
    "compdata['C5'].hist(bins=20)"
   ]
  },
  {
   "cell_type": "code",
   "execution_count": 43,
   "metadata": {},
   "outputs": [
    {
     "data": {
      "text/plain": [
       "<matplotlib.axes._subplots.AxesSubplot at 0x7f3e85cfa828>"
      ]
     },
     "execution_count": 43,
     "metadata": {},
     "output_type": "execute_result"
    },
    {
     "data": {
      "image/png": "[encoded data removed]",
      "text/plain": [
       "<Figure size 432x288 with 1 Axes>"
      ]
     },
     "metadata": {
      "needs_background": "light"
     },
     "output_type": "display_data"
    }
   ],
   "source": [
    "compdata['C6'].hist(bins=20)"
   ]
  },
  {
   "cell_type": "code",
   "execution_count": 44,
   "metadata": {},
   "outputs": [
    {
     "data": {
      "text/plain": [
       "<matplotlib.axes._subplots.AxesSubplot at 0x7f3e85cc8a20>"
      ]
     },
     "execution_count": 44,
     "metadata": {},
     "output_type": "execute_result"
    },
    {
     "data": {
      "image/png": "[encoded data removed]",
      "text/plain": [
       "<Figure size 432x288 with 1 Axes>"
      ]
     },
     "metadata": {
      "needs_background": "light"
     },
     "output_type": "display_data"
    }
   ],
   "source": [
    "compdata['C7'].hist(bins=20)"
   ]
  },
  {
   "cell_type": "code",
   "execution_count": 45,
   "metadata": {},
   "outputs": [
    {
     "data": {
      "text/plain": [
       "<matplotlib.axes._subplots.AxesSubplot at 0x7f3e85cfa7b8>"
      ]
     },
     "execution_count": 45,
     "metadata": {},
     "output_type": "execute_result"
    },
    {
     "data": {
      "image/png": "[encoded data removed]",
      "text/plain": [
       "<Figure size 432x288 with 1 Axes>"
      ]
     },
     "metadata": {
      "needs_background": "light"
     },
     "output_type": "display_data"
    }
   ],
   "source": [
    "compdata['T1'].hist(bins=20)"
   ]
  },
  {
   "cell_type": "code",
   "execution_count": 46,
   "metadata": {},
   "outputs": [
    {
     "data": {
      "text/plain": [
       "<matplotlib.axes._subplots.AxesSubplot at 0x7f3e859527b8>"
      ]
     },
     "execution_count": 46,
     "metadata": {},
     "output_type": "execute_result"
    },
    {
     "data": {
      "image/png": "[encoded data removed]",
      "text/plain": [
       "<Figure size 432x288 with 1 Axes>"
      ]
     },
     "metadata": {
      "needs_background": "light"
     },
     "output_type": "display_data"
    }
   ],
   "source": [
    "compdata['T2'].hist(bins=20)"
   ]
  },
  {
   "cell_type": "code",
   "execution_count": 47,
   "metadata": {},
   "outputs": [
    {
     "data": {
      "text/plain": [
       "<matplotlib.axes._subplots.AxesSubplot at 0x7f3e857e9710>"
      ]
     },
     "execution_count": 47,
     "metadata": {},
     "output_type": "execute_result"
    },
    {
     "data": {
      "image/png": "[encoded data removed]",
      "text/plain": [
       "<Figure size 432x288 with 1 Axes>"
      ]
     },
     "metadata": {
      "needs_background": "light"
     },
     "output_type": "display_data"
    }
   ],
   "source": [
    "compdata['T3'].hist(bins=20)"
   ]
  },
  {
   "cell_type": "code",
   "execution_count": 48,
   "metadata": {},
   "outputs": [
    {
     "data": {
      "text/plain": [
       "<matplotlib.axes._subplots.AxesSubplot at 0x7f3e85840710>"
      ]
     },
     "execution_count": 48,
     "metadata": {},
     "output_type": "execute_result"
    },
    {
     "data": {
      "image/png": "[encoded data removed]",
      "text/plain": [
       "<Figure size 432x288 with 1 Axes>"
      ]
     },
     "metadata": {
      "needs_background": "light"
     },
     "output_type": "display_data"
    }
   ],
   "source": [
    "compdata['T4'].hist(bins=20)"
   ]
  },
  {
   "cell_type": "code",
   "execution_count": 49,
   "metadata": {},
   "outputs": [
    {
     "data": {
      "text/plain": [
       "<matplotlib.axes._subplots.AxesSubplot at 0x7f3e85711518>"
      ]
     },
     "execution_count": 49,
     "metadata": {},
     "output_type": "execute_result"
    },
    {
     "data": {
      "image/png": "[encoded data removed]",
      "text/plain": [
       "<Figure size 432x288 with 1 Axes>"
      ]
     },
     "metadata": {
      "needs_background": "light"
     },
     "output_type": "display_data"
    }
   ],
   "source": [
    "compdata['T5'].hist(bins=20)"
   ]
  },
  {
   "cell_type": "code",
   "execution_count": 50,
   "metadata": {},
   "outputs": [
    {
     "data": {
      "text/plain": [
       "<matplotlib.axes._subplots.AxesSubplot at 0x7f3e8567b6a0>"
      ]
     },
     "execution_count": 50,
     "metadata": {},
     "output_type": "execute_result"
    },
    {
     "data": {
      "image/png": "[encoded data removed]",
      "text/plain": [
       "<Figure size 432x288 with 1 Axes>"
      ]
     },
     "metadata": {
      "needs_background": "light"
     },
     "output_type": "display_data"
    }
   ],
   "source": [
    "compdata['S1'].hist(bins=20)"
   ]
  },
  {
   "cell_type": "code",
   "execution_count": 51,
   "metadata": {},
   "outputs": [
    {
     "data": {
      "text/plain": [
       "<matplotlib.axes._subplots.AxesSubplot at 0x7f3e85632b70>"
      ]
     },
     "execution_count": 51,
     "metadata": {},
     "output_type": "execute_result"
    },
    {
     "data": {
      "image/png": "[encoded data removed]",
      "text/plain": [
       "<Figure size 432x288 with 1 Axes>"
      ]
     },
     "metadata": {
      "needs_background": "light"
     },
     "output_type": "display_data"
    }
   ],
   "source": [
    "compdata['S2'].hist(bins=20)"
   ]
  },
  {
   "cell_type": "code",
   "execution_count": 52,
   "metadata": {},
   "outputs": [
    {
     "data": {
      "text/plain": [
       "<matplotlib.axes._subplots.AxesSubplot at 0x7f3e8581b710>"
      ]
     },
     "execution_count": 52,
     "metadata": {},
     "output_type": "execute_result"
    },
    {
     "data": {
      "image/png": "[encoded data removed]",
      "text/plain": [
       "<Figure size 432x288 with 1 Axes>"
      ]
     },
     "metadata": {
      "needs_background": "light"
     },
     "output_type": "display_data"
    }
   ],
   "source": [
    "compdata['S3'].hist(bins=20)"
   ]
  },
  {
   "cell_type": "code",
   "execution_count": 53,
   "metadata": {},
   "outputs": [
    {
     "ename": "KeyError",
     "evalue": "'S4'",
     "output_type": "error",
     "traceback": [
      "\u001b[0;31m---------------------------------------------------------------------------\u001b[0m",
      "\u001b[0;31mKeyError\u001b[0m                                  Traceback (most recent call last)",
      "\u001b[0;32m/opt/tljh/user/lib/python3.6/site-packages/pandas/core/indexes/base.py\u001b[0m in \u001b[0;36mget_loc\u001b[0;34m(self, key, method, tolerance)\u001b[0m\n\u001b[1;32m   2896\u001b[0m             \u001b[0;32mtry\u001b[0m\u001b[0;34m:\u001b[0m\u001b[0;34m\u001b[0m\u001b[0;34m\u001b[0m\u001b[0m\n\u001b[0;32m-> 2897\u001b[0;31m                 \u001b[0;32mreturn\u001b[0m \u001b[0mself\u001b[0m\u001b[0;34m.\u001b[0m\u001b[0m_engine\u001b[0m\u001b[0;34m.\u001b[0m\u001b[0mget_loc\u001b[0m\u001b[0;34m(\u001b[0m\u001b[0mkey\u001b[0m\u001b[0;34m)\u001b[0m\u001b[0;34m\u001b[0m\u001b[0;34m\u001b[0m\u001b[0m\n\u001b[0m\u001b[1;32m   2898\u001b[0m             \u001b[0;32mexcept\u001b[0m \u001b[0mKeyError\u001b[0m\u001b[0;34m:\u001b[0m\u001b[0;34m\u001b[0m\u001b[0;34m\u001b[0m\u001b[0m\n",
      "\u001b[0;32mpandas/_libs/index.pyx\u001b[0m in \u001b[0;36mpandas._libs.index.IndexEngine.get_loc\u001b[0;34m()\u001b[0m\n",
      "\u001b[0;32mpandas/_libs/index.pyx\u001b[0m in \u001b[0;36mpandas._libs.index.IndexEngine.get_loc\u001b[0;34m()\u001b[0m\n",
      "\u001b[0;32mpandas/_libs/hashtable_class_helper.pxi\u001b[0m in \u001b[0;36mpandas._libs.hashtable.PyObjectHashTable.get_item\u001b[0;34m()\u001b[0m\n",
      "\u001b[0;32mpandas/_libs/hashtable_class_helper.pxi\u001b[0m in \u001b[0;36mpandas._libs.hashtable.PyObjectHashTable.get_item\u001b[0;34m()\u001b[0m\n",
      "\u001b[0;31mKeyError\u001b[0m: 'S4'",
      "\nDuring handling of the above exception, another exception occurred:\n",
      "\u001b[0;31mKeyError\u001b[0m                                  Traceback (most recent call last)",
      "\u001b[0;32m<ipython-input-53-683774a12137>\u001b[0m in \u001b[0;36m<module>\u001b[0;34m\u001b[0m\n\u001b[0;32m----> 1\u001b[0;31m \u001b[0mcompdata\u001b[0m\u001b[0;34m[\u001b[0m\u001b[0;34m'S4'\u001b[0m\u001b[0;34m]\u001b[0m\u001b[0;34m.\u001b[0m\u001b[0mhist\u001b[0m\u001b[0;34m(\u001b[0m\u001b[0mbins\u001b[0m\u001b[0;34m=\u001b[0m\u001b[0;36m20\u001b[0m\u001b[0;34m)\u001b[0m\u001b[0;34m\u001b[0m\u001b[0;34m\u001b[0m\u001b[0m\n\u001b[0m",
      "\u001b[0;32m/opt/tljh/user/lib/python3.6/site-packages/pandas/core/frame.py\u001b[0m in \u001b[0;36m__getitem__\u001b[0;34m(self, key)\u001b[0m\n\u001b[1;32m   2993\u001b[0m             \u001b[0;32mif\u001b[0m \u001b[0mself\u001b[0m\u001b[0;34m.\u001b[0m\u001b[0mcolumns\u001b[0m\u001b[0;34m.\u001b[0m\u001b[0mnlevels\u001b[0m \u001b[0;34m>\u001b[0m \u001b[0;36m1\u001b[0m\u001b[0;34m:\u001b[0m\u001b[0;34m\u001b[0m\u001b[0;34m\u001b[0m\u001b[0m\n\u001b[1;32m   2994\u001b[0m                 \u001b[0;32mreturn\u001b[0m \u001b[0mself\u001b[0m\u001b[0;34m.\u001b[0m\u001b[0m_getitem_multilevel\u001b[0m\u001b[0;34m(\u001b[0m\u001b[0mkey\u001b[0m\u001b[0;34m)\u001b[0m\u001b[0;34m\u001b[0m\u001b[0;34m\u001b[0m\u001b[0m\n\u001b[0;32m-> 2995\u001b[0;31m             \u001b[0mindexer\u001b[0m \u001b[0;34m=\u001b[0m \u001b[0mself\u001b[0m\u001b[0;34m.\u001b[0m\u001b[0mcolumns\u001b[0m\u001b[0;34m.\u001b[0m\u001b[0mget_loc\u001b[0m\u001b[0;34m(\u001b[0m\u001b[0mkey\u001b[0m\u001b[0;34m)\u001b[0m\u001b[0;34m\u001b[0m\u001b[0;34m\u001b[0m\u001b[0m\n\u001b[0m\u001b[1;32m   2996\u001b[0m             \u001b[0;32mif\u001b[0m \u001b[0mis_integer\u001b[0m\u001b[0;34m(\u001b[0m\u001b[0mindexer\u001b[0m\u001b[0;34m)\u001b[0m\u001b[0;34m:\u001b[0m\u001b[0;34m\u001b[0m\u001b[0;34m\u001b[0m\u001b[0m\n\u001b[1;32m   2997\u001b[0m                 \u001b[0mindexer\u001b[0m \u001b[0;34m=\u001b[0m \u001b[0;34m[\u001b[0m\u001b[0mindexer\u001b[0m\u001b[0;34m]\u001b[0m\u001b[0;34m\u001b[0m\u001b[0;34m\u001b[0m\u001b[0m\n",
      "\u001b[0;32m/opt/tljh/user/lib/python3.6/site-packages/pandas/core/indexes/base.py\u001b[0m in \u001b[0;36mget_loc\u001b[0;34m(self, key, method, tolerance)\u001b[0m\n\u001b[1;32m   2897\u001b[0m                 \u001b[0;32mreturn\u001b[0m \u001b[0mself\u001b[0m\u001b[0;34m.\u001b[0m\u001b[0m_engine\u001b[0m\u001b[0;34m.\u001b[0m\u001b[0mget_loc\u001b[0m\u001b[0;34m(\u001b[0m\u001b[0mkey\u001b[0m\u001b[0;34m)\u001b[0m\u001b[0;34m\u001b[0m\u001b[0;34m\u001b[0m\u001b[0m\n\u001b[1;32m   2898\u001b[0m             \u001b[0;32mexcept\u001b[0m \u001b[0mKeyError\u001b[0m\u001b[0;34m:\u001b[0m\u001b[0;34m\u001b[0m\u001b[0;34m\u001b[0m\u001b[0m\n\u001b[0;32m-> 2899\u001b[0;31m                 \u001b[0;32mreturn\u001b[0m \u001b[0mself\u001b[0m\u001b[0;34m.\u001b[0m\u001b[0m_engine\u001b[0m\u001b[0;34m.\u001b[0m\u001b[0mget_loc\u001b[0m\u001b[0;34m(\u001b[0m\u001b[0mself\u001b[0m\u001b[0;34m.\u001b[0m\u001b[0m_maybe_cast_indexer\u001b[0m\u001b[0;34m(\u001b[0m\u001b[0mkey\u001b[0m\u001b[0;34m)\u001b[0m\u001b[0;34m)\u001b[0m\u001b[0;34m\u001b[0m\u001b[0;34m\u001b[0m\u001b[0m\n\u001b[0m\u001b[1;32m   2900\u001b[0m         \u001b[0mindexer\u001b[0m \u001b[0;34m=\u001b[0m \u001b[0mself\u001b[0m\u001b[0;34m.\u001b[0m\u001b[0mget_indexer\u001b[0m\u001b[0;34m(\u001b[0m\u001b[0;34m[\u001b[0m\u001b[0mkey\u001b[0m\u001b[0;34m]\u001b[0m\u001b[0;34m,\u001b[0m \u001b[0mmethod\u001b[0m\u001b[0;34m=\u001b[0m\u001b[0mmethod\u001b[0m\u001b[0;34m,\u001b[0m \u001b[0mtolerance\u001b[0m\u001b[0;34m=\u001b[0m\u001b[0mtolerance\u001b[0m\u001b[0;34m)\u001b[0m\u001b[0;34m\u001b[0m\u001b[0;34m\u001b[0m\u001b[0m\n\u001b[1;32m   2901\u001b[0m         \u001b[0;32mif\u001b[0m \u001b[0mindexer\u001b[0m\u001b[0;34m.\u001b[0m\u001b[0mndim\u001b[0m \u001b[0;34m>\u001b[0m \u001b[0;36m1\u001b[0m \u001b[0;32mor\u001b[0m \u001b[0mindexer\u001b[0m\u001b[0;34m.\u001b[0m\u001b[0msize\u001b[0m \u001b[0;34m>\u001b[0m \u001b[0;36m1\u001b[0m\u001b[0;34m:\u001b[0m\u001b[0;34m\u001b[0m\u001b[0;34m\u001b[0m\u001b[0m\n",
      "\u001b[0;32mpandas/_libs/index.pyx\u001b[0m in \u001b[0;36mpandas._libs.index.IndexEngine.get_loc\u001b[0;34m()\u001b[0m\n",
      "\u001b[0;32mpandas/_libs/index.pyx\u001b[0m in \u001b[0;36mpandas._libs.index.IndexEngine.get_loc\u001b[0;34m()\u001b[0m\n",
      "\u001b[0;32mpandas/_libs/hashtable_class_helper.pxi\u001b[0m in \u001b[0;36mpandas._libs.hashtable.PyObjectHashTable.get_item\u001b[0;34m()\u001b[0m\n",
      "\u001b[0;32mpandas/_libs/hashtable_class_helper.pxi\u001b[0m in \u001b[0;36mpandas._libs.hashtable.PyObjectHashTable.get_item\u001b[0;34m()\u001b[0m\n",
      "\u001b[0;31mKeyError\u001b[0m: 'S4'"
     ]
    }
   ],
   "source": [
    "# must revisit these histograms.  "
   ]
  },
  {
   "cell_type": "code",
   "execution_count": null,
   "metadata": {},
   "outputs": [],
   "source": []
  },
  {
   "cell_type": "markdown",
   "metadata": {},
   "source": [
    "It is obvious that there are outliers in the dataset that will offset the results. \n",
    "To remove this data we will use the interquartile range to determine the upper and lower bound limits and any data outside the limit will be converted to either the lower or upper bound number."
   ]
  },
  {
   "cell_type": "code",
   "execution_count": 23,
   "metadata": {},
   "outputs": [],
   "source": [
    "Q1 = compdata['P(IPO)'].quantile(0.25)\n",
    "Q3 = compdata['P(IPO)'].quantile(0.75)\n",
    "IQR = Q3 - Q1\n",
    "LowerBound = Q1 - (1.5 * IQR)\n",
    "UpperBound = Q3 + (1.5 * IQR)\n",
    "\n",
    "# compdata[((compdata['P(IPO)'] < LowerBound) |(compdata['P(IPO)'] > UpperBound))]"
   ]
  },
  {
   "cell_type": "code",
   "execution_count": 24,
   "metadata": {},
   "outputs": [
    {
     "data": {
      "text/html": [
       "<div>\n",
       "<style scoped>\n",
       "    .dataframe tbody tr th:only-of-type {\n",
       "        vertical-align: middle;\n",
       "    }\n",
       "\n",
       "    .dataframe tbody tr th {\n",
       "        vertical-align: top;\n",
       "    }\n",
       "\n",
       "    .dataframe thead th {\n",
       "        text-align: right;\n",
       "    }\n",
       "</style>\n",
       "<table border=\"1\" class=\"dataframe\">\n",
       "  <thead>\n",
       "    <tr style=\"text-align: right;\">\n",
       "      <th></th>\n",
       "      <th>P(IPO)</th>\n",
       "      <th>P(H)</th>\n",
       "      <th>P(L)</th>\n",
       "      <th>P(1Day)</th>\n",
       "      <th>C1</th>\n",
       "      <th>C3</th>\n",
       "      <th>C4</th>\n",
       "      <th>C5</th>\n",
       "      <th>C6</th>\n",
       "      <th>C7</th>\n",
       "      <th>T1</th>\n",
       "      <th>T2</th>\n",
       "      <th>T3</th>\n",
       "      <th>T4</th>\n",
       "      <th>T5</th>\n",
       "      <th>S1</th>\n",
       "      <th>S2</th>\n",
       "      <th>S3</th>\n",
       "    </tr>\n",
       "  </thead>\n",
       "  <tbody>\n",
       "    <tr>\n",
       "      <th>count</th>\n",
       "      <td>677.000000</td>\n",
       "      <td>672.000000</td>\n",
       "      <td>672.000000</td>\n",
       "      <td>660.000000</td>\n",
       "      <td>660.000000</td>\n",
       "      <td>646.000000</td>\n",
       "      <td>660.000000</td>\n",
       "      <td>6.760000e+02</td>\n",
       "      <td>6.760000e+02</td>\n",
       "      <td>610.000000</td>\n",
       "      <td>681.000000</td>\n",
       "      <td>681.000000</td>\n",
       "      <td>681.000000</td>\n",
       "      <td>681.000000</td>\n",
       "      <td>681.000000</td>\n",
       "      <td>681.000000</td>\n",
       "      <td>681.000000</td>\n",
       "      <td>681.000000</td>\n",
       "    </tr>\n",
       "    <tr>\n",
       "      <th>mean</th>\n",
       "      <td>13.837666</td>\n",
       "      <td>15.481190</td>\n",
       "      <td>13.515045</td>\n",
       "      <td>25.934766</td>\n",
       "      <td>149.728788</td>\n",
       "      <td>1.788904</td>\n",
       "      <td>0.007282</td>\n",
       "      <td>4.935776e+07</td>\n",
       "      <td>1.241519e+07</td>\n",
       "      <td>500.459962</td>\n",
       "      <td>465.634361</td>\n",
       "      <td>12758.606461</td>\n",
       "      <td>11395.844347</td>\n",
       "      <td>294.353891</td>\n",
       "      <td>679.220264</td>\n",
       "      <td>68.421439</td>\n",
       "      <td>120.104258</td>\n",
       "      <td>144.759178</td>\n",
       "    </tr>\n",
       "    <tr>\n",
       "      <th>std</th>\n",
       "      <td>6.053731</td>\n",
       "      <td>6.653429</td>\n",
       "      <td>5.835646</td>\n",
       "      <td>73.234948</td>\n",
       "      <td>152.817467</td>\n",
       "      <td>162.666532</td>\n",
       "      <td>0.033318</td>\n",
       "      <td>1.043764e+08</td>\n",
       "      <td>2.512855e+07</td>\n",
       "      <td>1648.337634</td>\n",
       "      <td>175.741647</td>\n",
       "      <td>5449.644597</td>\n",
       "      <td>4839.670179</td>\n",
       "      <td>121.532637</td>\n",
       "      <td>472.914323</td>\n",
       "      <td>39.096525</td>\n",
       "      <td>84.828959</td>\n",
       "      <td>69.276285</td>\n",
       "    </tr>\n",
       "    <tr>\n",
       "      <th>min</th>\n",
       "      <td>3.000000</td>\n",
       "      <td>0.000000</td>\n",
       "      <td>3.000000</td>\n",
       "      <td>0.000000</td>\n",
       "      <td>10.000000</td>\n",
       "      <td>-786.239000</td>\n",
       "      <td>-0.162352</td>\n",
       "      <td>3.693227e+06</td>\n",
       "      <td>5.250000e+05</td>\n",
       "      <td>0.074000</td>\n",
       "      <td>132.000000</td>\n",
       "      <td>0.000000</td>\n",
       "      <td>0.000000</td>\n",
       "      <td>0.000000</td>\n",
       "      <td>-1.000000</td>\n",
       "      <td>-1.000000</td>\n",
       "      <td>20.000000</td>\n",
       "      <td>26.000000</td>\n",
       "    </tr>\n",
       "    <tr>\n",
       "      <th>25%</th>\n",
       "      <td>10.000000</td>\n",
       "      <td>12.500000</td>\n",
       "      <td>11.000000</td>\n",
       "      <td>11.000000</td>\n",
       "      <td>85.000000</td>\n",
       "      <td>-0.852500</td>\n",
       "      <td>-0.013927</td>\n",
       "      <td>1.871417e+07</td>\n",
       "      <td>5.000000e+06</td>\n",
       "      <td>37.245750</td>\n",
       "      <td>351.000000</td>\n",
       "      <td>9195.000000</td>\n",
       "      <td>8162.000000</td>\n",
       "      <td>213.000000</td>\n",
       "      <td>462.000000</td>\n",
       "      <td>45.000000</td>\n",
       "      <td>73.000000</td>\n",
       "      <td>100.000000</td>\n",
       "    </tr>\n",
       "    <tr>\n",
       "      <th>50%</th>\n",
       "      <td>13.500000</td>\n",
       "      <td>15.000000</td>\n",
       "      <td>13.000000</td>\n",
       "      <td>14.845000</td>\n",
       "      <td>107.000000</td>\n",
       "      <td>0.010000</td>\n",
       "      <td>0.009125</td>\n",
       "      <td>2.740018e+07</td>\n",
       "      <td>7.398704e+06</td>\n",
       "      <td>103.833000</td>\n",
       "      <td>444.000000</td>\n",
       "      <td>12045.000000</td>\n",
       "      <td>10785.000000</td>\n",
       "      <td>279.000000</td>\n",
       "      <td>624.000000</td>\n",
       "      <td>60.000000</td>\n",
       "      <td>100.000000</td>\n",
       "      <td>134.000000</td>\n",
       "    </tr>\n",
       "    <tr>\n",
       "      <th>75%</th>\n",
       "      <td>17.000000</td>\n",
       "      <td>17.000000</td>\n",
       "      <td>15.000000</td>\n",
       "      <td>20.485000</td>\n",
       "      <td>155.250000</td>\n",
       "      <td>0.470000</td>\n",
       "      <td>0.031571</td>\n",
       "      <td>4.980786e+07</td>\n",
       "      <td>1.200000e+07</td>\n",
       "      <td>331.138000</td>\n",
       "      <td>551.000000</td>\n",
       "      <td>15241.000000</td>\n",
       "      <td>13760.000000</td>\n",
       "      <td>354.000000</td>\n",
       "      <td>795.000000</td>\n",
       "      <td>85.000000</td>\n",
       "      <td>142.000000</td>\n",
       "      <td>173.000000</td>\n",
       "    </tr>\n",
       "    <tr>\n",
       "      <th>max</th>\n",
       "      <td>85.000000</td>\n",
       "      <td>135.000000</td>\n",
       "      <td>108.000000</td>\n",
       "      <td>1159.200562</td>\n",
       "      <td>2087.000000</td>\n",
       "      <td>3864.500000</td>\n",
       "      <td>0.092896</td>\n",
       "      <td>2.138085e+09</td>\n",
       "      <td>4.212336e+08</td>\n",
       "      <td>30683.000000</td>\n",
       "      <td>1750.000000</td>\n",
       "      <td>49056.000000</td>\n",
       "      <td>43952.000000</td>\n",
       "      <td>1058.000000</td>\n",
       "      <td>10277.000000</td>\n",
       "      <td>309.000000</td>\n",
       "      <td>944.000000</td>\n",
       "      <td>883.000000</td>\n",
       "    </tr>\n",
       "  </tbody>\n",
       "</table>\n",
       "</div>"
      ],
      "text/plain": [
       "           P(IPO)        P(H)        P(L)      P(1Day)           C1  \\\n",
       "count  677.000000  672.000000  672.000000   660.000000   660.000000   \n",
       "mean    13.837666   15.481190   13.515045    25.934766   149.728788   \n",
       "std      6.053731    6.653429    5.835646    73.234948   152.817467   \n",
       "min      3.000000    0.000000    3.000000     0.000000    10.000000   \n",
       "25%     10.000000   12.500000   11.000000    11.000000    85.000000   \n",
       "50%     13.500000   15.000000   13.000000    14.845000   107.000000   \n",
       "75%     17.000000   17.000000   15.000000    20.485000   155.250000   \n",
       "max     85.000000  135.000000  108.000000  1159.200562  2087.000000   \n",
       "\n",
       "                C3          C4            C5            C6            C7  \\\n",
       "count   646.000000  660.000000  6.760000e+02  6.760000e+02    610.000000   \n",
       "mean      1.788904    0.007282  4.935776e+07  1.241519e+07    500.459962   \n",
       "std     162.666532    0.033318  1.043764e+08  2.512855e+07   1648.337634   \n",
       "min    -786.239000   -0.162352  3.693227e+06  5.250000e+05      0.074000   \n",
       "25%      -0.852500   -0.013927  1.871417e+07  5.000000e+06     37.245750   \n",
       "50%       0.010000    0.009125  2.740018e+07  7.398704e+06    103.833000   \n",
       "75%       0.470000    0.031571  4.980786e+07  1.200000e+07    331.138000   \n",
       "max    3864.500000    0.092896  2.138085e+09  4.212336e+08  30683.000000   \n",
       "\n",
       "                T1            T2            T3           T4            T5  \\\n",
       "count   681.000000    681.000000    681.000000   681.000000    681.000000   \n",
       "mean    465.634361  12758.606461  11395.844347   294.353891    679.220264   \n",
       "std     175.741647   5449.644597   4839.670179   121.532637    472.914323   \n",
       "min     132.000000      0.000000      0.000000     0.000000     -1.000000   \n",
       "25%     351.000000   9195.000000   8162.000000   213.000000    462.000000   \n",
       "50%     444.000000  12045.000000  10785.000000   279.000000    624.000000   \n",
       "75%     551.000000  15241.000000  13760.000000   354.000000    795.000000   \n",
       "max    1750.000000  49056.000000  43952.000000  1058.000000  10277.000000   \n",
       "\n",
       "               S1          S2          S3  \n",
       "count  681.000000  681.000000  681.000000  \n",
       "mean    68.421439  120.104258  144.759178  \n",
       "std     39.096525   84.828959   69.276285  \n",
       "min     -1.000000   20.000000   26.000000  \n",
       "25%     45.000000   73.000000  100.000000  \n",
       "50%     60.000000  100.000000  134.000000  \n",
       "75%     85.000000  142.000000  173.000000  \n",
       "max    309.000000  944.000000  883.000000  "
      ]
     },
     "execution_count": 24,
     "metadata": {},
     "output_type": "execute_result"
    }
   ],
   "source": [
    "iqrdata = compdata_int.describe()\n",
    "iqrdata"
   ]
  },
  {
   "cell_type": "code",
   "execution_count": 26,
   "metadata": {},
   "outputs": [
    {
     "data": {
      "text/html": [
       "<div>\n",
       "<style scoped>\n",
       "    .dataframe tbody tr th:only-of-type {\n",
       "        vertical-align: middle;\n",
       "    }\n",
       "\n",
       "    .dataframe tbody tr th {\n",
       "        vertical-align: top;\n",
       "    }\n",
       "\n",
       "    .dataframe thead th {\n",
       "        text-align: right;\n",
       "    }\n",
       "</style>\n",
       "<table border=\"1\" class=\"dataframe\">\n",
       "  <thead>\n",
       "    <tr style=\"text-align: right;\">\n",
       "      <th></th>\n",
       "      <th>P(IPO)</th>\n",
       "      <th>P(H)</th>\n",
       "      <th>P(L)</th>\n",
       "      <th>P(1Day)</th>\n",
       "      <th>C1</th>\n",
       "      <th>C3</th>\n",
       "      <th>C4</th>\n",
       "      <th>C5</th>\n",
       "      <th>C6</th>\n",
       "      <th>C7</th>\n",
       "      <th>T1</th>\n",
       "      <th>T2</th>\n",
       "      <th>T3</th>\n",
       "      <th>T4</th>\n",
       "      <th>T5</th>\n",
       "      <th>S1</th>\n",
       "      <th>S2</th>\n",
       "      <th>S3</th>\n",
       "    </tr>\n",
       "  </thead>\n",
       "  <tbody>\n",
       "    <tr>\n",
       "      <th>count</th>\n",
       "      <td>677.000000</td>\n",
       "      <td>672.000000</td>\n",
       "      <td>672.000000</td>\n",
       "      <td>660.000000</td>\n",
       "      <td>660.000000</td>\n",
       "      <td>646.000000</td>\n",
       "      <td>660.000000</td>\n",
       "      <td>6.760000e+02</td>\n",
       "      <td>6.760000e+02</td>\n",
       "      <td>610.000000</td>\n",
       "      <td>681.000000</td>\n",
       "      <td>681.000000</td>\n",
       "      <td>681.000000</td>\n",
       "      <td>681.000000</td>\n",
       "      <td>681.000000</td>\n",
       "      <td>681.000000</td>\n",
       "      <td>681.000000</td>\n",
       "      <td>681.000000</td>\n",
       "    </tr>\n",
       "    <tr>\n",
       "      <th>mean</th>\n",
       "      <td>13.837666</td>\n",
       "      <td>15.481190</td>\n",
       "      <td>13.515045</td>\n",
       "      <td>25.934766</td>\n",
       "      <td>149.728788</td>\n",
       "      <td>1.788904</td>\n",
       "      <td>0.007282</td>\n",
       "      <td>4.935776e+07</td>\n",
       "      <td>1.241519e+07</td>\n",
       "      <td>500.459962</td>\n",
       "      <td>465.634361</td>\n",
       "      <td>12758.606461</td>\n",
       "      <td>11395.844347</td>\n",
       "      <td>294.353891</td>\n",
       "      <td>679.220264</td>\n",
       "      <td>68.421439</td>\n",
       "      <td>120.104258</td>\n",
       "      <td>144.759178</td>\n",
       "    </tr>\n",
       "    <tr>\n",
       "      <th>std</th>\n",
       "      <td>6.053731</td>\n",
       "      <td>6.653429</td>\n",
       "      <td>5.835646</td>\n",
       "      <td>73.234948</td>\n",
       "      <td>152.817467</td>\n",
       "      <td>162.666532</td>\n",
       "      <td>0.033318</td>\n",
       "      <td>1.043764e+08</td>\n",
       "      <td>2.512855e+07</td>\n",
       "      <td>1648.337634</td>\n",
       "      <td>175.741647</td>\n",
       "      <td>5449.644597</td>\n",
       "      <td>4839.670179</td>\n",
       "      <td>121.532637</td>\n",
       "      <td>472.914323</td>\n",
       "      <td>39.096525</td>\n",
       "      <td>84.828959</td>\n",
       "      <td>69.276285</td>\n",
       "    </tr>\n",
       "    <tr>\n",
       "      <th>min</th>\n",
       "      <td>3.000000</td>\n",
       "      <td>0.000000</td>\n",
       "      <td>3.000000</td>\n",
       "      <td>0.000000</td>\n",
       "      <td>10.000000</td>\n",
       "      <td>-786.239000</td>\n",
       "      <td>-0.162352</td>\n",
       "      <td>3.693227e+06</td>\n",
       "      <td>5.250000e+05</td>\n",
       "      <td>0.074000</td>\n",
       "      <td>132.000000</td>\n",
       "      <td>0.000000</td>\n",
       "      <td>0.000000</td>\n",
       "      <td>0.000000</td>\n",
       "      <td>-1.000000</td>\n",
       "      <td>-1.000000</td>\n",
       "      <td>20.000000</td>\n",
       "      <td>26.000000</td>\n",
       "    </tr>\n",
       "    <tr>\n",
       "      <th>25%</th>\n",
       "      <td>10.000000</td>\n",
       "      <td>12.500000</td>\n",
       "      <td>11.000000</td>\n",
       "      <td>11.000000</td>\n",
       "      <td>85.000000</td>\n",
       "      <td>-0.852500</td>\n",
       "      <td>-0.013927</td>\n",
       "      <td>1.871417e+07</td>\n",
       "      <td>5.000000e+06</td>\n",
       "      <td>37.245750</td>\n",
       "      <td>351.000000</td>\n",
       "      <td>9195.000000</td>\n",
       "      <td>8162.000000</td>\n",
       "      <td>213.000000</td>\n",
       "      <td>462.000000</td>\n",
       "      <td>45.000000</td>\n",
       "      <td>73.000000</td>\n",
       "      <td>100.000000</td>\n",
       "    </tr>\n",
       "    <tr>\n",
       "      <th>50%</th>\n",
       "      <td>13.500000</td>\n",
       "      <td>15.000000</td>\n",
       "      <td>13.000000</td>\n",
       "      <td>14.845000</td>\n",
       "      <td>107.000000</td>\n",
       "      <td>0.010000</td>\n",
       "      <td>0.009125</td>\n",
       "      <td>2.740018e+07</td>\n",
       "      <td>7.398704e+06</td>\n",
       "      <td>103.833000</td>\n",
       "      <td>444.000000</td>\n",
       "      <td>12045.000000</td>\n",
       "      <td>10785.000000</td>\n",
       "      <td>279.000000</td>\n",
       "      <td>624.000000</td>\n",
       "      <td>60.000000</td>\n",
       "      <td>100.000000</td>\n",
       "      <td>134.000000</td>\n",
       "    </tr>\n",
       "    <tr>\n",
       "      <th>75%</th>\n",
       "      <td>17.000000</td>\n",
       "      <td>17.000000</td>\n",
       "      <td>15.000000</td>\n",
       "      <td>20.485000</td>\n",
       "      <td>155.250000</td>\n",
       "      <td>0.470000</td>\n",
       "      <td>0.031571</td>\n",
       "      <td>4.980786e+07</td>\n",
       "      <td>1.200000e+07</td>\n",
       "      <td>331.138000</td>\n",
       "      <td>551.000000</td>\n",
       "      <td>15241.000000</td>\n",
       "      <td>13760.000000</td>\n",
       "      <td>354.000000</td>\n",
       "      <td>795.000000</td>\n",
       "      <td>85.000000</td>\n",
       "      <td>142.000000</td>\n",
       "      <td>173.000000</td>\n",
       "    </tr>\n",
       "    <tr>\n",
       "      <th>max</th>\n",
       "      <td>85.000000</td>\n",
       "      <td>135.000000</td>\n",
       "      <td>108.000000</td>\n",
       "      <td>1159.200562</td>\n",
       "      <td>2087.000000</td>\n",
       "      <td>3864.500000</td>\n",
       "      <td>0.092896</td>\n",
       "      <td>2.138085e+09</td>\n",
       "      <td>4.212336e+08</td>\n",
       "      <td>30683.000000</td>\n",
       "      <td>1750.000000</td>\n",
       "      <td>49056.000000</td>\n",
       "      <td>43952.000000</td>\n",
       "      <td>1058.000000</td>\n",
       "      <td>10277.000000</td>\n",
       "      <td>309.000000</td>\n",
       "      <td>944.000000</td>\n",
       "      <td>883.000000</td>\n",
       "    </tr>\n",
       "    <tr>\n",
       "      <th>IQR</th>\n",
       "      <td>7.000000</td>\n",
       "      <td>4.500000</td>\n",
       "      <td>4.000000</td>\n",
       "      <td>9.485000</td>\n",
       "      <td>70.250000</td>\n",
       "      <td>1.322500</td>\n",
       "      <td>0.045498</td>\n",
       "      <td>3.109368e+07</td>\n",
       "      <td>6.999999e+06</td>\n",
       "      <td>293.892250</td>\n",
       "      <td>200.000000</td>\n",
       "      <td>6046.000000</td>\n",
       "      <td>5598.000000</td>\n",
       "      <td>141.000000</td>\n",
       "      <td>333.000000</td>\n",
       "      <td>40.000000</td>\n",
       "      <td>69.000000</td>\n",
       "      <td>73.000000</td>\n",
       "    </tr>\n",
       "    <tr>\n",
       "      <th>UpperRange</th>\n",
       "      <td>27.500000</td>\n",
       "      <td>23.750000</td>\n",
       "      <td>21.000000</td>\n",
       "      <td>34.712499</td>\n",
       "      <td>260.625000</td>\n",
       "      <td>2.453750</td>\n",
       "      <td>0.099817</td>\n",
       "      <td>9.644838e+07</td>\n",
       "      <td>2.250000e+07</td>\n",
       "      <td>771.976375</td>\n",
       "      <td>851.000000</td>\n",
       "      <td>24310.000000</td>\n",
       "      <td>22157.000000</td>\n",
       "      <td>565.500000</td>\n",
       "      <td>1294.500000</td>\n",
       "      <td>145.000000</td>\n",
       "      <td>245.500000</td>\n",
       "      <td>282.500000</td>\n",
       "    </tr>\n",
       "    <tr>\n",
       "      <th>LowerRange</th>\n",
       "      <td>-0.500000</td>\n",
       "      <td>5.750000</td>\n",
       "      <td>5.000000</td>\n",
       "      <td>-3.227499</td>\n",
       "      <td>-20.375000</td>\n",
       "      <td>-2.836250</td>\n",
       "      <td>-0.082174</td>\n",
       "      <td>-2.792636e+07</td>\n",
       "      <td>-5.499999e+06</td>\n",
       "      <td>-403.592625</td>\n",
       "      <td>51.000000</td>\n",
       "      <td>126.000000</td>\n",
       "      <td>-235.000000</td>\n",
       "      <td>1.500000</td>\n",
       "      <td>-37.500000</td>\n",
       "      <td>-15.000000</td>\n",
       "      <td>-30.500000</td>\n",
       "      <td>-9.500000</td>\n",
       "    </tr>\n",
       "  </tbody>\n",
       "</table>\n",
       "</div>"
      ],
      "text/plain": [
       "                P(IPO)        P(H)        P(L)      P(1Day)           C1  \\\n",
       "count       677.000000  672.000000  672.000000   660.000000   660.000000   \n",
       "mean         13.837666   15.481190   13.515045    25.934766   149.728788   \n",
       "std           6.053731    6.653429    5.835646    73.234948   152.817467   \n",
       "min           3.000000    0.000000    3.000000     0.000000    10.000000   \n",
       "25%          10.000000   12.500000   11.000000    11.000000    85.000000   \n",
       "50%          13.500000   15.000000   13.000000    14.845000   107.000000   \n",
       "75%          17.000000   17.000000   15.000000    20.485000   155.250000   \n",
       "max          85.000000  135.000000  108.000000  1159.200562  2087.000000   \n",
       "IQR           7.000000    4.500000    4.000000     9.485000    70.250000   \n",
       "UpperRange   27.500000   23.750000   21.000000    34.712499   260.625000   \n",
       "LowerRange   -0.500000    5.750000    5.000000    -3.227499   -20.375000   \n",
       "\n",
       "                     C3          C4            C5            C6            C7  \\\n",
       "count        646.000000  660.000000  6.760000e+02  6.760000e+02    610.000000   \n",
       "mean           1.788904    0.007282  4.935776e+07  1.241519e+07    500.459962   \n",
       "std          162.666532    0.033318  1.043764e+08  2.512855e+07   1648.337634   \n",
       "min         -786.239000   -0.162352  3.693227e+06  5.250000e+05      0.074000   \n",
       "25%           -0.852500   -0.013927  1.871417e+07  5.000000e+06     37.245750   \n",
       "50%            0.010000    0.009125  2.740018e+07  7.398704e+06    103.833000   \n",
       "75%            0.470000    0.031571  4.980786e+07  1.200000e+07    331.138000   \n",
       "max         3864.500000    0.092896  2.138085e+09  4.212336e+08  30683.000000   \n",
       "IQR            1.322500    0.045498  3.109368e+07  6.999999e+06    293.892250   \n",
       "UpperRange     2.453750    0.099817  9.644838e+07  2.250000e+07    771.976375   \n",
       "LowerRange    -2.836250   -0.082174 -2.792636e+07 -5.499999e+06   -403.592625   \n",
       "\n",
       "                     T1            T2            T3           T4  \\\n",
       "count        681.000000    681.000000    681.000000   681.000000   \n",
       "mean         465.634361  12758.606461  11395.844347   294.353891   \n",
       "std          175.741647   5449.644597   4839.670179   121.532637   \n",
       "min          132.000000      0.000000      0.000000     0.000000   \n",
       "25%          351.000000   9195.000000   8162.000000   213.000000   \n",
       "50%          444.000000  12045.000000  10785.000000   279.000000   \n",
       "75%          551.000000  15241.000000  13760.000000   354.000000   \n",
       "max         1750.000000  49056.000000  43952.000000  1058.000000   \n",
       "IQR          200.000000   6046.000000   5598.000000   141.000000   \n",
       "UpperRange   851.000000  24310.000000  22157.000000   565.500000   \n",
       "LowerRange    51.000000    126.000000   -235.000000     1.500000   \n",
       "\n",
       "                      T5          S1          S2          S3  \n",
       "count         681.000000  681.000000  681.000000  681.000000  \n",
       "mean          679.220264   68.421439  120.104258  144.759178  \n",
       "std           472.914323   39.096525   84.828959   69.276285  \n",
       "min            -1.000000   -1.000000   20.000000   26.000000  \n",
       "25%           462.000000   45.000000   73.000000  100.000000  \n",
       "50%           624.000000   60.000000  100.000000  134.000000  \n",
       "75%           795.000000   85.000000  142.000000  173.000000  \n",
       "max         10277.000000  309.000000  944.000000  883.000000  \n",
       "IQR           333.000000   40.000000   69.000000   73.000000  \n",
       "UpperRange   1294.500000  145.000000  245.500000  282.500000  \n",
       "LowerRange    -37.500000  -15.000000  -30.500000   -9.500000  "
      ]
     },
     "execution_count": 26,
     "metadata": {},
     "output_type": "execute_result"
    }
   ],
   "source": [
    "# This dataframe has rows for the IQR Upper Bound and Lower Bound numbers for each variable\n",
    "\n",
    "iqrdata.loc['IQR'] = (iqrdata.loc['75%']-iqrdata.loc['25%'])\n",
    "iqrdata.loc['UpperRange'] = (iqrdata.loc['75%']+(1.5*iqrdata.loc['IQR']))\n",
    "iqrdata.loc['LowerRange'] = (iqrdata.loc['25%']-(1.5*iqrdata.loc['IQR']))\n",
    "iqrdata"
   ]
  },
  {
   "cell_type": "markdown",
   "metadata": {},
   "source": [
    "- We need to connect the upper bound and lower bound limits to all the variable results in the original dataframe\n",
    "- Check to make sure the dataframe shows these changes in variables\n",
    "- Create a new dataframe of the results excluding the outliers"
   ]
  },
  {
   "cell_type": "markdown",
   "metadata": {},
   "source": [
    "# Meta Data:"
   ]
  },
  {
   "cell_type": "markdown",
   "metadata": {},
   "source": [
    "- Do we need metadata?\n",
    "- Will this help create the heatmap and correlations?"
   ]
  },
  {
   "cell_type": "markdown",
   "metadata": {},
   "source": [
    "__**Not Finished__\n",
    "\n",
    "data = []\n",
    "for v in compdata.columns:\n",
    "    # Defining the role\n",
    "    if v == 'I1':\n",
    "        role = 'ticker'\n",
    "    elif v == 'I2':\n",
    "        role = 'company_name'\n",
    "    elif v == 'I3':\n",
    "        role = 'standard_industry_classifier'\n",
    "    else:\n",
    "        role = 'input'\n",
    "         \n",
    "    # Defining the level\n",
    "    if v == ('C2','Y1','Y2','C3'):\n",
    "        level = 'binary'\n",
    "    elif v == 'I2':\n",
    "        role = 'company_name'\n",
    "    elif v == 'I3':\n",
    "        role = 'standard_industry_classifier'\n",
    "    else:\n",
    "        role = 'input'\n",
    "    \n",
    "    # Defining the data type \n",
    "    \n",
    "    # Create a Dict that contains all the metadata for the variable\n",
    "\n",
    "    \n",
    "meta = pd.DataFrame(data, columns=[])\n",
    "meta.set_index('varname', inplace=True)"
   ]
  },
  {
   "cell_type": "markdown",
   "metadata": {},
   "source": [
    "# Variable Imputation:"
   ]
  },
  {
   "cell_type": "markdown",
   "metadata": {},
   "source": [
    "- Should this be done before the IQR?"
   ]
  },
  {
   "cell_type": "code",
   "execution_count": 12,
   "metadata": {},
   "outputs": [],
   "source": [
    "# Target Variable Calculation\n",
    "\n",
    "compdata['P(mid)'] = ((compdata['P(H)']+compdata['P(L)'])/2)\n",
    "\n",
    "def p(row):\n",
    "    if row['P(IPO)'] < row['P(mid)']:\n",
    "        val = 1\n",
    "    else:\n",
    "        val = 0\n",
    "    return val\n",
    "\n",
    "def q(row):\n",
    "    if row['P(1Day)'] > row['P(IPO)']:\n",
    "        val = 1\n",
    "    else:\n",
    "        val = 0\n",
    "    return val\n",
    "\n",
    "compdata['Y1'] = compdata.apply(p, axis=1)\n",
    "compdata['Y2'] = compdata.apply(q, axis=1)"
   ]
  },
  {
   "cell_type": "code",
   "execution_count": 16,
   "metadata": {},
   "outputs": [],
   "source": [
    "# Control Variable Calculation\n",
    "\n",
    "def r(row):\n",
    "    if row['C3'] >= 0:\n",
    "        val = 1\n",
    "    else:\n",
    "        val = 0\n",
    "    return val\n",
    "\n",
    "def s(row):\n",
    "    if row['P(IPO)'] > row['P(mid)']:\n",
    "        val = (row['P(IPO)'] - row['P(mid)'])/row['P(mid)']*100\n",
    "    else:\n",
    "        val = 0\n",
    "    return val\n",
    "\n",
    "compdata['C3_'] = compdata.apply(r, axis=1)\n",
    "compdata['C5_'] = compdata['C5']/compdata['C6'] \n",
    "compdata['C6_'] = compdata.apply(s, axis=1)"
   ]
  },
  {
   "cell_type": "code",
   "execution_count": 1,
   "metadata": {},
   "outputs": [
    {
     "ename": "NameError",
     "evalue": "name 'compdata' is not defined",
     "output_type": "error",
     "traceback": [
      "\u001b[0;31m---------------------------------------------------------------------------\u001b[0m",
      "\u001b[0;31mNameError\u001b[0m                                 Traceback (most recent call last)",
      "\u001b[0;32m<ipython-input-1-11d69b315351>\u001b[0m in \u001b[0;36m<module>\u001b[0;34m\u001b[0m\n\u001b[1;32m      5\u001b[0m \u001b[0;34m\u001b[0m\u001b[0m\n\u001b[1;32m      6\u001b[0m \u001b[0;31m# Percentage of real words\u001b[0m\u001b[0;34m\u001b[0m\u001b[0;34m\u001b[0m\u001b[0;34m\u001b[0m\u001b[0m\n\u001b[0;32m----> 7\u001b[0;31m \u001b[0mcompdata\u001b[0m\u001b[0;34m[\u001b[0m\u001b[0;34m'T3_'\u001b[0m\u001b[0;34m]\u001b[0m \u001b[0;34m=\u001b[0m \u001b[0mcompdata\u001b[0m\u001b[0;34m[\u001b[0m\u001b[0;34m'T3'\u001b[0m\u001b[0;34m]\u001b[0m\u001b[0;34m/\u001b[0m\u001b[0mcompdata\u001b[0m\u001b[0;34m[\u001b[0m\u001b[0;34m'T2'\u001b[0m\u001b[0;34m]\u001b[0m\u001b[0;34m\u001b[0m\u001b[0;34m\u001b[0m\u001b[0m\n\u001b[0m\u001b[1;32m      8\u001b[0m \u001b[0;31m# Percentage of long sentences\u001b[0m\u001b[0;34m\u001b[0m\u001b[0;34m\u001b[0m\u001b[0;34m\u001b[0m\u001b[0m\n\u001b[1;32m      9\u001b[0m \u001b[0mcompdata\u001b[0m\u001b[0;34m[\u001b[0m\u001b[0;34m'T4_'\u001b[0m\u001b[0;34m]\u001b[0m \u001b[0;34m=\u001b[0m \u001b[0mcompdata\u001b[0m\u001b[0;34m[\u001b[0m\u001b[0;34m'T4'\u001b[0m\u001b[0;34m]\u001b[0m\u001b[0;34m/\u001b[0m\u001b[0mcompdata\u001b[0m\u001b[0;34m[\u001b[0m\u001b[0;34m'T1'\u001b[0m\u001b[0;34m]\u001b[0m\u001b[0;34m\u001b[0m\u001b[0;34m\u001b[0m\u001b[0m\n",
      "\u001b[0;31mNameError\u001b[0m: name 'compdata' is not defined"
     ]
    }
   ],
   "source": [
    "# Ratios:\n",
    "\n",
    "    # ** How to fins the ratio for T1 and T2\n",
    "    # ** Should the ratios be multiplied by 100?\n",
    "\n",
    "# Percentage of real words\n",
    "compdata['T3_'] = compdata['T3']/compdata['T2'] \n",
    "# Percentage of long sentences\n",
    "compdata['T4_'] = compdata['T4']/compdata['T1'] \n",
    "# Percentage of long words\n",
    "compdata['T5_'] = compdata['T5']/compdata['T2'] \n",
    "# Percentage of positive words\n",
    "compdata['S1_'] = compdata['S1']/compdata['T2'] \n",
    "# Percentage of negative words\n",
    "compdata['S2_'] = compdata['S2']/compdata['T2'] \n",
    "# Percentage of uncertain words\n",
    "compdata['S3_'] = compdata['S3']/compdata['T2']"
   ]
  },
  {
   "cell_type": "code",
   "execution_count": 18,
   "metadata": {},
   "outputs": [
    {
     "data": {
      "text/html": [
       "<div>\n",
       "<style scoped>\n",
       "    .dataframe tbody tr th:only-of-type {\n",
       "        vertical-align: middle;\n",
       "    }\n",
       "\n",
       "    .dataframe tbody tr th {\n",
       "        vertical-align: top;\n",
       "    }\n",
       "\n",
       "    .dataframe thead th {\n",
       "        text-align: right;\n",
       "    }\n",
       "</style>\n",
       "<table border=\"1\" class=\"dataframe\">\n",
       "  <thead>\n",
       "    <tr style=\"text-align: right;\">\n",
       "      <th></th>\n",
       "      <th>I1</th>\n",
       "      <th>I2</th>\n",
       "      <th>I3</th>\n",
       "      <th>P(IPO)</th>\n",
       "      <th>P(H)</th>\n",
       "      <th>P(L)</th>\n",
       "      <th>P(1Day)</th>\n",
       "      <th>C1</th>\n",
       "      <th>C2</th>\n",
       "      <th>C3</th>\n",
       "      <th>...</th>\n",
       "      <th>Y2</th>\n",
       "      <th>C3_</th>\n",
       "      <th>C5_</th>\n",
       "      <th>C6_</th>\n",
       "      <th>T3_</th>\n",
       "      <th>T4_</th>\n",
       "      <th>T5_</th>\n",
       "      <th>S1_</th>\n",
       "      <th>S2_</th>\n",
       "      <th>S3_</th>\n",
       "    </tr>\n",
       "  </thead>\n",
       "  <tbody>\n",
       "    <tr>\n",
       "      <th>0</th>\n",
       "      <td>AATI</td>\n",
       "      <td>ADVANCED ANALOGIC TECHNOLOGIES INC</td>\n",
       "      <td>3674</td>\n",
       "      <td>10.0</td>\n",
       "      <td>9.5</td>\n",
       "      <td>8.5</td>\n",
       "      <td>11.870000</td>\n",
       "      <td>122.0</td>\n",
       "      <td>1.0</td>\n",
       "      <td>3.43</td>\n",
       "      <td>...</td>\n",
       "      <td>1</td>\n",
       "      <td>1</td>\n",
       "      <td>3.864345</td>\n",
       "      <td>11.111111</td>\n",
       "      <td>0.908876</td>\n",
       "      <td>0.640426</td>\n",
       "      <td>0.054250</td>\n",
       "      <td>0.004875</td>\n",
       "      <td>0.009199</td>\n",
       "      <td>0.010929</td>\n",
       "    </tr>\n",
       "    <tr>\n",
       "      <th>1</th>\n",
       "      <td>ABPI</td>\n",
       "      <td>ACCENTIA BIOPHARMACEUTICALS INC</td>\n",
       "      <td>2834</td>\n",
       "      <td>8.0</td>\n",
       "      <td>10.0</td>\n",
       "      <td>8.0</td>\n",
       "      <td>7.250000</td>\n",
       "      <td>259.0</td>\n",
       "      <td>0.0</td>\n",
       "      <td>-1.62</td>\n",
       "      <td>...</td>\n",
       "      <td>0</td>\n",
       "      <td>0</td>\n",
       "      <td>12.028832</td>\n",
       "      <td>0.000000</td>\n",
       "      <td>0.898724</td>\n",
       "      <td>0.644753</td>\n",
       "      <td>0.051395</td>\n",
       "      <td>0.003258</td>\n",
       "      <td>0.011105</td>\n",
       "      <td>0.010876</td>\n",
       "    </tr>\n",
       "    <tr>\n",
       "      <th>2</th>\n",
       "      <td>ACAD</td>\n",
       "      <td>ACADIA PHARMACEUTICALS INC</td>\n",
       "      <td>2834</td>\n",
       "      <td>7.0</td>\n",
       "      <td>14.0</td>\n",
       "      <td>12.0</td>\n",
       "      <td>6.700000</td>\n",
       "      <td>90.0</td>\n",
       "      <td>1.0</td>\n",
       "      <td>-1.24</td>\n",
       "      <td>...</td>\n",
       "      <td>0</td>\n",
       "      <td>0</td>\n",
       "      <td>3.369134</td>\n",
       "      <td>0.000000</td>\n",
       "      <td>0.909350</td>\n",
       "      <td>0.636816</td>\n",
       "      <td>0.061764</td>\n",
       "      <td>0.011593</td>\n",
       "      <td>0.006271</td>\n",
       "      <td>0.011403</td>\n",
       "    </tr>\n",
       "    <tr>\n",
       "      <th>3</th>\n",
       "      <td>ACHN</td>\n",
       "      <td>ACHILLION PHARMACEUTICALS INC</td>\n",
       "      <td>2834</td>\n",
       "      <td>11.5</td>\n",
       "      <td>16.0</td>\n",
       "      <td>14.0</td>\n",
       "      <td>12.390000</td>\n",
       "      <td>209.0</td>\n",
       "      <td>1.0</td>\n",
       "      <td>-0.91</td>\n",
       "      <td>...</td>\n",
       "      <td>1</td>\n",
       "      <td>0</td>\n",
       "      <td>3.299697</td>\n",
       "      <td>0.000000</td>\n",
       "      <td>0.917060</td>\n",
       "      <td>0.539634</td>\n",
       "      <td>0.061630</td>\n",
       "      <td>0.009686</td>\n",
       "      <td>0.007144</td>\n",
       "      <td>0.013319</td>\n",
       "    </tr>\n",
       "    <tr>\n",
       "      <th>4</th>\n",
       "      <td>ACLI</td>\n",
       "      <td>AMERICAN COMMERCIAL LINES INC.</td>\n",
       "      <td>4492</td>\n",
       "      <td>21.0</td>\n",
       "      <td>21.0</td>\n",
       "      <td>19.0</td>\n",
       "      <td>56.599998</td>\n",
       "      <td>80.0</td>\n",
       "      <td>1.0</td>\n",
       "      <td>0.07</td>\n",
       "      <td>...</td>\n",
       "      <td>1</td>\n",
       "      <td>1</td>\n",
       "      <td>3.726269</td>\n",
       "      <td>5.000000</td>\n",
       "      <td>0.888469</td>\n",
       "      <td>0.587413</td>\n",
       "      <td>0.048550</td>\n",
       "      <td>0.004518</td>\n",
       "      <td>0.010047</td>\n",
       "      <td>0.011261</td>\n",
       "    </tr>\n",
       "  </tbody>\n",
       "</table>\n",
       "<p>5 rows × 34 columns</p>\n",
       "</div>"
      ],
      "text/plain": [
       "     I1                                  I2    I3  P(IPO)  P(H)  P(L)  \\\n",
       "0  AATI  ADVANCED ANALOGIC TECHNOLOGIES INC  3674    10.0   9.5   8.5   \n",
       "1  ABPI     ACCENTIA BIOPHARMACEUTICALS INC  2834     8.0  10.0   8.0   \n",
       "2  ACAD          ACADIA PHARMACEUTICALS INC  2834     7.0  14.0  12.0   \n",
       "3  ACHN       ACHILLION PHARMACEUTICALS INC  2834    11.5  16.0  14.0   \n",
       "4  ACLI     AMERICAN COMMERCIAL LINES INC.   4492    21.0  21.0  19.0   \n",
       "\n",
       "     P(1Day)     C1   C2    C3  ...  Y2  C3_        C5_        C6_       T3_  \\\n",
       "0  11.870000  122.0  1.0  3.43  ...   1    1   3.864345  11.111111  0.908876   \n",
       "1   7.250000  259.0  0.0 -1.62  ...   0    0  12.028832   0.000000  0.898724   \n",
       "2   6.700000   90.0  1.0 -1.24  ...   0    0   3.369134   0.000000  0.909350   \n",
       "3  12.390000  209.0  1.0 -0.91  ...   1    0   3.299697   0.000000  0.917060   \n",
       "4  56.599998   80.0  1.0  0.07  ...   1    1   3.726269   5.000000  0.888469   \n",
       "\n",
       "        T4_       T5_       S1_       S2_       S3_  \n",
       "0  0.640426  0.054250  0.004875  0.009199  0.010929  \n",
       "1  0.644753  0.051395  0.003258  0.011105  0.010876  \n",
       "2  0.636816  0.061764  0.011593  0.006271  0.011403  \n",
       "3  0.539634  0.061630  0.009686  0.007144  0.013319  \n",
       "4  0.587413  0.048550  0.004518  0.010047  0.011261  \n",
       "\n",
       "[5 rows x 34 columns]"
      ]
     },
     "execution_count": 18,
     "metadata": {},
     "output_type": "execute_result"
    }
   ],
   "source": [
    "# Make sure all values were added\n",
    "compdata.head()"
   ]
  },
  {
   "cell_type": "markdown",
   "metadata": {},
   "source": [
    "# Decision Trees\n",
    "\n",
    "Approaches to distribute the missing value instances to child nodes:\n",
    "\n",
    "- all goes to the node which already has the biggest number of instances (CART, is not the primary rule)\n",
    "- distribute to all children, but with diminished weights, proportional with the number of instances from each child node (C45 and others)\n",
    "- distribute randomly to only one single child node, eventually according with a categorical distribution (I have seen that in various implementations of C45 and CART for a faster running time)\n",
    "- build, sort and use surrogates to distribute instances to a child node, where surrogates are input features which resembles best how the - test feature send data instances to left or right child node (CART, if that fails, the majority rule is used)\n",
    "\n",
    "ref: https://stats.stackexchange.com/questions/96025/how-do-decision-tree-learning-algorithms-deal-with-missing-values-under-the-hoo"
   ]
  },
  {
   "cell_type": "markdown",
   "metadata": {},
   "source": [
    "# Bayesian Solution\n",
    "- we will look into how we can incorporate this into determining missing values.  \n",
    "- need to look into this further - very complex."
   ]
  },
  {
   "cell_type": "code",
   "execution_count": null,
   "metadata": {},
   "outputs": [],
   "source": [
    "# Sample code taken from baseball that'll be helpful for binning later on.\n",
    "\n",
    "#def assign_win_bins(W):\n",
    "#    if W < 50:                    \n",
    "#        return(1)\n",
    "#    if W >= 50 and W <= 69:       \n",
    "#        return(2)\n",
    "#    if W >= 70 and W <= 89:       \n",
    "#        return(3)\n",
    "#    if W >= 90 and W <= 109:      \n",
    "#        return(4)\n",
    "#    if W >= 110:                  \n",
    "#        return(5)"
   ]
  }
 ],
 "metadata": {
  "kernelspec": {
   "display_name": "Python 3",
   "language": "python",
   "name": "python3"
  },
  "language_info": {
   "codemirror_mode": {
    "name": "ipython",
    "version": 3
   },
   "file_extension": ".py",
   "mimetype": "text/x-python",
   "name": "python",
   "nbconvert_exporter": "python",
   "pygments_lexer": "ipython3",
   "version": "3.6.7"
  }
 },
 "nbformat": 4,
 "nbformat_minor": 4
}
