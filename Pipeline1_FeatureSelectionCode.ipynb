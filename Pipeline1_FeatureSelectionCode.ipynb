{
 "cells": [
  {
   "cell_type": "markdown",
   "metadata": {},
   "source": [
    "# Feature Selection: Pipeline 1"
   ]
  },
  {
   "cell_type": "code",
   "execution_count": 29,
   "metadata": {},
   "outputs": [],
   "source": [
    "# import required package for data handling\n",
    "import pandas as pd\n",
    "import numpy as np\n",
    "\n",
    "# import required packages for splitting data\n",
    "from sklearn import model_selection\n",
    "from sklearn.model_selection import cross_val_score\n",
    "from sklearn.model_selection import train_test_split\n",
    "\n",
    "# import required packages for evaluating models\n",
    "from sklearn import metrics\n",
    "from sklearn.metrics import confusion_matrix\n",
    "from sklearn.metrics import classification_report\n",
    "from sklearn.metrics import roc_auc_score\n",
    "from sklearn.metrics import accuracy_score\n",
    "from sklearn.metrics import precision_recall_fscore_support\n",
    "\n",
    "# import `logistic regression` model\n",
    "from sklearn.linear_model import LogisticRegression\n",
    "from sklearn.feature_selection import RFE\n",
    "from sklearn import datasets"
   ]
  },
  {
   "cell_type": "code",
   "execution_count": 30,
   "metadata": {},
   "outputs": [
    {
     "data": {
      "text/html": [
       "<div>\n",
       "<style scoped>\n",
       "    .dataframe tbody tr th:only-of-type {\n",
       "        vertical-align: middle;\n",
       "    }\n",
       "\n",
       "    .dataframe tbody tr th {\n",
       "        vertical-align: top;\n",
       "    }\n",
       "\n",
       "    .dataframe thead th {\n",
       "        text-align: right;\n",
       "    }\n",
       "</style>\n",
       "<table border=\"1\" class=\"dataframe\">\n",
       "  <thead>\n",
       "    <tr style=\"text-align: right;\">\n",
       "      <th></th>\n",
       "      <th>C1_skew</th>\n",
       "      <th>C4_skew</th>\n",
       "      <th>T3_skew</th>\n",
       "      <th>T4_skew</th>\n",
       "      <th>T5_skew</th>\n",
       "      <th>S1_skew</th>\n",
       "      <th>S2_skew</th>\n",
       "      <th>S3_skew</th>\n",
       "      <th>C5_skew</th>\n",
       "      <th>C6_skew</th>\n",
       "      <th>Imputed_C7_skew</th>\n",
       "      <th>C3_</th>\n",
       "      <th>Imputed_C2</th>\n",
       "      <th>I3_bins_new</th>\n",
       "      <th>Y1</th>\n",
       "      <th>Y2</th>\n",
       "    </tr>\n",
       "  </thead>\n",
       "  <tbody>\n",
       "    <tr>\n",
       "      <th>0</th>\n",
       "      <td>0.080099</td>\n",
       "      <td>0.624582</td>\n",
       "      <td>0.001318</td>\n",
       "      <td>0.103944</td>\n",
       "      <td>0.322279</td>\n",
       "      <td>-0.128186</td>\n",
       "      <td>0.219684</td>\n",
       "      <td>-0.078207</td>\n",
       "      <td>0.081204</td>\n",
       "      <td>1.268954</td>\n",
       "      <td>-0.510133</td>\n",
       "      <td>1</td>\n",
       "      <td>1.0</td>\n",
       "      <td>2</td>\n",
       "      <td>0</td>\n",
       "      <td>1</td>\n",
       "    </tr>\n",
       "    <tr>\n",
       "      <th>1</th>\n",
       "      <td>1.189305</td>\n",
       "      <td>-0.678057</td>\n",
       "      <td>-0.036697</td>\n",
       "      <td>0.165734</td>\n",
       "      <td>-0.079660</td>\n",
       "      <td>-1.339479</td>\n",
       "      <td>0.810591</td>\n",
       "      <td>-0.099214</td>\n",
       "      <td>2.216722</td>\n",
       "      <td>-0.788429</td>\n",
       "      <td>-0.829202</td>\n",
       "      <td>0</td>\n",
       "      <td>0.0</td>\n",
       "      <td>2</td>\n",
       "      <td>1</td>\n",
       "      <td>0</td>\n",
       "    </tr>\n",
       "    <tr>\n",
       "      <th>2</th>\n",
       "      <td>-0.375953</td>\n",
       "      <td>0.347357</td>\n",
       "      <td>0.003138</td>\n",
       "      <td>0.052862</td>\n",
       "      <td>1.317945</td>\n",
       "      <td>2.681739</td>\n",
       "      <td>-1.006516</td>\n",
       "      <td>0.104299</td>\n",
       "      <td>-0.191013</td>\n",
       "      <td>-0.788429</td>\n",
       "      <td>-1.359211</td>\n",
       "      <td>0</td>\n",
       "      <td>1.0</td>\n",
       "      <td>2</td>\n",
       "      <td>1</td>\n",
       "      <td>0</td>\n",
       "    </tr>\n",
       "    <tr>\n",
       "      <th>3</th>\n",
       "      <td>0.876046</td>\n",
       "      <td>0.324883</td>\n",
       "      <td>0.033404</td>\n",
       "      <td>-1.176327</td>\n",
       "      <td>1.300925</td>\n",
       "      <td>2.075026</td>\n",
       "      <td>-0.585967</td>\n",
       "      <td>0.756765</td>\n",
       "      <td>-0.232631</td>\n",
       "      <td>-0.788429</td>\n",
       "      <td>-1.301786</td>\n",
       "      <td>0</td>\n",
       "      <td>1.0</td>\n",
       "      <td>2</td>\n",
       "      <td>1</td>\n",
       "      <td>1</td>\n",
       "    </tr>\n",
       "    <tr>\n",
       "      <th>4</th>\n",
       "      <td>-0.553749</td>\n",
       "      <td>-1.247973</td>\n",
       "      <td>-0.073191</td>\n",
       "      <td>-0.606195</td>\n",
       "      <td>-0.495062</td>\n",
       "      <td>-0.361134</td>\n",
       "      <td>0.497458</td>\n",
       "      <td>0.050790</td>\n",
       "      <td>0.009291</td>\n",
       "      <td>1.264954</td>\n",
       "      <td>0.884017</td>\n",
       "      <td>1</td>\n",
       "      <td>1.0</td>\n",
       "      <td>1</td>\n",
       "      <td>0</td>\n",
       "      <td>1</td>\n",
       "    </tr>\n",
       "  </tbody>\n",
       "</table>\n",
       "</div>"
      ],
      "text/plain": [
       "    C1_skew   C4_skew   T3_skew   T4_skew   T5_skew   S1_skew   S2_skew  \\\n",
       "0  0.080099  0.624582  0.001318  0.103944  0.322279 -0.128186  0.219684   \n",
       "1  1.189305 -0.678057 -0.036697  0.165734 -0.079660 -1.339479  0.810591   \n",
       "2 -0.375953  0.347357  0.003138  0.052862  1.317945  2.681739 -1.006516   \n",
       "3  0.876046  0.324883  0.033404 -1.176327  1.300925  2.075026 -0.585967   \n",
       "4 -0.553749 -1.247973 -0.073191 -0.606195 -0.495062 -0.361134  0.497458   \n",
       "\n",
       "    S3_skew   C5_skew   C6_skew  Imputed_C7_skew  C3_  Imputed_C2  \\\n",
       "0 -0.078207  0.081204  1.268954        -0.510133    1         1.0   \n",
       "1 -0.099214  2.216722 -0.788429        -0.829202    0         0.0   \n",
       "2  0.104299 -0.191013 -0.788429        -1.359211    0         1.0   \n",
       "3  0.756765 -0.232631 -0.788429        -1.301786    0         1.0   \n",
       "4  0.050790  0.009291  1.264954         0.884017    1         1.0   \n",
       "\n",
       "   I3_bins_new  Y1  Y2  \n",
       "0            2   0   1  \n",
       "1            2   1   0  \n",
       "2            2   1   0  \n",
       "3            2   1   1  \n",
       "4            1   0   1  "
      ]
     },
     "execution_count": 30,
     "metadata": {},
     "output_type": "execute_result"
    }
   ],
   "source": [
    "data = pd.read_csv('pipeline1.csv', header=0)\n",
    "data.head()"
   ]
  },
  {
   "cell_type": "code",
   "execution_count": 31,
   "metadata": {},
   "outputs": [
    {
     "data": {
      "text/plain": [
       "'Y2'"
      ]
     },
     "execution_count": 31,
     "metadata": {},
     "output_type": "execute_result"
    }
   ],
   "source": [
    "list(data.columns)[15]"
   ]
  },
  {
   "cell_type": "code",
   "execution_count": 32,
   "metadata": {},
   "outputs": [
    {
     "data": {
      "text/plain": [
       "Index(['C1_skew', 'C4_skew', 'T3_skew', 'T4_skew', 'T5_skew', 'S1_skew',\n",
       "       'S2_skew', 'S3_skew', 'C5_skew', 'C6_skew', 'Imputed_C7_skew', 'C3_',\n",
       "       'Imputed_C2', 'I3_bins_new', 'Y1', 'Y2'],\n",
       "      dtype='object')"
      ]
     },
     "execution_count": 32,
     "metadata": {},
     "output_type": "execute_result"
    }
   ],
   "source": [
    "data.columns"
   ]
  },
  {
   "cell_type": "code",
   "execution_count": 33,
   "metadata": {},
   "outputs": [
    {
     "name": "stdout",
     "output_type": "stream",
     "text": [
      "Num Features: 5\n",
      "Selected Features: [False False  True  True False False  True False False  True  True False\n",
      " False False]\n",
      "Feature Ranking: [ 8  4  1  1  5  3  1 10  9  1  1  7  2  6]\n"
     ]
    }
   ],
   "source": [
    "# Y1 Selection:\n",
    "\n",
    "# your df\n",
    "dataframe = data\n",
    "array = dataframe.values\n",
    "X = dataframe[['C1_skew','C4_skew','T3_skew','T4_skew','T5_skew','S1_skew','S2_skew','S3_skew','C5_skew','C6_skew','Imputed_C7_skew','C3_','Imputed_C2','I3_bins_new']].to_numpy()\n",
    "Y = array[:,14] #target Y1\n",
    "\n",
    "# create a base classifier used to evaluate a subset of attributes\n",
    "model = LogisticRegression()\n",
    "\n",
    "# create the RFE model and select 5 attributes\n",
    "rfe = RFE(model, 5)\n",
    "fit = rfe.fit(X, Y)\n",
    "\n",
    "# summarize the selection of the attributes for Y1\n",
    "print(\"Num Features: %s\" % (fit.n_features_))\n",
    "print(\"Selected Features: %s\" % (fit.support_))\n",
    "print(\"Feature Ranking: %s\" % (fit.ranking_))\n",
    "\n",
    "X_reduced = rfe.transform(X)"
   ]
  },
  {
   "cell_type": "code",
   "execution_count": 34,
   "metadata": {},
   "outputs": [
    {
     "name": "stdout",
     "output_type": "stream",
     "text": [
      "Num Features: 5\n",
      "Selected Features: [False  True  True False False False False False False  True False False\n",
      "  True  True]\n",
      "Feature Ranking: [ 8  1  1  9 10  5  2  3  4  1  7  6  1  1]\n"
     ]
    }
   ],
   "source": [
    "# Y1 Selection:\n",
    "\n",
    "# your df\n",
    "dataframe = data\n",
    "array = dataframe.values\n",
    "X = dataframe[['C1_skew','C4_skew','T3_skew','T4_skew','T5_skew','S1_skew','S2_skew','S3_skew','C5_skew','C6_skew','Imputed_C7_skew','C3_','Imputed_C2','I3_bins_new']].to_numpy()\n",
    "Y = array[:,15] # target Y2\n",
    "\n",
    "# create a base classifier used to evaluate a subset of attributes\n",
    "model = LogisticRegression()\n",
    "\n",
    "# create the RFE model and select 5 attributes\n",
    "rfe = RFE(model, 5)\n",
    "fit = rfe.fit(X, Y)\n",
    "\n",
    "# summarize the selection of the attributes for Y1\n",
    "print(\"Num Features: %s\" % (fit.n_features_))\n",
    "print(\"Selected Features: %s\" % (fit.support_))\n",
    "print(\"Feature Ranking: %s\" % (fit.ranking_))\n",
    "\n",
    "X_reduced = rfe.transform(X)"
   ]
  },
  {
   "cell_type": "code",
   "execution_count": null,
   "metadata": {},
   "outputs": [],
   "source": []
  }
 ],
 "metadata": {
  "kernelspec": {
   "display_name": "Python 3",
   "language": "python",
   "name": "python3"
  },
  "language_info": {
   "codemirror_mode": {
    "name": "ipython",
    "version": 3
   },
   "file_extension": ".py",
   "mimetype": "text/x-python",
   "name": "python",
   "nbconvert_exporter": "python",
   "pygments_lexer": "ipython3",
   "version": "3.6.7"
  }
 },
 "nbformat": 4,
 "nbformat_minor": 4
}
