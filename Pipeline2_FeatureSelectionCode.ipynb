{
 "cells": [
  {
   "cell_type": "markdown",
   "metadata": {},
   "source": [
    "# Feature Selection: Pipeline 2"
   ]
  },
  {
   "cell_type": "code",
   "execution_count": 43,
   "metadata": {},
   "outputs": [],
   "source": [
    "# import required package for data handling\n",
    "import pandas as pd\n",
    "import numpy as np\n",
    "\n",
    "# import required packages for splitting data\n",
    "from sklearn import model_selection\n",
    "from sklearn.model_selection import cross_val_score\n",
    "from sklearn.model_selection import train_test_split\n",
    "\n",
    "# import required packages for evaluating models\n",
    "from sklearn import metrics\n",
    "from sklearn.metrics import confusion_matrix\n",
    "from sklearn.metrics import classification_report\n",
    "from sklearn.metrics import roc_auc_score\n",
    "from sklearn.metrics import accuracy_score\n",
    "from sklearn.metrics import precision_recall_fscore_support\n",
    "\n",
    "# import `logistic regression` model\n",
    "from sklearn.linear_model import LogisticRegression\n",
    "from sklearn.feature_selection import RFE\n",
    "from sklearn import datasets"
   ]
  },
  {
   "cell_type": "code",
   "execution_count": 44,
   "metadata": {},
   "outputs": [
    {
     "data": {
      "text/html": [
       "<div>\n",
       "<style scoped>\n",
       "    .dataframe tbody tr th:only-of-type {\n",
       "        vertical-align: middle;\n",
       "    }\n",
       "\n",
       "    .dataframe tbody tr th {\n",
       "        vertical-align: top;\n",
       "    }\n",
       "\n",
       "    .dataframe thead th {\n",
       "        text-align: right;\n",
       "    }\n",
       "</style>\n",
       "<table border=\"1\" class=\"dataframe\">\n",
       "  <thead>\n",
       "    <tr style=\"text-align: right;\">\n",
       "      <th></th>\n",
       "      <th>C1_skew</th>\n",
       "      <th>C4_skew</th>\n",
       "      <th>T3_skew</th>\n",
       "      <th>T4_skew</th>\n",
       "      <th>T5_skew</th>\n",
       "      <th>S1_skew</th>\n",
       "      <th>S2_skew</th>\n",
       "      <th>S3_skew</th>\n",
       "      <th>C5_skew</th>\n",
       "      <th>C6_skew</th>\n",
       "      <th>Imputed_C7_skew</th>\n",
       "      <th>C3_</th>\n",
       "      <th>Imputed_C2</th>\n",
       "      <th>I3_bins_new</th>\n",
       "      <th>Y1</th>\n",
       "      <th>Y2</th>\n",
       "    </tr>\n",
       "  </thead>\n",
       "  <tbody>\n",
       "    <tr>\n",
       "      <th>0</th>\n",
       "      <td>0.298869</td>\n",
       "      <td>0.812673</td>\n",
       "      <td>0.880238</td>\n",
       "      <td>0.558137</td>\n",
       "      <td>0.525711</td>\n",
       "      <td>0.311141</td>\n",
       "      <td>0.332613</td>\n",
       "      <td>0.353448</td>\n",
       "      <td>0.324364</td>\n",
       "      <td>0.981162</td>\n",
       "      <td>0.039266</td>\n",
       "      <td>1</td>\n",
       "      <td>1.0</td>\n",
       "      <td>2</td>\n",
       "      <td>0</td>\n",
       "      <td>1</td>\n",
       "    </tr>\n",
       "    <tr>\n",
       "      <th>1</th>\n",
       "      <td>0.470469</td>\n",
       "      <td>0.461399</td>\n",
       "      <td>0.706297</td>\n",
       "      <td>0.570597</td>\n",
       "      <td>0.454929</td>\n",
       "      <td>0.179869</td>\n",
       "      <td>0.385485</td>\n",
       "      <td>0.350794</td>\n",
       "      <td>0.509756</td>\n",
       "      <td>-0.000000</td>\n",
       "      <td>0.020734</td>\n",
       "      <td>0</td>\n",
       "      <td>0.0</td>\n",
       "      <td>2</td>\n",
       "      <td>1</td>\n",
       "      <td>0</td>\n",
       "    </tr>\n",
       "    <tr>\n",
       "      <th>2</th>\n",
       "      <td>0.235968</td>\n",
       "      <td>0.739487</td>\n",
       "      <td>0.888695</td>\n",
       "      <td>0.547759</td>\n",
       "      <td>0.707478</td>\n",
       "      <td>0.554517</td>\n",
       "      <td>0.228020</td>\n",
       "      <td>0.376747</td>\n",
       "      <td>0.292113</td>\n",
       "      <td>-0.000000</td>\n",
       "      <td>0.006060</td>\n",
       "      <td>0</td>\n",
       "      <td>1.0</td>\n",
       "      <td>2</td>\n",
       "      <td>1</td>\n",
       "      <td>0</td>\n",
       "    </tr>\n",
       "    <tr>\n",
       "      <th>3</th>\n",
       "      <td>0.421064</td>\n",
       "      <td>0.733517</td>\n",
       "      <td>1.030714</td>\n",
       "      <td>0.273137</td>\n",
       "      <td>0.704293</td>\n",
       "      <td>0.554517</td>\n",
       "      <td>0.262803</td>\n",
       "      <td>0.463703</td>\n",
       "      <td>0.287358</td>\n",
       "      <td>-0.000000</td>\n",
       "      <td>0.006997</td>\n",
       "      <td>0</td>\n",
       "      <td>1.0</td>\n",
       "      <td>2</td>\n",
       "      <td>1</td>\n",
       "      <td>1</td>\n",
       "    </tr>\n",
       "    <tr>\n",
       "      <th>4</th>\n",
       "      <td>0.213477</td>\n",
       "      <td>0.302404</td>\n",
       "      <td>0.544654</td>\n",
       "      <td>0.406966</td>\n",
       "      <td>0.383341</td>\n",
       "      <td>0.285020</td>\n",
       "      <td>0.357360</td>\n",
       "      <td>0.369870</td>\n",
       "      <td>0.315654</td>\n",
       "      <td>0.977075</td>\n",
       "      <td>0.222187</td>\n",
       "      <td>1</td>\n",
       "      <td>1.0</td>\n",
       "      <td>1</td>\n",
       "      <td>0</td>\n",
       "      <td>1</td>\n",
       "    </tr>\n",
       "  </tbody>\n",
       "</table>\n",
       "</div>"
      ],
      "text/plain": [
       "    C1_skew   C4_skew   T3_skew   T4_skew   T5_skew   S1_skew   S2_skew  \\\n",
       "0  0.298869  0.812673  0.880238  0.558137  0.525711  0.311141  0.332613   \n",
       "1  0.470469  0.461399  0.706297  0.570597  0.454929  0.179869  0.385485   \n",
       "2  0.235968  0.739487  0.888695  0.547759  0.707478  0.554517  0.228020   \n",
       "3  0.421064  0.733517  1.030714  0.273137  0.704293  0.554517  0.262803   \n",
       "4  0.213477  0.302404  0.544654  0.406966  0.383341  0.285020  0.357360   \n",
       "\n",
       "    S3_skew   C5_skew   C6_skew  Imputed_C7_skew  C3_  Imputed_C2  \\\n",
       "0  0.353448  0.324364  0.981162         0.039266    1         1.0   \n",
       "1  0.350794  0.509756 -0.000000         0.020734    0         0.0   \n",
       "2  0.376747  0.292113 -0.000000         0.006060    0         1.0   \n",
       "3  0.463703  0.287358 -0.000000         0.006997    0         1.0   \n",
       "4  0.369870  0.315654  0.977075         0.222187    1         1.0   \n",
       "\n",
       "   I3_bins_new  Y1  Y2  \n",
       "0            2   0   1  \n",
       "1            2   1   0  \n",
       "2            2   1   0  \n",
       "3            2   1   1  \n",
       "4            1   0   1  "
      ]
     },
     "execution_count": 44,
     "metadata": {},
     "output_type": "execute_result"
    }
   ],
   "source": [
    "data = pd.read_csv('pipeline2.csv', header=0)\n",
    "data.head()"
   ]
  },
  {
   "cell_type": "code",
   "execution_count": 45,
   "metadata": {},
   "outputs": [
    {
     "data": {
      "text/plain": [
       "'Y2'"
      ]
     },
     "execution_count": 45,
     "metadata": {},
     "output_type": "execute_result"
    }
   ],
   "source": [
    "list(data.columns)[15]"
   ]
  },
  {
   "cell_type": "code",
   "execution_count": 46,
   "metadata": {},
   "outputs": [
    {
     "data": {
      "text/plain": [
       "Index(['C1_skew', 'C4_skew', 'T3_skew', 'T4_skew', 'T5_skew', 'S1_skew',\n",
       "       'S2_skew', 'S3_skew', 'C5_skew', 'C6_skew', 'Imputed_C7_skew', 'C3_',\n",
       "       'Imputed_C2', 'I3_bins_new', 'Y1', 'Y2'],\n",
       "      dtype='object')"
      ]
     },
     "execution_count": 46,
     "metadata": {},
     "output_type": "execute_result"
    }
   ],
   "source": [
    "data.columns"
   ]
  },
  {
   "cell_type": "code",
   "execution_count": 47,
   "metadata": {},
   "outputs": [
    {
     "name": "stdout",
     "output_type": "stream",
     "text": [
      "Num Features: 1\n",
      "Selected Features: [False False False False False False False False False  True False False\n",
      " False False]\n",
      "Feature Ranking: [13  7  5  4  6  3  2 11  9  1  8 12 10 14]\n"
     ]
    }
   ],
   "source": [
    "# your df\n",
    "dataframe = data\n",
    "array = dataframe.values\n",
    "X = dataframe[['C1_skew','C4_skew','T3_skew','T4_skew','T5_skew','S1_skew','S2_skew','S3_skew','C5_skew','C6_skew','Imputed_C7_skew','C3_','Imputed_C2','I3_bins_new']].to_numpy()\n",
    "Y = array[:,14] #target Y1\n",
    "\n",
    "# create a base classifier used to evaluate a subset of attributes\n",
    "model = LogisticRegression()\n",
    "\n",
    "# create the RFE model and select 5 attributes\n",
    "rfe = RFE(model, 1)\n",
    "fit = rfe.fit(X, Y)\n",
    "\n",
    "# summarize the selection of the attributes for Y1\n",
    "print(\"Num Features: %s\" % (fit.n_features_))\n",
    "print(\"Selected Features: %s\" % (fit.support_))\n",
    "print(\"Feature Ranking: %s\" % (fit.ranking_))\n",
    "\n",
    "X_reduced = rfe.transform(X)"
   ]
  },
  {
   "cell_type": "code",
   "execution_count": 35,
   "metadata": {},
   "outputs": [
    {
     "name": "stdout",
     "output_type": "stream",
     "text": [
      "Num Features: 5\n",
      "Selected Features: [False  True False False False False  True False  True  True  True False\n",
      " False False]\n",
      "Feature Ranking: [10  1  6  7  9  3  1  2  1  1  1  8  5  4]\n"
     ]
    }
   ],
   "source": [
    "# your df\n",
    "dataframe = data\n",
    "array = dataframe.values\n",
    "X = dataframe[['C1_skew','C4_skew','T3_skew','T4_skew','T5_skew','S1_skew','S2_skew','S3_skew','C5_skew','C6_skew','Imputed_C7_skew','C3_','Imputed_C2','I3_bins_new']].to_numpy()\n",
    "Y = array[:,15] # target Y2\n",
    "\n",
    "# create a base classifier used to evaluate a subset of attributes\n",
    "model = LogisticRegression()\n",
    "\n",
    "# create the RFE model and select 5 attributes\n",
    "rfe = RFE(model, 5)\n",
    "fit = rfe.fit(X, Y)\n",
    "\n",
    "# summarize the selection of the attributes for Y1\n",
    "print(\"Num Features: %s\" % (fit.n_features_))\n",
    "print(\"Selected Features: %s\" % (fit.support_))\n",
    "print(\"Feature Ranking: %s\" % (fit.ranking_))\n",
    "\n",
    "X_reduced = rfe.transform(X)"
   ]
  },
  {
   "cell_type": "code",
   "execution_count": null,
   "metadata": {},
   "outputs": [],
   "source": []
  }
 ],
 "metadata": {
  "kernelspec": {
   "display_name": "Python 3",
   "language": "python",
   "name": "python3"
  },
  "language_info": {
   "codemirror_mode": {
    "name": "ipython",
    "version": 3
   },
   "file_extension": ".py",
   "mimetype": "text/x-python",
   "name": "python",
   "nbconvert_exporter": "python",
   "pygments_lexer": "ipython3",
   "version": "3.6.7"
  }
 },
 "nbformat": 4,
 "nbformat_minor": 4
}
