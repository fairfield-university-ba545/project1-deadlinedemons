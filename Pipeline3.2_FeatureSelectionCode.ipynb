{
 "cells": [
  {
   "cell_type": "markdown",
   "metadata": {},
   "source": [
    "# Feature Selection: Pipeline 3.2"
   ]
  },
  {
   "cell_type": "code",
   "execution_count": 15,
   "metadata": {},
   "outputs": [],
   "source": [
    "# import required package for data handling\n",
    "import pandas as pd\n",
    "import numpy as np\n",
    "\n",
    "# import required packages for splitting data\n",
    "from sklearn import model_selection\n",
    "from sklearn.model_selection import cross_val_score\n",
    "from sklearn.model_selection import train_test_split\n",
    "\n",
    "# import required packages for evaluating models\n",
    "from sklearn import metrics\n",
    "from sklearn.metrics import confusion_matrix\n",
    "from sklearn.metrics import classification_report\n",
    "from sklearn.metrics import roc_auc_score\n",
    "from sklearn.metrics import accuracy_score\n",
    "from sklearn.metrics import precision_recall_fscore_support\n",
    "\n",
    "# import `logistic regression` model\n",
    "from sklearn.linear_model import LogisticRegression\n",
    "from sklearn.feature_selection import RFE\n",
    "from sklearn import datasets"
   ]
  },
  {
   "cell_type": "code",
   "execution_count": 16,
   "metadata": {},
   "outputs": [
    {
     "data": {
      "text/html": [
       "<div>\n",
       "<style scoped>\n",
       "    .dataframe tbody tr th:only-of-type {\n",
       "        vertical-align: middle;\n",
       "    }\n",
       "\n",
       "    .dataframe tbody tr th {\n",
       "        vertical-align: top;\n",
       "    }\n",
       "\n",
       "    .dataframe thead th {\n",
       "        text-align: right;\n",
       "    }\n",
       "</style>\n",
       "<table border=\"1\" class=\"dataframe\">\n",
       "  <thead>\n",
       "    <tr style=\"text-align: right;\">\n",
       "      <th></th>\n",
       "      <th>C1_skew</th>\n",
       "      <th>C4_skew</th>\n",
       "      <th>T3_skew</th>\n",
       "      <th>T4_skew</th>\n",
       "      <th>T5_skew</th>\n",
       "      <th>S1_skew</th>\n",
       "      <th>S2_skew</th>\n",
       "      <th>S3_skew</th>\n",
       "      <th>C5_skew</th>\n",
       "      <th>C6_skew</th>\n",
       "      <th>Imputed_C7_skew</th>\n",
       "      <th>C3_</th>\n",
       "      <th>Imputed_C2</th>\n",
       "      <th>I3_bins_new</th>\n",
       "      <th>Y1</th>\n",
       "      <th>Y2</th>\n",
       "    </tr>\n",
       "  </thead>\n",
       "  <tbody>\n",
       "    <tr>\n",
       "      <th>0</th>\n",
       "      <td>0.036209</td>\n",
       "      <td>1.381842</td>\n",
       "      <td>1.269795</td>\n",
       "      <td>2.441195</td>\n",
       "      <td>0.331826</td>\n",
       "      <td>0.210101</td>\n",
       "      <td>0.194749</td>\n",
       "      <td>0.166425</td>\n",
       "      <td>0.024701</td>\n",
       "      <td>0.964984</td>\n",
       "      <td>0.040048</td>\n",
       "      <td>1</td>\n",
       "      <td>1.0</td>\n",
       "      <td>2</td>\n",
       "      <td>0</td>\n",
       "      <td>1</td>\n",
       "    </tr>\n",
       "    <tr>\n",
       "      <th>1</th>\n",
       "      <td>0.054104</td>\n",
       "      <td>0.952123</td>\n",
       "      <td>1.246190</td>\n",
       "      <td>2.474773</td>\n",
       "      <td>0.295708</td>\n",
       "      <td>0.123495</td>\n",
       "      <td>0.222908</td>\n",
       "      <td>0.165314</td>\n",
       "      <td>0.042045</td>\n",
       "      <td>-0.000000</td>\n",
       "      <td>0.028733</td>\n",
       "      <td>0</td>\n",
       "      <td>0.0</td>\n",
       "      <td>2</td>\n",
       "      <td>1</td>\n",
       "      <td>0</td>\n",
       "    </tr>\n",
       "    <tr>\n",
       "      <th>2</th>\n",
       "      <td>0.028768</td>\n",
       "      <td>1.290826</td>\n",
       "      <td>1.270902</td>\n",
       "      <td>2.413433</td>\n",
       "      <td>0.420961</td>\n",
       "      <td>0.400509</td>\n",
       "      <td>0.136075</td>\n",
       "      <td>0.176086</td>\n",
       "      <td>0.022342</td>\n",
       "      <td>-0.000000</td>\n",
       "      <td>0.015384</td>\n",
       "      <td>0</td>\n",
       "      <td>1.0</td>\n",
       "      <td>2</td>\n",
       "      <td>1</td>\n",
       "      <td>0</td>\n",
       "    </tr>\n",
       "    <tr>\n",
       "      <th>3</th>\n",
       "      <td>0.049480</td>\n",
       "      <td>1.283436</td>\n",
       "      <td>1.289015</td>\n",
       "      <td>1.744974</td>\n",
       "      <td>0.419443</td>\n",
       "      <td>0.363526</td>\n",
       "      <td>0.155959</td>\n",
       "      <td>0.210509</td>\n",
       "      <td>0.021990</td>\n",
       "      <td>-0.000000</td>\n",
       "      <td>0.016541</td>\n",
       "      <td>0</td>\n",
       "      <td>1.0</td>\n",
       "      <td>2</td>\n",
       "      <td>1</td>\n",
       "      <td>1</td>\n",
       "    </tr>\n",
       "    <tr>\n",
       "      <th>4</th>\n",
       "      <td>0.026054</td>\n",
       "      <td>0.763495</td>\n",
       "      <td>1.222613</td>\n",
       "      <td>2.055109</td>\n",
       "      <td>0.258335</td>\n",
       "      <td>0.193175</td>\n",
       "      <td>0.208076</td>\n",
       "      <td>0.173254</td>\n",
       "      <td>0.024069</td>\n",
       "      <td>0.959650</td>\n",
       "      <td>0.113832</td>\n",
       "      <td>1</td>\n",
       "      <td>1.0</td>\n",
       "      <td>1</td>\n",
       "      <td>0</td>\n",
       "      <td>1</td>\n",
       "    </tr>\n",
       "  </tbody>\n",
       "</table>\n",
       "</div>"
      ],
      "text/plain": [
       "    C1_skew   C4_skew   T3_skew   T4_skew   T5_skew   S1_skew   S2_skew  \\\n",
       "0  0.036209  1.381842  1.269795  2.441195  0.331826  0.210101  0.194749   \n",
       "1  0.054104  0.952123  1.246190  2.474773  0.295708  0.123495  0.222908   \n",
       "2  0.028768  1.290826  1.270902  2.413433  0.420961  0.400509  0.136075   \n",
       "3  0.049480  1.283436  1.289015  1.744974  0.419443  0.363526  0.155959   \n",
       "4  0.026054  0.763495  1.222613  2.055109  0.258335  0.193175  0.208076   \n",
       "\n",
       "    S3_skew   C5_skew   C6_skew  Imputed_C7_skew  C3_  Imputed_C2  \\\n",
       "0  0.166425  0.024701  0.964984         0.040048    1         1.0   \n",
       "1  0.165314  0.042045 -0.000000         0.028733    0         0.0   \n",
       "2  0.176086  0.022342 -0.000000         0.015384    0         1.0   \n",
       "3  0.210509  0.021990 -0.000000         0.016541    0         1.0   \n",
       "4  0.173254  0.024069  0.959650         0.113832    1         1.0   \n",
       "\n",
       "   I3_bins_new  Y1  Y2  \n",
       "0            2   0   1  \n",
       "1            2   1   0  \n",
       "2            2   1   0  \n",
       "3            2   1   1  \n",
       "4            1   0   1  "
      ]
     },
     "execution_count": 16,
     "metadata": {},
     "output_type": "execute_result"
    }
   ],
   "source": [
    "data = pd.read_csv('pipeline3_2.csv', header=0)\n",
    "data.head()"
   ]
  },
  {
   "cell_type": "code",
   "execution_count": 17,
   "metadata": {},
   "outputs": [
    {
     "data": {
      "text/plain": [
       "'Y2'"
      ]
     },
     "execution_count": 17,
     "metadata": {},
     "output_type": "execute_result"
    }
   ],
   "source": [
    "list(data.columns)[15]"
   ]
  },
  {
   "cell_type": "code",
   "execution_count": 18,
   "metadata": {},
   "outputs": [
    {
     "data": {
      "text/plain": [
       "Index(['C1_skew', 'C4_skew', 'T3_skew', 'T4_skew', 'T5_skew', 'S1_skew',\n",
       "       'S2_skew', 'S3_skew', 'C5_skew', 'C6_skew', 'Imputed_C7_skew', 'C3_',\n",
       "       'Imputed_C2', 'I3_bins_new', 'Y1', 'Y2'],\n",
       "      dtype='object')"
      ]
     },
     "execution_count": 18,
     "metadata": {},
     "output_type": "execute_result"
    }
   ],
   "source": [
    "data.columns"
   ]
  },
  {
   "cell_type": "code",
   "execution_count": 20,
   "metadata": {},
   "outputs": [
    {
     "name": "stdout",
     "output_type": "stream",
     "text": [
      "Num Features: 1\n",
      "Selected Features: [False False False False False False False False False  True False False\n",
      " False False]\n",
      "Feature Ranking: [13  8  5  6  4  3  2  7 12  1  9 11 10 14]\n"
     ]
    }
   ],
   "source": [
    "# your df\n",
    "dataframe = data\n",
    "array = dataframe.values\n",
    "X = dataframe[['C1_skew','C4_skew','T3_skew','T4_skew','T5_skew','S1_skew','S2_skew','S3_skew','C5_skew','C6_skew','Imputed_C7_skew','C3_','Imputed_C2','I3_bins_new']].to_numpy()\n",
    "Y = array[:,14] #target Y1\n",
    "\n",
    "# create a base classifier used to evaluate a subset of attributes\n",
    "model = LogisticRegression()\n",
    "\n",
    "# create the RFE model and select 5 attributes\n",
    "rfe = RFE(model, 1)\n",
    "fit = rfe.fit(X, Y)\n",
    "\n",
    "# summarize the selection of the attributes for Y1\n",
    "print(\"Num Features: %s\" % (fit.n_features_))\n",
    "print(\"Selected Features: %s\" % (fit.support_))\n",
    "print(\"Feature Ranking: %s\" % (fit.ranking_))\n",
    "\n",
    "X_reduced = rfe.transform(X)"
   ]
  },
  {
   "cell_type": "code",
   "execution_count": 14,
   "metadata": {},
   "outputs": [
    {
     "name": "stdout",
     "output_type": "stream",
     "text": [
      "Num Features: 5\n",
      "Selected Features: [False  True  True False False False  True  True False  True False False\n",
      " False False]\n",
      "Feature Ranking: [10  1  1  9  8  3  1  1  6  1  4  7  5  2]\n"
     ]
    }
   ],
   "source": [
    "# your df\n",
    "dataframe = data\n",
    "array = dataframe.values\n",
    "X = dataframe[['C1_skew','C4_skew','T3_skew','T4_skew','T5_skew','S1_skew','S2_skew','S3_skew','C5_skew','C6_skew','Imputed_C7_skew','C3_','Imputed_C2','I3_bins_new']].to_numpy()\n",
    "Y = array[:,15] # target Y2\n",
    "\n",
    "# create a base classifier used to evaluate a subset of attributes\n",
    "model = LogisticRegression()\n",
    "\n",
    "# create the RFE model and select 5 attributes\n",
    "rfe = RFE(model, 5)\n",
    "fit = rfe.fit(X, Y)\n",
    "\n",
    "# summarize the selection of the attributes for Y1\n",
    "print(\"Num Features: %s\" % (fit.n_features_))\n",
    "print(\"Selected Features: %s\" % (fit.support_))\n",
    "print(\"Feature Ranking: %s\" % (fit.ranking_))\n",
    "\n",
    "X_reduced = rfe.transform(X)"
   ]
  }
 ],
 "metadata": {
  "kernelspec": {
   "display_name": "Python 3",
   "language": "python",
   "name": "python3"
  },
  "language_info": {
   "codemirror_mode": {
    "name": "ipython",
    "version": 3
   },
   "file_extension": ".py",
   "mimetype": "text/x-python",
   "name": "python",
   "nbconvert_exporter": "python",
   "pygments_lexer": "ipython3",
   "version": "3.6.7"
  }
 },
 "nbformat": 4,
 "nbformat_minor": 4
}
