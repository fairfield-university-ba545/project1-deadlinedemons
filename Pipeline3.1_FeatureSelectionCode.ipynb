{
 "cells": [
  {
   "cell_type": "markdown",
   "metadata": {},
   "source": [
    "# Feature Selection: Pipeline 3.1"
   ]
  },
  {
   "cell_type": "code",
   "execution_count": 18,
   "metadata": {},
   "outputs": [],
   "source": [
    "# import required package for data handling\n",
    "import pandas as pd\n",
    "import numpy as np\n",
    "\n",
    "# import required packages for splitting data\n",
    "from sklearn import model_selection\n",
    "from sklearn.model_selection import cross_val_score\n",
    "from sklearn.model_selection import train_test_split\n",
    "\n",
    "# import required packages for evaluating models\n",
    "from sklearn import metrics\n",
    "from sklearn.metrics import confusion_matrix\n",
    "from sklearn.metrics import classification_report\n",
    "from sklearn.metrics import roc_auc_score\n",
    "from sklearn.metrics import accuracy_score\n",
    "from sklearn.metrics import precision_recall_fscore_support\n",
    "\n",
    "# import `logistic regression` model\n",
    "from sklearn.linear_model import LogisticRegression\n",
    "from sklearn.feature_selection import RFE\n",
    "from sklearn import datasets"
   ]
  },
  {
   "cell_type": "code",
   "execution_count": 19,
   "metadata": {},
   "outputs": [
    {
     "data": {
      "text/html": [
       "<div>\n",
       "<style scoped>\n",
       "    .dataframe tbody tr th:only-of-type {\n",
       "        vertical-align: middle;\n",
       "    }\n",
       "\n",
       "    .dataframe tbody tr th {\n",
       "        vertical-align: top;\n",
       "    }\n",
       "\n",
       "    .dataframe thead th {\n",
       "        text-align: right;\n",
       "    }\n",
       "</style>\n",
       "<table border=\"1\" class=\"dataframe\">\n",
       "  <thead>\n",
       "    <tr style=\"text-align: right;\">\n",
       "      <th></th>\n",
       "      <th>C1_skew</th>\n",
       "      <th>C4_skew</th>\n",
       "      <th>T3_skew</th>\n",
       "      <th>T4_skew</th>\n",
       "      <th>T5_skew</th>\n",
       "      <th>S1_skew</th>\n",
       "      <th>S2_skew</th>\n",
       "      <th>S3_skew</th>\n",
       "      <th>C5_skew</th>\n",
       "      <th>C6_skew</th>\n",
       "      <th>Imputed_C7_skew</th>\n",
       "      <th>C3_</th>\n",
       "      <th>Imputed_C2</th>\n",
       "      <th>I3_bins_new</th>\n",
       "      <th>Y1</th>\n",
       "      <th>Y2</th>\n",
       "    </tr>\n",
       "  </thead>\n",
       "  <tbody>\n",
       "    <tr>\n",
       "      <th>0</th>\n",
       "      <td>0.075166</td>\n",
       "      <td>0.634522</td>\n",
       "      <td>0.622036</td>\n",
       "      <td>0.163401</td>\n",
       "      <td>0.317875</td>\n",
       "      <td>-0.150781</td>\n",
       "      <td>0.220314</td>\n",
       "      <td>-0.118560</td>\n",
       "      <td>0.038988</td>\n",
       "      <td>1.269109</td>\n",
       "      <td>-0.607280</td>\n",
       "      <td>1</td>\n",
       "      <td>1.0</td>\n",
       "      <td>2</td>\n",
       "      <td>0</td>\n",
       "      <td>1</td>\n",
       "    </tr>\n",
       "    <tr>\n",
       "      <th>1</th>\n",
       "      <td>1.784572</td>\n",
       "      <td>-0.677744</td>\n",
       "      <td>0.105400</td>\n",
       "      <td>0.225731</td>\n",
       "      <td>-0.101333</td>\n",
       "      <td>-1.358504</td>\n",
       "      <td>0.867934</td>\n",
       "      <td>-0.140780</td>\n",
       "      <td>1.988896</td>\n",
       "      <td>-0.788429</td>\n",
       "      <td>-0.946172</td>\n",
       "      <td>0</td>\n",
       "      <td>0.0</td>\n",
       "      <td>2</td>\n",
       "      <td>1</td>\n",
       "      <td>0</td>\n",
       "    </tr>\n",
       "    <tr>\n",
       "      <th>2</th>\n",
       "      <td>-0.482648</td>\n",
       "      <td>0.359251</td>\n",
       "      <td>0.647280</td>\n",
       "      <td>0.111490</td>\n",
       "      <td>1.391500</td>\n",
       "      <td>2.089019</td>\n",
       "      <td>-1.047739</td>\n",
       "      <td>0.076708</td>\n",
       "      <td>-0.284815</td>\n",
       "      <td>-0.788429</td>\n",
       "      <td>-1.452379</td>\n",
       "      <td>0</td>\n",
       "      <td>1.0</td>\n",
       "      <td>2</td>\n",
       "      <td>1</td>\n",
       "      <td>0</td>\n",
       "    </tr>\n",
       "    <tr>\n",
       "      <th>3</th>\n",
       "      <td>1.244371</td>\n",
       "      <td>0.336847</td>\n",
       "      <td>1.073356</td>\n",
       "      <td>-1.260460</td>\n",
       "      <td>1.372745</td>\n",
       "      <td>2.089019</td>\n",
       "      <td>-0.630430</td>\n",
       "      <td>0.805082</td>\n",
       "      <td>-0.332517</td>\n",
       "      <td>-0.788429</td>\n",
       "      <td>-1.401754</td>\n",
       "      <td>0</td>\n",
       "      <td>1.0</td>\n",
       "      <td>2</td>\n",
       "      <td>1</td>\n",
       "      <td>1</td>\n",
       "    </tr>\n",
       "    <tr>\n",
       "      <th>4</th>\n",
       "      <td>-0.681012</td>\n",
       "      <td>-1.268502</td>\n",
       "      <td>-0.371534</td>\n",
       "      <td>-0.592161</td>\n",
       "      <td>-0.525495</td>\n",
       "      <td>-0.394125</td>\n",
       "      <td>0.523762</td>\n",
       "      <td>0.019050</td>\n",
       "      <td>-0.048561</td>\n",
       "      <td>1.265166</td>\n",
       "      <td>1.092803</td>\n",
       "      <td>1</td>\n",
       "      <td>1.0</td>\n",
       "      <td>1</td>\n",
       "      <td>0</td>\n",
       "      <td>1</td>\n",
       "    </tr>\n",
       "  </tbody>\n",
       "</table>\n",
       "</div>"
      ],
      "text/plain": [
       "    C1_skew   C4_skew   T3_skew   T4_skew   T5_skew   S1_skew   S2_skew  \\\n",
       "0  0.075166  0.634522  0.622036  0.163401  0.317875 -0.150781  0.220314   \n",
       "1  1.784572 -0.677744  0.105400  0.225731 -0.101333 -1.358504  0.867934   \n",
       "2 -0.482648  0.359251  0.647280  0.111490  1.391500  2.089019 -1.047739   \n",
       "3  1.244371  0.336847  1.073356 -1.260460  1.372745  2.089019 -0.630430   \n",
       "4 -0.681012 -1.268502 -0.371534 -0.592161 -0.525495 -0.394125  0.523762   \n",
       "\n",
       "    S3_skew   C5_skew   C6_skew  Imputed_C7_skew  C3_  Imputed_C2  \\\n",
       "0 -0.118560  0.038988  1.269109        -0.607280    1         1.0   \n",
       "1 -0.140780  1.988896 -0.788429        -0.946172    0         0.0   \n",
       "2  0.076708 -0.284815 -0.788429        -1.452379    0         1.0   \n",
       "3  0.805082 -0.332517 -0.788429        -1.401754    0         1.0   \n",
       "4  0.019050 -0.048561  1.265166         1.092803    1         1.0   \n",
       "\n",
       "   I3_bins_new  Y1  Y2  \n",
       "0            2   0   1  \n",
       "1            2   1   0  \n",
       "2            2   1   0  \n",
       "3            2   1   1  \n",
       "4            1   0   1  "
      ]
     },
     "execution_count": 19,
     "metadata": {},
     "output_type": "execute_result"
    }
   ],
   "source": [
    "data = pd.read_csv('pipeline3_1.csv', header=0)\n",
    "data.head()"
   ]
  },
  {
   "cell_type": "code",
   "execution_count": 20,
   "metadata": {},
   "outputs": [
    {
     "data": {
      "text/plain": [
       "'Y2'"
      ]
     },
     "execution_count": 20,
     "metadata": {},
     "output_type": "execute_result"
    }
   ],
   "source": [
    "list(data.columns)[15]"
   ]
  },
  {
   "cell_type": "code",
   "execution_count": 21,
   "metadata": {},
   "outputs": [
    {
     "data": {
      "text/plain": [
       "Index(['C1_skew', 'C4_skew', 'T3_skew', 'T4_skew', 'T5_skew', 'S1_skew',\n",
       "       'S2_skew', 'S3_skew', 'C5_skew', 'C6_skew', 'Imputed_C7_skew', 'C3_',\n",
       "       'Imputed_C2', 'I3_bins_new', 'Y1', 'Y2'],\n",
       "      dtype='object')"
      ]
     },
     "execution_count": 21,
     "metadata": {},
     "output_type": "execute_result"
    }
   ],
   "source": [
    "data.columns"
   ]
  },
  {
   "cell_type": "code",
   "execution_count": 22,
   "metadata": {},
   "outputs": [
    {
     "name": "stdout",
     "output_type": "stream",
     "text": [
      "Num Features: 6\n",
      "Selected Features: [False False  True  True False False  True False False  True  True False\n",
      "  True False]\n",
      "Feature Ranking: [9 3 1 1 6 2 1 8 4 1 1 5 1 7]\n"
     ]
    }
   ],
   "source": [
    "# your df\n",
    "dataframe = data\n",
    "array = dataframe.values\n",
    "X = dataframe[['C1_skew','C4_skew','T3_skew','T4_skew','T5_skew','S1_skew','S2_skew','S3_skew','C5_skew','C6_skew','Imputed_C7_skew','C3_','Imputed_C2','I3_bins_new']].to_numpy()\n",
    "Y = array[:,14] #target Y1\n",
    "\n",
    "# create a base classifier used to evaluate a subset of attributes\n",
    "model = LogisticRegression()\n",
    "\n",
    "# create the RFE model and select 5 attributes\n",
    "rfe = RFE(model, 6)\n",
    "fit = rfe.fit(X, Y)\n",
    "\n",
    "# summarize the selection of the attributes for Y1\n",
    "print(\"Num Features: %s\" % (fit.n_features_))\n",
    "print(\"Selected Features: %s\" % (fit.support_))\n",
    "print(\"Feature Ranking: %s\" % (fit.ranking_))\n",
    "\n",
    "X_reduced = rfe.transform(X)"
   ]
  },
  {
   "cell_type": "code",
   "execution_count": 17,
   "metadata": {},
   "outputs": [
    {
     "name": "stdout",
     "output_type": "stream",
     "text": [
      "Num Features: 5\n",
      "Selected Features: [False  True False False False False  True False False  True False False\n",
      "  True  True]\n",
      "Feature Ranking: [10  1  3  8  9  6  1  2  5  1  4  7  1  1]\n"
     ]
    }
   ],
   "source": [
    "# your df\n",
    "dataframe = data\n",
    "array = dataframe.values\n",
    "X = dataframe[['C1_skew','C4_skew','T3_skew','T4_skew','T5_skew','S1_skew','S2_skew','S3_skew','C5_skew','C6_skew','Imputed_C7_skew','C3_','Imputed_C2','I3_bins_new']].to_numpy()\n",
    "Y = array[:,15] # target Y2\n",
    "\n",
    "# create a base classifier used to evaluate a subset of attributes\n",
    "model = LogisticRegression()\n",
    "\n",
    "# create the RFE model and select 5 attributes\n",
    "rfe = RFE(model, 5)\n",
    "fit = rfe.fit(X, Y)\n",
    "\n",
    "# summarize the selection of the attributes for Y1\n",
    "print(\"Num Features: %s\" % (fit.n_features_))\n",
    "print(\"Selected Features: %s\" % (fit.support_))\n",
    "print(\"Feature Ranking: %s\" % (fit.ranking_))\n",
    "\n",
    "X_reduced = rfe.transform(X)"
   ]
  },
  {
   "cell_type": "code",
   "execution_count": null,
   "metadata": {},
   "outputs": [],
   "source": []
  }
 ],
 "metadata": {
  "kernelspec": {
   "display_name": "Python 3",
   "language": "python",
   "name": "python3"
  },
  "language_info": {
   "codemirror_mode": {
    "name": "ipython",
    "version": 3
   },
   "file_extension": ".py",
   "mimetype": "text/x-python",
   "name": "python",
   "nbconvert_exporter": "python",
   "pygments_lexer": "ipython3",
   "version": "3.6.7"
  }
 },
 "nbformat": 4,
 "nbformat_minor": 4
}
