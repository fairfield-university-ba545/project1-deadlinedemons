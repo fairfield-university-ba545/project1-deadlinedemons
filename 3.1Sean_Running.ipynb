{
 "cells": [
  {
   "cell_type": "markdown",
   "metadata": {},
   "source": [
    "# __Pipeline 3, Pt 1__\n",
    "## _IQR --> Normalization --> Z Score_\n"
   ]
  },
  {
   "cell_type": "markdown",
   "metadata": {},
   "source": [
    "# Importing Data:"
   ]
  },
  {
   "cell_type": "code",
   "execution_count": 1,
   "metadata": {},
   "outputs": [],
   "source": [
    "# import required package for data handling\n",
    "import pandas as pd\n",
    "import numpy as np\n",
    "import seaborn as sns\n",
    "import matplotlib as plt\n",
    "import matplotlib.pyplot as plt\n",
    "from pandas import DataFrame\n",
    "%matplotlib inline\n",
    "\n",
    "# import required packages for splitting data\n",
    "from sklearn import model_selection\n",
    "from sklearn.model_selection import cross_val_score\n",
    "from sklearn.model_selection import train_test_split\n",
    "\n",
    "# import required packages for evaluating models\n",
    "from sklearn import metrics\n",
    "from sklearn.metrics import confusion_matrix\n",
    "from sklearn.metrics import classification_report\n",
    "from sklearn.metrics import roc_auc_score\n",
    "from sklearn.metrics import accuracy_score\n",
    "from sklearn.metrics import precision_recall_fscore_support\n",
    "\n",
    "\n",
    "# import `logistic regression` model\n",
    "from sklearn import datasets\n",
    "from sklearn.feature_selection import RFE\n",
    "from sklearn.linear_model import LogisticRegression"
   ]
  },
  {
   "cell_type": "code",
   "execution_count": 2,
   "metadata": {},
   "outputs": [
    {
     "data": {
      "text/html": [
       "<div>\n",
       "<style scoped>\n",
       "    .dataframe tbody tr th:only-of-type {\n",
       "        vertical-align: middle;\n",
       "    }\n",
       "\n",
       "    .dataframe tbody tr th {\n",
       "        vertical-align: top;\n",
       "    }\n",
       "\n",
       "    .dataframe thead th {\n",
       "        text-align: right;\n",
       "    }\n",
       "</style>\n",
       "<table border=\"1\" class=\"dataframe\">\n",
       "  <thead>\n",
       "    <tr style=\"text-align: right;\">\n",
       "      <th></th>\n",
       "      <th>I1</th>\n",
       "      <th>I2</th>\n",
       "      <th>I3</th>\n",
       "      <th>P(IPO)</th>\n",
       "      <th>P(H)</th>\n",
       "      <th>P(L)</th>\n",
       "      <th>P(1Day)</th>\n",
       "      <th>C1</th>\n",
       "      <th>C2</th>\n",
       "      <th>C3</th>\n",
       "      <th>...</th>\n",
       "      <th>C6</th>\n",
       "      <th>C7</th>\n",
       "      <th>T1</th>\n",
       "      <th>T2</th>\n",
       "      <th>T3</th>\n",
       "      <th>T4</th>\n",
       "      <th>T5</th>\n",
       "      <th>S1</th>\n",
       "      <th>S2</th>\n",
       "      <th>S3</th>\n",
       "    </tr>\n",
       "  </thead>\n",
       "  <tbody>\n",
       "    <tr>\n",
       "      <th>0</th>\n",
       "      <td>AATI</td>\n",
       "      <td>ADVANCED ANALOGIC TECHNOLOGIES INC</td>\n",
       "      <td>3674</td>\n",
       "      <td>10.0</td>\n",
       "      <td>9.5</td>\n",
       "      <td>8.5</td>\n",
       "      <td>11.870000</td>\n",
       "      <td>122.0</td>\n",
       "      <td>1.0</td>\n",
       "      <td>3.43</td>\n",
       "      <td>...</td>\n",
       "      <td>10600000.0</td>\n",
       "      <td>51.345</td>\n",
       "      <td>470.0</td>\n",
       "      <td>12719.0</td>\n",
       "      <td>11560.0</td>\n",
       "      <td>301.0</td>\n",
       "      <td>690.0</td>\n",
       "      <td>62.0</td>\n",
       "      <td>117.0</td>\n",
       "      <td>139.0</td>\n",
       "    </tr>\n",
       "    <tr>\n",
       "      <th>1</th>\n",
       "      <td>ABPI</td>\n",
       "      <td>ACCENTIA BIOPHARMACEUTICALS INC</td>\n",
       "      <td>2834</td>\n",
       "      <td>8.0</td>\n",
       "      <td>10.0</td>\n",
       "      <td>8.0</td>\n",
       "      <td>7.250000</td>\n",
       "      <td>259.0</td>\n",
       "      <td>0.0</td>\n",
       "      <td>-1.62</td>\n",
       "      <td>...</td>\n",
       "      <td>2400000.0</td>\n",
       "      <td>25.936</td>\n",
       "      <td>791.0</td>\n",
       "      <td>21792.0</td>\n",
       "      <td>19585.0</td>\n",
       "      <td>510.0</td>\n",
       "      <td>1120.0</td>\n",
       "      <td>71.0</td>\n",
       "      <td>242.0</td>\n",
       "      <td>237.0</td>\n",
       "    </tr>\n",
       "    <tr>\n",
       "      <th>2</th>\n",
       "      <td>ACAD</td>\n",
       "      <td>ACADIA PHARMACEUTICALS INC</td>\n",
       "      <td>2834</td>\n",
       "      <td>7.0</td>\n",
       "      <td>14.0</td>\n",
       "      <td>12.0</td>\n",
       "      <td>6.700000</td>\n",
       "      <td>90.0</td>\n",
       "      <td>1.0</td>\n",
       "      <td>-1.24</td>\n",
       "      <td>...</td>\n",
       "      <td>5000000.0</td>\n",
       "      <td>7.378</td>\n",
       "      <td>201.0</td>\n",
       "      <td>5262.0</td>\n",
       "      <td>4785.0</td>\n",
       "      <td>128.0</td>\n",
       "      <td>325.0</td>\n",
       "      <td>61.0</td>\n",
       "      <td>33.0</td>\n",
       "      <td>60.0</td>\n",
       "    </tr>\n",
       "    <tr>\n",
       "      <th>3</th>\n",
       "      <td>ACHN</td>\n",
       "      <td>ACHILLION PHARMACEUTICALS INC</td>\n",
       "      <td>2834</td>\n",
       "      <td>11.5</td>\n",
       "      <td>16.0</td>\n",
       "      <td>14.0</td>\n",
       "      <td>12.390000</td>\n",
       "      <td>209.0</td>\n",
       "      <td>1.0</td>\n",
       "      <td>-0.91</td>\n",
       "      <td>...</td>\n",
       "      <td>4500000.0</td>\n",
       "      <td>8.526</td>\n",
       "      <td>328.0</td>\n",
       "      <td>8259.0</td>\n",
       "      <td>7574.0</td>\n",
       "      <td>177.0</td>\n",
       "      <td>509.0</td>\n",
       "      <td>80.0</td>\n",
       "      <td>59.0</td>\n",
       "      <td>110.0</td>\n",
       "    </tr>\n",
       "    <tr>\n",
       "      <th>4</th>\n",
       "      <td>ACLI</td>\n",
       "      <td>AMERICAN COMMERCIAL LINES INC.</td>\n",
       "      <td>4492</td>\n",
       "      <td>21.0</td>\n",
       "      <td>21.0</td>\n",
       "      <td>19.0</td>\n",
       "      <td>56.599998</td>\n",
       "      <td>80.0</td>\n",
       "      <td>1.0</td>\n",
       "      <td>0.07</td>\n",
       "      <td>...</td>\n",
       "      <td>8250000.0</td>\n",
       "      <td>632.298</td>\n",
       "      <td>572.0</td>\n",
       "      <td>14830.0</td>\n",
       "      <td>13176.0</td>\n",
       "      <td>336.0</td>\n",
       "      <td>720.0</td>\n",
       "      <td>67.0</td>\n",
       "      <td>149.0</td>\n",
       "      <td>167.0</td>\n",
       "    </tr>\n",
       "  </tbody>\n",
       "</table>\n",
       "<p>5 rows × 22 columns</p>\n",
       "</div>"
      ],
      "text/plain": [
       "     I1                                  I2    I3  P(IPO)  P(H)  P(L)  \\\n",
       "0  AATI  ADVANCED ANALOGIC TECHNOLOGIES INC  3674    10.0   9.5   8.5   \n",
       "1  ABPI     ACCENTIA BIOPHARMACEUTICALS INC  2834     8.0  10.0   8.0   \n",
       "2  ACAD          ACADIA PHARMACEUTICALS INC  2834     7.0  14.0  12.0   \n",
       "3  ACHN       ACHILLION PHARMACEUTICALS INC  2834    11.5  16.0  14.0   \n",
       "4  ACLI     AMERICAN COMMERCIAL LINES INC.   4492    21.0  21.0  19.0   \n",
       "\n",
       "     P(1Day)     C1   C2    C3  ...          C6       C7     T1       T2  \\\n",
       "0  11.870000  122.0  1.0  3.43  ...  10600000.0   51.345  470.0  12719.0   \n",
       "1   7.250000  259.0  0.0 -1.62  ...   2400000.0   25.936  791.0  21792.0   \n",
       "2   6.700000   90.0  1.0 -1.24  ...   5000000.0    7.378  201.0   5262.0   \n",
       "3  12.390000  209.0  1.0 -0.91  ...   4500000.0    8.526  328.0   8259.0   \n",
       "4  56.599998   80.0  1.0  0.07  ...   8250000.0  632.298  572.0  14830.0   \n",
       "\n",
       "        T3     T4      T5    S1     S2     S3  \n",
       "0  11560.0  301.0   690.0  62.0  117.0  139.0  \n",
       "1  19585.0  510.0  1120.0  71.0  242.0  237.0  \n",
       "2   4785.0  128.0   325.0  61.0   33.0   60.0  \n",
       "3   7574.0  177.0   509.0  80.0   59.0  110.0  \n",
       "4  13176.0  336.0   720.0  67.0  149.0  167.0  \n",
       "\n",
       "[5 rows x 22 columns]"
      ]
     },
     "execution_count": 2,
     "metadata": {},
     "output_type": "execute_result"
    }
   ],
   "source": [
    "# Make sure all values that are filled in with a dash('-') are treated as NaNs. \n",
    "# This is important for proper imputation.\n",
    "\n",
    "compdata_original = pd.read_csv('comp1data.csv', header=0, na_values = '-')\n",
    "compdata_original.head()"
   ]
  },
  {
   "cell_type": "markdown",
   "metadata": {},
   "source": [
    "# Descriptive Statistics\n",
    "- learn about our data, i.e. mean, std, min-max, etc.\n",
    "- discover missing values "
   ]
  },
  {
   "cell_type": "code",
   "execution_count": 3,
   "metadata": {},
   "outputs": [
    {
     "data": {
      "text/plain": [
       "(682, 22)"
      ]
     },
     "execution_count": 3,
     "metadata": {},
     "output_type": "execute_result"
    }
   ],
   "source": [
    "compdata_original.shape\n",
    "\n",
    "# do we have enough data? - YES\n",
    "# 682 rows and 22 columns"
   ]
  },
  {
   "cell_type": "code",
   "execution_count": 4,
   "metadata": {},
   "outputs": [
    {
     "data": {
      "text/html": [
       "<div>\n",
       "<style scoped>\n",
       "    .dataframe tbody tr th:only-of-type {\n",
       "        vertical-align: middle;\n",
       "    }\n",
       "\n",
       "    .dataframe tbody tr th {\n",
       "        vertical-align: top;\n",
       "    }\n",
       "\n",
       "    .dataframe thead th {\n",
       "        text-align: right;\n",
       "    }\n",
       "</style>\n",
       "<table border=\"1\" class=\"dataframe\">\n",
       "  <thead>\n",
       "    <tr style=\"text-align: right;\">\n",
       "      <th></th>\n",
       "      <th>P(IPO)</th>\n",
       "      <th>P(H)</th>\n",
       "      <th>P(L)</th>\n",
       "      <th>P(1Day)</th>\n",
       "      <th>C1</th>\n",
       "      <th>C2</th>\n",
       "      <th>C3</th>\n",
       "      <th>C4</th>\n",
       "      <th>C5</th>\n",
       "      <th>C6</th>\n",
       "      <th>C7</th>\n",
       "      <th>T1</th>\n",
       "      <th>T2</th>\n",
       "      <th>T3</th>\n",
       "      <th>T4</th>\n",
       "      <th>T5</th>\n",
       "      <th>S1</th>\n",
       "      <th>S2</th>\n",
       "      <th>S3</th>\n",
       "    </tr>\n",
       "  </thead>\n",
       "  <tbody>\n",
       "    <tr>\n",
       "      <th>count</th>\n",
       "      <td>677.000000</td>\n",
       "      <td>672.000000</td>\n",
       "      <td>672.000000</td>\n",
       "      <td>660.000000</td>\n",
       "      <td>660.000000</td>\n",
       "      <td>660.000000</td>\n",
       "      <td>646.000000</td>\n",
       "      <td>660.000000</td>\n",
       "      <td>6.760000e+02</td>\n",
       "      <td>6.760000e+02</td>\n",
       "      <td>610.000000</td>\n",
       "      <td>681.000000</td>\n",
       "      <td>681.000000</td>\n",
       "      <td>681.000000</td>\n",
       "      <td>681.000000</td>\n",
       "      <td>681.000000</td>\n",
       "      <td>681.000000</td>\n",
       "      <td>681.000000</td>\n",
       "      <td>681.000000</td>\n",
       "    </tr>\n",
       "    <tr>\n",
       "      <th>mean</th>\n",
       "      <td>13.837666</td>\n",
       "      <td>15.481190</td>\n",
       "      <td>13.515045</td>\n",
       "      <td>25.934766</td>\n",
       "      <td>149.728788</td>\n",
       "      <td>0.859091</td>\n",
       "      <td>1.788904</td>\n",
       "      <td>0.007282</td>\n",
       "      <td>4.935776e+07</td>\n",
       "      <td>1.241519e+07</td>\n",
       "      <td>500.459962</td>\n",
       "      <td>465.634361</td>\n",
       "      <td>12758.606461</td>\n",
       "      <td>11395.844347</td>\n",
       "      <td>294.353891</td>\n",
       "      <td>679.220264</td>\n",
       "      <td>68.421439</td>\n",
       "      <td>120.104258</td>\n",
       "      <td>144.759178</td>\n",
       "    </tr>\n",
       "    <tr>\n",
       "      <th>std</th>\n",
       "      <td>6.053731</td>\n",
       "      <td>6.653429</td>\n",
       "      <td>5.835646</td>\n",
       "      <td>73.234948</td>\n",
       "      <td>152.817467</td>\n",
       "      <td>0.348192</td>\n",
       "      <td>162.666532</td>\n",
       "      <td>0.033318</td>\n",
       "      <td>1.043764e+08</td>\n",
       "      <td>2.512855e+07</td>\n",
       "      <td>1648.337634</td>\n",
       "      <td>175.741647</td>\n",
       "      <td>5449.644597</td>\n",
       "      <td>4839.670179</td>\n",
       "      <td>121.532637</td>\n",
       "      <td>472.914323</td>\n",
       "      <td>39.096525</td>\n",
       "      <td>84.828959</td>\n",
       "      <td>69.276285</td>\n",
       "    </tr>\n",
       "    <tr>\n",
       "      <th>min</th>\n",
       "      <td>3.000000</td>\n",
       "      <td>0.000000</td>\n",
       "      <td>3.000000</td>\n",
       "      <td>0.000000</td>\n",
       "      <td>10.000000</td>\n",
       "      <td>0.000000</td>\n",
       "      <td>-786.239000</td>\n",
       "      <td>-0.162352</td>\n",
       "      <td>3.693227e+06</td>\n",
       "      <td>5.250000e+05</td>\n",
       "      <td>0.074000</td>\n",
       "      <td>132.000000</td>\n",
       "      <td>0.000000</td>\n",
       "      <td>0.000000</td>\n",
       "      <td>0.000000</td>\n",
       "      <td>-1.000000</td>\n",
       "      <td>-1.000000</td>\n",
       "      <td>20.000000</td>\n",
       "      <td>26.000000</td>\n",
       "    </tr>\n",
       "    <tr>\n",
       "      <th>25%</th>\n",
       "      <td>10.000000</td>\n",
       "      <td>12.500000</td>\n",
       "      <td>11.000000</td>\n",
       "      <td>11.000000</td>\n",
       "      <td>85.000000</td>\n",
       "      <td>1.000000</td>\n",
       "      <td>-0.852500</td>\n",
       "      <td>-0.013927</td>\n",
       "      <td>1.871417e+07</td>\n",
       "      <td>5.000000e+06</td>\n",
       "      <td>37.245750</td>\n",
       "      <td>351.000000</td>\n",
       "      <td>9195.000000</td>\n",
       "      <td>8162.000000</td>\n",
       "      <td>213.000000</td>\n",
       "      <td>462.000000</td>\n",
       "      <td>45.000000</td>\n",
       "      <td>73.000000</td>\n",
       "      <td>100.000000</td>\n",
       "    </tr>\n",
       "    <tr>\n",
       "      <th>50%</th>\n",
       "      <td>13.500000</td>\n",
       "      <td>15.000000</td>\n",
       "      <td>13.000000</td>\n",
       "      <td>14.845000</td>\n",
       "      <td>107.000000</td>\n",
       "      <td>1.000000</td>\n",
       "      <td>0.010000</td>\n",
       "      <td>0.009125</td>\n",
       "      <td>2.740018e+07</td>\n",
       "      <td>7.398704e+06</td>\n",
       "      <td>103.833000</td>\n",
       "      <td>444.000000</td>\n",
       "      <td>12045.000000</td>\n",
       "      <td>10785.000000</td>\n",
       "      <td>279.000000</td>\n",
       "      <td>624.000000</td>\n",
       "      <td>60.000000</td>\n",
       "      <td>100.000000</td>\n",
       "      <td>134.000000</td>\n",
       "    </tr>\n",
       "    <tr>\n",
       "      <th>75%</th>\n",
       "      <td>17.000000</td>\n",
       "      <td>17.000000</td>\n",
       "      <td>15.000000</td>\n",
       "      <td>20.485000</td>\n",
       "      <td>155.250000</td>\n",
       "      <td>1.000000</td>\n",
       "      <td>0.470000</td>\n",
       "      <td>0.031571</td>\n",
       "      <td>4.980786e+07</td>\n",
       "      <td>1.200000e+07</td>\n",
       "      <td>331.138000</td>\n",
       "      <td>551.000000</td>\n",
       "      <td>15241.000000</td>\n",
       "      <td>13760.000000</td>\n",
       "      <td>354.000000</td>\n",
       "      <td>795.000000</td>\n",
       "      <td>85.000000</td>\n",
       "      <td>142.000000</td>\n",
       "      <td>173.000000</td>\n",
       "    </tr>\n",
       "    <tr>\n",
       "      <th>max</th>\n",
       "      <td>85.000000</td>\n",
       "      <td>135.000000</td>\n",
       "      <td>108.000000</td>\n",
       "      <td>1159.200562</td>\n",
       "      <td>2087.000000</td>\n",
       "      <td>1.000000</td>\n",
       "      <td>3864.500000</td>\n",
       "      <td>0.092896</td>\n",
       "      <td>2.138085e+09</td>\n",
       "      <td>4.212336e+08</td>\n",
       "      <td>30683.000000</td>\n",
       "      <td>1750.000000</td>\n",
       "      <td>49056.000000</td>\n",
       "      <td>43952.000000</td>\n",
       "      <td>1058.000000</td>\n",
       "      <td>10277.000000</td>\n",
       "      <td>309.000000</td>\n",
       "      <td>944.000000</td>\n",
       "      <td>883.000000</td>\n",
       "    </tr>\n",
       "  </tbody>\n",
       "</table>\n",
       "</div>"
      ],
      "text/plain": [
       "           P(IPO)        P(H)        P(L)      P(1Day)           C1  \\\n",
       "count  677.000000  672.000000  672.000000   660.000000   660.000000   \n",
       "mean    13.837666   15.481190   13.515045    25.934766   149.728788   \n",
       "std      6.053731    6.653429    5.835646    73.234948   152.817467   \n",
       "min      3.000000    0.000000    3.000000     0.000000    10.000000   \n",
       "25%     10.000000   12.500000   11.000000    11.000000    85.000000   \n",
       "50%     13.500000   15.000000   13.000000    14.845000   107.000000   \n",
       "75%     17.000000   17.000000   15.000000    20.485000   155.250000   \n",
       "max     85.000000  135.000000  108.000000  1159.200562  2087.000000   \n",
       "\n",
       "               C2           C3          C4            C5            C6  \\\n",
       "count  660.000000   646.000000  660.000000  6.760000e+02  6.760000e+02   \n",
       "mean     0.859091     1.788904    0.007282  4.935776e+07  1.241519e+07   \n",
       "std      0.348192   162.666532    0.033318  1.043764e+08  2.512855e+07   \n",
       "min      0.000000  -786.239000   -0.162352  3.693227e+06  5.250000e+05   \n",
       "25%      1.000000    -0.852500   -0.013927  1.871417e+07  5.000000e+06   \n",
       "50%      1.000000     0.010000    0.009125  2.740018e+07  7.398704e+06   \n",
       "75%      1.000000     0.470000    0.031571  4.980786e+07  1.200000e+07   \n",
       "max      1.000000  3864.500000    0.092896  2.138085e+09  4.212336e+08   \n",
       "\n",
       "                 C7           T1            T2            T3           T4  \\\n",
       "count    610.000000   681.000000    681.000000    681.000000   681.000000   \n",
       "mean     500.459962   465.634361  12758.606461  11395.844347   294.353891   \n",
       "std     1648.337634   175.741647   5449.644597   4839.670179   121.532637   \n",
       "min        0.074000   132.000000      0.000000      0.000000     0.000000   \n",
       "25%       37.245750   351.000000   9195.000000   8162.000000   213.000000   \n",
       "50%      103.833000   444.000000  12045.000000  10785.000000   279.000000   \n",
       "75%      331.138000   551.000000  15241.000000  13760.000000   354.000000   \n",
       "max    30683.000000  1750.000000  49056.000000  43952.000000  1058.000000   \n",
       "\n",
       "                 T5          S1          S2          S3  \n",
       "count    681.000000  681.000000  681.000000  681.000000  \n",
       "mean     679.220264   68.421439  120.104258  144.759178  \n",
       "std      472.914323   39.096525   84.828959   69.276285  \n",
       "min       -1.000000   -1.000000   20.000000   26.000000  \n",
       "25%      462.000000   45.000000   73.000000  100.000000  \n",
       "50%      624.000000   60.000000  100.000000  134.000000  \n",
       "75%      795.000000   85.000000  142.000000  173.000000  \n",
       "max    10277.000000  309.000000  944.000000  883.000000  "
      ]
     },
     "execution_count": 4,
     "metadata": {},
     "output_type": "execute_result"
    }
   ],
   "source": [
    "compdata_original.describe()\n",
    "\n",
    "# interesting findings - we see that there are certainly missing values and varying std, min-maxs"
   ]
  },
  {
   "cell_type": "code",
   "execution_count": 5,
   "metadata": {},
   "outputs": [
    {
     "data": {
      "text/plain": [
       "P(IPO)     1.350000e+01\n",
       "P(H)       1.500000e+01\n",
       "P(L)       1.300000e+01\n",
       "P(1Day)    1.484500e+01\n",
       "C1         1.070000e+02\n",
       "C2         1.000000e+00\n",
       "C3         1.000000e-02\n",
       "C4         9.124591e-03\n",
       "C5         2.740018e+07\n",
       "C6         7.398704e+06\n",
       "C7         1.038330e+02\n",
       "T1         4.440000e+02\n",
       "T2         1.204500e+04\n",
       "T3         1.078500e+04\n",
       "T4         2.790000e+02\n",
       "T5         6.240000e+02\n",
       "S1         6.000000e+01\n",
       "S2         1.000000e+02\n",
       "S3         1.340000e+02\n",
       "dtype: float64"
      ]
     },
     "execution_count": 5,
     "metadata": {},
     "output_type": "execute_result"
    }
   ],
   "source": [
    "compdata_original.median()"
   ]
  },
  {
   "cell_type": "code",
   "execution_count": 6,
   "metadata": {},
   "outputs": [],
   "source": [
    "# Create a copy of the data\n",
    "compdata = compdata_original.copy()"
   ]
  },
  {
   "cell_type": "markdown",
   "metadata": {},
   "source": [
    "# Variable Calculations\n",
    "- calculate variables per the Data Dictionary\n",
    "- Handle 0 values"
   ]
  },
  {
   "cell_type": "code",
   "execution_count": 7,
   "metadata": {},
   "outputs": [
    {
     "data": {
      "text/html": [
       "<div>\n",
       "<style scoped>\n",
       "    .dataframe tbody tr th:only-of-type {\n",
       "        vertical-align: middle;\n",
       "    }\n",
       "\n",
       "    .dataframe tbody tr th {\n",
       "        vertical-align: top;\n",
       "    }\n",
       "\n",
       "    .dataframe thead th {\n",
       "        text-align: right;\n",
       "    }\n",
       "</style>\n",
       "<table border=\"1\" class=\"dataframe\">\n",
       "  <thead>\n",
       "    <tr style=\"text-align: right;\">\n",
       "      <th></th>\n",
       "      <th>I1</th>\n",
       "      <th>I2</th>\n",
       "      <th>I3</th>\n",
       "      <th>P(IPO)</th>\n",
       "      <th>P(H)</th>\n",
       "      <th>P(L)</th>\n",
       "      <th>P(1Day)</th>\n",
       "      <th>C1</th>\n",
       "      <th>C2</th>\n",
       "      <th>C3</th>\n",
       "      <th>...</th>\n",
       "      <th>C6</th>\n",
       "      <th>C7</th>\n",
       "      <th>T1</th>\n",
       "      <th>T2</th>\n",
       "      <th>T3</th>\n",
       "      <th>T4</th>\n",
       "      <th>T5</th>\n",
       "      <th>S1</th>\n",
       "      <th>S2</th>\n",
       "      <th>S3</th>\n",
       "    </tr>\n",
       "  </thead>\n",
       "  <tbody>\n",
       "    <tr>\n",
       "      <th>125</th>\n",
       "      <td>CLD</td>\n",
       "      <td>CLOUD PEAK ENERGY INC.</td>\n",
       "      <td>1221</td>\n",
       "      <td>15.0</td>\n",
       "      <td>18.0</td>\n",
       "      <td>16.0</td>\n",
       "      <td>14.84</td>\n",
       "      <td>100.0</td>\n",
       "      <td>1.0</td>\n",
       "      <td>2.00</td>\n",
       "      <td>...</td>\n",
       "      <td>30600000.0</td>\n",
       "      <td>1239.711</td>\n",
       "      <td>656.0</td>\n",
       "      <td>0.0</td>\n",
       "      <td>18173.0</td>\n",
       "      <td>486.0</td>\n",
       "      <td>1135.0</td>\n",
       "      <td>77.0</td>\n",
       "      <td>229.0</td>\n",
       "      <td>219.0</td>\n",
       "    </tr>\n",
       "    <tr>\n",
       "      <th>199</th>\n",
       "      <td>EDG</td>\n",
       "      <td>Edgen Group Inc.</td>\n",
       "      <td>5150</td>\n",
       "      <td>11.0</td>\n",
       "      <td>16.0</td>\n",
       "      <td>14.0</td>\n",
       "      <td>9.50</td>\n",
       "      <td>120.0</td>\n",
       "      <td>1.0</td>\n",
       "      <td>-0.59</td>\n",
       "      <td>...</td>\n",
       "      <td>15000000.0</td>\n",
       "      <td>911.612</td>\n",
       "      <td>619.0</td>\n",
       "      <td>0.0</td>\n",
       "      <td>19153.0</td>\n",
       "      <td>474.0</td>\n",
       "      <td>1108.0</td>\n",
       "      <td>104.0</td>\n",
       "      <td>224.0</td>\n",
       "      <td>253.0</td>\n",
       "    </tr>\n",
       "  </tbody>\n",
       "</table>\n",
       "<p>2 rows × 22 columns</p>\n",
       "</div>"
      ],
      "text/plain": [
       "      I1                       I2    I3  P(IPO)  P(H)  P(L)  P(1Day)     C1  \\\n",
       "125  CLD  CLOUD PEAK ENERGY INC.   1221    15.0  18.0  16.0    14.84  100.0   \n",
       "199  EDG        Edgen Group Inc.   5150    11.0  16.0  14.0     9.50  120.0   \n",
       "\n",
       "      C2    C3  ...          C6        C7     T1   T2       T3     T4      T5  \\\n",
       "125  1.0  2.00  ...  30600000.0  1239.711  656.0  0.0  18173.0  486.0  1135.0   \n",
       "199  1.0 -0.59  ...  15000000.0   911.612  619.0  0.0  19153.0  474.0  1108.0   \n",
       "\n",
       "        S1     S2     S3  \n",
       "125   77.0  229.0  219.0  \n",
       "199  104.0  224.0  253.0  \n",
       "\n",
       "[2 rows x 22 columns]"
      ]
     },
     "execution_count": 7,
     "metadata": {},
     "output_type": "execute_result"
    }
   ],
   "source": [
    "# T2 has 2 missing values, show their location\n",
    "\n",
    "compdata.loc[compdata['T2'] == 0]\n"
   ]
  },
  {
   "cell_type": "code",
   "execution_count": 8,
   "metadata": {},
   "outputs": [],
   "source": [
    "# Fill in the '0.0' values with the mean of T2\n",
    "\n",
    "compdata.loc[125,'T2']=compdata['T2'].mean()\n",
    "compdata.loc[199,'T2']=compdata['T2'].mean()"
   ]
  },
  {
   "cell_type": "code",
   "execution_count": 9,
   "metadata": {},
   "outputs": [
    {
     "data": {
      "text/html": [
       "<div>\n",
       "<style scoped>\n",
       "    .dataframe tbody tr th:only-of-type {\n",
       "        vertical-align: middle;\n",
       "    }\n",
       "\n",
       "    .dataframe tbody tr th {\n",
       "        vertical-align: top;\n",
       "    }\n",
       "\n",
       "    .dataframe thead th {\n",
       "        text-align: right;\n",
       "    }\n",
       "</style>\n",
       "<table border=\"1\" class=\"dataframe\">\n",
       "  <thead>\n",
       "    <tr style=\"text-align: right;\">\n",
       "      <th></th>\n",
       "      <th>I1</th>\n",
       "      <th>I2</th>\n",
       "      <th>I3</th>\n",
       "      <th>P(IPO)</th>\n",
       "      <th>P(H)</th>\n",
       "      <th>P(L)</th>\n",
       "      <th>P(1Day)</th>\n",
       "      <th>C1</th>\n",
       "      <th>C2</th>\n",
       "      <th>C3</th>\n",
       "      <th>...</th>\n",
       "      <th>C6</th>\n",
       "      <th>C7</th>\n",
       "      <th>T1</th>\n",
       "      <th>T2</th>\n",
       "      <th>T3</th>\n",
       "      <th>T4</th>\n",
       "      <th>T5</th>\n",
       "      <th>S1</th>\n",
       "      <th>S2</th>\n",
       "      <th>S3</th>\n",
       "    </tr>\n",
       "  </thead>\n",
       "  <tbody>\n",
       "  </tbody>\n",
       "</table>\n",
       "<p>0 rows × 22 columns</p>\n",
       "</div>"
      ],
      "text/plain": [
       "Empty DataFrame\n",
       "Columns: [I1, I2, I3, P(IPO), P(H), P(L), P(1Day), C1, C2, C3, C4, C5, C6, C7, T1, T2, T3, T4, T5, S1, S2, S3]\n",
       "Index: []\n",
       "\n",
       "[0 rows x 22 columns]"
      ]
     },
     "execution_count": 9,
     "metadata": {},
     "output_type": "execute_result"
    }
   ],
   "source": [
    "# Make sure there are no more '0.0' values\n",
    "\n",
    "compdata.loc[compdata['T2'] == 0]"
   ]
  },
  {
   "cell_type": "code",
   "execution_count": 10,
   "metadata": {},
   "outputs": [
    {
     "data": {
      "text/html": [
       "<div>\n",
       "<style scoped>\n",
       "    .dataframe tbody tr th:only-of-type {\n",
       "        vertical-align: middle;\n",
       "    }\n",
       "\n",
       "    .dataframe tbody tr th {\n",
       "        vertical-align: top;\n",
       "    }\n",
       "\n",
       "    .dataframe thead th {\n",
       "        text-align: right;\n",
       "    }\n",
       "</style>\n",
       "<table border=\"1\" class=\"dataframe\">\n",
       "  <thead>\n",
       "    <tr style=\"text-align: right;\">\n",
       "      <th></th>\n",
       "      <th>I1</th>\n",
       "      <th>I2</th>\n",
       "      <th>I3</th>\n",
       "      <th>P(IPO)</th>\n",
       "      <th>P(H)</th>\n",
       "      <th>P(L)</th>\n",
       "      <th>P(1Day)</th>\n",
       "      <th>C1</th>\n",
       "      <th>C2</th>\n",
       "      <th>C3</th>\n",
       "      <th>...</th>\n",
       "      <th>C6</th>\n",
       "      <th>C7</th>\n",
       "      <th>T1</th>\n",
       "      <th>T2</th>\n",
       "      <th>T3</th>\n",
       "      <th>T4</th>\n",
       "      <th>T5</th>\n",
       "      <th>S1</th>\n",
       "      <th>S2</th>\n",
       "      <th>S3</th>\n",
       "    </tr>\n",
       "  </thead>\n",
       "  <tbody>\n",
       "    <tr>\n",
       "      <th>7</th>\n",
       "      <td>ACRX</td>\n",
       "      <td>ACELRX PHARMACEUTICALS INC</td>\n",
       "      <td>2834</td>\n",
       "      <td>5.0</td>\n",
       "      <td>14.0</td>\n",
       "      <td>12.0</td>\n",
       "      <td>4.55</td>\n",
       "      <td>91.0</td>\n",
       "      <td>0.0</td>\n",
       "      <td>-0.74</td>\n",
       "      <td>...</td>\n",
       "      <td>8000000.0</td>\n",
       "      <td>NaN</td>\n",
       "      <td>334.0</td>\n",
       "      <td>11226.0</td>\n",
       "      <td>10056.0</td>\n",
       "      <td>276.0</td>\n",
       "      <td>-1.0</td>\n",
       "      <td>55.0</td>\n",
       "      <td>120.0</td>\n",
       "      <td>122.0</td>\n",
       "    </tr>\n",
       "  </tbody>\n",
       "</table>\n",
       "<p>1 rows × 22 columns</p>\n",
       "</div>"
      ],
      "text/plain": [
       "     I1                          I2    I3  P(IPO)  P(H)  P(L)  P(1Day)    C1  \\\n",
       "7  ACRX  ACELRX PHARMACEUTICALS INC  2834     5.0  14.0  12.0     4.55  91.0   \n",
       "\n",
       "    C2    C3  ...         C6  C7     T1       T2       T3     T4   T5    S1  \\\n",
       "7  0.0 -0.74  ...  8000000.0 NaN  334.0  11226.0  10056.0  276.0 -1.0  55.0   \n",
       "\n",
       "      S2     S3  \n",
       "7  120.0  122.0  \n",
       "\n",
       "[1 rows x 22 columns]"
      ]
     },
     "execution_count": 10,
     "metadata": {},
     "output_type": "execute_result"
    }
   ],
   "source": [
    "# T5 has negative number, show location \n",
    "\n",
    "compdata.loc[compdata['T5'] < 0]"
   ]
  },
  {
   "cell_type": "code",
   "execution_count": 11,
   "metadata": {},
   "outputs": [],
   "source": [
    "# fill in negative T5 with mean\n",
    "\n",
    "compdata.loc[7,'T5']=compdata['T5'].mean()"
   ]
  },
  {
   "cell_type": "code",
   "execution_count": 12,
   "metadata": {},
   "outputs": [
    {
     "data": {
      "text/html": [
       "<div>\n",
       "<style scoped>\n",
       "    .dataframe tbody tr th:only-of-type {\n",
       "        vertical-align: middle;\n",
       "    }\n",
       "\n",
       "    .dataframe tbody tr th {\n",
       "        vertical-align: top;\n",
       "    }\n",
       "\n",
       "    .dataframe thead th {\n",
       "        text-align: right;\n",
       "    }\n",
       "</style>\n",
       "<table border=\"1\" class=\"dataframe\">\n",
       "  <thead>\n",
       "    <tr style=\"text-align: right;\">\n",
       "      <th></th>\n",
       "      <th>I1</th>\n",
       "      <th>I2</th>\n",
       "      <th>I3</th>\n",
       "      <th>P(IPO)</th>\n",
       "      <th>P(H)</th>\n",
       "      <th>P(L)</th>\n",
       "      <th>P(1Day)</th>\n",
       "      <th>C1</th>\n",
       "      <th>C2</th>\n",
       "      <th>C3</th>\n",
       "      <th>...</th>\n",
       "      <th>C6</th>\n",
       "      <th>C7</th>\n",
       "      <th>T1</th>\n",
       "      <th>T2</th>\n",
       "      <th>T3</th>\n",
       "      <th>T4</th>\n",
       "      <th>T5</th>\n",
       "      <th>S1</th>\n",
       "      <th>S2</th>\n",
       "      <th>S3</th>\n",
       "    </tr>\n",
       "  </thead>\n",
       "  <tbody>\n",
       "  </tbody>\n",
       "</table>\n",
       "<p>0 rows × 22 columns</p>\n",
       "</div>"
      ],
      "text/plain": [
       "Empty DataFrame\n",
       "Columns: [I1, I2, I3, P(IPO), P(H), P(L), P(1Day), C1, C2, C3, C4, C5, C6, C7, T1, T2, T3, T4, T5, S1, S2, S3]\n",
       "Index: []\n",
       "\n",
       "[0 rows x 22 columns]"
      ]
     },
     "execution_count": 12,
     "metadata": {},
     "output_type": "execute_result"
    }
   ],
   "source": [
    "# Make sure there's no more negative value\n",
    "\n",
    "compdata.loc[compdata['T5'] < 0]"
   ]
  },
  {
   "cell_type": "code",
   "execution_count": 13,
   "metadata": {},
   "outputs": [
    {
     "data": {
      "text/html": [
       "<div>\n",
       "<style scoped>\n",
       "    .dataframe tbody tr th:only-of-type {\n",
       "        vertical-align: middle;\n",
       "    }\n",
       "\n",
       "    .dataframe tbody tr th {\n",
       "        vertical-align: top;\n",
       "    }\n",
       "\n",
       "    .dataframe thead th {\n",
       "        text-align: right;\n",
       "    }\n",
       "</style>\n",
       "<table border=\"1\" class=\"dataframe\">\n",
       "  <thead>\n",
       "    <tr style=\"text-align: right;\">\n",
       "      <th></th>\n",
       "      <th>I1</th>\n",
       "      <th>I2</th>\n",
       "      <th>I3</th>\n",
       "      <th>P(IPO)</th>\n",
       "      <th>P(H)</th>\n",
       "      <th>P(L)</th>\n",
       "      <th>P(1Day)</th>\n",
       "      <th>C1</th>\n",
       "      <th>C2</th>\n",
       "      <th>C3</th>\n",
       "      <th>...</th>\n",
       "      <th>C6</th>\n",
       "      <th>C7</th>\n",
       "      <th>T1</th>\n",
       "      <th>T2</th>\n",
       "      <th>T3</th>\n",
       "      <th>T4</th>\n",
       "      <th>T5</th>\n",
       "      <th>S1</th>\n",
       "      <th>S2</th>\n",
       "      <th>S3</th>\n",
       "    </tr>\n",
       "  </thead>\n",
       "  <tbody>\n",
       "    <tr>\n",
       "      <th>134</th>\n",
       "      <td>COGT</td>\n",
       "      <td>Cogent, inc.</td>\n",
       "      <td>7373</td>\n",
       "      <td>12.0</td>\n",
       "      <td>12.0</td>\n",
       "      <td>10.0</td>\n",
       "      <td>17.98</td>\n",
       "      <td>133.0</td>\n",
       "      <td>1.0</td>\n",
       "      <td>0.14</td>\n",
       "      <td>...</td>\n",
       "      <td>18000000.0</td>\n",
       "      <td>32.179</td>\n",
       "      <td>419.0</td>\n",
       "      <td>10764.0</td>\n",
       "      <td>9856.0</td>\n",
       "      <td>259.0</td>\n",
       "      <td>643.0</td>\n",
       "      <td>-1.0</td>\n",
       "      <td>97.0</td>\n",
       "      <td>134.0</td>\n",
       "    </tr>\n",
       "  </tbody>\n",
       "</table>\n",
       "<p>1 rows × 22 columns</p>\n",
       "</div>"
      ],
      "text/plain": [
       "       I1            I2    I3  P(IPO)  P(H)  P(L)  P(1Day)     C1   C2    C3  \\\n",
       "134  COGT  Cogent, inc.  7373    12.0  12.0  10.0    17.98  133.0  1.0  0.14   \n",
       "\n",
       "     ...          C6      C7     T1       T2      T3     T4     T5   S1    S2  \\\n",
       "134  ...  18000000.0  32.179  419.0  10764.0  9856.0  259.0  643.0 -1.0  97.0   \n",
       "\n",
       "        S3  \n",
       "134  134.0  \n",
       "\n",
       "[1 rows x 22 columns]"
      ]
     },
     "execution_count": 13,
     "metadata": {},
     "output_type": "execute_result"
    }
   ],
   "source": [
    "# S1 has negative number, show location\n",
    "\n",
    "compdata.loc[compdata['S1'] < 0]"
   ]
  },
  {
   "cell_type": "code",
   "execution_count": 14,
   "metadata": {},
   "outputs": [
    {
     "data": {
      "text/plain": [
       "68.42143906020559"
      ]
     },
     "execution_count": 14,
     "metadata": {},
     "output_type": "execute_result"
    }
   ],
   "source": [
    "# Fill the 0, negative, and infinite values with the mean for continuous values\n",
    "compdata['S1'].mean()"
   ]
  },
  {
   "cell_type": "code",
   "execution_count": 15,
   "metadata": {},
   "outputs": [],
   "source": [
    "# fill in negative S1 with mean\n",
    "\n",
    "compdata.loc[134,'S1']=compdata['S1'].mean()"
   ]
  },
  {
   "cell_type": "code",
   "execution_count": 16,
   "metadata": {},
   "outputs": [
    {
     "data": {
      "text/html": [
       "<div>\n",
       "<style scoped>\n",
       "    .dataframe tbody tr th:only-of-type {\n",
       "        vertical-align: middle;\n",
       "    }\n",
       "\n",
       "    .dataframe tbody tr th {\n",
       "        vertical-align: top;\n",
       "    }\n",
       "\n",
       "    .dataframe thead th {\n",
       "        text-align: right;\n",
       "    }\n",
       "</style>\n",
       "<table border=\"1\" class=\"dataframe\">\n",
       "  <thead>\n",
       "    <tr style=\"text-align: right;\">\n",
       "      <th></th>\n",
       "      <th>I1</th>\n",
       "      <th>I2</th>\n",
       "      <th>I3</th>\n",
       "      <th>P(IPO)</th>\n",
       "      <th>P(H)</th>\n",
       "      <th>P(L)</th>\n",
       "      <th>P(1Day)</th>\n",
       "      <th>C1</th>\n",
       "      <th>C2</th>\n",
       "      <th>C3</th>\n",
       "      <th>...</th>\n",
       "      <th>C6</th>\n",
       "      <th>C7</th>\n",
       "      <th>T1</th>\n",
       "      <th>T2</th>\n",
       "      <th>T3</th>\n",
       "      <th>T4</th>\n",
       "      <th>T5</th>\n",
       "      <th>S1</th>\n",
       "      <th>S2</th>\n",
       "      <th>S3</th>\n",
       "    </tr>\n",
       "  </thead>\n",
       "  <tbody>\n",
       "  </tbody>\n",
       "</table>\n",
       "<p>0 rows × 22 columns</p>\n",
       "</div>"
      ],
      "text/plain": [
       "Empty DataFrame\n",
       "Columns: [I1, I2, I3, P(IPO), P(H), P(L), P(1Day), C1, C2, C3, C4, C5, C6, C7, T1, T2, T3, T4, T5, S1, S2, S3]\n",
       "Index: []\n",
       "\n",
       "[0 rows x 22 columns]"
      ]
     },
     "execution_count": 16,
     "metadata": {},
     "output_type": "execute_result"
    }
   ],
   "source": [
    "# Make sure there's no more negative value\n",
    "\n",
    "compdata.loc[compdata['T5'] < 0]"
   ]
  },
  {
   "cell_type": "code",
   "execution_count": 17,
   "metadata": {},
   "outputs": [],
   "source": [
    "# Ratios:\n",
    "\n",
    "# Percentage of real words\n",
    "compdata['T3_'] = (compdata['T3']/compdata['T2'])\n",
    "# Percentage of long sentences\n",
    "compdata['T4_'] = (compdata['T4']/compdata['T1'])\n",
    "# Percentage of long words\n",
    "compdata['T5_'] = (compdata['T5']/compdata['T2'])\n",
    "# Percentage of positive words\n",
    "compdata['S1_'] = (compdata['S1']/compdata['T2'])\n",
    "# Percentage of negative words\n",
    "compdata['S2_'] = (compdata['S2']/compdata['T2'])\n",
    "# Percentage of uncertain words\n",
    "compdata['S3_'] = (compdata['S3']/compdata['T2'])\n",
    "compdata.head()\n",
    "\n",
    "# Target & Control Variable Calculation\n",
    "\n",
    "compdata['P(mid)'] = ((compdata['P(H)']+compdata['P(L)'])/2)\n",
    "\n",
    "def p(row):\n",
    "    if row['P(IPO)'] < row['P(mid)']:\n",
    "        val = 1\n",
    "    else:\n",
    "        val = 0\n",
    "    return val\n",
    "\n",
    "def q(row):\n",
    "    if row['P(1Day)'] > row['P(IPO)']:\n",
    "        val = 1\n",
    "    else:\n",
    "        val = 0\n",
    "    return val\n",
    "\n",
    "def r(row):\n",
    "    if row['C3'] >= 0:\n",
    "        val = 1\n",
    "    else:\n",
    "        val = 0\n",
    "    return val\n",
    "\n",
    "def s(row):\n",
    "    if row['P(IPO)'] > row['P(mid)']:\n",
    "        val = (row['P(IPO)'] - row['P(mid)'])/row['P(mid)']*100\n",
    "    else:\n",
    "        val = 0\n",
    "    return val\n",
    "\n",
    "compdata['C3_'] = compdata.apply(r, axis=1)\n",
    "compdata['C5_'] = compdata['C5']/compdata['C6'] \n",
    "compdata['C6_'] = compdata.apply(s, axis=1)\n",
    "compdata['Y1'] = compdata.apply(p, axis=1)\n",
    "compdata['Y2'] = compdata.apply(q, axis=1)"
   ]
  },
  {
   "cell_type": "markdown",
   "metadata": {},
   "source": [
    "# Missing/Negative Data\n",
    "- key step in Machine Learning is handling missing, zero-value, negatives, etc."
   ]
  },
  {
   "cell_type": "code",
   "execution_count": 18,
   "metadata": {},
   "outputs": [
    {
     "name": "stdout",
     "output_type": "stream",
     "text": [
      "<class 'pandas.core.frame.DataFrame'>\n",
      "RangeIndex: 682 entries, 0 to 681\n",
      "Data columns (total 34 columns):\n",
      "I1         682 non-null object\n",
      "I2         682 non-null object\n",
      "I3         674 non-null object\n",
      "P(IPO)     677 non-null float64\n",
      "P(H)       672 non-null float64\n",
      "P(L)       672 non-null float64\n",
      "P(1Day)    660 non-null float64\n",
      "C1         660 non-null float64\n",
      "C2         660 non-null float64\n",
      "C3         646 non-null float64\n",
      "C4         660 non-null float64\n",
      "C5         676 non-null float64\n",
      "C6         676 non-null float64\n",
      "C7         610 non-null float64\n",
      "T1         681 non-null float64\n",
      "T2         681 non-null float64\n",
      "T3         681 non-null float64\n",
      "T4         681 non-null float64\n",
      "T5         681 non-null float64\n",
      "S1         681 non-null float64\n",
      "S2         681 non-null float64\n",
      "S3         681 non-null float64\n",
      "T3_        681 non-null float64\n",
      "T4_        681 non-null float64\n",
      "T5_        681 non-null float64\n",
      "S1_        681 non-null float64\n",
      "S2_        681 non-null float64\n",
      "S3_        681 non-null float64\n",
      "P(mid)     672 non-null float64\n",
      "C3_        682 non-null int64\n",
      "C5_        676 non-null float64\n",
      "C6_        682 non-null float64\n",
      "Y1         682 non-null int64\n",
      "Y2         682 non-null int64\n",
      "dtypes: float64(28), int64(3), object(3)\n",
      "memory usage: 181.3+ KB\n"
     ]
    }
   ],
   "source": [
    "# look at the data types of our dataset\n",
    "\n",
    "\n",
    "compdata.info()"
   ]
  },
  {
   "cell_type": "code",
   "execution_count": 19,
   "metadata": {},
   "outputs": [
    {
     "data": {
      "text/plain": [
       "I1          0\n",
       "I2          0\n",
       "I3          8\n",
       "P(IPO)      5\n",
       "P(H)       10\n",
       "P(L)       10\n",
       "P(1Day)    22\n",
       "C1         22\n",
       "C2         22\n",
       "C3         36\n",
       "C4         22\n",
       "C5          6\n",
       "C6          6\n",
       "C7         72\n",
       "T1          1\n",
       "T2          1\n",
       "T3          1\n",
       "T4          1\n",
       "T5          1\n",
       "S1          1\n",
       "S2          1\n",
       "S3          1\n",
       "T3_         1\n",
       "T4_         1\n",
       "T5_         1\n",
       "S1_         1\n",
       "S2_         1\n",
       "S3_         1\n",
       "P(mid)     10\n",
       "C3_         0\n",
       "C5_         6\n",
       "C6_         0\n",
       "Y1          0\n",
       "Y2          0\n",
       "dtype: int64"
      ]
     },
     "execution_count": 19,
     "metadata": {},
     "output_type": "execute_result"
    }
   ],
   "source": [
    "# check to see how many missing values are in dataset\n",
    "\n",
    "compdata.isna().sum()"
   ]
  },
  {
   "cell_type": "markdown",
   "metadata": {},
   "source": [
    "## Drop Missing P Values "
   ]
  },
  {
   "cell_type": "code",
   "execution_count": 20,
   "metadata": {},
   "outputs": [],
   "source": [
    "# Drop missing P Values from DF since it is factualy information and it is not advised to impute these\n",
    "\n",
    "compdata = compdata.dropna(how='all', subset=['P(1Day)'])"
   ]
  },
  {
   "cell_type": "code",
   "execution_count": 21,
   "metadata": {},
   "outputs": [
    {
     "data": {
      "text/plain": [
       "I1          0\n",
       "I2          0\n",
       "I3          0\n",
       "P(IPO)      0\n",
       "P(H)        0\n",
       "P(L)        0\n",
       "P(1Day)     0\n",
       "C1          0\n",
       "C2          0\n",
       "C3         24\n",
       "C4          0\n",
       "C5          0\n",
       "C6          0\n",
       "C7         60\n",
       "T1          0\n",
       "T2          0\n",
       "T3          0\n",
       "T4          0\n",
       "T5          0\n",
       "S1          0\n",
       "S2          0\n",
       "S3          0\n",
       "T3_         0\n",
       "T4_         0\n",
       "T5_         0\n",
       "S1_         0\n",
       "S2_         0\n",
       "S3_         0\n",
       "P(mid)      0\n",
       "C3_         0\n",
       "C5_         0\n",
       "C6_         0\n",
       "Y1          0\n",
       "Y2          0\n",
       "dtype: int64"
      ]
     },
     "execution_count": 21,
     "metadata": {},
     "output_type": "execute_result"
    }
   ],
   "source": [
    "compdata.isna().sum()"
   ]
  },
  {
   "cell_type": "markdown",
   "metadata": {},
   "source": [
    "Now that we've dropped the missing P values, we simply need to impute C3 and C7 as they are the only remaining missing values in the dataframe."
   ]
  },
  {
   "cell_type": "markdown",
   "metadata": {},
   "source": [
    "## Impute C3 & C7"
   ]
  },
  {
   "cell_type": "code",
   "execution_count": 22,
   "metadata": {},
   "outputs": [
    {
     "data": {
      "text/plain": [
       "<matplotlib.axes._subplots.AxesSubplot at 0x7fb95e68f668>"
      ]
     },
     "execution_count": 22,
     "metadata": {},
     "output_type": "execute_result"
    },
    {
     "data": {
      "image/png": "[encoded data removed]",
      "text/plain": [
       "<Figure size 1080x72 with 1 Axes>"
      ]
     },
     "metadata": {
      "needs_background": "light"
     },
     "output_type": "display_data"
    }
   ],
   "source": [
    "# C3 imputation\n",
    "# check distribution to determine if mean or median should be used\n",
    "\n",
    "compdata.boxplot(column='C3',vert=False, figsize=(15,1))\n",
    "\n",
    "# since there are clear outliers, will use median."
   ]
  },
  {
   "cell_type": "code",
   "execution_count": 23,
   "metadata": {},
   "outputs": [],
   "source": [
    "# filling in missing C3 with median \n",
    "\n",
    "compdata['C3_'] = compdata['C3'].fillna(compdata['C3'].median())"
   ]
  },
  {
   "cell_type": "code",
   "execution_count": 24,
   "metadata": {},
   "outputs": [
    {
     "data": {
      "text/plain": [
       "I1          0\n",
       "I2          0\n",
       "I3          0\n",
       "P(IPO)      0\n",
       "P(H)        0\n",
       "P(L)        0\n",
       "P(1Day)     0\n",
       "C1          0\n",
       "C2          0\n",
       "C3         24\n",
       "C4          0\n",
       "C5          0\n",
       "C6          0\n",
       "C7         60\n",
       "T1          0\n",
       "T2          0\n",
       "T3          0\n",
       "T4          0\n",
       "T5          0\n",
       "S1          0\n",
       "S2          0\n",
       "S3          0\n",
       "T3_         0\n",
       "T4_         0\n",
       "T5_         0\n",
       "S1_         0\n",
       "S2_         0\n",
       "S3_         0\n",
       "P(mid)      0\n",
       "C3_         0\n",
       "C5_         0\n",
       "C6_         0\n",
       "Y1          0\n",
       "Y2          0\n",
       "dtype: int64"
      ]
     },
     "execution_count": 24,
     "metadata": {},
     "output_type": "execute_result"
    }
   ],
   "source": [
    "compdata.isna().sum()\n",
    "\n",
    "# as we can see below, imputed C3 (C3_) has no NaN values"
   ]
  },
  {
   "cell_type": "code",
   "execution_count": 25,
   "metadata": {},
   "outputs": [
    {
     "data": {
      "text/plain": [
       "<matplotlib.axes._subplots.AxesSubplot at 0x7fb95c61a710>"
      ]
     },
     "execution_count": 25,
     "metadata": {},
     "output_type": "execute_result"
    },
    {
     "data": {
      "image/png": "[encoded data removed]",
      "text/plain": [
       "<Figure size 1080x72 with 1 Axes>"
      ]
     },
     "metadata": {
      "needs_background": "light"
     },
     "output_type": "display_data"
    }
   ],
   "source": [
    "# C7 imputation\n",
    "# check distribution to determine if mean or median should be used.\n",
    "\n",
    "\n",
    "compdata.boxplot(column='C7',vert=False, figsize=(15,1))\n",
    "\n",
    "# since there are clear outliers, will use median."
   ]
  },
  {
   "cell_type": "code",
   "execution_count": 26,
   "metadata": {},
   "outputs": [],
   "source": [
    "# fill in missing C7 values with median\n",
    "\n",
    "compdata['C7_'] = compdata['C7'].fillna(compdata['C7'].median())"
   ]
  },
  {
   "cell_type": "code",
   "execution_count": 27,
   "metadata": {},
   "outputs": [
    {
     "data": {
      "text/plain": [
       "I1          0\n",
       "I2          0\n",
       "I3          0\n",
       "P(IPO)      0\n",
       "P(H)        0\n",
       "P(L)        0\n",
       "P(1Day)     0\n",
       "C1          0\n",
       "C2          0\n",
       "C3         24\n",
       "C4          0\n",
       "C5          0\n",
       "C6          0\n",
       "C7         60\n",
       "T1          0\n",
       "T2          0\n",
       "T3          0\n",
       "T4          0\n",
       "T5          0\n",
       "S1          0\n",
       "S2          0\n",
       "S3          0\n",
       "T3_         0\n",
       "T4_         0\n",
       "T5_         0\n",
       "S1_         0\n",
       "S2_         0\n",
       "S3_         0\n",
       "P(mid)      0\n",
       "C3_         0\n",
       "C5_         0\n",
       "C6_         0\n",
       "Y1          0\n",
       "Y2          0\n",
       "C7_         0\n",
       "dtype: int64"
      ]
     },
     "execution_count": 27,
     "metadata": {},
     "output_type": "execute_result"
    }
   ],
   "source": [
    "compdata.isna().sum()\n",
    "\n",
    "# imputed C7 (C7_) has no NaN values - good"
   ]
  },
  {
   "cell_type": "markdown",
   "metadata": {},
   "source": [
    "# Split DF into Separate DFs \n",
    "- key for outlier handling and normalization processes \n",
    "- do not need to do majority of work on categorical that is done on continuous"
   ]
  },
  {
   "cell_type": "markdown",
   "metadata": {},
   "source": [
    "## Categorical"
   ]
  },
  {
   "cell_type": "code",
   "execution_count": 28,
   "metadata": {},
   "outputs": [
    {
     "data": {
      "text/html": [
       "<div>\n",
       "<style scoped>\n",
       "    .dataframe tbody tr th:only-of-type {\n",
       "        vertical-align: middle;\n",
       "    }\n",
       "\n",
       "    .dataframe tbody tr th {\n",
       "        vertical-align: top;\n",
       "    }\n",
       "\n",
       "    .dataframe thead th {\n",
       "        text-align: right;\n",
       "    }\n",
       "</style>\n",
       "<table border=\"1\" class=\"dataframe\">\n",
       "  <thead>\n",
       "    <tr style=\"text-align: right;\">\n",
       "      <th></th>\n",
       "      <th>I1</th>\n",
       "      <th>I2</th>\n",
       "      <th>I3</th>\n",
       "      <th>C2</th>\n",
       "    </tr>\n",
       "  </thead>\n",
       "  <tbody>\n",
       "    <tr>\n",
       "      <th>0</th>\n",
       "      <td>AATI</td>\n",
       "      <td>ADVANCED ANALOGIC TECHNOLOGIES INC</td>\n",
       "      <td>3674</td>\n",
       "      <td>1.0</td>\n",
       "    </tr>\n",
       "    <tr>\n",
       "      <th>1</th>\n",
       "      <td>ABPI</td>\n",
       "      <td>ACCENTIA BIOPHARMACEUTICALS INC</td>\n",
       "      <td>2834</td>\n",
       "      <td>0.0</td>\n",
       "    </tr>\n",
       "    <tr>\n",
       "      <th>2</th>\n",
       "      <td>ACAD</td>\n",
       "      <td>ACADIA PHARMACEUTICALS INC</td>\n",
       "      <td>2834</td>\n",
       "      <td>1.0</td>\n",
       "    </tr>\n",
       "    <tr>\n",
       "      <th>3</th>\n",
       "      <td>ACHN</td>\n",
       "      <td>ACHILLION PHARMACEUTICALS INC</td>\n",
       "      <td>2834</td>\n",
       "      <td>1.0</td>\n",
       "    </tr>\n",
       "    <tr>\n",
       "      <th>4</th>\n",
       "      <td>ACLI</td>\n",
       "      <td>AMERICAN COMMERCIAL LINES INC.</td>\n",
       "      <td>4492</td>\n",
       "      <td>1.0</td>\n",
       "    </tr>\n",
       "  </tbody>\n",
       "</table>\n",
       "</div>"
      ],
      "text/plain": [
       "     I1                                  I2    I3   C2\n",
       "0  AATI  ADVANCED ANALOGIC TECHNOLOGIES INC  3674  1.0\n",
       "1  ABPI     ACCENTIA BIOPHARMACEUTICALS INC  2834  0.0\n",
       "2  ACAD          ACADIA PHARMACEUTICALS INC  2834  1.0\n",
       "3  ACHN       ACHILLION PHARMACEUTICALS INC  2834  1.0\n",
       "4  ACLI     AMERICAN COMMERCIAL LINES INC.   4492  1.0"
      ]
     },
     "execution_count": 28,
     "metadata": {},
     "output_type": "execute_result"
    }
   ],
   "source": [
    "# Create DF with only categorical features\n",
    "# Exclude P values and target (Y) values\n",
    "\n",
    "compdata_cat = compdata.drop(['P(IPO)','P(H)','P(L)','P(1Day)','P(mid)','C1','C3','C4','C5','C6','C7','T1','T2','T3','T4','T5','S1','S2','S3','T3_','T4_','T5_','S1_','S2_','S3_','C5_','C6_','C7_','C3_','Y1','Y2'], axis=1)\n",
    "compdata_cat.head()"
   ]
  },
  {
   "cell_type": "markdown",
   "metadata": {},
   "source": [
    "## Continuous "
   ]
  },
  {
   "cell_type": "code",
   "execution_count": 69,
   "metadata": {},
   "outputs": [
    {
     "data": {
      "text/html": [
       "<div>\n",
       "<style scoped>\n",
       "    .dataframe tbody tr th:only-of-type {\n",
       "        vertical-align: middle;\n",
       "    }\n",
       "\n",
       "    .dataframe tbody tr th {\n",
       "        vertical-align: top;\n",
       "    }\n",
       "\n",
       "    .dataframe thead th {\n",
       "        text-align: right;\n",
       "    }\n",
       "</style>\n",
       "<table border=\"1\" class=\"dataframe\">\n",
       "  <thead>\n",
       "    <tr style=\"text-align: right;\">\n",
       "      <th></th>\n",
       "      <th>C1</th>\n",
       "      <th>C4</th>\n",
       "      <th>T3_</th>\n",
       "      <th>T4_</th>\n",
       "      <th>T5_</th>\n",
       "      <th>S1_</th>\n",
       "      <th>S2_</th>\n",
       "      <th>S3_</th>\n",
       "      <th>C3_</th>\n",
       "      <th>C5_</th>\n",
       "      <th>C6_</th>\n",
       "      <th>C7_</th>\n",
       "    </tr>\n",
       "  </thead>\n",
       "  <tbody>\n",
       "    <tr>\n",
       "      <th>0</th>\n",
       "      <td>122.0</td>\n",
       "      <td>0.029074</td>\n",
       "      <td>0.908876</td>\n",
       "      <td>0.640426</td>\n",
       "      <td>0.054250</td>\n",
       "      <td>0.004875</td>\n",
       "      <td>0.009199</td>\n",
       "      <td>0.010929</td>\n",
       "      <td>3.43</td>\n",
       "      <td>3.864345</td>\n",
       "      <td>11.111111</td>\n",
       "      <td>51.345</td>\n",
       "    </tr>\n",
       "    <tr>\n",
       "      <th>1</th>\n",
       "      <td>259.0</td>\n",
       "      <td>-0.013352</td>\n",
       "      <td>0.898724</td>\n",
       "      <td>0.644753</td>\n",
       "      <td>0.051395</td>\n",
       "      <td>0.003258</td>\n",
       "      <td>0.011105</td>\n",
       "      <td>0.010876</td>\n",
       "      <td>-1.62</td>\n",
       "      <td>12.028832</td>\n",
       "      <td>0.000000</td>\n",
       "      <td>25.936</td>\n",
       "    </tr>\n",
       "    <tr>\n",
       "      <th>2</th>\n",
       "      <td>90.0</td>\n",
       "      <td>0.020715</td>\n",
       "      <td>0.909350</td>\n",
       "      <td>0.636816</td>\n",
       "      <td>0.061764</td>\n",
       "      <td>0.011593</td>\n",
       "      <td>0.006271</td>\n",
       "      <td>0.011403</td>\n",
       "      <td>-1.24</td>\n",
       "      <td>3.369134</td>\n",
       "      <td>0.000000</td>\n",
       "      <td>7.378</td>\n",
       "    </tr>\n",
       "    <tr>\n",
       "      <th>3</th>\n",
       "      <td>209.0</td>\n",
       "      <td>0.020023</td>\n",
       "      <td>0.917060</td>\n",
       "      <td>0.539634</td>\n",
       "      <td>0.061630</td>\n",
       "      <td>0.009686</td>\n",
       "      <td>0.007144</td>\n",
       "      <td>0.013319</td>\n",
       "      <td>-0.91</td>\n",
       "      <td>3.299697</td>\n",
       "      <td>0.000000</td>\n",
       "      <td>8.526</td>\n",
       "    </tr>\n",
       "    <tr>\n",
       "      <th>4</th>\n",
       "      <td>80.0</td>\n",
       "      <td>-0.034895</td>\n",
       "      <td>0.888469</td>\n",
       "      <td>0.587413</td>\n",
       "      <td>0.048550</td>\n",
       "      <td>0.004518</td>\n",
       "      <td>0.010047</td>\n",
       "      <td>0.011261</td>\n",
       "      <td>0.07</td>\n",
       "      <td>3.726269</td>\n",
       "      <td>5.000000</td>\n",
       "      <td>632.298</td>\n",
       "    </tr>\n",
       "  </tbody>\n",
       "</table>\n",
       "</div>"
      ],
      "text/plain": [
       "      C1        C4       T3_       T4_       T5_       S1_       S2_  \\\n",
       "0  122.0  0.029074  0.908876  0.640426  0.054250  0.004875  0.009199   \n",
       "1  259.0 -0.013352  0.898724  0.644753  0.051395  0.003258  0.011105   \n",
       "2   90.0  0.020715  0.909350  0.636816  0.061764  0.011593  0.006271   \n",
       "3  209.0  0.020023  0.917060  0.539634  0.061630  0.009686  0.007144   \n",
       "4   80.0 -0.034895  0.888469  0.587413  0.048550  0.004518  0.010047   \n",
       "\n",
       "        S3_   C3_        C5_        C6_      C7_  \n",
       "0  0.010929  3.43   3.864345  11.111111   51.345  \n",
       "1  0.010876 -1.62  12.028832   0.000000   25.936  \n",
       "2  0.011403 -1.24   3.369134   0.000000    7.378  \n",
       "3  0.013319 -0.91   3.299697   0.000000    8.526  \n",
       "4  0.011261  0.07   3.726269   5.000000  632.298  "
      ]
     },
     "execution_count": 69,
     "metadata": {},
     "output_type": "execute_result"
    }
   ],
   "source": [
    "# Create DF with only continuous features\n",
    "# Drop C3, C7 as well since we have separate imputed columns for these \n",
    "# Drop T1, T2 as they were used to calculate T3 \n",
    "\n",
    "compdata_cont = compdata.drop(['P(IPO)','P(H)','P(L)','P(1Day)','P(mid)','I1','I2','I3','C2','C3','C6','C7','Y1','Y2','T1','T2','T3','T4','T5','C5','S1','S2','S3'], axis=1)\n",
    "compdata_cont.head()"
   ]
  },
  {
   "cell_type": "code",
   "execution_count": 70,
   "metadata": {},
   "outputs": [
    {
     "data": {
      "text/plain": [
       "C1     0\n",
       "C4     0\n",
       "T3_    0\n",
       "T4_    0\n",
       "T5_    0\n",
       "S1_    0\n",
       "S2_    0\n",
       "S3_    0\n",
       "C3_    0\n",
       "C5_    0\n",
       "C6_    0\n",
       "C7_    0\n",
       "dtype: int64"
      ]
     },
     "execution_count": 70,
     "metadata": {},
     "output_type": "execute_result"
    }
   ],
   "source": [
    "compdata_cont.isna().sum()\n",
    "\n",
    "# check for null values"
   ]
  },
  {
   "cell_type": "markdown",
   "metadata": {},
   "source": [
    "## Target Variables"
   ]
  },
  {
   "cell_type": "code",
   "execution_count": 31,
   "metadata": {},
   "outputs": [
    {
     "data": {
      "text/html": [
       "<div>\n",
       "<style scoped>\n",
       "    .dataframe tbody tr th:only-of-type {\n",
       "        vertical-align: middle;\n",
       "    }\n",
       "\n",
       "    .dataframe tbody tr th {\n",
       "        vertical-align: top;\n",
       "    }\n",
       "\n",
       "    .dataframe thead th {\n",
       "        text-align: right;\n",
       "    }\n",
       "</style>\n",
       "<table border=\"1\" class=\"dataframe\">\n",
       "  <thead>\n",
       "    <tr style=\"text-align: right;\">\n",
       "      <th></th>\n",
       "      <th>Y1</th>\n",
       "      <th>Y2</th>\n",
       "    </tr>\n",
       "  </thead>\n",
       "  <tbody>\n",
       "    <tr>\n",
       "      <th>0</th>\n",
       "      <td>0</td>\n",
       "      <td>1</td>\n",
       "    </tr>\n",
       "    <tr>\n",
       "      <th>1</th>\n",
       "      <td>1</td>\n",
       "      <td>0</td>\n",
       "    </tr>\n",
       "    <tr>\n",
       "      <th>2</th>\n",
       "      <td>1</td>\n",
       "      <td>0</td>\n",
       "    </tr>\n",
       "    <tr>\n",
       "      <th>3</th>\n",
       "      <td>1</td>\n",
       "      <td>1</td>\n",
       "    </tr>\n",
       "    <tr>\n",
       "      <th>4</th>\n",
       "      <td>0</td>\n",
       "      <td>1</td>\n",
       "    </tr>\n",
       "  </tbody>\n",
       "</table>\n",
       "</div>"
      ],
      "text/plain": [
       "   Y1  Y2\n",
       "0   0   1\n",
       "1   1   0\n",
       "2   1   0\n",
       "3   1   1\n",
       "4   0   1"
      ]
     },
     "execution_count": 31,
     "metadata": {},
     "output_type": "execute_result"
    }
   ],
   "source": [
    "# create a separate DF for only our target variables\n",
    "\n",
    "target_vals = compdata.drop(['P(IPO)','P(H)','P(L)','P(1Day)','P(mid)','I3','C2','C1','C3','C4','C5','C6','C7','T3','T1','T2','T4','T5','S1','S2','S3','T3_','T4_','T5_','S1_','S2_','S3_','C5_','C6_','I1','I2','C3_','C7_'], axis=1)\n",
    "target_vals.head()"
   ]
  },
  {
   "cell_type": "markdown",
   "metadata": {},
   "source": [
    "# Outlier Detection\n",
    "- determine outliers and use proper techniques to remove them"
   ]
  },
  {
   "cell_type": "code",
   "execution_count": 32,
   "metadata": {},
   "outputs": [
    {
     "data": {
      "text/plain": [
       "(660, 11)"
      ]
     },
     "execution_count": 32,
     "metadata": {},
     "output_type": "execute_result"
    }
   ],
   "source": [
    "compdata_cont.shape"
   ]
  },
  {
   "cell_type": "code",
   "execution_count": 33,
   "metadata": {},
   "outputs": [
    {
     "data": {
      "image/png": "[encoded data removed]",
      "text/plain": [
       "<Figure size 1080x720 with 1 Axes>"
      ]
     },
     "metadata": {
      "needs_background": "light"
     },
     "output_type": "display_data"
    }
   ],
   "source": [
    "# Determine if there are any outliers in the data that will alter the results\n",
    "# Use box plots for all the variables to visualize the outliers\n",
    "\n",
    "compdata_cont.boxplot(vert=False, figsize=(15,10))\n",
    "plt.title('IPO Characteristics Box Plot')\n",
    "plt.show()"
   ]
  },
  {
   "cell_type": "markdown",
   "metadata": {},
   "source": [
    "It is obvious that there are outliers in the dataset that will offset the results. \n",
    "To remove this data we will use the interquartile range to determine the upper and lower bound limits and any data outside the limit will be converted to either the lower or upper bound number."
   ]
  },
  {
   "cell_type": "code",
   "execution_count": 34,
   "metadata": {},
   "outputs": [
    {
     "data": {
      "text/html": [
       "<div>\n",
       "<style scoped>\n",
       "    .dataframe tbody tr th:only-of-type {\n",
       "        vertical-align: middle;\n",
       "    }\n",
       "\n",
       "    .dataframe tbody tr th {\n",
       "        vertical-align: top;\n",
       "    }\n",
       "\n",
       "    .dataframe thead th {\n",
       "        text-align: right;\n",
       "    }\n",
       "</style>\n",
       "<table border=\"1\" class=\"dataframe\">\n",
       "  <thead>\n",
       "    <tr style=\"text-align: right;\">\n",
       "      <th></th>\n",
       "      <th>C1</th>\n",
       "      <th>C4</th>\n",
       "      <th>T3_</th>\n",
       "      <th>T4_</th>\n",
       "      <th>T5_</th>\n",
       "      <th>S1_</th>\n",
       "      <th>S2_</th>\n",
       "      <th>S3_</th>\n",
       "      <th>C5_</th>\n",
       "      <th>C6_</th>\n",
       "      <th>C7_</th>\n",
       "    </tr>\n",
       "  </thead>\n",
       "  <tbody>\n",
       "    <tr>\n",
       "      <th>count</th>\n",
       "      <td>660.000000</td>\n",
       "      <td>660.000000</td>\n",
       "      <td>660.000000</td>\n",
       "      <td>660.000000</td>\n",
       "      <td>660.000000</td>\n",
       "      <td>660.000000</td>\n",
       "      <td>660.000000</td>\n",
       "      <td>660.000000</td>\n",
       "      <td>660.000000</td>\n",
       "      <td>660.000000</td>\n",
       "      <td>660.000000</td>\n",
       "    </tr>\n",
       "    <tr>\n",
       "      <th>mean</th>\n",
       "      <td>149.728788</td>\n",
       "      <td>0.007282</td>\n",
       "      <td>0.891532</td>\n",
       "      <td>0.626720</td>\n",
       "      <td>0.052264</td>\n",
       "      <td>0.005318</td>\n",
       "      <td>0.009056</td>\n",
       "      <td>0.011516</td>\n",
       "      <td>4.417255</td>\n",
       "      <td>5.404645</td>\n",
       "      <td>470.631368</td>\n",
       "    </tr>\n",
       "    <tr>\n",
       "      <th>std</th>\n",
       "      <td>152.817467</td>\n",
       "      <td>0.033318</td>\n",
       "      <td>0.071892</td>\n",
       "      <td>0.077686</td>\n",
       "      <td>0.007075</td>\n",
       "      <td>0.001743</td>\n",
       "      <td>0.002991</td>\n",
       "      <td>0.002843</td>\n",
       "      <td>5.133537</td>\n",
       "      <td>10.877569</td>\n",
       "      <td>1587.801852</td>\n",
       "    </tr>\n",
       "    <tr>\n",
       "      <th>min</th>\n",
       "      <td>10.000000</td>\n",
       "      <td>-0.162352</td>\n",
       "      <td>0.000000</td>\n",
       "      <td>0.000000</td>\n",
       "      <td>0.031595</td>\n",
       "      <td>0.001602</td>\n",
       "      <td>0.002152</td>\n",
       "      <td>0.005326</td>\n",
       "      <td>0.283223</td>\n",
       "      <td>0.000000</td>\n",
       "      <td>0.074000</td>\n",
       "    </tr>\n",
       "    <tr>\n",
       "      <th>25%</th>\n",
       "      <td>85.000000</td>\n",
       "      <td>-0.013927</td>\n",
       "      <td>0.883417</td>\n",
       "      <td>0.580329</td>\n",
       "      <td>0.047562</td>\n",
       "      <td>0.004134</td>\n",
       "      <td>0.006966</td>\n",
       "      <td>0.009579</td>\n",
       "      <td>2.850622</td>\n",
       "      <td>0.000000</td>\n",
       "      <td>41.458000</td>\n",
       "    </tr>\n",
       "    <tr>\n",
       "      <th>50%</th>\n",
       "      <td>107.000000</td>\n",
       "      <td>0.009125</td>\n",
       "      <td>0.897294</td>\n",
       "      <td>0.628861</td>\n",
       "      <td>0.051943</td>\n",
       "      <td>0.005041</td>\n",
       "      <td>0.008577</td>\n",
       "      <td>0.011301</td>\n",
       "      <td>3.731035</td>\n",
       "      <td>0.000000</td>\n",
       "      <td>107.462000</td>\n",
       "    </tr>\n",
       "    <tr>\n",
       "      <th>75%</th>\n",
       "      <td>155.250000</td>\n",
       "      <td>0.031571</td>\n",
       "      <td>0.909693</td>\n",
       "      <td>0.674461</td>\n",
       "      <td>0.056544</td>\n",
       "      <td>0.006256</td>\n",
       "      <td>0.010521</td>\n",
       "      <td>0.012848</td>\n",
       "      <td>4.857904</td>\n",
       "      <td>7.692308</td>\n",
       "      <td>300.764000</td>\n",
       "    </tr>\n",
       "    <tr>\n",
       "      <th>max</th>\n",
       "      <td>2087.000000</td>\n",
       "      <td>0.092896</td>\n",
       "      <td>1.498982</td>\n",
       "      <td>0.826347</td>\n",
       "      <td>0.088960</td>\n",
       "      <td>0.012839</td>\n",
       "      <td>0.024605</td>\n",
       "      <td>0.029397</td>\n",
       "      <td>99.787255</td>\n",
       "      <td>100.000000</td>\n",
       "      <td>30683.000000</td>\n",
       "    </tr>\n",
       "  </tbody>\n",
       "</table>\n",
       "</div>"
      ],
      "text/plain": [
       "                C1          C4         T3_         T4_         T5_  \\\n",
       "count   660.000000  660.000000  660.000000  660.000000  660.000000   \n",
       "mean    149.728788    0.007282    0.891532    0.626720    0.052264   \n",
       "std     152.817467    0.033318    0.071892    0.077686    0.007075   \n",
       "min      10.000000   -0.162352    0.000000    0.000000    0.031595   \n",
       "25%      85.000000   -0.013927    0.883417    0.580329    0.047562   \n",
       "50%     107.000000    0.009125    0.897294    0.628861    0.051943   \n",
       "75%     155.250000    0.031571    0.909693    0.674461    0.056544   \n",
       "max    2087.000000    0.092896    1.498982    0.826347    0.088960   \n",
       "\n",
       "              S1_         S2_         S3_         C5_         C6_  \\\n",
       "count  660.000000  660.000000  660.000000  660.000000  660.000000   \n",
       "mean     0.005318    0.009056    0.011516    4.417255    5.404645   \n",
       "std      0.001743    0.002991    0.002843    5.133537   10.877569   \n",
       "min      0.001602    0.002152    0.005326    0.283223    0.000000   \n",
       "25%      0.004134    0.006966    0.009579    2.850622    0.000000   \n",
       "50%      0.005041    0.008577    0.011301    3.731035    0.000000   \n",
       "75%      0.006256    0.010521    0.012848    4.857904    7.692308   \n",
       "max      0.012839    0.024605    0.029397   99.787255  100.000000   \n",
       "\n",
       "                C7_  \n",
       "count    660.000000  \n",
       "mean     470.631368  \n",
       "std     1587.801852  \n",
       "min        0.074000  \n",
       "25%       41.458000  \n",
       "50%      107.462000  \n",
       "75%      300.764000  \n",
       "max    30683.000000  "
      ]
     },
     "execution_count": 34,
     "metadata": {},
     "output_type": "execute_result"
    }
   ],
   "source": [
    "# checking the numbers before IQR \n",
    "\n",
    "compdata_cont.describe()"
   ]
  },
  {
   "cell_type": "markdown",
   "metadata": {},
   "source": [
    "## IQR "
   ]
  },
  {
   "cell_type": "code",
   "execution_count": 35,
   "metadata": {},
   "outputs": [],
   "source": [
    "# create for loop for upper bound \n",
    "\n",
    "for col in compdata_cont.columns:\n",
    "    u_bound = compdata_cont[col].quantile(0.75) + (1.5*(compdata_cont[col].quantile(0.75)-compdata_cont[col].quantile(0.25)))\n",
    "    compdata_cont[col][compdata_cont[col] > u_bound] = u_bound"
   ]
  },
  {
   "cell_type": "code",
   "execution_count": 36,
   "metadata": {},
   "outputs": [],
   "source": [
    "# create for loop for lower bound\n",
    "\n",
    "for col in compdata_cont.columns:\n",
    "    l_bound = compdata_cont[col].quantile(0.25) - (1.5*(compdata_cont[col].quantile(0.75)-compdata_cont[col].quantile(0.25)))\n",
    "    compdata_cont[col][compdata_cont[col] < l_bound] = l_bound"
   ]
  },
  {
   "cell_type": "code",
   "execution_count": 37,
   "metadata": {},
   "outputs": [
    {
     "data": {
      "text/html": [
       "<div>\n",
       "<style scoped>\n",
       "    .dataframe tbody tr th:only-of-type {\n",
       "        vertical-align: middle;\n",
       "    }\n",
       "\n",
       "    .dataframe tbody tr th {\n",
       "        vertical-align: top;\n",
       "    }\n",
       "\n",
       "    .dataframe thead th {\n",
       "        text-align: right;\n",
       "    }\n",
       "</style>\n",
       "<table border=\"1\" class=\"dataframe\">\n",
       "  <thead>\n",
       "    <tr style=\"text-align: right;\">\n",
       "      <th></th>\n",
       "      <th>C1</th>\n",
       "      <th>C4</th>\n",
       "      <th>T3_</th>\n",
       "      <th>T4_</th>\n",
       "      <th>T5_</th>\n",
       "      <th>S1_</th>\n",
       "      <th>S2_</th>\n",
       "      <th>S3_</th>\n",
       "      <th>C5_</th>\n",
       "      <th>C6_</th>\n",
       "      <th>C7_</th>\n",
       "    </tr>\n",
       "  </thead>\n",
       "  <tbody>\n",
       "    <tr>\n",
       "      <th>count</th>\n",
       "      <td>660.000000</td>\n",
       "      <td>660.000000</td>\n",
       "      <td>660.000000</td>\n",
       "      <td>660.000000</td>\n",
       "      <td>660.000000</td>\n",
       "      <td>660.000000</td>\n",
       "      <td>660.000000</td>\n",
       "      <td>660.000000</td>\n",
       "      <td>660.000000</td>\n",
       "      <td>660.000000</td>\n",
       "      <td>660.000000</td>\n",
       "    </tr>\n",
       "    <tr>\n",
       "      <th>mean</th>\n",
       "      <td>126.911932</td>\n",
       "      <td>0.007433</td>\n",
       "      <td>0.894481</td>\n",
       "      <td>0.628160</td>\n",
       "      <td>0.052204</td>\n",
       "      <td>0.005288</td>\n",
       "      <td>0.008977</td>\n",
       "      <td>0.011425</td>\n",
       "      <td>4.009806</td>\n",
       "      <td>4.363858</td>\n",
       "      <td>210.797297</td>\n",
       "    </tr>\n",
       "    <tr>\n",
       "      <th>std</th>\n",
       "      <td>64.094744</td>\n",
       "      <td>0.032757</td>\n",
       "      <td>0.021956</td>\n",
       "      <td>0.069922</td>\n",
       "      <td>0.006798</td>\n",
       "      <td>0.001651</td>\n",
       "      <td>0.002749</td>\n",
       "      <td>0.002522</td>\n",
       "      <td>1.647987</td>\n",
       "      <td>6.431440</td>\n",
       "      <td>232.171513</td>\n",
       "    </tr>\n",
       "    <tr>\n",
       "      <th>min</th>\n",
       "      <td>10.000000</td>\n",
       "      <td>-0.082174</td>\n",
       "      <td>0.844003</td>\n",
       "      <td>0.439132</td>\n",
       "      <td>0.034087</td>\n",
       "      <td>0.001602</td>\n",
       "      <td>0.002152</td>\n",
       "      <td>0.005326</td>\n",
       "      <td>0.283223</td>\n",
       "      <td>0.000000</td>\n",
       "      <td>0.074000</td>\n",
       "    </tr>\n",
       "    <tr>\n",
       "      <th>25%</th>\n",
       "      <td>85.000000</td>\n",
       "      <td>-0.013927</td>\n",
       "      <td>0.883417</td>\n",
       "      <td>0.580329</td>\n",
       "      <td>0.047562</td>\n",
       "      <td>0.004134</td>\n",
       "      <td>0.006966</td>\n",
       "      <td>0.009579</td>\n",
       "      <td>2.850622</td>\n",
       "      <td>0.000000</td>\n",
       "      <td>41.458000</td>\n",
       "    </tr>\n",
       "    <tr>\n",
       "      <th>50%</th>\n",
       "      <td>107.000000</td>\n",
       "      <td>0.009125</td>\n",
       "      <td>0.897294</td>\n",
       "      <td>0.628861</td>\n",
       "      <td>0.051943</td>\n",
       "      <td>0.005041</td>\n",
       "      <td>0.008577</td>\n",
       "      <td>0.011301</td>\n",
       "      <td>3.731035</td>\n",
       "      <td>0.000000</td>\n",
       "      <td>107.462000</td>\n",
       "    </tr>\n",
       "    <tr>\n",
       "      <th>75%</th>\n",
       "      <td>155.250000</td>\n",
       "      <td>0.031571</td>\n",
       "      <td>0.909693</td>\n",
       "      <td>0.674461</td>\n",
       "      <td>0.056544</td>\n",
       "      <td>0.006256</td>\n",
       "      <td>0.010521</td>\n",
       "      <td>0.012848</td>\n",
       "      <td>4.857904</td>\n",
       "      <td>7.692308</td>\n",
       "      <td>300.764000</td>\n",
       "    </tr>\n",
       "    <tr>\n",
       "      <th>max</th>\n",
       "      <td>260.625000</td>\n",
       "      <td>0.092896</td>\n",
       "      <td>0.949107</td>\n",
       "      <td>0.815658</td>\n",
       "      <td>0.070019</td>\n",
       "      <td>0.009440</td>\n",
       "      <td>0.015854</td>\n",
       "      <td>0.017752</td>\n",
       "      <td>7.868826</td>\n",
       "      <td>19.230769</td>\n",
       "      <td>689.723000</td>\n",
       "    </tr>\n",
       "  </tbody>\n",
       "</table>\n",
       "</div>"
      ],
      "text/plain": [
       "               C1          C4         T3_         T4_         T5_         S1_  \\\n",
       "count  660.000000  660.000000  660.000000  660.000000  660.000000  660.000000   \n",
       "mean   126.911932    0.007433    0.894481    0.628160    0.052204    0.005288   \n",
       "std     64.094744    0.032757    0.021956    0.069922    0.006798    0.001651   \n",
       "min     10.000000   -0.082174    0.844003    0.439132    0.034087    0.001602   \n",
       "25%     85.000000   -0.013927    0.883417    0.580329    0.047562    0.004134   \n",
       "50%    107.000000    0.009125    0.897294    0.628861    0.051943    0.005041   \n",
       "75%    155.250000    0.031571    0.909693    0.674461    0.056544    0.006256   \n",
       "max    260.625000    0.092896    0.949107    0.815658    0.070019    0.009440   \n",
       "\n",
       "              S2_         S3_         C5_         C6_         C7_  \n",
       "count  660.000000  660.000000  660.000000  660.000000  660.000000  \n",
       "mean     0.008977    0.011425    4.009806    4.363858  210.797297  \n",
       "std      0.002749    0.002522    1.647987    6.431440  232.171513  \n",
       "min      0.002152    0.005326    0.283223    0.000000    0.074000  \n",
       "25%      0.006966    0.009579    2.850622    0.000000   41.458000  \n",
       "50%      0.008577    0.011301    3.731035    0.000000  107.462000  \n",
       "75%      0.010521    0.012848    4.857904    7.692308  300.764000  \n",
       "max      0.015854    0.017752    7.868826   19.230769  689.723000  "
      ]
     },
     "execution_count": 37,
     "metadata": {},
     "output_type": "execute_result"
    }
   ],
   "source": [
    "# checking the numbers after results of IQR \n",
    "\n",
    "\n",
    "compdata_cont.describe()"
   ]
  },
  {
   "cell_type": "code",
   "execution_count": 38,
   "metadata": {},
   "outputs": [
    {
     "data": {
      "image/png": "[encoded data removed]",
      "text/plain": [
       "<Figure size 1080x720 with 1 Axes>"
      ]
     },
     "metadata": {
      "needs_background": "light"
     },
     "output_type": "display_data"
    }
   ],
   "source": [
    "compdata_cont.boxplot(vert=False, figsize=(15,10))\n",
    "plt.title('IPO Characteristics Box Plot')\n",
    "plt.show()"
   ]
  },
  {
   "cell_type": "markdown",
   "metadata": {},
   "source": [
    "We now see there are no more outliers per the box plot above."
   ]
  },
  {
   "cell_type": "markdown",
   "metadata": {},
   "source": [
    "# Normalization\n",
    "- we will now look into the skewness of our data and normalize using specific methods depending on the skewness of each column"
   ]
  },
  {
   "cell_type": "markdown",
   "metadata": {},
   "source": [
    "## Skewness"
   ]
  },
  {
   "cell_type": "code",
   "execution_count": 39,
   "metadata": {},
   "outputs": [
    {
     "data": {
      "image/png": "[encoded data removed]",
      "text/plain": [
       "<Figure size 1080x720 with 12 Axes>"
      ]
     },
     "metadata": {
      "needs_background": "light"
     },
     "output_type": "display_data"
    }
   ],
   "source": [
    "# library and data\n",
    "import seaborn as sns\n",
    "import matplotlib.pyplot as plt\n",
    " \n",
    "# plot \n",
    "f, axes = plt.subplots(3, 4, figsize=(15,10), sharex=False)\n",
    "sns.distplot( compdata_cont[\"C1\"] , ax=axes[0, 0])\n",
    "sns.distplot( compdata_cont[\"C4\"] , ax=axes[0, 1])\n",
    "sns.distplot( compdata_cont[\"T3_\"] , ax=axes[0, 2])\n",
    "sns.distplot( compdata_cont[\"T4_\"] , ax=axes[0, 3])\n",
    "sns.distplot( compdata_cont[\"T5_\"] , ax=axes[1, 0])\n",
    "sns.distplot( compdata_cont[\"S1_\"] , ax=axes[1, 1])\n",
    "sns.distplot( compdata_cont[\"S2_\"] , ax=axes[1, 2])\n",
    "sns.distplot( compdata_cont[\"S3_\"] , ax=axes[1, 3])\n",
    "sns.distplot( compdata_cont[\"C5_\"] , ax=axes[2, 0])\n",
    "sns.distplot( compdata_cont[\"C6_\"] , ax=axes[2, 1])\n",
    "sns.distplot( compdata_cont[\"C7_\"] , ax=axes[2, 2])\n",
    "plt.show()"
   ]
  },
  {
   "cell_type": "code",
   "execution_count": 71,
   "metadata": {},
   "outputs": [
    {
     "data": {
      "text/plain": [
       "C1      5.649485\n",
       "C4     -0.477892\n",
       "T3_    -7.196921\n",
       "T4_    -1.595377\n",
       "T5_     0.433959\n",
       "S1_     0.933902\n",
       "S2_     1.193276\n",
       "S3_     1.387724\n",
       "C3_    21.727253\n",
       "C5_    13.405536\n",
       "C6_     4.372685\n",
       "C7_    12.163784\n",
       "dtype: float64"
      ]
     },
     "execution_count": 71,
     "metadata": {},
     "output_type": "execute_result"
    }
   ],
   "source": [
    "compdata_cont.skew()\n",
    "\n",
    "# check if its left or right skewed\n",
    "\n",
    "# close to 0 is best [-.5 - .5]\n",
    "\n",
    "# If it is Positive Skew: use --> log, sqrt, cbrt\n",
    "    \n",
    "# If it is Negative Skew: use --> exponential"
   ]
  },
  {
   "cell_type": "code",
   "execution_count": 41,
   "metadata": {},
   "outputs": [
    {
     "data": {
      "text/plain": [
       "-0.4877946272093146"
      ]
     },
     "execution_count": 41,
     "metadata": {},
     "output_type": "execute_result"
    }
   ],
   "source": [
    "# Negative Skew\n",
    "\n",
    "compdata_cont['T3_'] = compdata_cont['T3_'].apply(np.exp)\n",
    "compdata_cont['T3_'].skew()"
   ]
  },
  {
   "cell_type": "code",
   "execution_count": 42,
   "metadata": {},
   "outputs": [
    {
     "data": {
      "text/plain": [
       "-0.2326709835000498"
      ]
     },
     "execution_count": 42,
     "metadata": {},
     "output_type": "execute_result"
    }
   ],
   "source": [
    "# Negative Skew\n",
    "\n",
    "compdata_cont['C4'] = compdata_cont['C4'].apply(np.exp)\n",
    "compdata_cont['C4'].skew()"
   ]
  },
  {
   "cell_type": "code",
   "execution_count": 43,
   "metadata": {},
   "outputs": [
    {
     "data": {
      "text/plain": [
       "0.17365223060694984"
      ]
     },
     "execution_count": 43,
     "metadata": {},
     "output_type": "execute_result"
    }
   ],
   "source": [
    "# Positive skew\n",
    "\n",
    "compdata_cont['S3_'] = compdata_cont['S3_'].apply(np.sqrt)\n",
    "compdata_cont['S3_'].skew()"
   ]
  },
  {
   "cell_type": "code",
   "execution_count": 44,
   "metadata": {},
   "outputs": [
    {
     "data": {
      "text/plain": [
       "0.20112992112913158"
      ]
     },
     "execution_count": 44,
     "metadata": {},
     "output_type": "execute_result"
    }
   ],
   "source": [
    "# Positive skew\n",
    "\n",
    "compdata_cont['C1'] = compdata_cont['C1'].apply(np.sqrt)\n",
    "compdata_cont['C1'].skew()"
   ]
  },
  {
   "cell_type": "code",
   "execution_count": 45,
   "metadata": {},
   "outputs": [
    {
     "data": {
      "text/plain": [
       "0.20562858689826774"
      ]
     },
     "execution_count": 45,
     "metadata": {},
     "output_type": "execute_result"
    }
   ],
   "source": [
    "# Positive skew\n",
    "\n",
    "compdata_cont['S1_'] = compdata_cont['S1_'].apply(np.sqrt)\n",
    "compdata_cont['S1_'].skew()"
   ]
  },
  {
   "cell_type": "code",
   "execution_count": 46,
   "metadata": {},
   "outputs": [
    {
     "data": {
      "text/plain": [
       "0.3206643563167118"
      ]
     },
     "execution_count": 46,
     "metadata": {},
     "output_type": "execute_result"
    }
   ],
   "source": [
    "# Positive skew\n",
    "\n",
    "compdata_cont['S2_'] = compdata_cont['S2_'].apply(np.sqrt)\n",
    "compdata_cont['S2_'].skew()"
   ]
  },
  {
   "cell_type": "code",
   "execution_count": 47,
   "metadata": {},
   "outputs": [
    {
     "data": {
      "text/plain": [
       "0.12889897265709233"
      ]
     },
     "execution_count": 47,
     "metadata": {},
     "output_type": "execute_result"
    }
   ],
   "source": [
    "# Positive skew\n",
    "\n",
    "compdata_cont['C5_'] = compdata_cont['C5_'].apply(np.sqrt)\n",
    "compdata_cont['C5_'].skew()"
   ]
  },
  {
   "cell_type": "code",
   "execution_count": 48,
   "metadata": {},
   "outputs": [
    {
     "data": {
      "text/plain": [
       "0.4810077410395486"
      ]
     },
     "execution_count": 48,
     "metadata": {},
     "output_type": "execute_result"
    }
   ],
   "source": [
    "# Positive skew\n",
    "\n",
    "compdata_cont['C6_'] = compdata_cont['C6_'].apply(np.cbrt)\n",
    "compdata_cont['C6_'] = compdata_cont['C6_'].apply(np.cbrt)\n",
    "compdata_cont['C6_'] = compdata_cont['C6_'].apply(np.cbrt)\n",
    "compdata_cont['C6_'] = compdata_cont['C6_'].apply(np.cbrt)\n",
    "compdata_cont['C6_'] = compdata_cont['C6_'].apply(np.cbrt)\n",
    "compdata_cont['C6_'] = compdata_cont['C6_'].apply(np.cbrt)\n",
    "compdata_cont['C6_'] = compdata_cont['C6_'].apply(np.cbrt)\n",
    "compdata_cont['C6_'] = compdata_cont['C6_'].apply(np.cbrt)\n",
    "compdata_cont['C6_'].skew()"
   ]
  },
  {
   "cell_type": "code",
   "execution_count": 49,
   "metadata": {},
   "outputs": [
    {
     "data": {
      "text/plain": [
       "0.19168465386274217"
      ]
     },
     "execution_count": 49,
     "metadata": {},
     "output_type": "execute_result"
    }
   ],
   "source": [
    "compdata_cont['C7_'] = compdata_cont['C7_'].apply(np.cbrt)\n",
    "compdata_cont['C7_'].skew()"
   ]
  },
  {
   "cell_type": "code",
   "execution_count": 50,
   "metadata": {},
   "outputs": [
    {
     "data": {
      "text/html": [
       "<div>\n",
       "<style scoped>\n",
       "    .dataframe tbody tr th:only-of-type {\n",
       "        vertical-align: middle;\n",
       "    }\n",
       "\n",
       "    .dataframe tbody tr th {\n",
       "        vertical-align: top;\n",
       "    }\n",
       "\n",
       "    .dataframe thead th {\n",
       "        text-align: right;\n",
       "    }\n",
       "</style>\n",
       "<table border=\"1\" class=\"dataframe\">\n",
       "  <thead>\n",
       "    <tr style=\"text-align: right;\">\n",
       "      <th></th>\n",
       "      <th>C1</th>\n",
       "      <th>C4</th>\n",
       "      <th>T3_</th>\n",
       "      <th>T4_</th>\n",
       "      <th>T5_</th>\n",
       "      <th>S1_</th>\n",
       "      <th>S2_</th>\n",
       "      <th>S3_</th>\n",
       "      <th>C5_</th>\n",
       "      <th>C6_</th>\n",
       "      <th>C7_</th>\n",
       "    </tr>\n",
       "  </thead>\n",
       "  <tbody>\n",
       "    <tr>\n",
       "      <th>count</th>\n",
       "      <td>660.000000</td>\n",
       "      <td>660.000000</td>\n",
       "      <td>660.000000</td>\n",
       "      <td>660.000000</td>\n",
       "      <td>660.000000</td>\n",
       "      <td>660.000000</td>\n",
       "      <td>660.000000</td>\n",
       "      <td>660.000000</td>\n",
       "      <td>660.000000</td>\n",
       "      <td>660.000000</td>\n",
       "      <td>660.000000</td>\n",
       "    </tr>\n",
       "    <tr>\n",
       "      <th>mean</th>\n",
       "      <td>10.907198</td>\n",
       "      <td>1.007999</td>\n",
       "      <td>2.446653</td>\n",
       "      <td>0.628160</td>\n",
       "      <td>0.052204</td>\n",
       "      <td>0.071844</td>\n",
       "      <td>0.093672</td>\n",
       "      <td>0.106242</td>\n",
       "      <td>1.960043</td>\n",
       "      <td>0.383468</td>\n",
       "      <td>5.065044</td>\n",
       "    </tr>\n",
       "    <tr>\n",
       "      <th>std</th>\n",
       "      <td>2.820818</td>\n",
       "      <td>0.032856</td>\n",
       "      <td>0.053403</td>\n",
       "      <td>0.069922</td>\n",
       "      <td>0.006798</td>\n",
       "      <td>0.011251</td>\n",
       "      <td>0.014257</td>\n",
       "      <td>0.011726</td>\n",
       "      <td>0.410235</td>\n",
       "      <td>0.486738</td>\n",
       "      <td>2.276157</td>\n",
       "    </tr>\n",
       "    <tr>\n",
       "      <th>min</th>\n",
       "      <td>3.162278</td>\n",
       "      <td>0.921112</td>\n",
       "      <td>2.325658</td>\n",
       "      <td>0.439132</td>\n",
       "      <td>0.034087</td>\n",
       "      <td>0.040030</td>\n",
       "      <td>0.046394</td>\n",
       "      <td>0.072979</td>\n",
       "      <td>0.532187</td>\n",
       "      <td>0.000000</td>\n",
       "      <td>0.419834</td>\n",
       "    </tr>\n",
       "    <tr>\n",
       "      <th>25%</th>\n",
       "      <td>9.219544</td>\n",
       "      <td>0.986170</td>\n",
       "      <td>2.419152</td>\n",
       "      <td>0.580329</td>\n",
       "      <td>0.047562</td>\n",
       "      <td>0.064298</td>\n",
       "      <td>0.083460</td>\n",
       "      <td>0.097873</td>\n",
       "      <td>1.688379</td>\n",
       "      <td>0.000000</td>\n",
       "      <td>3.461009</td>\n",
       "    </tr>\n",
       "    <tr>\n",
       "      <th>50%</th>\n",
       "      <td>10.344080</td>\n",
       "      <td>1.009166</td>\n",
       "      <td>2.452956</td>\n",
       "      <td>0.628861</td>\n",
       "      <td>0.051943</td>\n",
       "      <td>0.070999</td>\n",
       "      <td>0.092613</td>\n",
       "      <td>0.106305</td>\n",
       "      <td>1.931589</td>\n",
       "      <td>0.000000</td>\n",
       "      <td>4.754282</td>\n",
       "    </tr>\n",
       "    <tr>\n",
       "      <th>75%</th>\n",
       "      <td>12.459924</td>\n",
       "      <td>1.032074</td>\n",
       "      <td>2.483560</td>\n",
       "      <td>0.674461</td>\n",
       "      <td>0.056544</td>\n",
       "      <td>0.079097</td>\n",
       "      <td>0.102571</td>\n",
       "      <td>0.113350</td>\n",
       "      <td>2.204065</td>\n",
       "      <td>1.000311</td>\n",
       "      <td>6.700007</td>\n",
       "    </tr>\n",
       "    <tr>\n",
       "      <th>max</th>\n",
       "      <td>16.143884</td>\n",
       "      <td>1.097347</td>\n",
       "      <td>2.583401</td>\n",
       "      <td>0.815658</td>\n",
       "      <td>0.070019</td>\n",
       "      <td>0.097158</td>\n",
       "      <td>0.125911</td>\n",
       "      <td>0.133235</td>\n",
       "      <td>2.805143</td>\n",
       "      <td>1.000451</td>\n",
       "      <td>8.835373</td>\n",
       "    </tr>\n",
       "  </tbody>\n",
       "</table>\n",
       "</div>"
      ],
      "text/plain": [
       "               C1          C4         T3_         T4_         T5_         S1_  \\\n",
       "count  660.000000  660.000000  660.000000  660.000000  660.000000  660.000000   \n",
       "mean    10.907198    1.007999    2.446653    0.628160    0.052204    0.071844   \n",
       "std      2.820818    0.032856    0.053403    0.069922    0.006798    0.011251   \n",
       "min      3.162278    0.921112    2.325658    0.439132    0.034087    0.040030   \n",
       "25%      9.219544    0.986170    2.419152    0.580329    0.047562    0.064298   \n",
       "50%     10.344080    1.009166    2.452956    0.628861    0.051943    0.070999   \n",
       "75%     12.459924    1.032074    2.483560    0.674461    0.056544    0.079097   \n",
       "max     16.143884    1.097347    2.583401    0.815658    0.070019    0.097158   \n",
       "\n",
       "              S2_         S3_         C5_         C6_         C7_  \n",
       "count  660.000000  660.000000  660.000000  660.000000  660.000000  \n",
       "mean     0.093672    0.106242    1.960043    0.383468    5.065044  \n",
       "std      0.014257    0.011726    0.410235    0.486738    2.276157  \n",
       "min      0.046394    0.072979    0.532187    0.000000    0.419834  \n",
       "25%      0.083460    0.097873    1.688379    0.000000    3.461009  \n",
       "50%      0.092613    0.106305    1.931589    0.000000    4.754282  \n",
       "75%      0.102571    0.113350    2.204065    1.000311    6.700007  \n",
       "max      0.125911    0.133235    2.805143    1.000451    8.835373  "
      ]
     },
     "execution_count": 50,
     "metadata": {},
     "output_type": "execute_result"
    }
   ],
   "source": [
    "compdata_cont.describe()"
   ]
  },
  {
   "cell_type": "markdown",
   "metadata": {},
   "source": [
    "# Z-Score "
   ]
  },
  {
   "cell_type": "code",
   "execution_count": 51,
   "metadata": {},
   "outputs": [
    {
     "data": {
      "text/html": [
       "<div>\n",
       "<style scoped>\n",
       "    .dataframe tbody tr th:only-of-type {\n",
       "        vertical-align: middle;\n",
       "    }\n",
       "\n",
       "    .dataframe tbody tr th {\n",
       "        vertical-align: top;\n",
       "    }\n",
       "\n",
       "    .dataframe thead th {\n",
       "        text-align: right;\n",
       "    }\n",
       "</style>\n",
       "<table border=\"1\" class=\"dataframe\">\n",
       "  <thead>\n",
       "    <tr style=\"text-align: right;\">\n",
       "      <th></th>\n",
       "      <th>C1</th>\n",
       "      <th>C4</th>\n",
       "      <th>T3_</th>\n",
       "      <th>T4_</th>\n",
       "      <th>T5_</th>\n",
       "      <th>S1_</th>\n",
       "      <th>S2_</th>\n",
       "      <th>S3_</th>\n",
       "      <th>C5_</th>\n",
       "      <th>C6_</th>\n",
       "      <th>C7_</th>\n",
       "    </tr>\n",
       "  </thead>\n",
       "  <tbody>\n",
       "    <tr>\n",
       "      <th>0</th>\n",
       "      <td>0.049017</td>\n",
       "      <td>0.654942</td>\n",
       "      <td>0.653646</td>\n",
       "      <td>0.175548</td>\n",
       "      <td>0.301174</td>\n",
       "      <td>-0.180189</td>\n",
       "      <td>0.157107</td>\n",
       "      <td>-0.145265</td>\n",
       "      <td>0.014029</td>\n",
       "      <td>1.268375</td>\n",
       "      <td>-0.592795</td>\n",
       "    </tr>\n",
       "    <tr>\n",
       "      <th>1</th>\n",
       "      <td>1.839967</td>\n",
       "      <td>-0.647617</td>\n",
       "      <td>0.183926</td>\n",
       "      <td>0.237492</td>\n",
       "      <td>-0.119041</td>\n",
       "      <td>-1.313304</td>\n",
       "      <td>0.821836</td>\n",
       "      <td>-0.166919</td>\n",
       "      <td>2.061600</td>\n",
       "      <td>-0.788430</td>\n",
       "      <td>-0.925497</td>\n",
       "    </tr>\n",
       "    <tr>\n",
       "      <th>2</th>\n",
       "      <td>-0.503911</td>\n",
       "      <td>0.393906</td>\n",
       "      <td>0.675674</td>\n",
       "      <td>0.123885</td>\n",
       "      <td>1.407310</td>\n",
       "      <td>2.251685</td>\n",
       "      <td>-1.016461</td>\n",
       "      <td>0.046156</td>\n",
       "      <td>-0.303770</td>\n",
       "      <td>-0.788430</td>\n",
       "      <td>-1.371016</td>\n",
       "    </tr>\n",
       "    <tr>\n",
       "      <th>3</th>\n",
       "      <td>1.259325</td>\n",
       "      <td>0.372399</td>\n",
       "      <td>1.035775</td>\n",
       "      <td>-1.267028</td>\n",
       "      <td>1.387606</td>\n",
       "      <td>2.251685</td>\n",
       "      <td>-0.642423</td>\n",
       "      <td>0.782225</td>\n",
       "      <td>-0.350153</td>\n",
       "      <td>-0.788430</td>\n",
       "      <td>-1.328744</td>\n",
       "    </tr>\n",
       "    <tr>\n",
       "      <th>4</th>\n",
       "      <td>-0.696399</td>\n",
       "      <td>-1.288175</td>\n",
       "      <td>-0.285734</td>\n",
       "      <td>-0.583199</td>\n",
       "      <td>-0.537818</td>\n",
       "      <td>-0.411746</td>\n",
       "      <td>0.460715</td>\n",
       "      <td>-0.010587</td>\n",
       "      <td>-0.072424</td>\n",
       "      <td>1.268125</td>\n",
       "      <td>1.546753</td>\n",
       "    </tr>\n",
       "  </tbody>\n",
       "</table>\n",
       "</div>"
      ],
      "text/plain": [
       "         C1        C4       T3_       T4_       T5_       S1_       S2_  \\\n",
       "0  0.049017  0.654942  0.653646  0.175548  0.301174 -0.180189  0.157107   \n",
       "1  1.839967 -0.647617  0.183926  0.237492 -0.119041 -1.313304  0.821836   \n",
       "2 -0.503911  0.393906  0.675674  0.123885  1.407310  2.251685 -1.016461   \n",
       "3  1.259325  0.372399  1.035775 -1.267028  1.387606  2.251685 -0.642423   \n",
       "4 -0.696399 -1.288175 -0.285734 -0.583199 -0.537818 -0.411746  0.460715   \n",
       "\n",
       "        S3_       C5_       C6_       C7_  \n",
       "0 -0.145265  0.014029  1.268375 -0.592795  \n",
       "1 -0.166919  2.061600 -0.788430 -0.925497  \n",
       "2  0.046156 -0.303770 -0.788430 -1.371016  \n",
       "3  0.782225 -0.350153 -0.788430 -1.328744  \n",
       "4 -0.010587 -0.072424  1.268125  1.546753  "
      ]
     },
     "execution_count": 51,
     "metadata": {},
     "output_type": "execute_result"
    }
   ],
   "source": [
    "from scipy.stats import zscore\n",
    "\n",
    "compdata_cont = compdata_cont.apply(zscore)\n",
    "compdata_cont.head()"
   ]
  },
  {
   "cell_type": "markdown",
   "metadata": {},
   "source": [
    "# Correlation"
   ]
  },
  {
   "cell_type": "markdown",
   "metadata": {},
   "source": [
    "## Skewness "
   ]
  },
  {
   "cell_type": "code",
   "execution_count": 52,
   "metadata": {},
   "outputs": [
    {
     "data": {
      "image/png": "[encoded data removed]",
      "text/plain": [
       "<Figure size 1152x720 with 2 Axes>"
      ]
     },
     "metadata": {},
     "output_type": "display_data"
    }
   ],
   "source": [
    "# Correlation between Variables\n",
    "\n",
    "cont_corr = compdata_cont.corr()\n",
    "\n",
    "with sns.axes_style(\"dark\"):\n",
    "    f, ax = plt.subplots(figsize=(16, 10))\n",
    "    ax = sns.heatmap(cont_corr, vmax=.3, square=True,annot=True)"
   ]
  },
  {
   "cell_type": "code",
   "execution_count": 53,
   "metadata": {},
   "outputs": [
    {
     "data": {
      "text/html": [
       "<div>\n",
       "<style scoped>\n",
       "    .dataframe tbody tr th:only-of-type {\n",
       "        vertical-align: middle;\n",
       "    }\n",
       "\n",
       "    .dataframe tbody tr th {\n",
       "        vertical-align: top;\n",
       "    }\n",
       "\n",
       "    .dataframe thead th {\n",
       "        text-align: right;\n",
       "    }\n",
       "</style>\n",
       "<table border=\"1\" class=\"dataframe\">\n",
       "  <thead>\n",
       "    <tr style=\"text-align: right;\">\n",
       "      <th></th>\n",
       "      <th>C1</th>\n",
       "      <th>C4</th>\n",
       "      <th>T3_</th>\n",
       "      <th>T4_</th>\n",
       "      <th>T5_</th>\n",
       "      <th>S1_</th>\n",
       "      <th>S2_</th>\n",
       "      <th>S3_</th>\n",
       "      <th>C5_</th>\n",
       "      <th>C6_</th>\n",
       "      <th>C7_</th>\n",
       "    </tr>\n",
       "  </thead>\n",
       "  <tbody>\n",
       "    <tr>\n",
       "      <th>C1</th>\n",
       "      <td>1.000000</td>\n",
       "      <td>0.069903</td>\n",
       "      <td>-0.077262</td>\n",
       "      <td>0.016596</td>\n",
       "      <td>0.056196</td>\n",
       "      <td>0.037163</td>\n",
       "      <td>0.054641</td>\n",
       "      <td>-0.014887</td>\n",
       "      <td>0.056682</td>\n",
       "      <td>-0.071511</td>\n",
       "      <td>0.075771</td>\n",
       "    </tr>\n",
       "    <tr>\n",
       "      <th>C4</th>\n",
       "      <td>0.069903</td>\n",
       "      <td>1.000000</td>\n",
       "      <td>0.058573</td>\n",
       "      <td>0.056764</td>\n",
       "      <td>0.065918</td>\n",
       "      <td>-0.006919</td>\n",
       "      <td>0.030684</td>\n",
       "      <td>0.041472</td>\n",
       "      <td>-0.049661</td>\n",
       "      <td>0.080776</td>\n",
       "      <td>0.011626</td>\n",
       "    </tr>\n",
       "    <tr>\n",
       "      <th>T3_</th>\n",
       "      <td>-0.077262</td>\n",
       "      <td>0.058573</td>\n",
       "      <td>1.000000</td>\n",
       "      <td>-0.185353</td>\n",
       "      <td>0.430392</td>\n",
       "      <td>0.157534</td>\n",
       "      <td>0.109535</td>\n",
       "      <td>0.357682</td>\n",
       "      <td>0.041195</td>\n",
       "      <td>-0.084859</td>\n",
       "      <td>-0.163419</td>\n",
       "    </tr>\n",
       "    <tr>\n",
       "      <th>T4_</th>\n",
       "      <td>0.016596</td>\n",
       "      <td>0.056764</td>\n",
       "      <td>-0.185353</td>\n",
       "      <td>1.000000</td>\n",
       "      <td>-0.109971</td>\n",
       "      <td>0.051118</td>\n",
       "      <td>-0.034912</td>\n",
       "      <td>-0.118880</td>\n",
       "      <td>0.117111</td>\n",
       "      <td>-0.043778</td>\n",
       "      <td>0.142655</td>\n",
       "    </tr>\n",
       "    <tr>\n",
       "      <th>T5_</th>\n",
       "      <td>0.056196</td>\n",
       "      <td>0.065918</td>\n",
       "      <td>0.430392</td>\n",
       "      <td>-0.109971</td>\n",
       "      <td>1.000000</td>\n",
       "      <td>0.198452</td>\n",
       "      <td>0.177145</td>\n",
       "      <td>0.428468</td>\n",
       "      <td>0.117577</td>\n",
       "      <td>-0.116490</td>\n",
       "      <td>-0.162698</td>\n",
       "    </tr>\n",
       "    <tr>\n",
       "      <th>S1_</th>\n",
       "      <td>0.037163</td>\n",
       "      <td>-0.006919</td>\n",
       "      <td>0.157534</td>\n",
       "      <td>0.051118</td>\n",
       "      <td>0.198452</td>\n",
       "      <td>1.000000</td>\n",
       "      <td>0.142086</td>\n",
       "      <td>0.187416</td>\n",
       "      <td>0.011591</td>\n",
       "      <td>-0.060821</td>\n",
       "      <td>0.099271</td>\n",
       "    </tr>\n",
       "    <tr>\n",
       "      <th>S2_</th>\n",
       "      <td>0.054641</td>\n",
       "      <td>0.030684</td>\n",
       "      <td>0.109535</td>\n",
       "      <td>-0.034912</td>\n",
       "      <td>0.177145</td>\n",
       "      <td>0.142086</td>\n",
       "      <td>1.000000</td>\n",
       "      <td>0.147793</td>\n",
       "      <td>-0.072624</td>\n",
       "      <td>-0.113608</td>\n",
       "      <td>0.215368</td>\n",
       "    </tr>\n",
       "    <tr>\n",
       "      <th>S3_</th>\n",
       "      <td>-0.014887</td>\n",
       "      <td>0.041472</td>\n",
       "      <td>0.357682</td>\n",
       "      <td>-0.118880</td>\n",
       "      <td>0.428468</td>\n",
       "      <td>0.187416</td>\n",
       "      <td>0.147793</td>\n",
       "      <td>1.000000</td>\n",
       "      <td>0.030362</td>\n",
       "      <td>-0.041409</td>\n",
       "      <td>-0.132353</td>\n",
       "    </tr>\n",
       "    <tr>\n",
       "      <th>C5_</th>\n",
       "      <td>0.056682</td>\n",
       "      <td>-0.049661</td>\n",
       "      <td>0.041195</td>\n",
       "      <td>0.117111</td>\n",
       "      <td>0.117577</td>\n",
       "      <td>0.011591</td>\n",
       "      <td>-0.072624</td>\n",
       "      <td>0.030362</td>\n",
       "      <td>1.000000</td>\n",
       "      <td>0.109007</td>\n",
       "      <td>-0.030592</td>\n",
       "    </tr>\n",
       "    <tr>\n",
       "      <th>C6_</th>\n",
       "      <td>-0.071511</td>\n",
       "      <td>0.080776</td>\n",
       "      <td>-0.084859</td>\n",
       "      <td>-0.043778</td>\n",
       "      <td>-0.116490</td>\n",
       "      <td>-0.060821</td>\n",
       "      <td>-0.113608</td>\n",
       "      <td>-0.041409</td>\n",
       "      <td>0.109007</td>\n",
       "      <td>1.000000</td>\n",
       "      <td>0.020583</td>\n",
       "    </tr>\n",
       "    <tr>\n",
       "      <th>C7_</th>\n",
       "      <td>0.075771</td>\n",
       "      <td>0.011626</td>\n",
       "      <td>-0.163419</td>\n",
       "      <td>0.142655</td>\n",
       "      <td>-0.162698</td>\n",
       "      <td>0.099271</td>\n",
       "      <td>0.215368</td>\n",
       "      <td>-0.132353</td>\n",
       "      <td>-0.030592</td>\n",
       "      <td>0.020583</td>\n",
       "      <td>1.000000</td>\n",
       "    </tr>\n",
       "  </tbody>\n",
       "</table>\n",
       "</div>"
      ],
      "text/plain": [
       "           C1        C4       T3_       T4_       T5_       S1_       S2_  \\\n",
       "C1   1.000000  0.069903 -0.077262  0.016596  0.056196  0.037163  0.054641   \n",
       "C4   0.069903  1.000000  0.058573  0.056764  0.065918 -0.006919  0.030684   \n",
       "T3_ -0.077262  0.058573  1.000000 -0.185353  0.430392  0.157534  0.109535   \n",
       "T4_  0.016596  0.056764 -0.185353  1.000000 -0.109971  0.051118 -0.034912   \n",
       "T5_  0.056196  0.065918  0.430392 -0.109971  1.000000  0.198452  0.177145   \n",
       "S1_  0.037163 -0.006919  0.157534  0.051118  0.198452  1.000000  0.142086   \n",
       "S2_  0.054641  0.030684  0.109535 -0.034912  0.177145  0.142086  1.000000   \n",
       "S3_ -0.014887  0.041472  0.357682 -0.118880  0.428468  0.187416  0.147793   \n",
       "C5_  0.056682 -0.049661  0.041195  0.117111  0.117577  0.011591 -0.072624   \n",
       "C6_ -0.071511  0.080776 -0.084859 -0.043778 -0.116490 -0.060821 -0.113608   \n",
       "C7_  0.075771  0.011626 -0.163419  0.142655 -0.162698  0.099271  0.215368   \n",
       "\n",
       "          S3_       C5_       C6_       C7_  \n",
       "C1  -0.014887  0.056682 -0.071511  0.075771  \n",
       "C4   0.041472 -0.049661  0.080776  0.011626  \n",
       "T3_  0.357682  0.041195 -0.084859 -0.163419  \n",
       "T4_ -0.118880  0.117111 -0.043778  0.142655  \n",
       "T5_  0.428468  0.117577 -0.116490 -0.162698  \n",
       "S1_  0.187416  0.011591 -0.060821  0.099271  \n",
       "S2_  0.147793 -0.072624 -0.113608  0.215368  \n",
       "S3_  1.000000  0.030362 -0.041409 -0.132353  \n",
       "C5_  0.030362  1.000000  0.109007 -0.030592  \n",
       "C6_ -0.041409  0.109007  1.000000  0.020583  \n",
       "C7_ -0.132353 -0.030592  0.020583  1.000000  "
      ]
     },
     "execution_count": 53,
     "metadata": {},
     "output_type": "execute_result"
    }
   ],
   "source": [
    "compdata_cont.corr()"
   ]
  },
  {
   "cell_type": "markdown",
   "metadata": {},
   "source": [
    "# Binning"
   ]
  },
  {
   "cell_type": "markdown",
   "metadata": {},
   "source": [
    "## Identify values in I3 that have multiple values and replace them with 1.\n",
    "- we discovered (via some handy Excel work) that some values in I3 had multiple SIC codes.\n",
    "- need to replace these first."
   ]
  },
  {
   "cell_type": "code",
   "execution_count": 54,
   "metadata": {},
   "outputs": [
    {
     "data": {
      "text/html": [
       "<div>\n",
       "<style scoped>\n",
       "    .dataframe tbody tr th:only-of-type {\n",
       "        vertical-align: middle;\n",
       "    }\n",
       "\n",
       "    .dataframe tbody tr th {\n",
       "        vertical-align: top;\n",
       "    }\n",
       "\n",
       "    .dataframe thead th {\n",
       "        text-align: right;\n",
       "    }\n",
       "</style>\n",
       "<table border=\"1\" class=\"dataframe\">\n",
       "  <thead>\n",
       "    <tr style=\"text-align: right;\">\n",
       "      <th></th>\n",
       "      <th>I1</th>\n",
       "      <th>I2</th>\n",
       "      <th>I3</th>\n",
       "      <th>C2</th>\n",
       "    </tr>\n",
       "  </thead>\n",
       "  <tbody>\n",
       "    <tr>\n",
       "      <th>174</th>\n",
       "      <td>DLB</td>\n",
       "      <td>Dolby Laboratories, Inc.</td>\n",
       "      <td>6794, 3861, 3663, 7819</td>\n",
       "      <td>1.0</td>\n",
       "    </tr>\n",
       "  </tbody>\n",
       "</table>\n",
       "</div>"
      ],
      "text/plain": [
       "      I1                         I2                      I3   C2\n",
       "174  DLB  Dolby Laboratories, Inc.   6794, 3861, 3663, 7819  1.0"
      ]
     },
     "execution_count": 54,
     "metadata": {},
     "output_type": "execute_result"
    }
   ],
   "source": [
    "compdata_cat[compdata_cat[\"I1\"]=='DLB']"
   ]
  },
  {
   "cell_type": "code",
   "execution_count": 55,
   "metadata": {},
   "outputs": [
    {
     "data": {
      "text/html": [
       "<div>\n",
       "<style scoped>\n",
       "    .dataframe tbody tr th:only-of-type {\n",
       "        vertical-align: middle;\n",
       "    }\n",
       "\n",
       "    .dataframe tbody tr th {\n",
       "        vertical-align: top;\n",
       "    }\n",
       "\n",
       "    .dataframe thead th {\n",
       "        text-align: right;\n",
       "    }\n",
       "</style>\n",
       "<table border=\"1\" class=\"dataframe\">\n",
       "  <thead>\n",
       "    <tr style=\"text-align: right;\">\n",
       "      <th></th>\n",
       "      <th>I1</th>\n",
       "      <th>I2</th>\n",
       "      <th>I3</th>\n",
       "      <th>C2</th>\n",
       "    </tr>\n",
       "  </thead>\n",
       "  <tbody>\n",
       "    <tr>\n",
       "      <th>187</th>\n",
       "      <td>DTSI</td>\n",
       "      <td>DTS, INC.</td>\n",
       "      <td>3651, 6794, 7819</td>\n",
       "      <td>0.0</td>\n",
       "    </tr>\n",
       "  </tbody>\n",
       "</table>\n",
       "</div>"
      ],
      "text/plain": [
       "       I1         I2                I3   C2\n",
       "187  DTSI  DTS, INC.  3651, 6794, 7819  0.0"
      ]
     },
     "execution_count": 55,
     "metadata": {},
     "output_type": "execute_result"
    }
   ],
   "source": [
    "compdata_cat[compdata_cat[\"I1\"]=='DTSI']"
   ]
  },
  {
   "cell_type": "code",
   "execution_count": 56,
   "metadata": {},
   "outputs": [
    {
     "data": {
      "text/html": [
       "<div>\n",
       "<style scoped>\n",
       "    .dataframe tbody tr th:only-of-type {\n",
       "        vertical-align: middle;\n",
       "    }\n",
       "\n",
       "    .dataframe tbody tr th {\n",
       "        vertical-align: top;\n",
       "    }\n",
       "\n",
       "    .dataframe thead th {\n",
       "        text-align: right;\n",
       "    }\n",
       "</style>\n",
       "<table border=\"1\" class=\"dataframe\">\n",
       "  <thead>\n",
       "    <tr style=\"text-align: right;\">\n",
       "      <th></th>\n",
       "      <th>I1</th>\n",
       "      <th>I2</th>\n",
       "      <th>I3</th>\n",
       "      <th>C2</th>\n",
       "    </tr>\n",
       "  </thead>\n",
       "  <tbody>\n",
       "    <tr>\n",
       "      <th>499</th>\n",
       "      <td>RLD</td>\n",
       "      <td>RealD Inc.</td>\n",
       "      <td>3663, 3861, 6794</td>\n",
       "      <td>1.0</td>\n",
       "    </tr>\n",
       "  </tbody>\n",
       "</table>\n",
       "</div>"
      ],
      "text/plain": [
       "      I1          I2                I3   C2\n",
       "499  RLD  RealD Inc.  3663, 3861, 6794  1.0"
      ]
     },
     "execution_count": 56,
     "metadata": {},
     "output_type": "execute_result"
    }
   ],
   "source": [
    "compdata_cat[compdata_cat[\"I1\"]=='RLD']"
   ]
  },
  {
   "cell_type": "code",
   "execution_count": 57,
   "metadata": {},
   "outputs": [
    {
     "data": {
      "text/html": [
       "<div>\n",
       "<style scoped>\n",
       "    .dataframe tbody tr th:only-of-type {\n",
       "        vertical-align: middle;\n",
       "    }\n",
       "\n",
       "    .dataframe tbody tr th {\n",
       "        vertical-align: top;\n",
       "    }\n",
       "\n",
       "    .dataframe thead th {\n",
       "        text-align: right;\n",
       "    }\n",
       "</style>\n",
       "<table border=\"1\" class=\"dataframe\">\n",
       "  <thead>\n",
       "    <tr style=\"text-align: right;\">\n",
       "      <th></th>\n",
       "      <th>I1</th>\n",
       "      <th>I2</th>\n",
       "      <th>I3</th>\n",
       "      <th>C2</th>\n",
       "    </tr>\n",
       "  </thead>\n",
       "  <tbody>\n",
       "    <tr>\n",
       "      <th>620</th>\n",
       "      <td>UPG</td>\n",
       "      <td>UNIVERSAL POWER GROUP</td>\n",
       "      <td>7389, 5063</td>\n",
       "      <td>0.0</td>\n",
       "    </tr>\n",
       "  </tbody>\n",
       "</table>\n",
       "</div>"
      ],
      "text/plain": [
       "      I1                      I2          I3   C2\n",
       "620  UPG  UNIVERSAL POWER GROUP   7389, 5063  0.0"
      ]
     },
     "execution_count": 57,
     "metadata": {},
     "output_type": "execute_result"
    }
   ],
   "source": [
    "compdata_cat[compdata_cat[\"I1\"]=='UPG']"
   ]
  },
  {
   "cell_type": "markdown",
   "metadata": {},
   "source": [
    "## Replace I3 values with one value.\n",
    "- placed them in sensible industry based on the most common industries of the 4 values."
   ]
  },
  {
   "cell_type": "code",
   "execution_count": 58,
   "metadata": {},
   "outputs": [],
   "source": [
    "# adding to manufacturing \n",
    "\n",
    "compdata_cat.I3.replace(to_replace =\"6794, 3861, 3663, 7819\", value =\"3000\", inplace=True)"
   ]
  },
  {
   "cell_type": "code",
   "execution_count": 59,
   "metadata": {},
   "outputs": [],
   "source": [
    "# adding to nonclassifiable \n",
    "\n",
    "compdata_cat.I3.replace(to_replace =\"3651, 6794, 7819\", value =\"9900\", inplace=True)"
   ]
  },
  {
   "cell_type": "code",
   "execution_count": 60,
   "metadata": {},
   "outputs": [],
   "source": [
    "# adding to manufacturing\n",
    "\n",
    "compdata_cat.I3.replace(to_replace =\"3663, 3861, 6794\", value =\"3000\", inplace=True)"
   ]
  },
  {
   "cell_type": "code",
   "execution_count": 61,
   "metadata": {},
   "outputs": [],
   "source": [
    "# adding to nonclassifiable \n",
    "\n",
    "compdata_cat.I3.replace(to_replace =\"7389, 5063\", value =\"9900\", inplace=True)"
   ]
  },
  {
   "cell_type": "code",
   "execution_count": 62,
   "metadata": {},
   "outputs": [],
   "source": [
    "# adding to services\n",
    "\n",
    "compdata_cat.I3.replace(to_replace =\"541990\", value =\"7000\", inplace=True)"
   ]
  },
  {
   "cell_type": "code",
   "execution_count": 63,
   "metadata": {},
   "outputs": [],
   "source": [
    "# make I3 a numerical column so we can properly bin\n",
    "\n",
    "compdata_cat[\"I3\"] = pd.to_numeric(compdata_cat[\"I3\"])"
   ]
  },
  {
   "cell_type": "markdown",
   "metadata": {},
   "source": [
    "## SIC Code Bins"
   ]
  },
  {
   "cell_type": "markdown",
   "metadata": {},
   "source": [
    "| Range of SIC Codes | Division | \n",
    "| ------------ | ---------- | \n",
    "| 0100-0999 | Agriculture, Forestry and Fishing |\n",
    "| 1000-1499 | Mining |\n",
    "| 1800-1999 | not used |\n",
    "| 2000-3999 | Manufacturing |\n",
    "| 4000-4999 | Transportation, Communications, Electric, Gas and Sanitary service |\n",
    "| 5000-5199 | Wholesale Trade |\n",
    "| 5200-5999 | Retail Trade |\n",
    "| 6000-6799 | Finance, Insurance and Real Estate |\n",
    "| 7000-8999 | Services |\n",
    "| 9100-9729 | Public Administration |\n",
    "| 9900-9999 | Nonclassifiable |\n"
   ]
  },
  {
   "cell_type": "code",
   "execution_count": 64,
   "metadata": {},
   "outputs": [
    {
     "data": {
      "text/html": [
       "<div>\n",
       "<style scoped>\n",
       "    .dataframe tbody tr th:only-of-type {\n",
       "        vertical-align: middle;\n",
       "    }\n",
       "\n",
       "    .dataframe tbody tr th {\n",
       "        vertical-align: top;\n",
       "    }\n",
       "\n",
       "    .dataframe thead th {\n",
       "        text-align: right;\n",
       "    }\n",
       "</style>\n",
       "<table border=\"1\" class=\"dataframe\">\n",
       "  <thead>\n",
       "    <tr style=\"text-align: right;\">\n",
       "      <th></th>\n",
       "      <th>I1</th>\n",
       "      <th>I2</th>\n",
       "      <th>I3</th>\n",
       "      <th>C2</th>\n",
       "      <th>I3_bins</th>\n",
       "    </tr>\n",
       "  </thead>\n",
       "  <tbody>\n",
       "    <tr>\n",
       "      <th>0</th>\n",
       "      <td>AATI</td>\n",
       "      <td>ADVANCED ANALOGIC TECHNOLOGIES INC</td>\n",
       "      <td>3674</td>\n",
       "      <td>1.0</td>\n",
       "      <td>5</td>\n",
       "    </tr>\n",
       "    <tr>\n",
       "      <th>1</th>\n",
       "      <td>ABPI</td>\n",
       "      <td>ACCENTIA BIOPHARMACEUTICALS INC</td>\n",
       "      <td>2834</td>\n",
       "      <td>0.0</td>\n",
       "      <td>5</td>\n",
       "    </tr>\n",
       "    <tr>\n",
       "      <th>2</th>\n",
       "      <td>ACAD</td>\n",
       "      <td>ACADIA PHARMACEUTICALS INC</td>\n",
       "      <td>2834</td>\n",
       "      <td>1.0</td>\n",
       "      <td>5</td>\n",
       "    </tr>\n",
       "    <tr>\n",
       "      <th>3</th>\n",
       "      <td>ACHN</td>\n",
       "      <td>ACHILLION PHARMACEUTICALS INC</td>\n",
       "      <td>2834</td>\n",
       "      <td>1.0</td>\n",
       "      <td>5</td>\n",
       "    </tr>\n",
       "    <tr>\n",
       "      <th>4</th>\n",
       "      <td>ACLI</td>\n",
       "      <td>AMERICAN COMMERCIAL LINES INC.</td>\n",
       "      <td>4492</td>\n",
       "      <td>1.0</td>\n",
       "      <td>6</td>\n",
       "    </tr>\n",
       "  </tbody>\n",
       "</table>\n",
       "</div>"
      ],
      "text/plain": [
       "     I1                                  I2    I3   C2  I3_bins\n",
       "0  AATI  ADVANCED ANALOGIC TECHNOLOGIES INC  3674  1.0        5\n",
       "1  ABPI     ACCENTIA BIOPHARMACEUTICALS INC  2834  0.0        5\n",
       "2  ACAD          ACADIA PHARMACEUTICALS INC  2834  1.0        5\n",
       "3  ACHN       ACHILLION PHARMACEUTICALS INC  2834  1.0        5\n",
       "4  ACLI     AMERICAN COMMERCIAL LINES INC.   4492  1.0        6"
      ]
     },
     "execution_count": 64,
     "metadata": {},
     "output_type": "execute_result"
    }
   ],
   "source": [
    "def assign_I3_bins(I3):\n",
    "    if I3 >= 100 and I3 <= 999:                    \n",
    "        return(1)\n",
    "    if I3 >= 1000 and I3 <= 1499:       \n",
    "        return(2)\n",
    "    if I3 >= 1500 and I3 <= 1799:       \n",
    "        return(3)\n",
    "    if I3 >= 1800 and I3 <= 1999:      \n",
    "        return(4)\n",
    "    if I3 >= 2000 and I3 <= 3999:                  \n",
    "        return(5)\n",
    "    if I3 >= 4000 and I3 <= 4999:                  \n",
    "        return(6)\n",
    "    if I3 >= 5000 and I3 <= 5199:                 \n",
    "        return(7)\n",
    "    if I3 >= 5200 and I3 <= 5999:                  \n",
    "        return(8)\n",
    "    if I3 >= 6000 and I3 <= 6799:                 \n",
    "        return(9)\n",
    "    if I3 >= 7000 and I3 <= 8999:                  \n",
    "        return(10)\n",
    "    if I3 >= 9100 and I3 <= 9729:                  \n",
    "        return(11)   \n",
    "    if I3 >= 9900 and I3 <= 9999:                  \n",
    "        return(12)   \n",
    "    \n",
    "    # Creating a new column I3_bins in the dataframe\n",
    "\n",
    "compdata_cat['I3_bins'] = compdata_cat['I3'].apply(assign_I3_bins)  \n",
    "\n",
    "compdata_cat.head()"
   ]
  },
  {
   "cell_type": "markdown",
   "metadata": {},
   "source": [
    "## Analyze the Bins"
   ]
  },
  {
   "cell_type": "code",
   "execution_count": 65,
   "metadata": {},
   "outputs": [
    {
     "data": {
      "image/png": "[encoded data removed]",
      "text/plain": [
       "<Figure size 1008x216 with 1 Axes>"
      ]
     },
     "metadata": {},
     "output_type": "display_data"
    }
   ],
   "source": [
    "sns.set_style(\"darkgrid\")\n",
    "plt.figure(figsize=(14,3))\n",
    "\n",
    "# PLOT - distribution of industry bins\n",
    "plt.subplot(1,2,1)\n",
    "plt.text(4,260,\"5 and 10 by a large margin!\")\n",
    "ax = sns.countplot(x=\"I3_bins\", data=compdata_cat, palette=\"viridis\")\n",
    "ax.set(title=\"Distribution of Industry Bins\")\n",
    "\n",
    "plt.show()"
   ]
  },
  {
   "cell_type": "markdown",
   "metadata": {},
   "source": [
    "- it is clear that bin 5, which is Manufacturing, and bin 10, which is Services, dominate the distribution.\n",
    "- the other remaining bins are not even close to the top 2, so let's bin these in an 'Other' category and only use 3 bins."
   ]
  },
  {
   "cell_type": "markdown",
   "metadata": {},
   "source": [
    "## SIC Code Bins (REVISED)"
   ]
  },
  {
   "cell_type": "markdown",
   "metadata": {},
   "source": [
    "| Range of SIC Codes | Division | \n",
    "| ------------ | ---------- | \n",
    "| 0100-1999 | Other |\n",
    "| 2000-3999 | Manufacturing |\n",
    "| 4000-6799 | Other |\n",
    "| 7000-8999 | Services |\n",
    "| 9100-9999 | Other |\n"
   ]
  },
  {
   "cell_type": "code",
   "execution_count": 66,
   "metadata": {},
   "outputs": [
    {
     "data": {
      "text/html": [
       "<div>\n",
       "<style scoped>\n",
       "    .dataframe tbody tr th:only-of-type {\n",
       "        vertical-align: middle;\n",
       "    }\n",
       "\n",
       "    .dataframe tbody tr th {\n",
       "        vertical-align: top;\n",
       "    }\n",
       "\n",
       "    .dataframe thead th {\n",
       "        text-align: right;\n",
       "    }\n",
       "</style>\n",
       "<table border=\"1\" class=\"dataframe\">\n",
       "  <thead>\n",
       "    <tr style=\"text-align: right;\">\n",
       "      <th></th>\n",
       "      <th>I1</th>\n",
       "      <th>I2</th>\n",
       "      <th>I3</th>\n",
       "      <th>C2</th>\n",
       "      <th>I3_bins</th>\n",
       "      <th>I3_bins_new</th>\n",
       "    </tr>\n",
       "  </thead>\n",
       "  <tbody>\n",
       "    <tr>\n",
       "      <th>0</th>\n",
       "      <td>AATI</td>\n",
       "      <td>ADVANCED ANALOGIC TECHNOLOGIES INC</td>\n",
       "      <td>3674</td>\n",
       "      <td>1.0</td>\n",
       "      <td>5</td>\n",
       "      <td>2</td>\n",
       "    </tr>\n",
       "    <tr>\n",
       "      <th>1</th>\n",
       "      <td>ABPI</td>\n",
       "      <td>ACCENTIA BIOPHARMACEUTICALS INC</td>\n",
       "      <td>2834</td>\n",
       "      <td>0.0</td>\n",
       "      <td>5</td>\n",
       "      <td>2</td>\n",
       "    </tr>\n",
       "    <tr>\n",
       "      <th>2</th>\n",
       "      <td>ACAD</td>\n",
       "      <td>ACADIA PHARMACEUTICALS INC</td>\n",
       "      <td>2834</td>\n",
       "      <td>1.0</td>\n",
       "      <td>5</td>\n",
       "      <td>2</td>\n",
       "    </tr>\n",
       "    <tr>\n",
       "      <th>3</th>\n",
       "      <td>ACHN</td>\n",
       "      <td>ACHILLION PHARMACEUTICALS INC</td>\n",
       "      <td>2834</td>\n",
       "      <td>1.0</td>\n",
       "      <td>5</td>\n",
       "      <td>2</td>\n",
       "    </tr>\n",
       "    <tr>\n",
       "      <th>4</th>\n",
       "      <td>ACLI</td>\n",
       "      <td>AMERICAN COMMERCIAL LINES INC.</td>\n",
       "      <td>4492</td>\n",
       "      <td>1.0</td>\n",
       "      <td>6</td>\n",
       "      <td>1</td>\n",
       "    </tr>\n",
       "  </tbody>\n",
       "</table>\n",
       "</div>"
      ],
      "text/plain": [
       "     I1                                  I2    I3   C2  I3_bins  I3_bins_new\n",
       "0  AATI  ADVANCED ANALOGIC TECHNOLOGIES INC  3674  1.0        5            2\n",
       "1  ABPI     ACCENTIA BIOPHARMACEUTICALS INC  2834  0.0        5            2\n",
       "2  ACAD          ACADIA PHARMACEUTICALS INC  2834  1.0        5            2\n",
       "3  ACHN       ACHILLION PHARMACEUTICALS INC  2834  1.0        5            2\n",
       "4  ACLI     AMERICAN COMMERCIAL LINES INC.   4492  1.0        6            1"
      ]
     },
     "execution_count": 66,
     "metadata": {},
     "output_type": "execute_result"
    }
   ],
   "source": [
    "def assign_I3_bins_new(I3):\n",
    "    if I3 >= 100 and I3 <= 1999:                          \n",
    "        return(1)\n",
    "    if I3 >= 2000 and I3 <= 3999:                  \n",
    "        return(2)\n",
    "    if I3 >= 4000 and I3 <= 6799:                  \n",
    "        return(1)\n",
    "    if I3 >= 7000 and I3 <= 8999:                  \n",
    "        return(3)\n",
    "    if I3 >= 9000 and I3 <= 9999:                  \n",
    "        return(1)   \n",
    "    \n",
    "    # Creating a new column I3_bins in the dataframe\n",
    "\n",
    "compdata_cat['I3_bins_new'] = compdata_cat['I3'].apply(assign_I3_bins_new)  \n",
    "\n",
    "compdata_cat.head()"
   ]
  },
  {
   "cell_type": "markdown",
   "metadata": {},
   "source": [
    "-----------------------------------"
   ]
  },
  {
   "cell_type": "markdown",
   "metadata": {},
   "source": [
    "# Feature Selection"
   ]
  },
  {
   "cell_type": "code",
   "execution_count": 67,
   "metadata": {},
   "outputs": [],
   "source": [
    "data_p3_1 = pd.concat([compdata_cont,compdata_cat,target_vals], axis=1)\n",
    "\n",
    "data_p3_1.to_csv('../project1-deadlinedemons/data_p3_1.csv', index=0)"
   ]
  },
  {
   "cell_type": "markdown",
   "metadata": {},
   "source": [
    "## Split Train and Test Data"
   ]
  },
  {
   "cell_type": "code",
   "execution_count": 68,
   "metadata": {},
   "outputs": [],
   "source": [
    "train, test = train_test_split(data_p3_1, test_size=0.2)\n",
    "train.to_csv('../project1-deadlinedemons/training_p3_1.csv', index=0)\n",
    "test.to_csv('../project1-deadlinedemons/test_p3_1.csv', index=0)"
   ]
  }
 ],
 "metadata": {
  "kernelspec": {
   "display_name": "Python 3",
   "language": "python",
   "name": "python3"
  },
  "language_info": {
   "codemirror_mode": {
    "name": "ipython",
    "version": 3
   },
   "file_extension": ".py",
   "mimetype": "text/x-python",
   "name": "python",
   "nbconvert_exporter": "python",
   "pygments_lexer": "ipython3",
   "version": "3.6.7"
  }
 },
 "nbformat": 4,
 "nbformat_minor": 4
}
